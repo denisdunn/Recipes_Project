{
 "cells": [
  {
   "cell_type": "code",
   "execution_count": 1,
   "metadata": {},
   "outputs": [],
   "source": [
    "from nltk.tokenize import sent_tokenize, word_tokenize\n",
    "\n",
    "import numpy as np\n",
    "import matplotlib.pyplot as plt\n",
    "from sklearn.pipeline import Pipeline\n",
    "from sklearn.feature_extraction.text import CountVectorizer, TfidfTransformer\n",
    "from sklearn.naive_bayes import MultinomialNB\n",
    "from sklearn.model_selection import train_test_split\n",
    "from sklearn import metrics\n",
    "import pandas as pd\n",
    "from gensim.models import Word2Vec\n",
    "import gensim \n",
    "\n",
    "from  nltk import FreqDist"
   ]
  },
  {
   "cell_type": "code",
   "execution_count": 499,
   "metadata": {},
   "outputs": [],
   "source": [
    "import nltk\n",
    "from nltk.corpus import wordnet as wn\n",
    "from nltk.corpus import genesis\n",
    "#nltk.download('genesis')\n",
    "#nltk.download('wordnet')\n",
    "#nltk.download('punkt')\n",
    "#nltk.download('averaged_perceptron_tagger')\n",
    "genesis_ic = wn.ic(genesis, False, 0.0)\n",
    "import re\n",
    "from nltk.tokenize import word_tokenize\n",
    "from nltk.stem.porter import PorterStemmer\n",
    "from nltk.stem import SnowballStemmer\n",
    "from nltk.stem.lancaster import LancasterStemmer\n",
    "from nltk.corpus import stopwords\n",
    "from sklearn.metrics import roc_auc_score\n",
    "from random import randint"
   ]
  },
  {
   "cell_type": "code",
   "execution_count": 3,
   "metadata": {},
   "outputs": [],
   "source": [
    "#read in one dataset\n",
    "df=pd.read_csv('epicurious')"
   ]
  },
  {
   "cell_type": "code",
   "execution_count": 4,
   "metadata": {},
   "outputs": [],
   "source": [
    "df=df.dropna()"
   ]
  },
  {
   "cell_type": "code",
   "execution_count": 60,
   "metadata": {
    "scrolled": true
   },
   "outputs": [
    {
     "data": {
      "text/plain": [
       "0    ['1 1/2 cups whipping cream', '2 medium onions...\n",
       "1    ['2 1/2 cups (lightly packed) fresh basil leav...\n",
       "2    ['1/4 cup soy sauce', '1 tablespoon sugar', '2...\n",
       "3    ['6 long parsley sprigs, divided', '1 3/4 cups...\n",
       "4    ['4 teaspoons olive oil', '1/2 cup finely chop...\n",
       "5    ['Nonstick vegetable oil spray', '3 cups all-p...\n",
       "6    ['4 6- to 7-ounce beef tenderloin steaks (each...\n",
       "7    ['1 large ripe peach', '2 tablespoons sugar', ...\n",
       "8    ['2 cups fresh tomato and/or carrot juice (fro...\n",
       "9    ['1 cup water', '2/3 cup buttermilk', '1/3 cup...\n",
       "Name: ingredients, dtype: object"
      ]
     },
     "execution_count": 60,
     "metadata": {},
     "output_type": "execute_result"
    }
   ],
   "source": [
    "df.ingredients.head(10)"
   ]
  },
  {
   "cell_type": "code",
   "execution_count": 6,
   "metadata": {
    "scrolled": false
   },
   "outputs": [],
   "source": [
    "df=df.reset_index(drop=True)"
   ]
  },
  {
   "cell_type": "code",
   "execution_count": 7,
   "metadata": {},
   "outputs": [
    {
     "data": {
      "text/html": [
       "<div>\n",
       "<style scoped>\n",
       "    .dataframe tbody tr th:only-of-type {\n",
       "        vertical-align: middle;\n",
       "    }\n",
       "\n",
       "    .dataframe tbody tr th {\n",
       "        vertical-align: top;\n",
       "    }\n",
       "\n",
       "    .dataframe thead th {\n",
       "        text-align: right;\n",
       "    }\n",
       "</style>\n",
       "<table border=\"1\" class=\"dataframe\">\n",
       "  <thead>\n",
       "    <tr style=\"text-align: right;\">\n",
       "      <th></th>\n",
       "      <th>Unnamed: 0</th>\n",
       "      <th>calories</th>\n",
       "      <th>categories</th>\n",
       "      <th>date</th>\n",
       "      <th>desc</th>\n",
       "      <th>directions</th>\n",
       "      <th>fat</th>\n",
       "      <th>ingredients</th>\n",
       "      <th>protein</th>\n",
       "      <th>rating</th>\n",
       "      <th>sodium</th>\n",
       "      <th>title</th>\n",
       "    </tr>\n",
       "  </thead>\n",
       "  <tbody>\n",
       "    <tr>\n",
       "      <th>0</th>\n",
       "      <td>1</td>\n",
       "      <td>403.0</td>\n",
       "      <td>['Food Processor', 'Onion', 'Pork', 'Bake', 'B...</td>\n",
       "      <td>2004-08-20 04:00:00.000</td>\n",
       "      <td>This uses the same ingredients found in boudin...</td>\n",
       "      <td>['Combine first 9 ingredients in heavy medium ...</td>\n",
       "      <td>23.0</td>\n",
       "      <td>['1 1/2 cups whipping cream', '2 medium onions...</td>\n",
       "      <td>18.0</td>\n",
       "      <td>4.375</td>\n",
       "      <td>1439.0</td>\n",
       "      <td>Boudin Blanc Terrine with Red Onion Confit</td>\n",
       "    </tr>\n",
       "    <tr>\n",
       "      <th>1</th>\n",
       "      <td>5</td>\n",
       "      <td>948.0</td>\n",
       "      <td>['Sandwich', 'Food Processor', 'Tomato', 'Kid-...</td>\n",
       "      <td>2004-08-20 04:00:00.000</td>\n",
       "      <td>This recipe can be prepared in 45 minutes or l...</td>\n",
       "      <td>['Mix basil, mayonnaise and butter in processo...</td>\n",
       "      <td>79.0</td>\n",
       "      <td>['2 1/2 cups (lightly packed) fresh basil leav...</td>\n",
       "      <td>19.0</td>\n",
       "      <td>4.375</td>\n",
       "      <td>1042.0</td>\n",
       "      <td>The Best Blts</td>\n",
       "    </tr>\n",
       "    <tr>\n",
       "      <th>2</th>\n",
       "      <td>8</td>\n",
       "      <td>170.0</td>\n",
       "      <td>['Beef', 'Ginger', 'Sauté', 'Stir-Fry', 'Quick...</td>\n",
       "      <td>2004-08-20 04:00:00.000</td>\n",
       "      <td>Bulgogi</td>\n",
       "      <td>['Stir together soy sauce, sugar, sesame oil, ...</td>\n",
       "      <td>10.0</td>\n",
       "      <td>['1/4 cup soy sauce', '1 tablespoon sugar', '2...</td>\n",
       "      <td>7.0</td>\n",
       "      <td>4.375</td>\n",
       "      <td>1272.0</td>\n",
       "      <td>Korean Marinated Beef</td>\n",
       "    </tr>\n",
       "    <tr>\n",
       "      <th>3</th>\n",
       "      <td>9</td>\n",
       "      <td>602.0</td>\n",
       "      <td>['Salad', 'Mustard', 'Potato', 'Picnic', 'Lunc...</td>\n",
       "      <td>2008-10-23 22:24:26.000</td>\n",
       "      <td>Transform your picnic into un pique-nique to r...</td>\n",
       "      <td>['Chop enough parsley leaves to measure 1 tabl...</td>\n",
       "      <td>41.0</td>\n",
       "      <td>['6 long parsley sprigs, divided', '1 3/4 cups...</td>\n",
       "      <td>23.0</td>\n",
       "      <td>3.750</td>\n",
       "      <td>1696.0</td>\n",
       "      <td>Ham Persillade with Mustard Potato Salad and M...</td>\n",
       "    </tr>\n",
       "    <tr>\n",
       "      <th>4</th>\n",
       "      <td>10</td>\n",
       "      <td>256.0</td>\n",
       "      <td>['Milk/Cream', 'Dairy', 'Side', 'Thanksgiving'...</td>\n",
       "      <td>2004-08-20 04:00:00.000</td>\n",
       "      <td>Simmering the yams fills them with flavor and ...</td>\n",
       "      <td>['Heat oil in heavy large skillet over medium-...</td>\n",
       "      <td>5.0</td>\n",
       "      <td>['4 teaspoons olive oil', '1/2 cup finely chop...</td>\n",
       "      <td>4.0</td>\n",
       "      <td>3.750</td>\n",
       "      <td>30.0</td>\n",
       "      <td>Yams Braised with Cream, Rosemary and Nutmeg</td>\n",
       "    </tr>\n",
       "  </tbody>\n",
       "</table>\n",
       "</div>"
      ],
      "text/plain": [
       "   Unnamed: 0  calories                                         categories  \\\n",
       "0           1     403.0  ['Food Processor', 'Onion', 'Pork', 'Bake', 'B...   \n",
       "1           5     948.0  ['Sandwich', 'Food Processor', 'Tomato', 'Kid-...   \n",
       "2           8     170.0  ['Beef', 'Ginger', 'Sauté', 'Stir-Fry', 'Quick...   \n",
       "3           9     602.0  ['Salad', 'Mustard', 'Potato', 'Picnic', 'Lunc...   \n",
       "4          10     256.0  ['Milk/Cream', 'Dairy', 'Side', 'Thanksgiving'...   \n",
       "\n",
       "                      date                                               desc  \\\n",
       "0  2004-08-20 04:00:00.000  This uses the same ingredients found in boudin...   \n",
       "1  2004-08-20 04:00:00.000  This recipe can be prepared in 45 minutes or l...   \n",
       "2  2004-08-20 04:00:00.000                                            Bulgogi   \n",
       "3  2008-10-23 22:24:26.000  Transform your picnic into un pique-nique to r...   \n",
       "4  2004-08-20 04:00:00.000  Simmering the yams fills them with flavor and ...   \n",
       "\n",
       "                                          directions   fat  \\\n",
       "0  ['Combine first 9 ingredients in heavy medium ...  23.0   \n",
       "1  ['Mix basil, mayonnaise and butter in processo...  79.0   \n",
       "2  ['Stir together soy sauce, sugar, sesame oil, ...  10.0   \n",
       "3  ['Chop enough parsley leaves to measure 1 tabl...  41.0   \n",
       "4  ['Heat oil in heavy large skillet over medium-...   5.0   \n",
       "\n",
       "                                         ingredients  protein  rating  sodium  \\\n",
       "0  ['1 1/2 cups whipping cream', '2 medium onions...     18.0   4.375  1439.0   \n",
       "1  ['2 1/2 cups (lightly packed) fresh basil leav...     19.0   4.375  1042.0   \n",
       "2  ['1/4 cup soy sauce', '1 tablespoon sugar', '2...      7.0   4.375  1272.0   \n",
       "3  ['6 long parsley sprigs, divided', '1 3/4 cups...     23.0   3.750  1696.0   \n",
       "4  ['4 teaspoons olive oil', '1/2 cup finely chop...      4.0   3.750    30.0   \n",
       "\n",
       "                                               title  \n",
       "0        Boudin Blanc Terrine with Red Onion Confit   \n",
       "1                                     The Best Blts   \n",
       "2                             Korean Marinated Beef   \n",
       "3  Ham Persillade with Mustard Potato Salad and M...  \n",
       "4      Yams Braised with Cream, Rosemary and Nutmeg   "
      ]
     },
     "execution_count": 7,
     "metadata": {},
     "output_type": "execute_result"
    }
   ],
   "source": [
    "df.head()"
   ]
  },
  {
   "cell_type": "code",
   "execution_count": 8,
   "metadata": {},
   "outputs": [],
   "source": [
    "# get stop words\n",
    "from nltk.corpus import stopwords\n",
    "\n",
    "stopwords_list = stopwords.words('english')"
   ]
  },
  {
   "cell_type": "code",
   "execution_count": 9,
   "metadata": {},
   "outputs": [],
   "source": [
    "#use string library\n",
    "import string"
   ]
  },
  {
   "cell_type": "code",
   "execution_count": 10,
   "metadata": {},
   "outputs": [],
   "source": [
    "#add punctuation to stopwords list\n",
    "stopwords_list += list(string.punctuation)"
   ]
  },
  {
   "cell_type": "code",
   "execution_count": 11,
   "metadata": {},
   "outputs": [],
   "source": [
    "#add words that aren't in the NLTK stopwords list\n",
    "stopwords_list += ['cup','kosher','lb','oz','diced','sliced','pitted','peeled','seasoned','teaspoon','teaspoons','tablespoons', 'tablespoon', 'pound','cups','half','salt','pepper','chopped','bowl','directions','preheat','pieces','sliced','fresh','freshly','bunch','cut']\n",
    "stopwords_list+=['1/2-inch-thick','1/4-inch-thick','s','12','1','2','3','4','5','6','7','8','9','1/2','1/3','1/4','2/3','3/4','1/8','small','large','medium']"
   ]
  },
  {
   "cell_type": "code",
   "execution_count": 12,
   "metadata": {},
   "outputs": [],
   "source": [
    "def process_article(article):\n",
    "    tokens = word_tokenize(article)\n",
    "    stopwords_removed = [token.lower() for token in tokens if token not in stopwords_list]\n",
    "    return stopwords_removed "
   ]
  },
  {
   "cell_type": "code",
   "execution_count": 13,
   "metadata": {
    "scrolled": true
   },
   "outputs": [],
   "source": [
    "#df['a'] = df['a'].apply(lambda x: x + 1)\n",
    "df['Ingredient_join']=df['ingredients'].apply(lambda x:' '.join(x))\n",
    " \n",
    "# df['ingredients'].astype(str).str.cat(df['ingredients'],sep=' ')"
   ]
  },
  {
   "cell_type": "code",
   "execution_count": 14,
   "metadata": {},
   "outputs": [],
   "source": [
    "def process_sent(article):\n",
    "    tokens = sent_tokenize(article)\n",
    "    stopwords_removed = [token.lower() for token in tokens if token not in stopwords_list]\n",
    "    return stopwords_removed "
   ]
  },
  {
   "cell_type": "code",
   "execution_count": 15,
   "metadata": {},
   "outputs": [],
   "source": [
    "#vectorize_list=df['Ingredient_join'].apply(lambda x: process_article(x))"
   ]
  },
  {
   "cell_type": "code",
   "execution_count": 16,
   "metadata": {},
   "outputs": [],
   "source": [
    "df['processed_titles']=df['title'].apply(lambda x: process_article(x))"
   ]
  },
  {
   "cell_type": "code",
   "execution_count": 17,
   "metadata": {},
   "outputs": [],
   "source": [
    "df['title_join']=df['processed_titles'].apply(lambda x:' '.join(x))"
   ]
  },
  {
   "cell_type": "code",
   "execution_count": null,
   "metadata": {
    "scrolled": false
   },
   "outputs": [],
   "source": []
  },
  {
   "cell_type": "code",
   "execution_count": 18,
   "metadata": {},
   "outputs": [],
   "source": [
    "vectorize_title=df['title_join'].apply(lambda x: process_article(x))"
   ]
  },
  {
   "cell_type": "code",
   "execution_count": 19,
   "metadata": {},
   "outputs": [],
   "source": [
    "# this is the best format so far\n",
    "df['processed_ingredients']=df['ingredients'].apply(lambda x: process_article(x))"
   ]
  },
  {
   "cell_type": "code",
   "execution_count": 20,
   "metadata": {},
   "outputs": [],
   "source": [
    "df['ingredients_join']=df['processed_ingredients'].apply(lambda x:' '.join(x))"
   ]
  },
  {
   "cell_type": "code",
   "execution_count": 21,
   "metadata": {},
   "outputs": [],
   "source": [
    "df['processed_directions']=df['directions'].apply(lambda x: process_article(x))"
   ]
  },
  {
   "cell_type": "code",
   "execution_count": 22,
   "metadata": {},
   "outputs": [],
   "source": [
    "df['directions_join']=df['processed_directions'].apply(lambda x:' '.join(x))"
   ]
  },
  {
   "cell_type": "code",
   "execution_count": 23,
   "metadata": {
    "scrolled": true
   },
   "outputs": [
    {
     "data": {
      "text/plain": [
       "0    ['combine, first, ingredients, heavy, saucepan...\n",
       "1    ['mix, basil, mayonnaise, butter, processor, b...\n",
       "2    ['stir, together, soy, sauce, sugar, sesame, o...\n",
       "3    ['chop, enough, parsley, leaves, measure, rese...\n",
       "4    ['heat, oil, heavy, skillet, medium-high, heat...\n",
       "Name: processed_directions, dtype: object"
      ]
     },
     "execution_count": 23,
     "metadata": {},
     "output_type": "execute_result"
    }
   ],
   "source": [
    "# i think this is the tokenized directions\n",
    "df['processed_directions'].head()"
   ]
  },
  {
   "cell_type": "code",
   "execution_count": 24,
   "metadata": {},
   "outputs": [],
   "source": [
    "df['recipe_combo']=df['processed_titles']+df['processed_ingredients']+df['processed_directions']"
   ]
  },
  {
   "cell_type": "code",
   "execution_count": null,
   "metadata": {
    "scrolled": true
   },
   "outputs": [],
   "source": [
    "#df['vector_ingred_lines']=df['processed_ingredients'].apply(lambda x: model_5[x])"
   ]
  },
  {
   "cell_type": "code",
   "execution_count": 26,
   "metadata": {},
   "outputs": [
    {
     "data": {
      "text/html": [
       "<div>\n",
       "<style scoped>\n",
       "    .dataframe tbody tr th:only-of-type {\n",
       "        vertical-align: middle;\n",
       "    }\n",
       "\n",
       "    .dataframe tbody tr th {\n",
       "        vertical-align: top;\n",
       "    }\n",
       "\n",
       "    .dataframe thead th {\n",
       "        text-align: right;\n",
       "    }\n",
       "</style>\n",
       "<table border=\"1\" class=\"dataframe\">\n",
       "  <thead>\n",
       "    <tr style=\"text-align: right;\">\n",
       "      <th></th>\n",
       "      <th>Unnamed: 0</th>\n",
       "      <th>calories</th>\n",
       "      <th>categories</th>\n",
       "      <th>date</th>\n",
       "      <th>desc</th>\n",
       "      <th>directions</th>\n",
       "      <th>fat</th>\n",
       "      <th>ingredients</th>\n",
       "      <th>protein</th>\n",
       "      <th>rating</th>\n",
       "      <th>sodium</th>\n",
       "      <th>title</th>\n",
       "      <th>Ingredient_join</th>\n",
       "      <th>processed_titles</th>\n",
       "      <th>title_join</th>\n",
       "      <th>processed_ingredients</th>\n",
       "      <th>ingredients_join</th>\n",
       "      <th>processed_directions</th>\n",
       "      <th>directions_join</th>\n",
       "      <th>recipe_combo</th>\n",
       "    </tr>\n",
       "  </thead>\n",
       "  <tbody>\n",
       "    <tr>\n",
       "      <th>0</th>\n",
       "      <td>1</td>\n",
       "      <td>403.0</td>\n",
       "      <td>['Food Processor', 'Onion', 'Pork', 'Bake', 'B...</td>\n",
       "      <td>2004-08-20 04:00:00.000</td>\n",
       "      <td>This uses the same ingredients found in boudin...</td>\n",
       "      <td>['Combine first 9 ingredients in heavy medium ...</td>\n",
       "      <td>23.0</td>\n",
       "      <td>['1 1/2 cups whipping cream', '2 medium onions...</td>\n",
       "      <td>18.0</td>\n",
       "      <td>4.375</td>\n",
       "      <td>1439.0</td>\n",
       "      <td>Boudin Blanc Terrine with Red Onion Confit</td>\n",
       "      <td>[ ' 1   1 / 2   c u p s   w h i p p i n g   c ...</td>\n",
       "      <td>[boudin, blanc, terrine, red, onion, confit]</td>\n",
       "      <td>boudin blanc terrine red onion confit</td>\n",
       "      <td>[whipping, cream, onions, bay, leaves, whole, ...</td>\n",
       "      <td>whipping cream onions bay leaves whole cloves ...</td>\n",
       "      <td>['combine, first, ingredients, heavy, saucepan...</td>\n",
       "      <td>'combine first ingredients heavy saucepan add ...</td>\n",
       "      <td>[boudin, blanc, terrine, red, onion, confit, w...</td>\n",
       "    </tr>\n",
       "    <tr>\n",
       "      <th>1</th>\n",
       "      <td>5</td>\n",
       "      <td>948.0</td>\n",
       "      <td>['Sandwich', 'Food Processor', 'Tomato', 'Kid-...</td>\n",
       "      <td>2004-08-20 04:00:00.000</td>\n",
       "      <td>This recipe can be prepared in 45 minutes or l...</td>\n",
       "      <td>['Mix basil, mayonnaise and butter in processo...</td>\n",
       "      <td>79.0</td>\n",
       "      <td>['2 1/2 cups (lightly packed) fresh basil leav...</td>\n",
       "      <td>19.0</td>\n",
       "      <td>4.375</td>\n",
       "      <td>1042.0</td>\n",
       "      <td>The Best Blts</td>\n",
       "      <td>[ ' 2   1 / 2   c u p s   ( l i g h t l y   p ...</td>\n",
       "      <td>[the, best, blts]</td>\n",
       "      <td>the best blts</td>\n",
       "      <td>[lightly, packed, basil, leaves, mayonnaise, b...</td>\n",
       "      <td>lightly packed basil leaves mayonnaise butter ...</td>\n",
       "      <td>['mix, basil, mayonnaise, butter, processor, b...</td>\n",
       "      <td>'mix basil mayonnaise butter processor basil f...</td>\n",
       "      <td>[the, best, blts, lightly, packed, basil, leav...</td>\n",
       "    </tr>\n",
       "    <tr>\n",
       "      <th>2</th>\n",
       "      <td>8</td>\n",
       "      <td>170.0</td>\n",
       "      <td>['Beef', 'Ginger', 'Sauté', 'Stir-Fry', 'Quick...</td>\n",
       "      <td>2004-08-20 04:00:00.000</td>\n",
       "      <td>Bulgogi</td>\n",
       "      <td>['Stir together soy sauce, sugar, sesame oil, ...</td>\n",
       "      <td>10.0</td>\n",
       "      <td>['1/4 cup soy sauce', '1 tablespoon sugar', '2...</td>\n",
       "      <td>7.0</td>\n",
       "      <td>4.375</td>\n",
       "      <td>1272.0</td>\n",
       "      <td>Korean Marinated Beef</td>\n",
       "      <td>[ ' 1 / 4   c u p   s o y   s a u c e ' ,   ' ...</td>\n",
       "      <td>[korean, marinated, beef]</td>\n",
       "      <td>korean marinated beef</td>\n",
       "      <td>[soy, sauce, sugar, asian, sesame, oil, scalli...</td>\n",
       "      <td>soy sauce sugar asian sesame oil scallions whi...</td>\n",
       "      <td>['stir, together, soy, sauce, sugar, sesame, o...</td>\n",
       "      <td>'stir together soy sauce sugar sesame oil whit...</td>\n",
       "      <td>[korean, marinated, beef, soy, sauce, sugar, a...</td>\n",
       "    </tr>\n",
       "    <tr>\n",
       "      <th>3</th>\n",
       "      <td>9</td>\n",
       "      <td>602.0</td>\n",
       "      <td>['Salad', 'Mustard', 'Potato', 'Picnic', 'Lunc...</td>\n",
       "      <td>2008-10-23 22:24:26.000</td>\n",
       "      <td>Transform your picnic into un pique-nique to r...</td>\n",
       "      <td>['Chop enough parsley leaves to measure 1 tabl...</td>\n",
       "      <td>41.0</td>\n",
       "      <td>['6 long parsley sprigs, divided', '1 3/4 cups...</td>\n",
       "      <td>23.0</td>\n",
       "      <td>3.750</td>\n",
       "      <td>1696.0</td>\n",
       "      <td>Ham Persillade with Mustard Potato Salad and M...</td>\n",
       "      <td>[ ' 6   l o n g   p a r s l e y   s p r i g s ...</td>\n",
       "      <td>[ham, persillade, mustard, potato, salad, mash...</td>\n",
       "      <td>ham persillade mustard potato salad mashed peas</td>\n",
       "      <td>[long, parsley, sprigs, divided, reduced-sodiu...</td>\n",
       "      <td>long parsley sprigs divided reduced-sodium chi...</td>\n",
       "      <td>['chop, enough, parsley, leaves, measure, rese...</td>\n",
       "      <td>'chop enough parsley leaves measure reserve ch...</td>\n",
       "      <td>[ham, persillade, mustard, potato, salad, mash...</td>\n",
       "    </tr>\n",
       "    <tr>\n",
       "      <th>4</th>\n",
       "      <td>10</td>\n",
       "      <td>256.0</td>\n",
       "      <td>['Milk/Cream', 'Dairy', 'Side', 'Thanksgiving'...</td>\n",
       "      <td>2004-08-20 04:00:00.000</td>\n",
       "      <td>Simmering the yams fills them with flavor and ...</td>\n",
       "      <td>['Heat oil in heavy large skillet over medium-...</td>\n",
       "      <td>5.0</td>\n",
       "      <td>['4 teaspoons olive oil', '1/2 cup finely chop...</td>\n",
       "      <td>4.0</td>\n",
       "      <td>3.750</td>\n",
       "      <td>30.0</td>\n",
       "      <td>Yams Braised with Cream, Rosemary and Nutmeg</td>\n",
       "      <td>[ ' 4   t e a s p o o n s   o l i v e   o i l ...</td>\n",
       "      <td>[yams, braised, cream, rosemary, nutmeg]</td>\n",
       "      <td>yams braised cream rosemary nutmeg</td>\n",
       "      <td>[olive, oil, finely, shallots, minced, rosemar...</td>\n",
       "      <td>olive oil finely shallots minced rosemary poun...</td>\n",
       "      <td>['heat, oil, heavy, skillet, medium-high, heat...</td>\n",
       "      <td>'heat oil heavy skillet medium-high heat add s...</td>\n",
       "      <td>[yams, braised, cream, rosemary, nutmeg, olive...</td>\n",
       "    </tr>\n",
       "  </tbody>\n",
       "</table>\n",
       "</div>"
      ],
      "text/plain": [
       "   Unnamed: 0  calories                                         categories  \\\n",
       "0           1     403.0  ['Food Processor', 'Onion', 'Pork', 'Bake', 'B...   \n",
       "1           5     948.0  ['Sandwich', 'Food Processor', 'Tomato', 'Kid-...   \n",
       "2           8     170.0  ['Beef', 'Ginger', 'Sauté', 'Stir-Fry', 'Quick...   \n",
       "3           9     602.0  ['Salad', 'Mustard', 'Potato', 'Picnic', 'Lunc...   \n",
       "4          10     256.0  ['Milk/Cream', 'Dairy', 'Side', 'Thanksgiving'...   \n",
       "\n",
       "                      date                                               desc  \\\n",
       "0  2004-08-20 04:00:00.000  This uses the same ingredients found in boudin...   \n",
       "1  2004-08-20 04:00:00.000  This recipe can be prepared in 45 minutes or l...   \n",
       "2  2004-08-20 04:00:00.000                                            Bulgogi   \n",
       "3  2008-10-23 22:24:26.000  Transform your picnic into un pique-nique to r...   \n",
       "4  2004-08-20 04:00:00.000  Simmering the yams fills them with flavor and ...   \n",
       "\n",
       "                                          directions   fat  \\\n",
       "0  ['Combine first 9 ingredients in heavy medium ...  23.0   \n",
       "1  ['Mix basil, mayonnaise and butter in processo...  79.0   \n",
       "2  ['Stir together soy sauce, sugar, sesame oil, ...  10.0   \n",
       "3  ['Chop enough parsley leaves to measure 1 tabl...  41.0   \n",
       "4  ['Heat oil in heavy large skillet over medium-...   5.0   \n",
       "\n",
       "                                         ingredients  protein  rating  sodium  \\\n",
       "0  ['1 1/2 cups whipping cream', '2 medium onions...     18.0   4.375  1439.0   \n",
       "1  ['2 1/2 cups (lightly packed) fresh basil leav...     19.0   4.375  1042.0   \n",
       "2  ['1/4 cup soy sauce', '1 tablespoon sugar', '2...      7.0   4.375  1272.0   \n",
       "3  ['6 long parsley sprigs, divided', '1 3/4 cups...     23.0   3.750  1696.0   \n",
       "4  ['4 teaspoons olive oil', '1/2 cup finely chop...      4.0   3.750    30.0   \n",
       "\n",
       "                                               title  \\\n",
       "0        Boudin Blanc Terrine with Red Onion Confit    \n",
       "1                                     The Best Blts    \n",
       "2                             Korean Marinated Beef    \n",
       "3  Ham Persillade with Mustard Potato Salad and M...   \n",
       "4      Yams Braised with Cream, Rosemary and Nutmeg    \n",
       "\n",
       "                                     Ingredient_join  \\\n",
       "0  [ ' 1   1 / 2   c u p s   w h i p p i n g   c ...   \n",
       "1  [ ' 2   1 / 2   c u p s   ( l i g h t l y   p ...   \n",
       "2  [ ' 1 / 4   c u p   s o y   s a u c e ' ,   ' ...   \n",
       "3  [ ' 6   l o n g   p a r s l e y   s p r i g s ...   \n",
       "4  [ ' 4   t e a s p o o n s   o l i v e   o i l ...   \n",
       "\n",
       "                                    processed_titles  \\\n",
       "0       [boudin, blanc, terrine, red, onion, confit]   \n",
       "1                                  [the, best, blts]   \n",
       "2                          [korean, marinated, beef]   \n",
       "3  [ham, persillade, mustard, potato, salad, mash...   \n",
       "4           [yams, braised, cream, rosemary, nutmeg]   \n",
       "\n",
       "                                        title_join  \\\n",
       "0            boudin blanc terrine red onion confit   \n",
       "1                                    the best blts   \n",
       "2                            korean marinated beef   \n",
       "3  ham persillade mustard potato salad mashed peas   \n",
       "4               yams braised cream rosemary nutmeg   \n",
       "\n",
       "                               processed_ingredients  \\\n",
       "0  [whipping, cream, onions, bay, leaves, whole, ...   \n",
       "1  [lightly, packed, basil, leaves, mayonnaise, b...   \n",
       "2  [soy, sauce, sugar, asian, sesame, oil, scalli...   \n",
       "3  [long, parsley, sprigs, divided, reduced-sodiu...   \n",
       "4  [olive, oil, finely, shallots, minced, rosemar...   \n",
       "\n",
       "                                    ingredients_join  \\\n",
       "0  whipping cream onions bay leaves whole cloves ...   \n",
       "1  lightly packed basil leaves mayonnaise butter ...   \n",
       "2  soy sauce sugar asian sesame oil scallions whi...   \n",
       "3  long parsley sprigs divided reduced-sodium chi...   \n",
       "4  olive oil finely shallots minced rosemary poun...   \n",
       "\n",
       "                                processed_directions  \\\n",
       "0  ['combine, first, ingredients, heavy, saucepan...   \n",
       "1  ['mix, basil, mayonnaise, butter, processor, b...   \n",
       "2  ['stir, together, soy, sauce, sugar, sesame, o...   \n",
       "3  ['chop, enough, parsley, leaves, measure, rese...   \n",
       "4  ['heat, oil, heavy, skillet, medium-high, heat...   \n",
       "\n",
       "                                     directions_join  \\\n",
       "0  'combine first ingredients heavy saucepan add ...   \n",
       "1  'mix basil mayonnaise butter processor basil f...   \n",
       "2  'stir together soy sauce sugar sesame oil whit...   \n",
       "3  'chop enough parsley leaves measure reserve ch...   \n",
       "4  'heat oil heavy skillet medium-high heat add s...   \n",
       "\n",
       "                                        recipe_combo  \n",
       "0  [boudin, blanc, terrine, red, onion, confit, w...  \n",
       "1  [the, best, blts, lightly, packed, basil, leav...  \n",
       "2  [korean, marinated, beef, soy, sauce, sugar, a...  \n",
       "3  [ham, persillade, mustard, potato, salad, mash...  \n",
       "4  [yams, braised, cream, rosemary, nutmeg, olive...  "
      ]
     },
     "execution_count": 26,
     "metadata": {},
     "output_type": "execute_result"
    }
   ],
   "source": [
    "df.head()"
   ]
  },
  {
   "cell_type": "code",
   "execution_count": 27,
   "metadata": {
    "scrolled": true
   },
   "outputs": [],
   "source": [
    "from gensim.models import Word2Vec\n",
    "from gensim.models.doc2vec import Doc2Vec\n",
    "\n",
    "model_combo = Word2Vec(df['recipe_combo'], min_count=20)"
   ]
  },
  {
   "cell_type": "code",
   "execution_count": 530,
   "metadata": {},
   "outputs": [],
   "source": [
    "test_run=df[df['ingredients'].str.contains('cow')]"
   ]
  },
  {
   "cell_type": "code",
   "execution_count": 531,
   "metadata": {},
   "outputs": [],
   "source": [
    "test_run=test_run.reset_index(drop=True)"
   ]
  },
  {
   "cell_type": "code",
   "execution_count": 532,
   "metadata": {},
   "outputs": [
    {
     "data": {
      "text/html": [
       "<div>\n",
       "<style scoped>\n",
       "    .dataframe tbody tr th:only-of-type {\n",
       "        vertical-align: middle;\n",
       "    }\n",
       "\n",
       "    .dataframe tbody tr th {\n",
       "        vertical-align: top;\n",
       "    }\n",
       "\n",
       "    .dataframe thead th {\n",
       "        text-align: right;\n",
       "    }\n",
       "</style>\n",
       "<table border=\"1\" class=\"dataframe\">\n",
       "  <thead>\n",
       "    <tr style=\"text-align: right;\">\n",
       "      <th></th>\n",
       "      <th>Unnamed: 0</th>\n",
       "      <th>calories</th>\n",
       "      <th>categories</th>\n",
       "      <th>date</th>\n",
       "      <th>desc</th>\n",
       "      <th>directions</th>\n",
       "      <th>fat</th>\n",
       "      <th>ingredients</th>\n",
       "      <th>protein</th>\n",
       "      <th>rating</th>\n",
       "      <th>sodium</th>\n",
       "      <th>title</th>\n",
       "      <th>Ingredient_join</th>\n",
       "      <th>processed_titles</th>\n",
       "      <th>title_join</th>\n",
       "      <th>processed_ingredients</th>\n",
       "      <th>ingredients_join</th>\n",
       "      <th>processed_directions</th>\n",
       "      <th>directions_join</th>\n",
       "      <th>recipe_combo</th>\n",
       "    </tr>\n",
       "  </thead>\n",
       "  <tbody>\n",
       "    <tr>\n",
       "      <th>0</th>\n",
       "      <td>1004</td>\n",
       "      <td>591.0</td>\n",
       "      <td>['Milk/Cream', 'Chicken', 'Ginger', 'Onion', '...</td>\n",
       "      <td>2006-05-16 20:12:55.000</td>\n",
       "      <td>Ca ri ga</td>\n",
       "      <td>['1. Combine 2 tablespoons of the curry powder...</td>\n",
       "      <td>21.0</td>\n",
       "      <td>['3 tablespoons curry powder, preferably Three...</td>\n",
       "      <td>54.0</td>\n",
       "      <td>5.000</td>\n",
       "      <td>1735.0</td>\n",
       "      <td>Chicken Curry with Sweet Potatoes</td>\n",
       "      <td>[ ' 3   t a b l e s p o o n s   c u r r y   p ...</td>\n",
       "      <td>[chicken, curry, sweet, potatoes]</td>\n",
       "      <td>chicken curry sweet potatoes</td>\n",
       "      <td>[curry, powder, preferably, three, golden, bel...</td>\n",
       "      <td>curry powder preferably three golden bells bra...</td>\n",
       "      <td>[combine, curry, powder, add, chicken, turn, c...</td>\n",
       "      <td>combine curry powder add chicken turn coat mea...</td>\n",
       "      <td>[chicken, curry, sweet, potatoes, curry, powde...</td>\n",
       "    </tr>\n",
       "    <tr>\n",
       "      <th>1</th>\n",
       "      <td>14116</td>\n",
       "      <td>1453.0</td>\n",
       "      <td>['Soup/Stew', 'Cheese', 'Chicken', 'Stew', 'Ba...</td>\n",
       "      <td>2006-05-16 20:12:06.000</td>\n",
       "      <td>A slightly firm, mellow triple-crème, Mt. Tam ...</td>\n",
       "      <td>['Soak chickpeas in water to cover by 2 inches...</td>\n",
       "      <td>91.0</td>\n",
       "      <td>['1 pound dried chickpeas (2 1/2 cups), picked...</td>\n",
       "      <td>79.0</td>\n",
       "      <td>4.375</td>\n",
       "      <td>1992.0</td>\n",
       "      <td>Chickpea, Chorizo, and Chicken Stew with Mt. T...</td>\n",
       "      <td>[ ' 1   p o u n d   d r i e d   c h i c k p e ...</td>\n",
       "      <td>[chickpea, chorizo, chicken, stew, mt, tam, ch...</td>\n",
       "      <td>chickpea chorizo chicken stew mt tam cheese</td>\n",
       "      <td>[dried, chickpeas, picked, tomatoes, black, pe...</td>\n",
       "      <td>dried chickpeas picked tomatoes black pepperco...</td>\n",
       "      <td>['soak, chickpeas, water, cover, inches, hours...</td>\n",
       "      <td>'soak chickpeas water cover inches hours drain...</td>\n",
       "      <td>[chickpea, chorizo, chicken, stew, mt, tam, ch...</td>\n",
       "    </tr>\n",
       "    <tr>\n",
       "      <th>2</th>\n",
       "      <td>16735</td>\n",
       "      <td>882.0</td>\n",
       "      <td>['Garlic', 'Onion', 'Kid-Friendly', 'Dinner', ...</td>\n",
       "      <td>2015-03-26 04:00:00.000</td>\n",
       "      <td>Mullen serves these robustly flavored meatball...</td>\n",
       "      <td>['Toast chiles, red pepper flakes, and cumin s...</td>\n",
       "      <td>80.0</td>\n",
       "      <td>['3 pasilla chiles, seeds removed, chopped', '...</td>\n",
       "      <td>29.0</td>\n",
       "      <td>4.375</td>\n",
       "      <td>1558.0</td>\n",
       "      <td>Chile-Cumin Lamb Meatballs with Yogurt and Cuc...</td>\n",
       "      <td>[ ' 3   p a s i l l a   c h i l e s ,   s e e ...</td>\n",
       "      <td>[chile-cumin, lamb, meatballs, yogurt, cucumber]</td>\n",
       "      <td>chile-cumin lamb meatballs yogurt cucumber</td>\n",
       "      <td>[pasilla, chiles, seeds, removed, crushed, red...</td>\n",
       "      <td>pasilla chiles seeds removed crushed red flake...</td>\n",
       "      <td>['toast, chiles, red, flakes, cumin, seeds, dr...</td>\n",
       "      <td>'toast chiles red flakes cumin seeds dry skill...</td>\n",
       "      <td>[chile-cumin, lamb, meatballs, yogurt, cucumbe...</td>\n",
       "    </tr>\n",
       "    <tr>\n",
       "      <th>3</th>\n",
       "      <td>19025</td>\n",
       "      <td>310.0</td>\n",
       "      <td>['Cookies', 'Dessert', 'Butter', 'Bon Appétit']</td>\n",
       "      <td>2014-08-19 04:00:00.000</td>\n",
       "      <td>The caramelized milk jam makes for a decadent ...</td>\n",
       "      <td>['Using an electric mixer on high speed, beat ...</td>\n",
       "      <td>18.0</td>\n",
       "      <td>['1 1/2 cups (3 sticks) unsalted butter, room ...</td>\n",
       "      <td>4.0</td>\n",
       "      <td>0.000</td>\n",
       "      <td>295.0</td>\n",
       "      <td>Nana's Butter Cookies with Milk-Jam Filling</td>\n",
       "      <td>[ ' 1   1 / 2   c u p s   ( 3   s t i c k s ) ...</td>\n",
       "      <td>[nana, 's, butter, cookies, milk-jam, filling]</td>\n",
       "      <td>nana 's butter cookies milk-jam filling</td>\n",
       "      <td>[sticks, unsalted, butter, room, temperature, ...</td>\n",
       "      <td>sticks unsalted butter room temperature powder...</td>\n",
       "      <td>['using, electric, mixer, high, speed, beat, b...</td>\n",
       "      <td>'using electric mixer high speed beat butter p...</td>\n",
       "      <td>[nana, 's, butter, cookies, milk-jam, filling,...</td>\n",
       "    </tr>\n",
       "  </tbody>\n",
       "</table>\n",
       "</div>"
      ],
      "text/plain": [
       "   Unnamed: 0  calories                                         categories  \\\n",
       "0        1004     591.0  ['Milk/Cream', 'Chicken', 'Ginger', 'Onion', '...   \n",
       "1       14116    1453.0  ['Soup/Stew', 'Cheese', 'Chicken', 'Stew', 'Ba...   \n",
       "2       16735     882.0  ['Garlic', 'Onion', 'Kid-Friendly', 'Dinner', ...   \n",
       "3       19025     310.0    ['Cookies', 'Dessert', 'Butter', 'Bon Appétit']   \n",
       "\n",
       "                      date                                               desc  \\\n",
       "0  2006-05-16 20:12:55.000                                           Ca ri ga   \n",
       "1  2006-05-16 20:12:06.000  A slightly firm, mellow triple-crème, Mt. Tam ...   \n",
       "2  2015-03-26 04:00:00.000  Mullen serves these robustly flavored meatball...   \n",
       "3  2014-08-19 04:00:00.000  The caramelized milk jam makes for a decadent ...   \n",
       "\n",
       "                                          directions   fat  \\\n",
       "0  ['1. Combine 2 tablespoons of the curry powder...  21.0   \n",
       "1  ['Soak chickpeas in water to cover by 2 inches...  91.0   \n",
       "2  ['Toast chiles, red pepper flakes, and cumin s...  80.0   \n",
       "3  ['Using an electric mixer on high speed, beat ...  18.0   \n",
       "\n",
       "                                         ingredients  protein  rating  sodium  \\\n",
       "0  ['3 tablespoons curry powder, preferably Three...     54.0   5.000  1735.0   \n",
       "1  ['1 pound dried chickpeas (2 1/2 cups), picked...     79.0   4.375  1992.0   \n",
       "2  ['3 pasilla chiles, seeds removed, chopped', '...     29.0   4.375  1558.0   \n",
       "3  ['1 1/2 cups (3 sticks) unsalted butter, room ...      4.0   0.000   295.0   \n",
       "\n",
       "                                               title  \\\n",
       "0                 Chicken Curry with Sweet Potatoes    \n",
       "1  Chickpea, Chorizo, and Chicken Stew with Mt. T...   \n",
       "2  Chile-Cumin Lamb Meatballs with Yogurt and Cuc...   \n",
       "3       Nana's Butter Cookies with Milk-Jam Filling    \n",
       "\n",
       "                                     Ingredient_join  \\\n",
       "0  [ ' 3   t a b l e s p o o n s   c u r r y   p ...   \n",
       "1  [ ' 1   p o u n d   d r i e d   c h i c k p e ...   \n",
       "2  [ ' 3   p a s i l l a   c h i l e s ,   s e e ...   \n",
       "3  [ ' 1   1 / 2   c u p s   ( 3   s t i c k s ) ...   \n",
       "\n",
       "                                    processed_titles  \\\n",
       "0                  [chicken, curry, sweet, potatoes]   \n",
       "1  [chickpea, chorizo, chicken, stew, mt, tam, ch...   \n",
       "2   [chile-cumin, lamb, meatballs, yogurt, cucumber]   \n",
       "3     [nana, 's, butter, cookies, milk-jam, filling]   \n",
       "\n",
       "                                    title_join  \\\n",
       "0                 chicken curry sweet potatoes   \n",
       "1  chickpea chorizo chicken stew mt tam cheese   \n",
       "2   chile-cumin lamb meatballs yogurt cucumber   \n",
       "3      nana 's butter cookies milk-jam filling   \n",
       "\n",
       "                               processed_ingredients  \\\n",
       "0  [curry, powder, preferably, three, golden, bel...   \n",
       "1  [dried, chickpeas, picked, tomatoes, black, pe...   \n",
       "2  [pasilla, chiles, seeds, removed, crushed, red...   \n",
       "3  [sticks, unsalted, butter, room, temperature, ...   \n",
       "\n",
       "                                    ingredients_join  \\\n",
       "0  curry powder preferably three golden bells bra...   \n",
       "1  dried chickpeas picked tomatoes black pepperco...   \n",
       "2  pasilla chiles seeds removed crushed red flake...   \n",
       "3  sticks unsalted butter room temperature powder...   \n",
       "\n",
       "                                processed_directions  \\\n",
       "0  [combine, curry, powder, add, chicken, turn, c...   \n",
       "1  ['soak, chickpeas, water, cover, inches, hours...   \n",
       "2  ['toast, chiles, red, flakes, cumin, seeds, dr...   \n",
       "3  ['using, electric, mixer, high, speed, beat, b...   \n",
       "\n",
       "                                     directions_join  \\\n",
       "0  combine curry powder add chicken turn coat mea...   \n",
       "1  'soak chickpeas water cover inches hours drain...   \n",
       "2  'toast chiles red flakes cumin seeds dry skill...   \n",
       "3  'using electric mixer high speed beat butter p...   \n",
       "\n",
       "                                        recipe_combo  \n",
       "0  [chicken, curry, sweet, potatoes, curry, powde...  \n",
       "1  [chickpea, chorizo, chicken, stew, mt, tam, ch...  \n",
       "2  [chile-cumin, lamb, meatballs, yogurt, cucumbe...  \n",
       "3  [nana, 's, butter, cookies, milk-jam, filling,...  "
      ]
     },
     "execution_count": 532,
     "metadata": {},
     "output_type": "execute_result"
    }
   ],
   "source": [
    "test_run"
   ]
  },
  {
   "cell_type": "code",
   "execution_count": 533,
   "metadata": {
    "scrolled": true
   },
   "outputs": [],
   "source": [
    "\n",
    "item=randint(0,len(test_run))"
   ]
  },
  {
   "cell_type": "code",
   "execution_count": 534,
   "metadata": {},
   "outputs": [
    {
     "data": {
      "text/plain": [
       "2"
      ]
     },
     "execution_count": 534,
     "metadata": {},
     "output_type": "execute_result"
    }
   ],
   "source": [
    "item"
   ]
  },
  {
   "cell_type": "code",
   "execution_count": 535,
   "metadata": {},
   "outputs": [],
   "source": [
    "test_ingredients=test_run['processed_ingredients'][item]"
   ]
  },
  {
   "cell_type": "code",
   "execution_count": 536,
   "metadata": {},
   "outputs": [
    {
     "data": {
      "text/plain": [
       "['pasilla',\n",
       " 'chiles',\n",
       " 'seeds',\n",
       " 'removed',\n",
       " 'crushed',\n",
       " 'red',\n",
       " 'flakes',\n",
       " 'cumin',\n",
       " 'seeds',\n",
       " 'sherry',\n",
       " 'vinegar',\n",
       " 'red',\n",
       " 'wine',\n",
       " 'vinegar',\n",
       " 'sweet',\n",
       " 'smoked',\n",
       " 'paprika',\n",
       " 'garlic',\n",
       " 'clove',\n",
       " 'olive',\n",
       " 'oil',\n",
       " \"'kosher\",\n",
       " 'onion',\n",
       " 'garlic',\n",
       " 'cloves',\n",
       " 'cloves',\n",
       " 'clove',\n",
       " 'finely',\n",
       " 'grated',\n",
       " 'parsley',\n",
       " 'oregano',\n",
       " 'sage',\n",
       " 'fennel',\n",
       " 'seeds',\n",
       " 'ground',\n",
       " 'coriander',\n",
       " 'ground',\n",
       " 'cumin',\n",
       " 'egg',\n",
       " 'pounds',\n",
       " 'ground',\n",
       " 'lamb',\n",
       " 'rice',\n",
       " 'flour',\n",
       " 'all-purpose',\n",
       " 'flour',\n",
       " '4–5',\n",
       " 'olive',\n",
       " 'oil',\n",
       " 'divided',\n",
       " 'english',\n",
       " 'hothouse',\n",
       " 'cucumber',\n",
       " 'thinly',\n",
       " 'finely',\n",
       " 'grated',\n",
       " 'lemon',\n",
       " 'zest',\n",
       " 'lemon',\n",
       " 'juice',\n",
       " 'sherry',\n",
       " 'vinegar',\n",
       " 'red',\n",
       " 'wine',\n",
       " 'vinegar',\n",
       " \"'freshly\",\n",
       " 'ground',\n",
       " 'black',\n",
       " '``',\n",
       " 'plain',\n",
       " \"sheep's-milk\",\n",
       " 'cow',\n",
       " \"'s\",\n",
       " 'whole-milk',\n",
       " 'yogurt',\n",
       " \"''\",\n",
       " 'mint',\n",
       " \"'crushed\",\n",
       " 'red',\n",
       " 'flakes',\n",
       " 'serving',\n",
       " 'a',\n",
       " 'spice',\n",
       " 'mill',\n",
       " 'mortar',\n",
       " 'pestle']"
      ]
     },
     "execution_count": 536,
     "metadata": {},
     "output_type": "execute_result"
    }
   ],
   "source": [
    "test_ingredients"
   ]
  },
  {
   "cell_type": "code",
   "execution_count": 556,
   "metadata": {},
   "outputs": [],
   "source": [
    "key=test_ingredients[0]"
   ]
  },
  {
   "cell_type": "code",
   "execution_count": 570,
   "metadata": {},
   "outputs": [
    {
     "data": {
      "text/plain": [
       "'/Users/denisdunn'"
      ]
     },
     "execution_count": 570,
     "metadata": {},
     "output_type": "execute_result"
    }
   ],
   "source": [
    "pwd\n"
   ]
  },
  {
   "cell_type": "code",
   "execution_count": 557,
   "metadata": {},
   "outputs": [
    {
     "data": {
      "text/plain": [
       "'pasilla'"
      ]
     },
     "execution_count": 557,
     "metadata": {},
     "output_type": "execute_result"
    }
   ],
   "source": [
    "key"
   ]
  },
  {
   "cell_type": "code",
   "execution_count": 558,
   "metadata": {},
   "outputs": [
    {
     "data": {
      "text/plain": [
       "Unnamed: 0                                                           16735\n",
       "calories                                                               882\n",
       "categories               ['Garlic', 'Onion', 'Kid-Friendly', 'Dinner', ...\n",
       "date                                               2015-03-26 04:00:00.000\n",
       "desc                     Mullen serves these robustly flavored meatball...\n",
       "directions               ['Toast chiles, red pepper flakes, and cumin s...\n",
       "fat                                                                     80\n",
       "ingredients              ['3 pasilla chiles, seeds removed, chopped', '...\n",
       "protein                                                                 29\n",
       "rating                                                               4.375\n",
       "sodium                                                                1558\n",
       "title                    Chile-Cumin Lamb Meatballs with Yogurt and Cuc...\n",
       "Ingredient_join          [ ' 3   p a s i l l a   c h i l e s ,   s e e ...\n",
       "processed_titles          [chile-cumin, lamb, meatballs, yogurt, cucumber]\n",
       "title_join                      chile-cumin lamb meatballs yogurt cucumber\n",
       "processed_ingredients    [pasilla, chiles, seeds, removed, crushed, red...\n",
       "ingredients_join         pasilla chiles seeds removed crushed red flake...\n",
       "processed_directions     ['toast, chiles, red, flakes, cumin, seeds, dr...\n",
       "directions_join          'toast chiles red flakes cumin seeds dry skill...\n",
       "recipe_combo             [chile-cumin, lamb, meatballs, yogurt, cucumbe...\n",
       "Name: 2, dtype: object"
      ]
     },
     "execution_count": 558,
     "metadata": {},
     "output_type": "execute_result"
    }
   ],
   "source": [
    "test_run.iloc[item]"
   ]
  },
  {
   "cell_type": "code",
   "execution_count": 559,
   "metadata": {},
   "outputs": [
    {
     "name": "stderr",
     "output_type": "stream",
     "text": [
      "/anaconda3/lib/python3.7/site-packages/ipykernel_launcher.py:1: DeprecationWarning: Call to deprecated `most_similar` (Method will be removed in 4.0.0, use self.wv.most_similar() instead).\n",
      "  \"\"\"Entry point for launching an IPython kernel.\n"
     ]
    }
   ],
   "source": [
    "answer=model_combo.most_similar(positive=[test_ingredients[0]])"
   ]
  },
  {
   "cell_type": "code",
   "execution_count": 560,
   "metadata": {},
   "outputs": [],
   "source": [
    "final=answer[0][0]"
   ]
  },
  {
   "cell_type": "code",
   "execution_count": 561,
   "metadata": {
    "scrolled": true
   },
   "outputs": [
    {
     "data": {
      "text/plain": [
       "'pasilla'"
      ]
     },
     "execution_count": 561,
     "metadata": {},
     "output_type": "execute_result"
    }
   ],
   "source": [
    "key"
   ]
  },
  {
   "cell_type": "code",
   "execution_count": 562,
   "metadata": {
    "scrolled": false
   },
   "outputs": [
    {
     "name": "stderr",
     "output_type": "stream",
     "text": [
      "/anaconda3/lib/python3.7/site-packages/ipykernel_launcher.py:1: DeprecationWarning: Call to deprecated `most_similar` (Method will be removed in 4.0.0, use self.wv.most_similar() instead).\n",
      "  \"\"\"Entry point for launching an IPython kernel.\n"
     ]
    }
   ],
   "source": [
    "similar_words=model_combo.most_similar(positive=[key])"
   ]
  },
  {
   "cell_type": "code",
   "execution_count": 563,
   "metadata": {},
   "outputs": [
    {
     "data": {
      "text/plain": [
       "[('árbol', 0.9101869463920593),\n",
       " ('guajillo', 0.9064054489135742),\n",
       " ('ancho', 0.8787860870361328),\n",
       " ('chiles*', 0.8413679599761963),\n",
       " ('habanero', 0.809214174747467),\n",
       " ('anaheim', 0.7972064018249512),\n",
       " ('bonnet', 0.7896746397018433),\n",
       " ('chilies*', 0.7855426073074341),\n",
       " ('poblano', 0.7792425751686096),\n",
       " ('fresno', 0.7619127631187439)]"
      ]
     },
     "execution_count": 563,
     "metadata": {},
     "output_type": "execute_result"
    }
   ],
   "source": [
    "similar_words"
   ]
  },
  {
   "cell_type": "code",
   "execution_count": 564,
   "metadata": {
    "scrolled": true
   },
   "outputs": [
    {
     "name": "stderr",
     "output_type": "stream",
     "text": [
      "/anaconda3/lib/python3.7/site-packages/ipykernel_launcher.py:4: DeprecationWarning: Call to deprecated `similarity` (Method will be removed in 4.0.0, use self.wv.similarity() instead).\n",
      "  after removing the cwd from sys.path.\n"
     ]
    }
   ],
   "source": [
    "similar_list=[]\n",
    "words=[]\n",
    "for word in range(1,len(similar_words)):\n",
    "    similar_list.append(model_combo.similarity(similar_words[word][0], final))\n",
    "    words.append(similar_words[word][0])"
   ]
  },
  {
   "cell_type": "code",
   "execution_count": 565,
   "metadata": {},
   "outputs": [],
   "source": [
    "layered_relationships=dict(zip(words,similar_list))"
   ]
  },
  {
   "cell_type": "code",
   "execution_count": 566,
   "metadata": {},
   "outputs": [
    {
     "data": {
      "text/plain": [
       "{'guajillo': 0.8780029,\n",
       " 'ancho': 0.8374705,\n",
       " 'chiles*': 0.8040782,\n",
       " 'habanero': 0.77476287,\n",
       " 'anaheim': 0.7509365,\n",
       " 'bonnet': 0.8057234,\n",
       " 'chilies*': 0.7001704,\n",
       " 'poblano': 0.69749457,\n",
       " 'fresno': 0.78252935}"
      ]
     },
     "execution_count": 566,
     "metadata": {},
     "output_type": "execute_result"
    }
   ],
   "source": [
    "layered_relationships"
   ]
  },
  {
   "cell_type": "code",
   "execution_count": 567,
   "metadata": {},
   "outputs": [],
   "source": [
    "final_2 = max(layered_relationships.keys(), key=(lambda k: layered_relationships[k]))"
   ]
  },
  {
   "cell_type": "code",
   "execution_count": 568,
   "metadata": {},
   "outputs": [
    {
     "data": {
      "text/plain": [
       "'guajillo'"
      ]
     },
     "execution_count": 568,
     "metadata": {},
     "output_type": "execute_result"
    }
   ],
   "source": [
    "final_2"
   ]
  },
  {
   "cell_type": "code",
   "execution_count": 569,
   "metadata": {},
   "outputs": [
    {
     "data": {
      "text/plain": [
       "('Chile-Cumin Lamb Meatballs with Yogurt and Cucumber ',\n",
       " '[\\'3 pasilla chiles, seeds removed, chopped\\', \\'1 1/2 teaspoons crushed red pepper flakes\\', \\'1 tablespoon cumin seeds\\', \\'1/4 cup Sherry vinegar or red wine vinegar\\', \\'1 tablespoon sweet smoked paprika\\', \\'1 garlic clove, chopped\\', \\'1/2 cup olive oil\\', \\'Kosher salt\\', \\'1/4 small onion, chopped\\', \\'8 garlic cloves, 7 cloves chopped, 1 clove finely grated\\', \\'1 tablespoon chopped fresh parsley\\', \\'1 teaspoon chopped fresh oregano\\', \\'1 teaspoon chopped fresh sage\\', \\'3/4 teaspoon fennel seeds\\', \\'3/4 teaspoon ground coriander\\', \\'3/4 teaspoon ground cumin\\', \\'1 tablespoon kosher salt\\', \\'1 large egg\\', \\'1 1/4 pounds ground lamb\\', \\'1 tablespoon rice flour or all-purpose flour\\', \\'4–5 tablespoons olive oil, divided\\', \\'1/2 English hothouse cucumber, thinly sliced\\', \\'1/2 teaspoon finely grated lemon zest\\', \\'2 tablespoons fresh lemon juice\\', \\'1 1/2 tablespoons Sherry vinegar or red wine vinegar\\', \\'Freshly ground black pepper\\', \"1/2 cup plain sheep\\'s-milk or cow\\'s whole-milk yogurt\", \\'1/4 cup chopped fresh mint\\', \\'Crushed red pepper flakes (for serving)\\', \\'A spice mill or a mortar and a pestle\\']')"
      ]
     },
     "execution_count": 569,
     "metadata": {},
     "output_type": "execute_result"
    }
   ],
   "source": [
    "test_run.iloc[item]['title'],test_run.iloc[item]['ingredients']"
   ]
  },
  {
   "cell_type": "code",
   "execution_count": 551,
   "metadata": {},
   "outputs": [
    {
     "data": {
      "text/plain": [
       "'red'"
      ]
     },
     "execution_count": 551,
     "metadata": {},
     "output_type": "execute_result"
    }
   ],
   "source": [
    "key"
   ]
  },
  {
   "cell_type": "code",
   "execution_count": 552,
   "metadata": {
    "scrolled": false
   },
   "outputs": [
    {
     "data": {
      "text/plain": [
       "('Chile-Cumin Lamb Meatballs with Yogurt and Cucumber ',\n",
       " '[\\'Toast chiles, bonito pepper flakes, and cumin seeds in a dry small skillet over medium heat, tossing occasionally, until fragrant and cumin seeds are golden, about 3 minutes.\\', \\'Let cool. Working in batches, finely grind in spice mill, then transfer to a blender. Add vinegar, paprika, and garlic to blender and blend until smooth. With motor running, gradually stream in oil and blend until combined. Transfer to a large bowl; season with salt.\\', \\'Do ahead: Chile sauce can be made 2 days ahead. Cover and chill.\\', \\'Pulse onion, chopped garlic, parsley, oregano, sage, fennel seeds, coriander, cumin, and 1 tablespoon salt in a food processor, scraping down sides as needed, until finely chopped. Add egg, lamb, and flour and pulse until evenly combined. Form lamb mixture into 1 1/2\" balls.\\', \\'Heat 2 tablespoons oil in a large skillet, preferably cast iron, over medium-high. Working in 2 batches and adding another 1 tablespoon oil to skillet if needed, cook meatballs, turning occasionally, until browned on all sides and cooked through, 5–8 minutes. Transfer meatballs to paper towels to drain.\\', \\'Transfer all meatballs to bowl with chile sauce and toss to coat. Toss cucumber in a medium bowl with lemon zest, lemon juice, vinegar, and remaining 2 tablespoons oil; season with salt and pepper.\\', \\'Spoon yogurt into bowls. Evenly divide meatballs among bowls; top with dressed cucumber and mint and sprinkle with bonito pepper flakes.\\', \\'Do ahead: Meatball mixture can be made 1 day ahead. Cover and chill.\\']',\n",
       " '[\\'3 pasilla chiles, seeds removed, chopped\\', \\'1 1/2 teaspoons crushed bonito pepper flakes\\', \\'1 tablespoon cumin seeds\\', \\'1/4 cup Sherry vinegar or bonito wine vinegar\\', \\'1 tablespoon sweet smoked paprika\\', \\'1 garlic clove, chopped\\', \\'1/2 cup olive oil\\', \\'Kosher salt\\', \\'1/4 small onion, chopped\\', \\'8 garlic cloves, 7 cloves chopped, 1 clove finely grated\\', \\'1 tablespoon chopped fresh parsley\\', \\'1 teaspoon chopped fresh oregano\\', \\'1 teaspoon chopped fresh sage\\', \\'3/4 teaspoon fennel seeds\\', \\'3/4 teaspoon ground coriander\\', \\'3/4 teaspoon ground cumin\\', \\'1 tablespoon kosher salt\\', \\'1 large egg\\', \\'1 1/4 pounds ground lamb\\', \\'1 tablespoon rice flour or all-purpose flour\\', \\'4–5 tablespoons olive oil, divided\\', \\'1/2 English hothouse cucumber, thinly sliced\\', \\'1/2 teaspoon finely grated lemon zest\\', \\'2 tablespoons fresh lemon juice\\', \\'1 1/2 tablespoons Sherry vinegar or bonito wine vinegar\\', \\'Freshly ground black pepper\\', \"1/2 cup plain sheep\\'s-milk or cow\\'s whole-milk yogurt\", \\'1/4 cup chopped fresh mint\\', \\'Crushed bonito pepper flakes (for serving)\\', \\'A spice mill or a mortar and a pestle\\']')"
      ]
     },
     "execution_count": 552,
     "metadata": {},
     "output_type": "execute_result"
    }
   ],
   "source": [
    "test_run.iloc[item]['title'], test_run.iloc[item]['directions'].replace(key,final_2), test_run.iloc[item]['ingredients'].replace(key,final_2)"
   ]
  },
  {
   "cell_type": "code",
   "execution_count": 359,
   "metadata": {},
   "outputs": [
    {
     "name": "stderr",
     "output_type": "stream",
     "text": [
      "/anaconda3/lib/python3.7/site-packages/ipykernel_launcher.py:1: DeprecationWarning: Call to deprecated `similarity` (Method will be removed in 4.0.0, use self.wv.similarity() instead).\n",
      "  \"\"\"Entry point for launching an IPython kernel.\n"
     ]
    },
    {
     "data": {
      "text/plain": [
       "array([0.26060563], dtype=float32)"
      ]
     },
     "execution_count": 359,
     "metadata": {},
     "output_type": "execute_result"
    }
   ],
   "source": [
    "model_combo.similarity(['yellow'], 'red-pepper')"
   ]
  },
  {
   "cell_type": "code",
   "execution_count": 360,
   "metadata": {},
   "outputs": [],
   "source": [
    "for change in test_run['recipe_combo'][29]:\n",
    "    change.replace(key,final)"
   ]
  },
  {
   "cell_type": "code",
   "execution_count": 361,
   "metadata": {},
   "outputs": [
    {
     "data": {
      "text/plain": [
       "['chinese-style',\n",
       " 'spinach',\n",
       " 'mushroom',\n",
       " 'soup',\n",
       " '14',\n",
       " '1/2-ounce',\n",
       " 'cans',\n",
       " 'vegetable',\n",
       " 'broth',\n",
       " 'water',\n",
       " 'soy',\n",
       " 'sauce',\n",
       " 'rice',\n",
       " 'vinegar',\n",
       " 'apple',\n",
       " 'cider',\n",
       " 'vinegar',\n",
       " 'oriental',\n",
       " 'sesame',\n",
       " 'oil',\n",
       " 'minced',\n",
       " 'garlic',\n",
       " 'minced',\n",
       " 'ginger',\n",
       " 'thinly',\n",
       " 'mushrooms',\n",
       " 'ounces',\n",
       " 'firm',\n",
       " 'tofu',\n",
       " '1/2-inch',\n",
       " '10-ounce',\n",
       " 'bag',\n",
       " 'ready-to-use',\n",
       " 'spinach',\n",
       " 'leaves',\n",
       " 'green',\n",
       " 'onions',\n",
       " \"'combine\",\n",
       " 'first',\n",
       " 'ingredients',\n",
       " 'saucepan',\n",
       " 'bring',\n",
       " 'boil',\n",
       " 'medium-high',\n",
       " 'heat',\n",
       " 'add',\n",
       " 'mushrooms',\n",
       " 'simmer',\n",
       " 'mushrooms',\n",
       " 'tender',\n",
       " 'minutes',\n",
       " 'add',\n",
       " 'tofu',\n",
       " 'spinach',\n",
       " 'green',\n",
       " 'onions',\n",
       " 'simmer',\n",
       " 'spinach',\n",
       " 'wilts',\n",
       " 'tofu',\n",
       " 'heated',\n",
       " 'minutes',\n",
       " 'season',\n",
       " 'soup',\n",
       " 'taste',\n",
       " 'ladle',\n",
       " 'soup',\n",
       " 'bowls',\n",
       " 'serve']"
      ]
     },
     "execution_count": 361,
     "metadata": {},
     "output_type": "execute_result"
    }
   ],
   "source": [
    "test_run['recipe_combo'][29]"
   ]
  },
  {
   "cell_type": "code",
   "execution_count": 117,
   "metadata": {},
   "outputs": [
    {
     "data": {
      "text/plain": [
       "Unnamed: 0                                                            1206\n",
       "calories                                                               766\n",
       "categories               ['Sandwich', 'Beef', 'Cheese', 'Garlic', 'Onio...\n",
       "date                                               2007-07-26 17:48:19.000\n",
       "desc                     Three make a meal, but a bunch make fun party ...\n",
       "directions               ['Mix all meats, panko, 1/2 cup water, 6 table...\n",
       "fat                                                                     43\n",
       "ingredients              ['1/2 pound ground beef', '1/2 pound ground po...\n",
       "protein                                                                 36\n",
       "rating                                                               4.375\n",
       "sodium                                                                1330\n",
       "title                                                    Meatball Sliders \n",
       "Ingredient_join          [ ' 1 / 2   p o u n d   g r o u n d   b e e f ...\n",
       "processed_titles                                       [meatball, sliders]\n",
       "title_join                                                meatball sliders\n",
       "processed_ingredients    [ground, beef, ground, pork, ground, veal, pan...\n",
       "ingredients_join         ground beef ground pork ground veal panko japa...\n",
       "processed_directions     ['mix, meats, panko, water, cheese, egg, egg, ...\n",
       "directions_join          'mix meats panko water cheese egg egg yolk par...\n",
       "recipe_combo             [meatball, sliders, ground, beef, ground, pork...\n",
       "Name: 29, dtype: object"
      ]
     },
     "execution_count": 117,
     "metadata": {},
     "output_type": "execute_result"
    }
   ],
   "source": [
    "test_run.iloc[29]"
   ]
  },
  {
   "cell_type": "code",
   "execution_count": null,
   "metadata": {
    "scrolled": true
   },
   "outputs": [],
   "source": [
    "model_combo.most_similar(positive=['dried'])"
   ]
  },
  {
   "cell_type": "code",
   "execution_count": null,
   "metadata": {},
   "outputs": [],
   "source": [
    "print (model_combo.similarity(['threads'], 'dried'))"
   ]
  },
  {
   "cell_type": "code",
   "execution_count": null,
   "metadata": {
    "scrolled": false
   },
   "outputs": [],
   "source": [
    "def recipe_vectorizer(stuff):\n",
    "    test_list=[]\n",
    "    for word in stuff:\n",
    "        test_list.append(model_combo[word])\n",
    "    return sum(test_list)"
   ]
  },
  {
   "cell_type": "code",
   "execution_count": null,
   "metadata": {},
   "outputs": [],
   "source": [
    "df['recipe_combo'][0]"
   ]
  },
  {
   "cell_type": "code",
   "execution_count": null,
   "metadata": {},
   "outputs": [],
   "source": [
    "recipe_vectorizer(df['recipe_combo'][0])"
   ]
  },
  {
   "cell_type": "code",
   "execution_count": null,
   "metadata": {},
   "outputs": [],
   "source": [
    "sum(test_list)"
   ]
  },
  {
   "cell_type": "code",
   "execution_count": null,
   "metadata": {},
   "outputs": [],
   "source": [
    "total_vocab = set()\n",
    "for comment in texts:\n",
    "    total_vocab.update(comment)\n",
    "len(total_vocab)"
   ]
  },
  {
   "cell_type": "code",
   "execution_count": null,
   "metadata": {},
   "outputs": [],
   "source": [
    "articles_concat = []\n",
    "for article in texts:\n",
    "    articles_concat += article"
   ]
  },
  {
   "cell_type": "code",
   "execution_count": null,
   "metadata": {},
   "outputs": [],
   "source": [
    "texts=df['processed_ingredients']"
   ]
  },
  {
   "cell_type": "code",
   "execution_count": null,
   "metadata": {},
   "outputs": [],
   "source": [
    "#x=df[df['Ingredient_join'].str.match('yams')]"
   ]
  },
  {
   "cell_type": "code",
   "execution_count": null,
   "metadata": {},
   "outputs": [],
   "source": [
    "from gensim.test.utils import common_corpus, common_dictionary, get_tmpfile\n",
    "index_tmpfile = get_tmpfile(\"index\")\n",
    "#query = [(1, 2), (6, 1), (7, 2)]\n",
    "\n",
    "#index = Similarity(index_tmpfile, common_corpus, num_features=len(common_dictionary))  # build the index\n",
    "#similarities = index[query]  # get similarities between the query and all index documents"
   ]
  },
  {
   "cell_type": "code",
   "execution_count": null,
   "metadata": {},
   "outputs": [],
   "source": [
    ">>> from gensim.test.utils import common_corpus, common_dictionary\n",
    ">>> from gensim.similarities import MatrixSimilarity\n",
    ">>>\n",
    ">>> query = [(1, 2), (5, 4)]\n",
    ">>> index = MatrixSimilarity(common_corpus, num_features=len(common_dictionary))\n",
    ">>> sims = index[query]"
   ]
  },
  {
   "cell_type": "code",
   "execution_count": null,
   "metadata": {
    "scrolled": false
   },
   "outputs": [],
   "source": [
    "from gensim import corpora\n",
    "dictionary = corpora.Dictionary(texts)\n",
    "#print(dictionary.token2id)\n",
    "print(dictionary.values)"
   ]
  },
  {
   "cell_type": "code",
   "execution_count": null,
   "metadata": {
    "scrolled": false
   },
   "outputs": [],
   "source": [
    "new_doc= vectorize_list[1]\n",
    "new_vec = dictionary.doc2bow(new_doc)\n",
    "print(new_vec[3:6])"
   ]
  },
  {
   "cell_type": "code",
   "execution_count": null,
   "metadata": {},
   "outputs": [],
   "source": [
    "trial=new_vec[3:6]"
   ]
  },
  {
   "cell_type": "code",
   "execution_count": null,
   "metadata": {},
   "outputs": [],
   "source": [
    "corpus = [dictionary.doc2bow(text) for text in texts]"
   ]
  },
  {
   "cell_type": "code",
   "execution_count": null,
   "metadata": {},
   "outputs": [],
   "source": [
    "#lsi = models.LsiModel(corpus, id2word=dictionary, num_topics=2)"
   ]
  },
  {
   "cell_type": "code",
   "execution_count": null,
   "metadata": {},
   "outputs": [],
   "source": [
    "#vec_lsi = lsi[new_vec] "
   ]
  },
  {
   "cell_type": "code",
   "execution_count": null,
   "metadata": {},
   "outputs": [],
   "source": [
    "#from gensim import similarities\n",
    "#index = similarities.SparseMatrixSimilarity(tfidf[corpus], num_features=12)"
   ]
  },
  {
   "cell_type": "code",
   "execution_count": null,
   "metadata": {},
   "outputs": [],
   "source": [
    "#index = similarities.MatrixSimilarity(lsi[corpus])"
   ]
  },
  {
   "cell_type": "code",
   "execution_count": null,
   "metadata": {
    "scrolled": true
   },
   "outputs": [],
   "source": [
    "#word2index = {token: token_index for token_index, token in enumerate(w2v.index2word)} \n",
    "#word2index['hi'] == 30308  # True"
   ]
  },
  {
   "cell_type": "code",
   "execution_count": null,
   "metadata": {
    "scrolled": true
   },
   "outputs": [],
   "source": [
    "#model.wv.vocab.get(query_doc[0]).index"
   ]
  },
  {
   "cell_type": "code",
   "execution_count": null,
   "metadata": {
    "scrolled": true
   },
   "outputs": [],
   "source": [
    "sims = index[vec_lsi]\n",
    "print(vec_lsi)\n"
   ]
  },
  {
   "cell_type": "code",
   "execution_count": null,
   "metadata": {},
   "outputs": [],
   "source": [
    "sims = gensim.similarities.Similarity(texts,tf_idf[corpus],\n",
    "                                      num_features=len(dictionary))\n",
    "#print(sims)\n",
    "#print(type(sims))"
   ]
  },
  {
   "cell_type": "code",
   "execution_count": null,
   "metadata": {
    "scrolled": true
   },
   "outputs": [],
   "source": [
    "query_doc = [w.lower() for w in word_tokenize(\"lasagna\")]\n",
    "print(query_doc)\n",
    "query_doc_bow = dictionary.doc2bow(query_doc)\n",
    "print(query_doc_bow)\n",
    "query_doc_tf_idf = tf_idf[query_doc_bow]\n",
    "print(query_doc_tf_idf)"
   ]
  },
  {
   "cell_type": "code",
   "execution_count": null,
   "metadata": {},
   "outputs": [],
   "source": [
    "texts"
   ]
  },
  {
   "cell_type": "code",
   "execution_count": null,
   "metadata": {
    "scrolled": false
   },
   "outputs": [],
   "source": [
    "#articles_concat\n",
    "#.to_csv('recipe_processed.csv',index=None)"
   ]
  },
  {
   "cell_type": "code",
   "execution_count": null,
   "metadata": {},
   "outputs": [],
   "source": [
    "import fasttext\n",
    "from gensim.models.keyedvectors import KeyedVectors"
   ]
  },
  {
   "cell_type": "code",
   "execution_count": null,
   "metadata": {
    "scrolled": false
   },
   "outputs": [],
   "source": [
    "\n",
    "\n",
    "# Skipgram model\n",
    "model = fasttext.skipgram('sample_1.txt', 'model')\n",
    "#print(model.words) # list of words in dictionary\n",
    "\n",
    "# CBOW model\n",
    "#model = fasttext.cbow('data.txt', 'model')\n",
    "#print model.words # list of words in dictionary"
   ]
  },
  {
   "cell_type": "code",
   "execution_count": null,
   "metadata": {
    "scrolled": true
   },
   "outputs": [],
   "source": [
    "#fasttext skipgram vector list\n",
    "vector_list=[]\n",
    "for x in range(len(articles_concat)):\n",
    "    vector_list.append(model[articles_concat[x]])"
   ]
  },
  {
   "cell_type": "code",
   "execution_count": null,
   "metadata": {},
   "outputs": [],
   "source": [
    "vec_list=[]\n",
    "for vec in df['vector_ingred_lines']:\n",
    "    vec_list.append(vec)"
   ]
  },
  {
   "cell_type": "code",
   "execution_count": null,
   "metadata": {},
   "outputs": [],
   "source": [
    "test_ingred=df['processed_ingredients'][8]"
   ]
  },
  {
   "cell_type": "code",
   "execution_count": null,
   "metadata": {},
   "outputs": [],
   "source": [
    "df['processed_ingredients'][8]"
   ]
  },
  {
   "cell_type": "code",
   "execution_count": null,
   "metadata": {},
   "outputs": [],
   "source": [
    "#fasttext skipgram array format\n",
    "#X=np.array(vector_list)"
   ]
  },
  {
   "cell_type": "code",
   "execution_count": null,
   "metadata": {},
   "outputs": [],
   "source": [
    "X=np.array(vector_5_list)\n"
   ]
  },
  {
   "cell_type": "code",
   "execution_count": null,
   "metadata": {},
   "outputs": [],
   "source": [
    "from sklearn.cluster import KMeans\n",
    "\n",
    "k_means = KMeans(n_clusters = 10)\n",
    "k_means.fit(X)\n",
    "y_hat = k_means.predict(X)"
   ]
  },
  {
   "cell_type": "code",
   "execution_count": null,
   "metadata": {
    "scrolled": true
   },
   "outputs": [],
   "source": [
    "plt.scatter(X[:, 0], X[:, 1], c = y_hat, s = 10)\n",
    "cl_centers = k_means.cluster_centers_\n",
    "plt.scatter(cl_centers[:, 0], cl_centers[:, 1], c='black', s=40);"
   ]
  },
  {
   "cell_type": "code",
   "execution_count": null,
   "metadata": {},
   "outputs": [],
   "source": [
    "from sklearn.metrics.cluster import calinski_harabaz_score, adjusted_rand_score"
   ]
  },
  {
   "cell_type": "code",
   "execution_count": null,
   "metadata": {},
   "outputs": [],
   "source": [
    "calinski_harabaz_score(X, y_hat)"
   ]
  },
  {
   "cell_type": "code",
   "execution_count": null,
   "metadata": {},
   "outputs": [],
   "source": [
    "from nltk.cluster import KMeansClusterer, euclidean_distance"
   ]
  },
  {
   "cell_type": "code",
   "execution_count": null,
   "metadata": {
    "scrolled": true
   },
   "outputs": [],
   "source": [
    "clusterer = KMeansClusterer(30, euclidean_distance,avoid_empty_clusters=True )\n",
    "clusters = clusterer.cluster(X, True, trace=True)"
   ]
  },
  {
   "cell_type": "code",
   "execution_count": null,
   "metadata": {},
   "outputs": [],
   "source": [
    "clusters"
   ]
  },
  {
   "cell_type": "code",
   "execution_count": null,
   "metadata": {},
   "outputs": [],
   "source": [
    "#model['fish']"
   ]
  },
  {
   "cell_type": "code",
   "execution_count": null,
   "metadata": {},
   "outputs": [],
   "source": [
    "#for word in model.words:\n",
    "    #print(word, model[word])"
   ]
  },
  {
   "cell_type": "code",
   "execution_count": null,
   "metadata": {},
   "outputs": [],
   "source": [
    "# CBOW model\n",
    "#model_cb = fasttext.cbow(texts, 'model')\n",
    "#print(model_cb.words) # list of words in dictionary"
   ]
  },
  {
   "cell_type": "code",
   "execution_count": null,
   "metadata": {},
   "outputs": [],
   "source": [
    "#word_tokenize(texts)"
   ]
  },
  {
   "cell_type": "code",
   "execution_count": null,
   "metadata": {
    "scrolled": false
   },
   "outputs": [],
   "source": [
    "model_4=Word2Vec(df,min_count=1)"
   ]
  },
  {
   "cell_type": "code",
   "execution_count": null,
   "metadata": {},
   "outputs": [],
   "source": [
    "model_5=Word2Vec(df['processed_ingredients'],min_count=1)"
   ]
  },
  {
   "cell_type": "code",
   "execution_count": null,
   "metadata": {},
   "outputs": [],
   "source": [
    "model_5['pizza']"
   ]
  },
  {
   "cell_type": "code",
   "execution_count": null,
   "metadata": {},
   "outputs": [],
   "source": [
    "model_5.most_similar(['parmesan'])"
   ]
  },
  {
   "cell_type": "code",
   "execution_count": null,
   "metadata": {},
   "outputs": [],
   "source": [
    "df['processed_ingredients']"
   ]
  },
  {
   "cell_type": "code",
   "execution_count": null,
   "metadata": {},
   "outputs": [],
   "source": [
    "model_4.most_similar(['chicken','parmesan'])"
   ]
  },
  {
   "cell_type": "code",
   "execution_count": null,
   "metadata": {
    "scrolled": true
   },
   "outputs": [],
   "source": [
    "model_3.most_similar(positive=['chicken','parmesan'])"
   ]
  },
  {
   "cell_type": "code",
   "execution_count": null,
   "metadata": {},
   "outputs": [],
   "source": []
  },
  {
   "cell_type": "code",
   "execution_count": null,
   "metadata": {},
   "outputs": [],
   "source": [
    "model_4.most_similar(positive=['parmesan'])"
   ]
  },
  {
   "cell_type": "code",
   "execution_count": null,
   "metadata": {},
   "outputs": [],
   "source": [
    "print (model_4.similarity('syrup', 'bourbon'))\n",
    "print (model_4.similarity('garlic', 'shallots'))"
   ]
  },
  {
   "cell_type": "code",
   "execution_count": null,
   "metadata": {
    "scrolled": true
   },
   "outputs": [],
   "source": [
    "\n",
    "\n",
    "from sklearn import metrics\n",
    " \n",
    "import gensim.models as g\n",
    "import codecs\n",
    " \n",
    "#model=\"doc2vec/doc2vec.bin\"\n",
    "test_docs=\"/Users/denisdunn/usda_project\"\n",
    " \n",
    "#inference hyper-parameters\n",
    "start_alpha=0.01\n",
    "infer_epoch=1000\n",
    " \n",
    "#load model\n",
    "#m = g.Doc2Vec.load(model)\n",
    "#test_docs = [ x.strip().split() for x in codecs.open(test_docs, \"r\", \"utf-8\").readlines() ]\n",
    "m=model\n",
    "print (test_docs)\n",
    "\"\"\"\n",
    "[['the', 'cardigan', 'welsh', 'corgi'........\n",
    "\"\"\"\n",
    " \n",
    "X=[]\n",
    "for d in test_docs:\n",
    "     \n",
    "    X.append( m.infer_vector(d, alpha=start_alpha, steps=infer_epoch) )\n",
    "    \n",
    " \n",
    "k=3\n",
    " \n",
    "from sklearn.cluster import Birch\n",
    " \n",
    "brc = Birch(branching_factor=50, n_clusters=k, threshold=0.1, compute_labels=True)\n",
    "brc.fit(X)\n",
    " \n",
    "clusters = brc.predict(X)\n",
    " \n",
    "labels = brc.labels_\n",
    " \n",
    " \n",
    "print (\"Clusters: \")\n",
    "print (clusters)\n",
    " \n",
    " \n",
    "silhouette_score = metrics.silhouette_score(X, labels, metric='euclidean')\n",
    " \n",
    "print (\"Silhouette_score: \")\n",
    "print (silhouette_score)"
   ]
  },
  {
   "cell_type": "code",
   "execution_count": null,
   "metadata": {},
   "outputs": [],
   "source": [
    "test_docs"
   ]
  },
  {
   "cell_type": "code",
   "execution_count": null,
   "metadata": {},
   "outputs": [],
   "source": [
    "model = fasttext.load_model('model.bin')\n",
    "print(model.words) # list of words in dictionary\n",
    "print(model['bread']) # get the vector of the word 'king'"
   ]
  },
  {
   "cell_type": "code",
   "execution_count": null,
   "metadata": {},
   "outputs": [],
   "source": [
    "model.nn\n"
   ]
  },
  {
   "cell_type": "code",
   "execution_count": null,
   "metadata": {},
   "outputs": [],
   "source": [
    "classifier = fasttext.supervised('epicurious', 'model')"
   ]
  },
  {
   "cell_type": "code",
   "execution_count": null,
   "metadata": {},
   "outputs": [],
   "source": [
    "classifier = fasttext.supervised('epicurious', 'model', label_prefix='lasagna')"
   ]
  },
  {
   "cell_type": "code",
   "execution_count": null,
   "metadata": {},
   "outputs": [],
   "source": [
    "gensim.models.keyedvectors.BaseKeyedVectors(175)"
   ]
  },
  {
   "cell_type": "code",
   "execution_count": null,
   "metadata": {},
   "outputs": [],
   "source": [
    "print(x)"
   ]
  },
  {
   "cell_type": "code",
   "execution_count": null,
   "metadata": {},
   "outputs": [],
   "source": []
  },
  {
   "cell_type": "code",
   "execution_count": null,
   "metadata": {
    "scrolled": false
   },
   "outputs": [],
   "source": [
    "\n",
    "model.skipgram(input='epicurious', output='model', epoch=100, lr=0.7)"
   ]
  },
  {
   "cell_type": "code",
   "execution_count": null,
   "metadata": {},
   "outputs": [],
   "source": [
    "fasttext_nn('lasagna')"
   ]
  },
  {
   "cell_type": "code",
   "execution_count": null,
   "metadata": {
    "scrolled": false
   },
   "outputs": [],
   "source": [
    "result = classifier.test('/Users/denisdunn/usda_project')\n",
    "print('P@1:', result.precision)\n",
    "print('R@1:', result.recall)\n",
    "print('Number of examples:', result.nexamples)\n"
   ]
  },
  {
   "cell_type": "code",
   "execution_count": null,
   "metadata": {},
   "outputs": [],
   "source": [
    "print(result.bin)"
   ]
  },
  {
   "cell_type": "code",
   "execution_count": null,
   "metadata": {},
   "outputs": [],
   "source": [
    "df[\"Ingredient_join\"][1]"
   ]
  },
  {
   "cell_type": "code",
   "execution_count": null,
   "metadata": {},
   "outputs": [],
   "source": [
    "texts = [\"whipping cream onions bay leaves whole cloves garlic clove crushed 1/8 ground nutmeg 'pinch dried thyme crumbled shallots minced butter trimmed boneless center pork loin sinew removed 1-inch chunks well chilled eggs purpose flour tawny port dried currants minced 'lettuce leaves 'cracked peppercorns 'minced parsley 'bay leaves 'french bread baguette slices olive oil red onions halved dried currants red wine vinegar canned chicken broth thyme dried crumbled sugar\"]\n",
    "labels = classifier.predict(texts)\n",
    "print(labels)\n",
    "\n",
    "# Or with the probability\n",
    "labels = classifier.predict_proba(texts)\n",
    "print(labels)"
   ]
  },
  {
   "cell_type": "code",
   "execution_count": null,
   "metadata": {
    "scrolled": true
   },
   "outputs": [],
   "source": [
    "sims = index[tfidf[vec_lsi]]\n",
    "print(list(enumerate(sims)))"
   ]
  },
  {
   "cell_type": "code",
   "execution_count": null,
   "metadata": {},
   "outputs": [],
   "source": [
    "from"
   ]
  },
  {
   "cell_type": "code",
   "execution_count": null,
   "metadata": {},
   "outputs": [],
   "source": [
    "X=model_3"
   ]
  },
  {
   "cell_type": "code",
   "execution_count": null,
   "metadata": {},
   "outputs": [],
   "source": [
    "NUM_CLUSTERS=3\n",
    "kclusterer = KMeansClusterer(NUM_CLUSTERS, distance=nltk.cluster.util.cosine_distance, repeats=25)\n",
    "assigned_clusters = kclusterer.cluster(X, assign_clusters=True)\n",
    "print (assigned_clusters)\n",
    " \n",
    "words = list(model.wv.vocab)\n",
    "for i, word in enumerate(words):  \n",
    "    print (word + \":\" + str(assigned_clusters[i]))\n",
    " \n",
    " \n",
    " \n",
    "kmeans = cluster.KMeans(n_clusters=NUM_CLUSTERS)\n",
    "kmeans.fit(X)\n",
    " \n",
    "labels = kmeans.labels_\n",
    "centroids = kmeans.cluster_centers_\n",
    " \n",
    "print (\"Cluster id labels for inputted data\")\n",
    "print (labels)\n",
    "print (\"Centroids data\")\n",
    "print (centroids)\n",
    " \n",
    "print (\"Score (Opposite of the value of X on the K-means objective which is Sum of distances of samples to their closest cluster center):\")\n",
    "print (kmeans.score(X))\n",
    " \n",
    "silhouette_score = metrics.silhouette_score(X, labels, metric='euclidean')\n",
    " \n",
    "print (\"Silhouette_score: \")"
   ]
  },
  {
   "cell_type": "code",
   "execution_count": null,
   "metadata": {},
   "outputs": [],
   "source": [
    "\n",
    "# training data\n",
    " \n",
    "sentences = [df[\"Ingredient_join\"]]\n",
    " \n",
    " \n",
    "# training model\n",
    "model = Word2Vec(sentences, min_count=1)\n",
    " \n",
    "# get vector data\n",
    "X = model[model.wv.vocab]\n",
    "#print (X)\n",
    " \n",
    "#print (model.similarity('sugar', 'sauce'))\n",
    " \n",
    "print (model.similarity('chicken'))\n",
    " \n",
    "#print (model.most_similar(positive=['fish'], negative=[], topn=2))\n",
    " \n",
    "#print (model['the'])\n",
    " \n",
    "print (list(model.wv.vocab))\n",
    " \n",
    "print (len(list(model.wv.vocab)))\n",
    " \n",
    " \n",
    " \n",
    " \n",
    "NUM_CLUSTERS=3\n",
    "kclusterer = KMeansClusterer(direct_vecNUM_CLUSTERS, distance=nltk.cluster.util.cosine_distance, repeats=25)\n",
    "assigned_clusters = kclusterer.cluster(X, assign_clusters=True)\n",
    "print (assigned_clusters)\n",
    " \n",
    "words = list(model.wv.vocab)\n",
    "for i, word in enumerate(words):  \n",
    "    print (word + \":\" + str(assigned_clusters[i]))\n",
    " \n",
    " \n",
    " \n",
    "kmeans = cluster.KMeans(n_clusters=NUM_CLUSTERS)\n",
    "kmeans.fit(X)\n",
    " \n",
    "labels = kmeans.labels_\n",
    "centroids = kmeans.cluster_centers_\n",
    " \n",
    "print (\"Cluster id labels for inputted data\")\n",
    "print (labels)\n",
    "print (\"Centroids data\")\n",
    "print (centroids)\n",
    " \n",
    "print (\"Score (Opposite of the value of X on the K-means objective which is Sum of distances of samples to their closest cluster center):\")\n",
    "print (kmeans.score(X))\n",
    " \n",
    "silhouette_score = metrics.silhouette_score(X, labels, metric='euclidean')\n",
    " \n",
    "print (\"Silhouette_score: \")"
   ]
  },
  {
   "cell_type": "code",
   "execution_count": null,
   "metadata": {},
   "outputs": [],
   "source": [
    "from gensim.test.utils import common_texts\n",
    "from gensim.models import Word2Vec\n",
    "from gensim.similarities import WmdSimilarity\n",
    "\n",
    "model = Word2Vec(texts, size=20, min_count=1)  # train word-vectors\n",
    "\n",
    "index = WmdSimilarity(texts, model)\n",
    " # Make query.\n",
    "query = ['broccoli']\n",
    "sims = index[query]"
   ]
  },
  {
   "cell_type": "code",
   "execution_count": null,
   "metadata": {},
   "outputs": [],
   "source": [
    "word_vectors = model.wv.vectors"
   ]
  },
  {
   "cell_type": "code",
   "execution_count": null,
   "metadata": {},
   "outputs": [],
   "source": [
    "sims.max()"
   ]
  },
  {
   "cell_type": "code",
   "execution_count": null,
   "metadata": {},
   "outputs": [],
   "source": [
    "\n",
    "from sklearn.cluster import KMeans"
   ]
  },
  {
   "cell_type": "code",
   "execution_count": null,
   "metadata": {},
   "outputs": [],
   "source": [
    "idx =k_means.fit_predict( word_vectors)"
   ]
  },
  {
   "cell_type": "code",
   "execution_count": null,
   "metadata": {},
   "outputs": [],
   "source": [
    "idx.shape"
   ]
  },
  {
   "cell_type": "code",
   "execution_count": null,
   "metadata": {},
   "outputs": [],
   "source": [
    "word_centroid_map = dict(zip( model.wv.index2word, idx ))"
   ]
  },
  {
   "cell_type": "code",
   "execution_count": null,
   "metadata": {},
   "outputs": [],
   "source": []
  },
  {
   "cell_type": "code",
   "execution_count": null,
   "metadata": {},
   "outputs": [],
   "source": [
    "words = list(model.vocab)\n",
    "for i, word in enumerate(words):  \n",
    "    print (word + \":\" + str(assigned_clusters[i]))"
   ]
  },
  {
   "cell_type": "code",
   "execution_count": null,
   "metadata": {},
   "outputs": [],
   "source": [
    "#for cluster in xrange(0,10):\n",
    "\n",
    "# Print the cluster number\n",
    "\n",
    "#…………….print \"\\nCluster %d\" % cluster\n",
    "\n",
    "# Find all of the words for that cluster number, and print them out\n",
    "\n",
    "words = []\n",
    "\n",
    "for i in range(0,len(word_centroid_map.values())):\n",
    "\n",
    "    if( word_centroid_map.values()[i] == cluster ):\n",
    "\n",
    "        words.append(word_centroid_map.keys()[i])\n",
    "print(words)"
   ]
  },
  {
   "cell_type": "code",
   "execution_count": null,
   "metadata": {},
   "outputs": [],
   "source": []
  },
  {
   "cell_type": "code",
   "execution_count": null,
   "metadata": {},
   "outputs": [],
   "source": [
    "plt.scatter(idx[:,0],idx[:1], c=8, s=10)\n",
    "centers = k_means.cluster_centers_\n",
    "plt.scatter(centers[:, 0], centers[:, 1], c='black', s=70)"
   ]
  },
  {
   "cell_type": "code",
   "execution_count": null,
   "metadata": {},
   "outputs": [],
   "source": [
    "from sklearn.ensemble import RandomForestClassifier\n",
    "from sklearn.naive_bayes import MultinomialNB"
   ]
  },
  {
   "cell_type": "code",
   "execution_count": null,
   "metadata": {},
   "outputs": [],
   "source": [
    "nb_classifier.fit(tf_idf_data_train, target)\n",
    "nb_train_preds = nb_classifier.predict(tf_idf_data_train)\n",
    "nb_test_preds = nb_classifier.predict(tf_idf_data_test)"
   ]
  },
  {
   "cell_type": "code",
   "execution_count": null,
   "metadata": {},
   "outputs": [],
   "source": [
    "nb_classifier = MultinomialNB()\n",
    "rf_classifier = RandomForestClassifier(n_estimators=100)"
   ]
  },
  {
   "cell_type": "code",
   "execution_count": null,
   "metadata": {},
   "outputs": [],
   "source": [
    "from sklearn.decomposition.truncated_svd import TruncatedSVD        \n",
    "pca = TruncatedSVD(n_components=2)                                \n",
    "X_reduced_train = pca.fit_transform(index) "
   ]
  }
 ],
 "metadata": {
  "kernelspec": {
   "display_name": "Python 3",
   "language": "python",
   "name": "python3"
  },
  "language_info": {
   "codemirror_mode": {
    "name": "ipython",
    "version": 3
   },
   "file_extension": ".py",
   "mimetype": "text/x-python",
   "name": "python",
   "nbconvert_exporter": "python",
   "pygments_lexer": "ipython3",
   "version": "3.7.1"
  }
 },
 "nbformat": 4,
 "nbformat_minor": 2
}
