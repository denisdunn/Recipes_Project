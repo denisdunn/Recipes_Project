{
 "cells": [
  {
   "cell_type": "code",
   "execution_count": 1,
   "metadata": {},
   "outputs": [],
   "source": [
    "from nltk.tokenize import sent_tokenize, word_tokenize\n",
    "\n",
    "import numpy as np\n",
    "import matplotlib.pyplot as plt\n",
    "from sklearn.pipeline import Pipeline\n",
    "from sklearn.feature_extraction.text import CountVectorizer, TfidfTransformer\n",
    "from sklearn.naive_bayes import MultinomialNB\n",
    "from sklearn.model_selection import train_test_split\n",
    "from sklearn import metrics\n",
    "import pandas as pd\n",
    "from gensim.models import Word2Vec\n",
    "import gensim \n",
    "\n",
    "from  nltk import FreqDist"
   ]
  },
  {
   "cell_type": "code",
   "execution_count": 2,
   "metadata": {},
   "outputs": [
    {
     "name": "stderr",
     "output_type": "stream",
     "text": [
      "[nltk_data] Downloading package genesis to\n",
      "[nltk_data]     /Users/denisdunn/nltk_data...\n",
      "[nltk_data]   Package genesis is already up-to-date!\n",
      "[nltk_data] Downloading package wordnet to\n",
      "[nltk_data]     /Users/denisdunn/nltk_data...\n",
      "[nltk_data]   Package wordnet is already up-to-date!\n",
      "[nltk_data] Downloading package punkt to /Users/denisdunn/nltk_data...\n",
      "[nltk_data]   Package punkt is already up-to-date!\n",
      "[nltk_data] Downloading package averaged_perceptron_tagger to\n",
      "[nltk_data]     /Users/denisdunn/nltk_data...\n",
      "[nltk_data]   Package averaged_perceptron_tagger is already up-to-\n",
      "[nltk_data]       date!\n"
     ]
    }
   ],
   "source": [
    "import nltk\n",
    "from nltk.corpus import wordnet as wn\n",
    "from nltk.corpus import genesis\n",
    "nltk.download('genesis')\n",
    "nltk.download('wordnet')\n",
    "nltk.download('punkt')\n",
    "nltk.download('averaged_perceptron_tagger')\n",
    "genesis_ic = wn.ic(genesis, False, 0.0)\n",
    "import re\n",
    "from nltk.tokenize import word_tokenize\n",
    "from nltk.stem.porter import PorterStemmer\n",
    "from nltk.stem import SnowballStemmer\n",
    "from nltk.stem.lancaster import LancasterStemmer\n",
    "from nltk.corpus import stopwords\n",
    "from sklearn.metrics import roc_auc_score"
   ]
  },
  {
   "cell_type": "code",
   "execution_count": 3,
   "metadata": {},
   "outputs": [],
   "source": [
    "df=pd.read_csv('epicurious')"
   ]
  },
  {
   "cell_type": "code",
   "execution_count": 4,
   "metadata": {},
   "outputs": [],
   "source": [
    "df=df.dropna()"
   ]
  },
  {
   "cell_type": "code",
   "execution_count": 5,
   "metadata": {},
   "outputs": [
    {
     "data": {
      "text/html": [
       "<div>\n",
       "<style scoped>\n",
       "    .dataframe tbody tr th:only-of-type {\n",
       "        vertical-align: middle;\n",
       "    }\n",
       "\n",
       "    .dataframe tbody tr th {\n",
       "        vertical-align: top;\n",
       "    }\n",
       "\n",
       "    .dataframe thead th {\n",
       "        text-align: right;\n",
       "    }\n",
       "</style>\n",
       "<table border=\"1\" class=\"dataframe\">\n",
       "  <thead>\n",
       "    <tr style=\"text-align: right;\">\n",
       "      <th></th>\n",
       "      <th>Unnamed: 0</th>\n",
       "      <th>calories</th>\n",
       "      <th>categories</th>\n",
       "      <th>date</th>\n",
       "      <th>desc</th>\n",
       "      <th>directions</th>\n",
       "      <th>fat</th>\n",
       "      <th>ingredients</th>\n",
       "      <th>protein</th>\n",
       "      <th>rating</th>\n",
       "      <th>sodium</th>\n",
       "      <th>title</th>\n",
       "    </tr>\n",
       "  </thead>\n",
       "  <tbody>\n",
       "    <tr>\n",
       "      <th>1</th>\n",
       "      <td>1</td>\n",
       "      <td>403.0</td>\n",
       "      <td>['Food Processor', 'Onion', 'Pork', 'Bake', 'B...</td>\n",
       "      <td>2004-08-20 04:00:00.000</td>\n",
       "      <td>This uses the same ingredients found in boudin...</td>\n",
       "      <td>['Combine first 9 ingredients in heavy medium ...</td>\n",
       "      <td>23.0</td>\n",
       "      <td>['1 1/2 cups whipping cream', '2 medium onions...</td>\n",
       "      <td>18.0</td>\n",
       "      <td>4.375</td>\n",
       "      <td>1439.0</td>\n",
       "      <td>Boudin Blanc Terrine with Red Onion Confit</td>\n",
       "    </tr>\n",
       "    <tr>\n",
       "      <th>5</th>\n",
       "      <td>5</td>\n",
       "      <td>948.0</td>\n",
       "      <td>['Sandwich', 'Food Processor', 'Tomato', 'Kid-...</td>\n",
       "      <td>2004-08-20 04:00:00.000</td>\n",
       "      <td>This recipe can be prepared in 45 minutes or l...</td>\n",
       "      <td>['Mix basil, mayonnaise and butter in processo...</td>\n",
       "      <td>79.0</td>\n",
       "      <td>['2 1/2 cups (lightly packed) fresh basil leav...</td>\n",
       "      <td>19.0</td>\n",
       "      <td>4.375</td>\n",
       "      <td>1042.0</td>\n",
       "      <td>The Best Blts</td>\n",
       "    </tr>\n",
       "    <tr>\n",
       "      <th>8</th>\n",
       "      <td>8</td>\n",
       "      <td>170.0</td>\n",
       "      <td>['Beef', 'Ginger', 'Sauté', 'Stir-Fry', 'Quick...</td>\n",
       "      <td>2004-08-20 04:00:00.000</td>\n",
       "      <td>Bulgogi</td>\n",
       "      <td>['Stir together soy sauce, sugar, sesame oil, ...</td>\n",
       "      <td>10.0</td>\n",
       "      <td>['1/4 cup soy sauce', '1 tablespoon sugar', '2...</td>\n",
       "      <td>7.0</td>\n",
       "      <td>4.375</td>\n",
       "      <td>1272.0</td>\n",
       "      <td>Korean Marinated Beef</td>\n",
       "    </tr>\n",
       "    <tr>\n",
       "      <th>9</th>\n",
       "      <td>9</td>\n",
       "      <td>602.0</td>\n",
       "      <td>['Salad', 'Mustard', 'Potato', 'Picnic', 'Lunc...</td>\n",
       "      <td>2008-10-23 22:24:26.000</td>\n",
       "      <td>Transform your picnic into un pique-nique to r...</td>\n",
       "      <td>['Chop enough parsley leaves to measure 1 tabl...</td>\n",
       "      <td>41.0</td>\n",
       "      <td>['6 long parsley sprigs, divided', '1 3/4 cups...</td>\n",
       "      <td>23.0</td>\n",
       "      <td>3.750</td>\n",
       "      <td>1696.0</td>\n",
       "      <td>Ham Persillade with Mustard Potato Salad and M...</td>\n",
       "    </tr>\n",
       "    <tr>\n",
       "      <th>10</th>\n",
       "      <td>10</td>\n",
       "      <td>256.0</td>\n",
       "      <td>['Milk/Cream', 'Dairy', 'Side', 'Thanksgiving'...</td>\n",
       "      <td>2004-08-20 04:00:00.000</td>\n",
       "      <td>Simmering the yams fills them with flavor and ...</td>\n",
       "      <td>['Heat oil in heavy large skillet over medium-...</td>\n",
       "      <td>5.0</td>\n",
       "      <td>['4 teaspoons olive oil', '1/2 cup finely chop...</td>\n",
       "      <td>4.0</td>\n",
       "      <td>3.750</td>\n",
       "      <td>30.0</td>\n",
       "      <td>Yams Braised with Cream, Rosemary and Nutmeg</td>\n",
       "    </tr>\n",
       "  </tbody>\n",
       "</table>\n",
       "</div>"
      ],
      "text/plain": [
       "    Unnamed: 0  calories                                         categories  \\\n",
       "1            1     403.0  ['Food Processor', 'Onion', 'Pork', 'Bake', 'B...   \n",
       "5            5     948.0  ['Sandwich', 'Food Processor', 'Tomato', 'Kid-...   \n",
       "8            8     170.0  ['Beef', 'Ginger', 'Sauté', 'Stir-Fry', 'Quick...   \n",
       "9            9     602.0  ['Salad', 'Mustard', 'Potato', 'Picnic', 'Lunc...   \n",
       "10          10     256.0  ['Milk/Cream', 'Dairy', 'Side', 'Thanksgiving'...   \n",
       "\n",
       "                       date  \\\n",
       "1   2004-08-20 04:00:00.000   \n",
       "5   2004-08-20 04:00:00.000   \n",
       "8   2004-08-20 04:00:00.000   \n",
       "9   2008-10-23 22:24:26.000   \n",
       "10  2004-08-20 04:00:00.000   \n",
       "\n",
       "                                                 desc  \\\n",
       "1   This uses the same ingredients found in boudin...   \n",
       "5   This recipe can be prepared in 45 minutes or l...   \n",
       "8                                             Bulgogi   \n",
       "9   Transform your picnic into un pique-nique to r...   \n",
       "10  Simmering the yams fills them with flavor and ...   \n",
       "\n",
       "                                           directions   fat  \\\n",
       "1   ['Combine first 9 ingredients in heavy medium ...  23.0   \n",
       "5   ['Mix basil, mayonnaise and butter in processo...  79.0   \n",
       "8   ['Stir together soy sauce, sugar, sesame oil, ...  10.0   \n",
       "9   ['Chop enough parsley leaves to measure 1 tabl...  41.0   \n",
       "10  ['Heat oil in heavy large skillet over medium-...   5.0   \n",
       "\n",
       "                                          ingredients  protein  rating  \\\n",
       "1   ['1 1/2 cups whipping cream', '2 medium onions...     18.0   4.375   \n",
       "5   ['2 1/2 cups (lightly packed) fresh basil leav...     19.0   4.375   \n",
       "8   ['1/4 cup soy sauce', '1 tablespoon sugar', '2...      7.0   4.375   \n",
       "9   ['6 long parsley sprigs, divided', '1 3/4 cups...     23.0   3.750   \n",
       "10  ['4 teaspoons olive oil', '1/2 cup finely chop...      4.0   3.750   \n",
       "\n",
       "    sodium                                              title  \n",
       "1   1439.0        Boudin Blanc Terrine with Red Onion Confit   \n",
       "5   1042.0                                     The Best Blts   \n",
       "8   1272.0                             Korean Marinated Beef   \n",
       "9   1696.0  Ham Persillade with Mustard Potato Salad and M...  \n",
       "10    30.0      Yams Braised with Cream, Rosemary and Nutmeg   "
      ]
     },
     "execution_count": 5,
     "metadata": {},
     "output_type": "execute_result"
    }
   ],
   "source": [
    "df.head()"
   ]
  },
  {
   "cell_type": "code",
   "execution_count": 6,
   "metadata": {},
   "outputs": [],
   "source": [
    "def clean_song(song):\n",
    "    cleaned_song = []\n",
    "    for line in song:\n",
    "        if not '[' in line and  not ']' in line:\n",
    "            for symbol in \",.?!''\\n\":\n",
    "                line = line.replace(symbol, '').lower()\n",
    "            cleaned_song.append(line)\n",
    "\n",
    "    return cleaned_song"
   ]
  },
  {
   "cell_type": "code",
   "execution_count": 7,
   "metadata": {
    "scrolled": false
   },
   "outputs": [],
   "source": [
    "def tokenize(song):\n",
    "    joined_song = ' '.join(song)\n",
    "    tokenized_song = sent_tokenize(joined_song)\n",
    "    \n",
    "    return tokenized_song"
   ]
  },
  {
   "cell_type": "code",
   "execution_count": 14,
   "metadata": {},
   "outputs": [],
   "source": [
    "from nltk.corpus import stopwords\n",
    "\n",
    "stopwords_list = stopwords.words('english')"
   ]
  },
  {
   "cell_type": "code",
   "execution_count": 15,
   "metadata": {},
   "outputs": [],
   "source": [
    "import string"
   ]
  },
  {
   "cell_type": "code",
   "execution_count": 16,
   "metadata": {},
   "outputs": [],
   "source": [
    "stopwords_list += list(string.punctuation)"
   ]
  },
  {
   "cell_type": "code",
   "execution_count": 17,
   "metadata": {},
   "outputs": [],
   "source": [
    "#add words that aren't in the NLTK stopwords list\n",
    "stopwords_list += ['cup','kosher','lb','oz','diced','sliced','pitted','peeled','seasoned','teaspoon','teaspoons','tablespoons', 'tablespoon', 'pound','cups','half','salt','pepper','chopped','bowl','directions','preheat','pieces','sliced','fresh','freshly','bunch','cut']\n",
    "stopwords_list+=['1','2','3','4','5','6','7','8','9','1/2','1/3','1/4','2/3','3/4','small','large','medium']"
   ]
  },
  {
   "cell_type": "code",
   "execution_count": 18,
   "metadata": {},
   "outputs": [],
   "source": [
    "from nltk.stem import PorterStemmer\n",
    "ps = PorterStemmer()"
   ]
  },
  {
   "cell_type": "code",
   "execution_count": null,
   "metadata": {},
   "outputs": [],
   "source": []
  },
  {
   "cell_type": "code",
   "execution_count": 19,
   "metadata": {},
   "outputs": [],
   "source": [
    "def process_article(article):\n",
    "    tokens = word_tokenize(article)\n",
    "    stopwords_removed = [token.lower() for token in tokens if token not in stopwords_list]\n",
    "    return stopwords_removed "
   ]
  },
  {
   "cell_type": "code",
   "execution_count": 20,
   "metadata": {},
   "outputs": [],
   "source": [
    "def tokenize(song):\n",
    "    joined_song = ' '.join(song)\n",
    "    tokenized_song = word_tokenize(joined_song)\n",
    "    \n",
    "    return tokenized_song"
   ]
  },
  {
   "cell_type": "code",
   "execution_count": 21,
   "metadata": {
    "scrolled": true
   },
   "outputs": [],
   "source": [
    "#df['a'] = df['a'].apply(lambda x: x + 1)\n",
    "df['Ingredient_join']=df['ingredients'].apply(lambda x:' '.join(x))\n",
    " \n",
    "# df['ingredients'].astype(str).str.cat(df['ingredients'],sep=' ')"
   ]
  },
  {
   "cell_type": "code",
   "execution_count": null,
   "metadata": {},
   "outputs": [],
   "source": []
  },
  {
   "cell_type": "code",
   "execution_count": 22,
   "metadata": {},
   "outputs": [],
   "source": [
    "#vectorize_list=df['Ingredient_join'].apply(lambda x: process_article(x))"
   ]
  },
  {
   "cell_type": "code",
   "execution_count": 23,
   "metadata": {},
   "outputs": [],
   "source": [
    "df['processed_words']=df['ingredients'].apply(lambda x: process_article(x))"
   ]
  },
  {
   "cell_type": "code",
   "execution_count": 24,
   "metadata": {},
   "outputs": [],
   "source": [
    "df['Ingredient_join']=df['processed_words'].apply(lambda x:' '.join(x))"
   ]
  },
  {
   "cell_type": "code",
   "execution_count": 25,
   "metadata": {},
   "outputs": [],
   "source": [
    "vectorize_list=df['Ingredient_join'].apply(lambda x: process_article(x))"
   ]
  },
  {
   "cell_type": "code",
   "execution_count": 26,
   "metadata": {},
   "outputs": [
    {
     "data": {
      "text/plain": [
       "\"whipping cream onions bay leaves whole cloves garlic clove crushed 1/8 ground nutmeg 'pinch dried thyme crumbled shallots minced butter trimmed boneless center pork loin sinew removed 1-inch chunks well chilled eggs purpose flour tawny port dried currants minced 'lettuce leaves 'cracked peppercorns 'minced parsley 'bay leaves 'french bread baguette slices olive oil red onions halved dried currants red wine vinegar canned chicken broth thyme dried crumbled sugar\""
      ]
     },
     "execution_count": 26,
     "metadata": {},
     "output_type": "execute_result"
    }
   ],
   "source": [
    "df[\"Ingredient_join\"][1]"
   ]
  },
  {
   "cell_type": "code",
   "execution_count": 27,
   "metadata": {},
   "outputs": [
    {
     "data": {
      "text/plain": [
       "8042"
      ]
     },
     "execution_count": 27,
     "metadata": {},
     "output_type": "execute_result"
    }
   ],
   "source": [
    "total_vocab = set()\n",
    "for comment in vectorize_list:\n",
    "    total_vocab.update(comment)\n",
    "len(total_vocab)"
   ]
  },
  {
   "cell_type": "code",
   "execution_count": 28,
   "metadata": {},
   "outputs": [],
   "source": [
    "articles_concat = []\n",
    "for article in vectorize_list:\n",
    "    articles_concat += article"
   ]
  },
  {
   "cell_type": "code",
   "execution_count": 29,
   "metadata": {},
   "outputs": [],
   "source": [
    "#articles_concat"
   ]
  },
  {
   "cell_type": "code",
   "execution_count": 30,
   "metadata": {
    "scrolled": false
   },
   "outputs": [],
   "source": [
    "articles_freqdist = FreqDist(articles_concat)\n",
    "#articles_freqdist.most_common(200)"
   ]
  },
  {
   "cell_type": "code",
   "execution_count": 31,
   "metadata": {},
   "outputs": [],
   "source": [
    "from sklearn.feature_extraction.text import TfidfVectorizer"
   ]
  },
  {
   "cell_type": "code",
   "execution_count": 32,
   "metadata": {},
   "outputs": [],
   "source": [
    "vectorizer = TfidfVectorizer()"
   ]
  },
  {
   "cell_type": "code",
   "execution_count": 33,
   "metadata": {},
   "outputs": [],
   "source": [
    "tf_idf_data_train = vectorizer.fit_transform(df['Ingredient_join'])"
   ]
  },
  {
   "cell_type": "code",
   "execution_count": 34,
   "metadata": {},
   "outputs": [
    {
     "data": {
      "text/plain": [
       "(10608, 5431)"
      ]
     },
     "execution_count": 34,
     "metadata": {},
     "output_type": "execute_result"
    }
   ],
   "source": [
    "tf_idf_data_train.shape"
   ]
  },
  {
   "cell_type": "code",
   "execution_count": 35,
   "metadata": {
    "scrolled": true
   },
   "outputs": [
    {
     "name": "stdout",
     "output_type": "stream",
     "text": [
      "Average Number of Non-Zero Elements in Vectorized Articles: 28.41223604826546\n",
      "Percentage of columns containing 0: 0.9947685074483031\n"
     ]
    }
   ],
   "source": [
    "non_zero_cols = tf_idf_data_train.nnz / float(tf_idf_data_train.shape[0])\n",
    "print(\"Average Number of Non-Zero Elements in Vectorized Articles: {}\".format(non_zero_cols))\n",
    "\n",
    "percent_sparse = 1 - (non_zero_cols / float(tf_idf_data_train.shape[1]))\n",
    "print('Percentage of columns containing 0: {}'.format(percent_sparse))"
   ]
  },
  {
   "cell_type": "code",
   "execution_count": 42,
   "metadata": {},
   "outputs": [],
   "source": [
    "import logging"
   ]
  },
  {
   "cell_type": "code",
   "execution_count": 43,
   "metadata": {
    "scrolled": true
   },
   "outputs": [
    {
     "data": {
      "text/plain": [
       "(10608, 5431)"
      ]
     },
     "execution_count": 43,
     "metadata": {},
     "output_type": "execute_result"
    }
   ],
   "source": [
    "tf_idf_data_train.shape"
   ]
  },
  {
   "cell_type": "code",
   "execution_count": 78,
   "metadata": {},
   "outputs": [],
   "source": [
    "texts=df['processed_words']"
   ]
  },
  {
   "cell_type": "code",
   "execution_count": 179,
   "metadata": {},
   "outputs": [],
   "source": [
    "from gensim.test.utils import common_corpus, common_dictionary, get_tmpfile\n",
    "index_tmpfile = get_tmpfile(\"index\")\n",
    "#query = [(1, 2), (6, 1), (7, 2)]\n",
    "\n",
    "#index = Similarity(index_tmpfile, common_corpus, num_features=len(common_dictionary))  # build the index\n",
    "#similarities = index[query]  # get similarities between the query and all index documents"
   ]
  },
  {
   "cell_type": "code",
   "execution_count": null,
   "metadata": {},
   "outputs": [],
   "source": [
    ">>> from gensim.test.utils import common_corpus, common_dictionary\n",
    ">>> from gensim.similarities import MatrixSimilarity\n",
    ">>>\n",
    ">>> query = [(1, 2), (5, 4)]\n",
    ">>> index = MatrixSimilarity(common_corpus, num_features=len(common_dictionary))\n",
    ">>> sims = index[query]"
   ]
  },
  {
   "cell_type": "code",
   "execution_count": 79,
   "metadata": {
    "scrolled": false
   },
   "outputs": [
    {
     "name": "stdout",
     "output_type": "stream",
     "text": [
      "<bound method Mapping.values of <gensim.corpora.dictionary.Dictionary object at 0x1a29fded68>>\n"
     ]
    }
   ],
   "source": [
    "from gensim import corpora\n",
    "dictionary = corpora.Dictionary(texts)\n",
    "#print(dictionary.token2id)\n",
    "print(dictionary.values)"
   ]
  },
  {
   "cell_type": "code",
   "execution_count": 106,
   "metadata": {
    "scrolled": true
   },
   "outputs": [
    {
     "name": "stdout",
     "output_type": "stream",
     "text": [
      "[(3, 1), (4, 1), (5, 1)]\n"
     ]
    }
   ],
   "source": [
    "new_doc= vectorize_list[1]\n",
    "new_vec = dictionary.doc2bow(new_doc)\n",
    "print(new_vec[3:6])"
   ]
  },
  {
   "cell_type": "code",
   "execution_count": 107,
   "metadata": {},
   "outputs": [],
   "source": [
    "trial=new_vec[3:6]"
   ]
  },
  {
   "cell_type": "code",
   "execution_count": 81,
   "metadata": {},
   "outputs": [],
   "source": [
    "corpus = [dictionary.doc2bow(text) for text in texts]"
   ]
  },
  {
   "cell_type": "code",
   "execution_count": 82,
   "metadata": {},
   "outputs": [
    {
     "name": "stdout",
     "output_type": "stream",
     "text": [
      "TfidfModel(num_docs=10608, num_nnz=295740)\n",
      "295740\n"
     ]
    }
   ],
   "source": [
    "tf_idf = gensim.models.TfidfModel(corpus)\n",
    "print(tf_idf)\n",
    "s = 0\n",
    "for i in corpus:\n",
    "    s += len(i)\n",
    "print(s)"
   ]
  },
  {
   "cell_type": "code",
   "execution_count": 83,
   "metadata": {},
   "outputs": [],
   "source": [
    "from gensim import models\n",
    "tfidf = models.TfidfModel(corpus)"
   ]
  },
  {
   "cell_type": "code",
   "execution_count": 102,
   "metadata": {},
   "outputs": [
    {
     "data": {
      "text/plain": [
       "<gensim.models.tfidfmodel.TfidfModel at 0x10548d160>"
      ]
     },
     "execution_count": 102,
     "metadata": {},
     "output_type": "execute_result"
    }
   ],
   "source": [
    "\n",
    "tfidf"
   ]
  },
  {
   "cell_type": "code",
   "execution_count": 85,
   "metadata": {},
   "outputs": [],
   "source": [
    "lsi = models.LsiModel(corpus, id2word=dictionary, num_topics=2)"
   ]
  },
  {
   "cell_type": "code",
   "execution_count": 86,
   "metadata": {},
   "outputs": [],
   "source": [
    "vec_lsi = lsi[new_vec] "
   ]
  },
  {
   "cell_type": "code",
   "execution_count": null,
   "metadata": {},
   "outputs": [],
   "source": [
    "\n"
   ]
  },
  {
   "cell_type": "code",
   "execution_count": 88,
   "metadata": {},
   "outputs": [],
   "source": [
    "from gensim import similarities\n",
    "index = similarities.SparseMatrixSimilarity(tfidf[corpus], num_features=12)"
   ]
  },
  {
   "cell_type": "code",
   "execution_count": 89,
   "metadata": {},
   "outputs": [],
   "source": [
    "index = similarities.MatrixSimilarity(lsi[corpus])"
   ]
  },
  {
   "cell_type": "code",
   "execution_count": 213,
   "metadata": {
    "scrolled": true
   },
   "outputs": [
    {
     "ename": "NameError",
     "evalue": "name 'w2v' is not defined",
     "output_type": "error",
     "traceback": [
      "\u001b[0;31m---------------------------------------------------------------------------\u001b[0m",
      "\u001b[0;31mNameError\u001b[0m                                 Traceback (most recent call last)",
      "\u001b[0;32m<ipython-input-213-a40e54e5c666>\u001b[0m in \u001b[0;36m<module>\u001b[0;34m\u001b[0m\n\u001b[0;32m----> 1\u001b[0;31m \u001b[0mword2index\u001b[0m \u001b[0;34m=\u001b[0m \u001b[0;34m{\u001b[0m\u001b[0mtoken\u001b[0m\u001b[0;34m:\u001b[0m \u001b[0mtoken_index\u001b[0m \u001b[0;32mfor\u001b[0m \u001b[0mtoken_index\u001b[0m\u001b[0;34m,\u001b[0m \u001b[0mtoken\u001b[0m \u001b[0;32min\u001b[0m \u001b[0menumerate\u001b[0m\u001b[0;34m(\u001b[0m\u001b[0mw2v\u001b[0m\u001b[0;34m.\u001b[0m\u001b[0mindex2word\u001b[0m\u001b[0;34m)\u001b[0m\u001b[0;34m}\u001b[0m\u001b[0;34m\u001b[0m\u001b[0;34m\u001b[0m\u001b[0m\n\u001b[0m\u001b[1;32m      2\u001b[0m \u001b[0mword2index\u001b[0m\u001b[0;34m[\u001b[0m\u001b[0;34m'hi'\u001b[0m\u001b[0;34m]\u001b[0m \u001b[0;34m==\u001b[0m \u001b[0;36m30308\u001b[0m  \u001b[0;31m# True\u001b[0m\u001b[0;34m\u001b[0m\u001b[0;34m\u001b[0m\u001b[0m\n",
      "\u001b[0;31mNameError\u001b[0m: name 'w2v' is not defined"
     ]
    }
   ],
   "source": [
    "word2index = {token: token_index for token_index, token in enumerate(w2v.index2word)} \n",
    "word2index['hi'] == 30308  # True"
   ]
  },
  {
   "cell_type": "code",
   "execution_count": 210,
   "metadata": {
    "scrolled": true
   },
   "outputs": [
    {
     "data": {
      "text/plain": [
       "1787"
      ]
     },
     "execution_count": 210,
     "metadata": {},
     "output_type": "execute_result"
    }
   ],
   "source": [
    "model.wv.vocab.get(query_doc[0]).index"
   ]
  },
  {
   "cell_type": "code",
   "execution_count": 215,
   "metadata": {},
   "outputs": [
    {
     "name": "stderr",
     "output_type": "stream",
     "text": [
      "/anaconda3/lib/python3.7/site-packages/ipykernel_launcher.py:1: DeprecationWarning: Call to deprecated `__getitem__` (Method will be removed in 4.0.0, use self.wv.__getitem__() instead).\n",
      "  \"\"\"Entry point for launching an IPython kernel.\n"
     ]
    },
    {
     "ename": "TypeError",
     "evalue": "'int' object is not iterable",
     "output_type": "error",
     "traceback": [
      "\u001b[0;31m---------------------------------------------------------------------------\u001b[0m",
      "\u001b[0;31mTypeError\u001b[0m                                 Traceback (most recent call last)",
      "\u001b[0;32m<ipython-input-215-e72ec9353a1d>\u001b[0m in \u001b[0;36m<module>\u001b[0;34m\u001b[0m\n\u001b[0;32m----> 1\u001b[0;31m \u001b[0mmodel\u001b[0m\u001b[0;34m[\u001b[0m\u001b[0;36m1787\u001b[0m\u001b[0;34m]\u001b[0m\u001b[0;34m\u001b[0m\u001b[0;34m\u001b[0m\u001b[0m\n\u001b[0m",
      "\u001b[0;32m/anaconda3/lib/python3.7/site-packages/gensim/utils.py\u001b[0m in \u001b[0;36mnew_func1\u001b[0;34m(*args, **kwargs)\u001b[0m\n\u001b[1;32m   1445\u001b[0m                     \u001b[0mstacklevel\u001b[0m\u001b[0;34m=\u001b[0m\u001b[0;36m2\u001b[0m\u001b[0;34m\u001b[0m\u001b[0;34m\u001b[0m\u001b[0m\n\u001b[1;32m   1446\u001b[0m                 )\n\u001b[0;32m-> 1447\u001b[0;31m                 \u001b[0;32mreturn\u001b[0m \u001b[0mfunc\u001b[0m\u001b[0;34m(\u001b[0m\u001b[0;34m*\u001b[0m\u001b[0margs\u001b[0m\u001b[0;34m,\u001b[0m \u001b[0;34m**\u001b[0m\u001b[0mkwargs\u001b[0m\u001b[0;34m)\u001b[0m\u001b[0;34m\u001b[0m\u001b[0;34m\u001b[0m\u001b[0m\n\u001b[0m\u001b[1;32m   1448\u001b[0m \u001b[0;34m\u001b[0m\u001b[0m\n\u001b[1;32m   1449\u001b[0m             \u001b[0;32mreturn\u001b[0m \u001b[0mnew_func1\u001b[0m\u001b[0;34m\u001b[0m\u001b[0;34m\u001b[0m\u001b[0m\n",
      "\u001b[0;32m/anaconda3/lib/python3.7/site-packages/gensim/models/word2vec.py\u001b[0m in \u001b[0;36m__getitem__\u001b[0;34m(self, words)\u001b[0m\n\u001b[1;32m   1119\u001b[0m \u001b[0;34m\u001b[0m\u001b[0m\n\u001b[1;32m   1120\u001b[0m         \"\"\"\n\u001b[0;32m-> 1121\u001b[0;31m         \u001b[0;32mreturn\u001b[0m \u001b[0mself\u001b[0m\u001b[0;34m.\u001b[0m\u001b[0mwv\u001b[0m\u001b[0;34m.\u001b[0m\u001b[0m__getitem__\u001b[0m\u001b[0;34m(\u001b[0m\u001b[0mwords\u001b[0m\u001b[0;34m)\u001b[0m\u001b[0;34m\u001b[0m\u001b[0;34m\u001b[0m\u001b[0m\n\u001b[0m\u001b[1;32m   1122\u001b[0m \u001b[0;34m\u001b[0m\u001b[0m\n\u001b[1;32m   1123\u001b[0m     \u001b[0;34m@\u001b[0m\u001b[0mdeprecated\u001b[0m\u001b[0;34m(\u001b[0m\u001b[0;34m\"Method will be removed in 4.0.0, use self.wv.__contains__() instead\"\u001b[0m\u001b[0;34m)\u001b[0m\u001b[0;34m\u001b[0m\u001b[0;34m\u001b[0m\u001b[0m\n",
      "\u001b[0;32m/anaconda3/lib/python3.7/site-packages/gensim/models/keyedvectors.py\u001b[0m in \u001b[0;36m__getitem__\u001b[0;34m(self, entities)\u001b[0m\n\u001b[1;32m    352\u001b[0m             \u001b[0;32mreturn\u001b[0m \u001b[0mself\u001b[0m\u001b[0;34m.\u001b[0m\u001b[0mget_vector\u001b[0m\u001b[0;34m(\u001b[0m\u001b[0mentities\u001b[0m\u001b[0;34m)\u001b[0m\u001b[0;34m\u001b[0m\u001b[0;34m\u001b[0m\u001b[0m\n\u001b[1;32m    353\u001b[0m \u001b[0;34m\u001b[0m\u001b[0m\n\u001b[0;32m--> 354\u001b[0;31m         \u001b[0;32mreturn\u001b[0m \u001b[0mvstack\u001b[0m\u001b[0;34m(\u001b[0m\u001b[0;34m[\u001b[0m\u001b[0mself\u001b[0m\u001b[0;34m.\u001b[0m\u001b[0mget_vector\u001b[0m\u001b[0;34m(\u001b[0m\u001b[0mentity\u001b[0m\u001b[0;34m)\u001b[0m \u001b[0;32mfor\u001b[0m \u001b[0mentity\u001b[0m \u001b[0;32min\u001b[0m \u001b[0mentities\u001b[0m\u001b[0;34m]\u001b[0m\u001b[0;34m)\u001b[0m\u001b[0;34m\u001b[0m\u001b[0;34m\u001b[0m\u001b[0m\n\u001b[0m\u001b[1;32m    355\u001b[0m \u001b[0;34m\u001b[0m\u001b[0m\n\u001b[1;32m    356\u001b[0m     \u001b[0;32mdef\u001b[0m \u001b[0m__contains__\u001b[0m\u001b[0;34m(\u001b[0m\u001b[0mself\u001b[0m\u001b[0;34m,\u001b[0m \u001b[0mentity\u001b[0m\u001b[0;34m)\u001b[0m\u001b[0;34m:\u001b[0m\u001b[0;34m\u001b[0m\u001b[0;34m\u001b[0m\u001b[0m\n",
      "\u001b[0;31mTypeError\u001b[0m: 'int' object is not iterable"
     ]
    }
   ],
   "source": [
    "model[1787]"
   ]
  },
  {
   "cell_type": "code",
   "execution_count": 212,
   "metadata": {},
   "outputs": [
    {
     "ename": "AttributeError",
     "evalue": "'list' object has no attribute 'vocab'",
     "output_type": "error",
     "traceback": [
      "\u001b[0;31m---------------------------------------------------------------------------\u001b[0m",
      "\u001b[0;31mAttributeError\u001b[0m                            Traceback (most recent call last)",
      "\u001b[0;32m<ipython-input-212-0d722199ec69>\u001b[0m in \u001b[0;36m<module>\u001b[0;34m\u001b[0m\n\u001b[1;32m      1\u001b[0m \u001b[0;34m\u001b[0m\u001b[0m\n\u001b[0;32m----> 2\u001b[0;31m \u001b[0mcorpus\u001b[0m\u001b[0;34m[\u001b[0m\u001b[0;36m1787\u001b[0m\u001b[0;34m]\u001b[0m\u001b[0;34m.\u001b[0m\u001b[0mvocab\u001b[0m\u001b[0;34m\u001b[0m\u001b[0;34m\u001b[0m\u001b[0m\n\u001b[0m",
      "\u001b[0;31mAttributeError\u001b[0m: 'list' object has no attribute 'vocab'"
     ]
    }
   ],
   "source": [
    "\n",
    "corpus[1787].vocab"
   ]
  },
  {
   "cell_type": "code",
   "execution_count": 90,
   "metadata": {
    "scrolled": true
   },
   "outputs": [
    {
     "name": "stdout",
     "output_type": "stream",
     "text": [
      "[(0, 4.736365050645086), (1, 1.0857745447595581)]\n"
     ]
    }
   ],
   "source": [
    "sims = index[vec_lsi]\n",
    "print(vec_lsi)\n"
   ]
  },
  {
   "cell_type": "code",
   "execution_count": 92,
   "metadata": {},
   "outputs": [],
   "source": [
    "sims = gensim.similarities.Similarity(texts,tf_idf[corpus],\n",
    "                                      num_features=len(dictionary))\n",
    "#print(sims)\n",
    "#print(type(sims))"
   ]
  },
  {
   "cell_type": "code",
   "execution_count": 97,
   "metadata": {
    "scrolled": false
   },
   "outputs": [
    {
     "name": "stdout",
     "output_type": "stream",
     "text": [
      "['lasagna']\n",
      "[(3725, 1)]\n",
      "[(3725, 1.0)]\n"
     ]
    }
   ],
   "source": [
    "query_doc = [w.lower() for w in word_tokenize(\"lasagna\")]\n",
    "print(query_doc)\n",
    "query_doc_bow = dictionary.doc2bow(query_doc)\n",
    "print(query_doc_bow)\n",
    "query_doc_tf_idf = tf_idf[query_doc_bow]\n",
    "print(query_doc_tf_idf)"
   ]
  },
  {
   "cell_type": "code",
   "execution_count": 61,
   "metadata": {},
   "outputs": [
    {
     "name": "stdout",
     "output_type": "stream",
     "text": [
      "[(0, 0.9990976), (1, 0.9989896), (2, 0.99075615), (3, 0.9573831), (4, 0.9771822), (5, 0.3724307), (6, 0.87395257), (7, 0.92717206), (8, 0.94329643), (9, 0.57668555), (10, 0.9401987), (11, 0.95449054), (12, 0.8921204), (13, 0.9992929), (14, 0.6469079), (15, 0.6043892), (16, 0.9210047), (17, 0.93413365), (18, 0.909341), (19, 0.7437564), (20, 0.6799887), (21, 0.9409225), (22, 0.95849246), (23, 0.9127256), (24, 0.99979985), (25, 0.6326435), (26, 0.8890683), (27, 0.928672), (28, 0.8064952), (29, 0.6359377), (30, 0.99376047), (31, 0.9283078), (32, 0.58285654), (33, 0.9053169), (34, 0.48425585), (35, 0.5568712), (36, 0.9929355), (37, 0.9389657), (38, 0.95256066), (39, 0.93845457), (40, 0.99897456), (41, 0.99993193), (42, 0.99992883), (43, 0.9384342), (44, 0.96663076), (45, 0.9695411), (46, 0.99387574), (47, 0.9741449), (48, 0.23695804), (49, 0.39125723), (50, 0.9990502), (51, 0.50965106), (52, 0.911705), (53, 0.950181), (54, 0.927956), (55, 0.9955795), (56, 0.6305574), (57, 0.90599936), (58, 0.89200455), (59, 0.9786732), (60, 0.8787763), (61, 0.33015049), (62, 0.4409412), (63, 0.97323585), (64, 0.99932915), (65, 0.84901416), (66, 0.99671173), (67, 0.54922897), (68, 0.33955655), (69, 0.98115486), (70, 0.88576466), (71, 0.96594286), (72, 0.998915), (73, 0.90028495), (74, 0.9584162), (75, 0.97859955), (76, 0.914456), (77, 0.93019056), (78, 0.9899703), (79, 0.45122665), (80, 0.99899983), (81, 0.34300694), (82, 0.4649748), (83, 0.9999818), (84, 0.9282871), (85, 0.9622911), (86, 0.97767407), (87, 0.99777275), (88, 0.98890835), (89, 0.5803595), (90, 0.9791), (91, 0.5509926), (92, 0.98586017), (93, 0.91660815), (94, 0.9345202), (95, 0.3727263), (96, 0.99083966), (97, 0.95972115), (98, 0.9134779), (99, 0.9829197), (100, 0.9830474), (101, 0.987962), (102, 0.9963345), (103, 0.97039473), (104, 0.99449474), (105, 0.96489966), (106, 0.528355), (107, 0.956956), (108, 0.38745588), (109, 0.99990475), (110, 0.9472034), (111, 0.9847363), (112, 0.92951936), (113, 0.96711266), (114, 0.9540783), (115, 0.92289305), (116, 0.46761766), (117, 0.9660849), (118, 0.99973667), (119, 0.94380134), (120, 0.585333), (121, 0.99275225), (122, 0.9983653), (123, 0.94977206), (124, 0.9540698), (125, 0.6220721), (126, 0.9908483), (127, 0.9987773), (128, 0.9931634), (129, 0.99990064), (130, 0.9507029), (131, 0.96504664), (132, 0.9546203), (133, 0.9488085), (134, 0.9721798), (135, 0.98011374), (136, 0.75869757), (137, 0.9949878), (138, 0.7283909), (139, 0.51574254), (140, 0.85311645), (141, 0.9887618), (142, 0.98612785), (143, 0.9052187), (144, 0.9190659), (145, 0.9788869), (146, 0.99733865), (147, 0.98362625), (148, 0.97766215), (149, 0.9999133), (150, 0.99791336), (151, 0.6468797), (152, 0.9935654), (153, 0.99462306), (154, 0.9055331), (155, 0.9786811), (156, 0.98247826), (157, 0.94391584), (158, 0.9992372), (159, 0.8737172), (160, 0.99354523), (161, 0.96578), (162, 0.52560306), (163, 0.9952988), (164, 0.9189974), (165, 0.6039323), (166, 0.8919684), (167, 0.98944306), (168, 0.3386684), (169, 0.54071647), (170, 0.94729894), (171, 0.983125), (172, 0.46133223), (173, 0.6828442), (174, 0.9711436), (175, 0.99917823), (176, 0.4085062), (177, 0.99865365), (178, 0.9183972), (179, 0.6932482), (180, 0.9513574), (181, 0.954929), (182, 0.9509888), (183, 0.99410456), (184, 0.9410043), (185, 0.99818945), (186, 0.87602514), (187, 0.93518966), (188, 0.9838493), (189, 0.94754887), (190, 0.77219915), (191, 0.94950926), (192, 0.9875955), (193, 0.9733365), (194, 0.8626281), (195, 0.49408), (196, 0.99906105), (197, 0.3941555), (198, 0.35793257), (199, 0.44734782), (200, 0.97124666), (201, 0.9331385), (202, 0.9990015), (203, 0.84994715), (204, 0.35138232), (205, 0.94639444), (206, 0.9250275), (207, 0.43863684), (208, 0.6741663), (209, 0.9391016), (210, 0.9873987), (211, 0.51203454), (212, 0.906852), (213, 0.7040287), (214, 0.84231514), (215, 0.7556478), (216, 0.99108857), (217, 0.99260116), (218, 0.9999032), (219, 0.99996793), (220, 0.5131016), (221, 0.8001348), (222, 0.99993414), (223, 0.80647135), (224, 0.78839934), (225, 0.9563353), (226, 0.92108583), (227, 0.98066723), (228, 0.9773945), (229, 0.5295116), (230, 0.9823209), (231, 0.7013772), (232, 0.9290217), (233, 0.92302334), (234, 0.46620518), (235, 0.99789095), (236, 0.9969426), (237, 0.97182983), (238, 0.94033027), (239, 0.9976673), (240, 0.9692594), (241, 0.9970206), (242, 0.97960985), (243, 0.7518395), (244, 0.9304974), (245, 0.9110799), (246, 0.9990714), (247, 0.9850934), (248, 0.63019633), (249, 0.98060256), (250, 0.9758796), (251, 0.45618188), (252, 0.7283567), (253, 0.9788337), (254, 0.8937645), (255, 0.9066147), (256, 0.99919665), (257, 0.49980122), (258, 0.983177), (259, 0.97668654), (260, 0.9486679), (261, 0.95611554), (262, 0.743484), (263, 0.4972384), (264, 0.9996696), (265, 0.9463007), (266, 0.8785442), (267, 0.9967062), (268, 0.9986438), (269, 0.9674974), (270, 0.9331972), (271, 0.96920586), (272, 0.99316645), (273, 0.9622244), (274, 0.930972), (275, 0.9841147), (276, 0.48596042), (277, 0.97448444), (278, 0.9521821), (279, 0.9916511), (280, 0.95113087), (281, 0.6288181), (282, 0.8894209), (283, 0.87602514), (284, 0.98218626), (285, 0.6981619), (286, 0.9691701), (287, 0.9997717), (288, 0.9999777), (289, 0.41167903), (290, 0.37437633), (291, 0.973956), (292, 0.59695417), (293, 0.85780764), (294, 0.9765594), (295, 0.99981564), (296, 0.9119154), (297, 0.9982414), (298, 0.95278233), (299, 0.9924736), (300, 0.9847368), (301, 0.99995315), (302, 0.97236705), (303, 0.9664132), (304, 0.97111434), (305, 0.92541975), (306, 0.9345003), (307, 0.56977296), (308, 0.99176097), (309, 0.98605597), (310, 0.9740926), (311, 0.4285128), (312, 0.9985378), (313, 0.46550995), (314, 0.9859165), (315, 0.88822937), (316, 0.49986145), (317, 0.9462054), (318, 0.93644285), (319, 0.88824624), (320, 0.8358196), (321, 0.2814356), (322, 0.9735925), (323, 0.9302906), (324, 0.25359607), (325, 0.3535253), (326, 0.8359018), (327, 0.9320875), (328, 0.9609442), (329, 0.70296246), (330, 0.40899605), (331, 0.8890683), (332, 0.9189719), (333, 0.32588267), (334, 0.93969727), (335, 0.95186615), (336, 0.9219533), (337, 0.98479056), (338, 0.9263602), (339, 0.944262), (340, 0.9998433), (341, 0.9969126), (342, 0.99606323), (343, 0.9647074), (344, 0.7889097), (345, 0.99933857), (346, 0.89648074), (347, 0.98640573), (348, 0.9992308), (349, 0.7700231), (350, 0.92345333), (351, 0.32448247), (352, 0.9964013), (353, 0.99946177), (354, 0.3542499), (355, 0.76102096), (356, 0.96922755), (357, 0.9790833), (358, 0.9009946), (359, 0.59076685), (360, 0.80519384), (361, 0.7554683), (362, 0.91075385), (363, 0.4073161), (364, 0.98017913), (365, 0.99661845), (366, 0.99325114), (367, 0.9432102), (368, 0.96364266), (369, 0.9992786), (370, 0.38821074), (371, 0.89854693), (372, 0.59698707), (373, 0.9859868), (374, 0.5120393), (375, 0.9081783), (376, 0.85776085), (377, 0.9616865), (378, 0.97341603), (379, 0.99149865), (380, 0.9177954), (381, 0.98933476), (382, 0.9984218), (383, 0.49165845), (384, 0.95726573), (385, 0.48471838), (386, 0.6764877), (387, 0.940311), (388, 0.5942798), (389, 0.9537191), (390, 0.9780321), (391, 1.0), (392, 0.29778907), (393, 0.9593918), (394, 0.6629917), (395, 0.9918726), (396, 0.9805064), (397, 0.9059832), (398, 0.95068747), (399, 0.9092716), (400, 0.9527948), (401, 0.8769939), (402, 0.99635285), (403, 0.5106971), (404, 0.8400864), (405, 0.97130615), (406, 0.9795316), (407, 0.9929345), (408, 0.9352998), (409, 0.9711129), (410, 0.9824619), (411, 0.9750897), (412, 0.9848369), (413, 0.97865087), (414, 0.9276772), (415, 0.95986474), (416, 0.9958796), (417, 0.9999878), (418, 0.952224), (419, 0.961589), (420, 0.9999244), (421, 0.87436277), (422, 0.8956867), (423, 0.99099064), (424, 0.5394243), (425, 0.9817432), (426, 0.92525816), (427, 0.9982261), (428, 0.9948208), (429, 0.9789404), (430, 0.94960153), (431, 0.9837841), (432, 0.7446847), (433, 0.99367666), (434, 0.84465784), (435, 0.9690169), (436, 0.63957036), (437, 0.9940475), (438, 0.93205154), (439, 0.99914753), (440, 0.5293689), (441, 0.7542963), (442, 0.8561914), (443, 0.9647527), (444, 0.7173473), (445, 0.9118656), (446, 0.98933476), (447, 0.9888769), (448, 0.9862938), (449, 0.98828804), (450, 0.99623007), (451, 0.9596338), (452, 0.95282173), (453, 0.47803205), (454, 0.94534147), (455, 0.84945804), (456, 0.7968622), (457, 0.5366638), (458, 0.93492675), (459, 0.8886414), (460, 0.98714465), (461, 0.8725444), (462, 0.8890282), (463, 0.5482809), (464, 0.8410016), (465, 0.9899703), (466, 0.94450784), (467, 0.94669515), (468, 0.99559605), (469, 0.6448878), (470, 0.5495132), (471, 0.8588372), (472, 0.3117662), (473, 0.90778714), (474, 0.8848429), (475, 0.9999871), (476, 0.95863926), (477, 0.42356277), (478, 0.35616153), (479, 0.7367907), (480, 0.62667996), (481, 0.8695069), (482, 0.8854659), (483, 0.9329001), (484, 0.95408374), (485, 0.450361), (486, 0.99812293), (487, 0.9906607), (488, 0.9680724), (489, 0.9822647), (490, 0.49063903), (491, 0.9991235), (492, 0.9998167), (493, 0.9406075), (494, 0.479802), (495, 0.42135465), (496, 0.802679), (497, 0.9812562), (498, 0.9884465), (499, 0.9730977), (500, 0.27744132), (501, 0.30390146), (502, 0.8062527), (503, 0.5016602), (504, 0.3590589), (505, 0.9445344), (506, 0.56337255), (507, 1.0), (508, 0.9722573), (509, 0.9813713), (510, 0.9818789), (511, 0.9980833), (512, 0.95553887), (513, 0.924233), (514, 0.9991424), (515, 0.951187), (516, 0.99656487), (517, 0.93078345), (518, 0.9603288), (519, 0.5692675), (520, 0.9945024), (521, 0.94281924), (522, 0.60446006), (523, 0.7068326), (524, 0.35277793), (525, 0.67597914), (526, 0.51207364), (527, 0.73095125), (528, 0.8443283), (529, 0.5656459), (530, 0.95982873), (531, 0.6623715), (532, 0.9641438), (533, 0.42323256), (534, 0.9987169), (535, 0.55695873), (536, 0.8924583), (537, 0.4274166), (538, 0.9782821), (539, 0.89018863), (540, 0.9402035), (541, 0.9597845), (542, 0.9567081), (543, 0.9971843), (544, 0.9737297), (545, 0.9927078), (546, 0.3924881), (547, 0.9998308), (548, 0.5194596), (549, 0.99973124), (550, 0.91184866), (551, 0.665158), (552, 0.99975085), (553, 0.9658568), (554, 0.57743454), (555, 0.9990482), (556, 0.97864103), (557, 0.5717967), (558, 0.92562664), (559, 0.957269), (560, 0.9764168), (561, 0.99963826), (562, 0.68125355), (563, 0.35410202), (564, 0.9927947), (565, 0.9139367), (566, 0.8961493), (567, 0.9988795), (568, 0.4216476), (569, 0.6256178), (570, 0.30068338), (571, 0.996258), (572, 0.9867949), (573, 0.95809317), (574, 0.5709739), (575, 0.90667725), (576, 0.5132805), (577, 0.46047783), (578, 0.8953549), (579, 0.8284351), (580, 0.9366779), (581, 0.9811094), (582, 0.71048295), (583, 0.70689803), (584, 0.9392996), (585, 0.42213446), (586, 0.9843023), (587, 0.9971308), (588, 0.9935766), (589, 0.9646409), (590, 0.9602724), (591, 0.5158547), (592, 0.44872397), (593, 0.97941726), (594, 0.98698586), (595, 0.4409412), (596, 0.6576722), (597, 0.93378365), (598, 0.6111806), (599, 0.9627877), (600, 0.87972933), (601, 0.9317422), (602, 0.9457147), (603, 0.9925616), (604, 0.9999838), (605, 0.37002307), (606, 0.9803611), (607, 0.99683446), (608, 0.98748857), (609, 0.9718001), (610, 0.80647135), (611, 0.9978269), (612, 0.63953596), (613, 0.752728), (614, 0.9515036), (615, 0.95838535), (616, 0.39431578), (617, 0.9442913), (618, 0.64960563), (619, 0.3590589), (620, 0.42660007), (621, 0.50713867), (622, 0.9903299), (623, 0.9862333), (624, 0.8585128), (625, 0.9889239), (626, 0.999225), (627, 0.4220196), (628, 0.96853876), (629, 0.99902666), (630, 0.96565), (631, 0.96599054), (632, 0.923879), (633, 0.9067063), (634, 0.38035196), (635, 0.9621564), (636, 0.98596007), (637, 0.50219166), (638, 0.3241086), (639, 0.6067722), (640, 0.8772175), (641, 0.956851), (642, 0.99535936), (643, 0.9853493), (644, 0.8076656), (645, 0.9993804), (646, 0.60786176), (647, 0.92746896), (648, 0.70040536), (649, 0.5716291), (650, 0.95037293), (651, 0.98366), (652, 0.9999582), (653, 0.99703205), (654, 0.86127496), (655, 0.9821194), (656, 0.44834384), (657, 0.4039809), (658, 0.7154227), (659, 0.9755663), (660, 0.9474175), (661, 0.48863214), (662, 0.9907188), (663, 0.9991484), (664, 0.9288222), (665, 0.99992615), (666, 0.9996099), (667, 0.9265438), (668, 0.79262865), (669, 0.6493775), (670, 0.54539955), (671, 0.86004037), (672, 0.9993452), (673, 0.9292366), (674, 0.9800439), (675, 0.9442726), (676, 0.9409432), (677, 0.9986235), (678, 0.98741364), (679, 0.92684567), (680, 0.51775706), (681, 0.46330535), (682, 0.7540079), (683, 0.96599054), (684, 0.9986919), (685, 0.99993294), (686, 0.44567892), (687, 0.98384535), (688, 0.96271276), (689, 0.98394126), (690, 0.8999), (691, 0.88921463), (692, 0.8869078), (693, 0.64904624), (694, 0.99950725), (695, 0.93303144), (696, 0.98320806), (697, 0.89271235), (698, 0.99320096), (699, 0.98206246), (700, 0.69910276), (701, 0.9884874), (702, 0.97278816), (703, 0.9999255), (704, 0.56461275), (705, 0.8152361), (706, 0.38926426), (707, 0.93741447), (708, 0.98803425), (709, 0.40272987), (710, 0.9649226), (711, 0.5891106), (712, 0.99999344), (713, 0.8770557), (714, 0.9221041), (715, 0.40472883), (716, 0.99647546), (717, 0.5064609), (718, 0.92648536), (719, 0.9947395), (720, 0.89527833), (721, 0.99545926), (722, 0.9996087), (723, 0.44779897), (724, 0.39646715), (725, 0.99916023), (726, 0.46157366), (727, 0.9487747), (728, 0.9997954), (729, 0.97460175), (730, 0.46685958), (731, 0.9831058), (732, 0.9570354), (733, 0.9966555), (734, 0.99681836), (735, 0.9974997), (736, 0.9998295), (737, 0.93909824), (738, 0.99953085), (739, 0.6029979), (740, 0.49891824), (741, 0.96126735), (742, 0.9898893), (743, 0.9929154), (744, 0.9323652), (745, 0.9999998), (746, 0.8185471), (747, 0.97534585), (748, 0.98533267), (749, 0.89851797), (750, 0.94252676), (751, 0.97953266), (752, 0.9637165), (753, 0.9634708), (754, 0.7889097), (755, 0.91977787), (756, 0.96621853), (757, 0.9920285), (758, 0.9975078), (759, 0.99764585), (760, 0.93934953), (761, 0.62326354), (762, 0.7542856), (763, 0.9793914), (764, 0.97237873), (765, 0.9822289), (766, 0.8098895), (767, 0.9994131), (768, 0.93577224), (769, 0.989282), (770, 0.95039046), (771, 0.9270391), (772, 0.44412398), (773, 0.90866506), (774, 0.3950703), (775, 0.3486941), (776, 0.37529618), (777, 0.96435547), (778, 0.8544368), (779, 0.98086435), (780, 0.99878615), (781, 0.98801684), (782, 0.919984), (783, 0.9584891), (784, 0.8978996), (785, 0.9693091), (786, 0.92306805), (787, 0.92351806), (788, 0.37535265), (789, 0.98688513), (790, 0.9090347), (791, 0.94502556), (792, 0.99987215), (793, 0.98818636), (794, 0.99462175), (795, 0.56654596), (796, 0.95484924), (797, 0.8921983), (798, 0.98644936), (799, 0.9971532), (800, 0.85314095), (801, 0.9089509), (802, 0.34593558), (803, 0.99897933), (804, 0.95651096), (805, 0.9083383), (806, 0.52163625), (807, 0.9134433), (808, 0.99995184), (809, 0.97970134), (810, 0.85285175), (811, 0.95747733), (812, 0.47817117), (813, 0.9742254), (814, 0.9854877), (815, 0.92718714), (816, 0.99968207), (817, 0.99696714), (818, 0.9567081), (819, 0.86923933), (820, 0.98506355), (821, 0.88926095), (822, 0.5163889), (823, 0.8395606), (824, 0.9820122), (825, 0.9955969), (826, 0.97229815), (827, 0.72462), (828, 0.94249374), (829, 0.85780174), (830, 0.8112277), (831, 0.9957809), (832, 0.98844427), (833, 0.94914013), (834, 0.4180188), (835, 0.9512497), (836, 0.99512255), (837, 0.9371002), (838, 0.96594286), (839, 0.9674875), (840, 0.98896617), (841, 0.99553144), (842, 0.52167857), (843, 0.9916806), (844, 0.99538064), (845, 0.96940863), (846, 0.93391573), (847, 0.9998378), (848, 0.9831621), (849, 0.49585086), (850, 0.96352005), (851, 0.99999624), (852, 0.9915021), (853, 0.9987828), (854, 0.977291), (855, 0.9116779), (856, 0.89640194), (857, 0.94255143), (858, 0.98654914), (859, 0.97955304), (860, 0.99415106), (861, 0.9996087), (862, 0.9396908), (863, 0.97888243), (864, 0.6338586), (865, 0.82467985), (866, 0.96100116), (867, 0.9408299), (868, 0.42432973), (869, 0.52545637), (870, 0.92167884), (871, 0.9969167), (872, 0.3743966), (873, 0.9706569), (874, 0.88060796), (875, 0.9782395), (876, 0.7849575), (877, 0.9436706), (878, 0.99427766), (879, 0.6771535), (880, 0.98476243), (881, 0.9797558), (882, 0.430073), (883, 0.9907075), (884, 0.96588624), (885, 0.9720057), (886, 0.8664018), (887, 0.95157456), (888, 0.99327606), (889, 0.97588843), (890, 0.9990267), (891, 0.9661744), (892, 0.9922537), (893, 0.94912934), (894, 0.86817783), (895, 0.977412), (896, 0.9466186), (897, 0.81785023), (898, 0.9545722), (899, 0.37993005), (900, 0.94906235), (901, 0.9600431), (902, 0.8911566), (903, 0.9395031), (904, 0.99819714), (905, 0.95671123), (906, 0.3085708), (907, 0.9878366), (908, 0.96210074), (909, 0.7177022), (910, 0.9908194), (911, 0.5036654), (912, 0.5937825), (913, 0.48610312), (914, 0.5848), (915, 0.88129103), (916, 0.9081905), (917, 0.99934435), (918, 0.96848613), (919, 0.96304363), (920, 0.99743855), (921, 0.76353323), (922, 0.9949311), (923, 0.9772543), (924, 0.97901845), (925, 0.9584891), (926, 0.49811167), (927, 0.9899309), (928, 0.37332785), (929, 0.9702269), (930, 0.33529848), (931, 0.95710653), (932, 0.9654152), (933, 0.998015), (934, 0.97192585), (935, 0.97448444), (936, 0.92463565), (937, 0.9573462), (938, 0.900995), (939, 0.39727092), (940, 0.9325743), (941, 0.66887516), (942, 0.9571674), (943, 0.48370445), (944, 0.5260332), (945, 0.9552636), (946, 0.94513905), (947, 0.52926916), (948, 0.46173882), (949, 0.90819085), (950, 0.99676275), (951, 0.51867974), (952, 0.99691224), (953, 0.93396324), (954, 0.947194), (955, 0.932848), (956, 0.9877799), (957, 0.9594313), (958, 0.9609659), (959, 0.9958333), (960, 0.9875763), (961, 0.92029), (962, 0.99669677), (963, 0.9177352), (964, 0.9990467), (965, 0.97101), (966, 0.9317431), (967, 0.9578217), (968, 0.99326825), (969, 0.56842554), (970, 0.78215826), (971, 0.5808126), (972, 0.9231), (973, 0.97447664), (974, 0.99960744), (975, 0.872442), (976, 0.3753079), (977, 1.0), (978, 0.9708488), (979, 0.58928895), (980, 0.9512559), (981, 0.9999241), (982, 0.9919419), (983, 0.6417192), (984, 0.91255593), (985, 0.98714334), (986, 0.99171805), (987, 0.98505884), (988, 0.9955746), (989, 0.69035506), (990, 0.40272963), (991, 0.993497), (992, 0.33357844), (993, 0.54234713), (994, 0.9777049), (995, 0.95726454), (996, 0.76211154), (997, 0.68878764), (998, 0.7424945), (999, 0.9720165), (1000, 0.7934509), (1001, 0.46991742), (1002, 0.99440265), (1003, 0.9975048), (1004, 0.9066832), (1005, 0.31346366), (1006, 0.99779004), (1007, 0.9902328), (1008, 0.9425253), (1009, 0.98897636), (1010, 0.990576), (1011, 0.44674706), (1012, 0.9837067), (1013, 0.7378521), (1014, 0.7482496), (1015, 0.5066844), (1016, 0.97795933), (1017, 0.6661631), (1018, 0.9967299), (1019, 0.98363495), (1020, 0.9439906), (1021, 0.46328133), (1022, 0.5772402), (1023, 0.76986253), (1024, 0.7110582), (1025, 0.9907939), (1026, 0.8894496), (1027, 0.50896233), (1028, 0.999687), (1029, 0.36594936), (1030, 0.9989756), (1031, 0.9880605), (1032, 0.9543978), (1033, 0.44252324), (1034, 0.79866993), (1035, 0.53963923), (1036, 0.9999552), (1037, 0.9977339), (1038, 0.6562985), (1039, 0.88953304), (1040, 0.99407107), (1041, 0.8816276), (1042, 0.9979077), (1043, 0.9462054), (1044, 0.90329236), (1045, 0.6588309), (1046, 0.9756405), (1047, 0.773057), (1048, 0.99465084), (1049, 0.62855333), (1050, 0.8913262), (1051, 0.9707029), (1052, 0.99547434), (1053, 0.9749553), (1054, 0.34546968), (1055, 0.96226823), (1056, 0.9908726), (1057, 0.99533254), (1058, 0.9587555), (1059, 0.9685382), (1060, 0.9731961), (1061, 0.3076603), (1062, 0.6144438), (1063, 0.9644078), (1064, 0.9769448), (1065, 0.43580282), (1066, 0.39222783), (1067, 0.9633454), (1068, 0.89325744), (1069, 0.97638583), (1070, 0.52159595), (1071, 0.9991678), (1072, 0.9837264), (1073, 0.50906116), (1074, 0.81947196), (1075, 0.9835341), (1076, 0.98823744), (1077, 0.99999565), (1078, 0.99046135), (1079, 0.9978601), (1080, 0.96241647), (1081, 0.8516593), (1082, 0.8215595), (1083, 0.9549332), (1084, 0.9813751), (1085, 0.96425694), (1086, 0.91169786), (1087, 0.84518236), (1088, 0.67322135), (1089, 0.99946594), (1090, 0.9579842), (1091, 0.99822265), (1092, 0.9771433), (1093, 0.8994915), (1094, 0.49102873), (1095, 0.82533413), (1096, 0.2814356), (1097, 0.9745353), (1098, 0.9858549), (1099, 0.9112397), (1100, 0.9876318), (1101, 0.4809091), (1102, 0.9709023), (1103, 0.99803644), (1104, 0.86242145), (1105, 0.37909997), (1106, 0.9537), (1107, 0.9669828), (1108, 0.9996886), (1109, 0.99680775), (1110, 0.9997118), (1111, 0.75928515), (1112, 0.91276306), (1113, 0.939582), (1114, 0.8645701), (1115, 0.94359595), (1116, 0.44012976), (1117, 0.9980219), (1118, 0.9726938), (1119, 0.96163213), (1120, 0.9171828), (1121, 0.94349825), (1122, 0.9885775), (1123, 0.96318746), (1124, 0.9872671), (1125, 0.9924519), (1126, 0.97267765), (1127, 0.89381343), (1128, 0.9499038), (1129, 0.48969826), (1130, 0.31459057), (1131, 0.9881567), (1132, 0.9610169), (1133, 0.92161995), (1134, 0.99953914), (1135, 0.99980706), (1136, 0.89689666), (1137, 0.90742964), (1138, 0.9944795), (1139, 0.4697495), (1140, 0.9850577), (1141, 0.7884756), (1142, 0.91327816), (1143, 0.5460576), (1144, 0.86618835), (1145, 0.99647117), (1146, 0.9959678), (1147, 0.95069444), (1148, 0.76435894), (1149, 0.9961178), (1150, 0.99651885), (1151, 0.91716707), (1152, 0.4787709), (1153, 0.84754676), (1154, 0.6968078), (1155, 0.9614396), (1156, 0.99943477), (1157, 0.96991897), (1158, 0.9089319), (1159, 0.9492127), (1160, 0.9503324), (1161, 0.9990082), (1162, 0.35918564), (1163, 0.9924025), (1164, 0.97272635), (1165, 0.896469), (1166, 0.8707631), (1167, 0.9294667), (1168, 0.49665755), (1169, 0.95703244), (1170, 0.9837581), (1171, 0.94844675), (1172, 0.97233135), (1173, 0.95728564), (1174, 0.99847823), (1175, 0.99623364), (1176, 0.9694194), (1177, 0.98324764), (1178, 0.9478642), (1179, 0.9979188), (1180, 0.9806565), (1181, 0.9979205), (1182, 0.9807483), (1183, 0.8874205), (1184, 0.93916523), (1185, 0.9992487), (1186, 0.5550697), (1187, 0.9652694), (1188, 0.435619), (1189, 0.9957655), (1190, 0.84709764), (1191, 0.98963803), (1192, 0.97436583), (1193, 0.980279), (1194, 0.9688131), (1195, 0.55676913), (1196, 0.58159846), (1197, 0.47006643), (1198, 0.673478), (1199, 0.5495132), (1200, 0.4262988), (1201, 0.9076561), (1202, 0.37909997), (1203, 0.4605015), (1204, 0.9977677), (1205, 0.40938196), (1206, 0.5079674), (1207, 0.9840407), (1208, 0.7901708), (1209, 0.6265093), (1210, 0.99383724), (1211, 0.9889598), (1212, 0.8710773), (1213, 0.7094902), (1214, 0.89396125), (1215, 0.42067587), (1216, 0.9252813), (1217, 0.9998607), (1218, 0.93031836), (1219, 0.9717744), (1220, 0.95840377), (1221, 0.8137741), (1222, 0.9867317), (1223, 0.45272326), (1224, 0.63789535), (1225, 0.910313), (1226, 0.5792571), (1227, 0.5781534), (1228, 0.34189588), (1229, 0.4872757), (1230, 0.9579997), (1231, 0.9721798), (1232, 0.9990972), (1233, 0.99718606), (1234, 0.47026485), (1235, 0.3621965), (1236, 0.97629976), (1237, 0.9481734), (1238, 0.98913604), (1239, 0.9962288), (1240, 0.8715811), (1241, 0.99354), (1242, 0.9998723), (1243, 0.9865957), (1244, 0.8978632), (1245, 0.97041255), (1246, 0.9787669), (1247, 0.9522133), (1248, 0.9424272), (1249, 0.98071945), (1250, 0.9958717), (1251, 0.9483073), (1252, 0.90173984), (1253, 0.48098332), (1254, 0.9995955), (1255, 0.84914154), (1256, 0.9960605), (1257, 0.9990573), (1258, 0.8932194), (1259, 0.98943055), (1260, 0.7714532), (1261, 0.7011182), (1262, 0.99656385), (1263, 0.9271192), (1264, 0.99667513), (1265, 0.7010747), (1266, 0.8944123), (1267, 0.42115483), (1268, 0.5001315), (1269, 0.9636997), (1270, 0.46763784), (1271, 0.9540975), (1272, 0.59936947), (1273, 0.9326445), (1274, 0.9185241), (1275, 0.41800275), (1276, 0.7322808), (1277, 0.9442713), (1278, 0.95145845), (1279, 0.8609857), (1280, 0.65486985), (1281, 0.9760363), (1282, 0.21851219), (1283, 0.9611759), (1284, 0.9717065), (1285, 0.9997891), (1286, 0.9159682), (1287, 0.9943917), (1288, 0.9998463), (1289, 0.8516593), (1290, 0.9903107), (1291, 0.42459196), (1292, 0.8938038), (1293, 0.8643741), (1294, 0.78024346), (1295, 0.92118454), (1296, 0.98031074), (1297, 0.9996903), (1298, 0.44351396), (1299, 0.87757254), (1300, 0.99969935), (1301, 0.98490924), (1302, 0.89170295), (1303, 0.99977887), (1304, 0.9894864), (1305, 0.95703244), (1306, 0.9976247), (1307, 0.9392349), (1308, 0.97203726), (1309, 0.93524414), (1310, 0.9846319), (1311, 0.43823642), (1312, 0.9999134), (1313, 0.7552552), (1314, 0.990915), (1315, 0.99821204), (1316, 0.97935486), (1317, 0.9436885), (1318, 0.9551573), (1319, 0.83609396), (1320, 0.95546484), (1321, 0.73763794), (1322, 0.47553164), (1323, 0.9001715), (1324, 0.44351396), (1325, 0.9665977), (1326, 0.8811387), (1327, 0.5456407), (1328, 0.6771535), (1329, 0.9989128), (1330, 0.95065504), (1331, 0.957045), (1332, 0.52548194), (1333, 0.909869), (1334, 0.92299944), (1335, 0.99328566), (1336, 0.95893085), (1337, 0.85536176), (1338, 0.9992726), (1339, 0.3255099), (1340, 0.9645798), (1341, 0.5885776), (1342, 0.99165255), (1343, 0.98532826), (1344, 0.95566016), (1345, 0.3637693), (1346, 0.9875058), (1347, 0.96806955), (1348, 0.75953895), (1349, 0.98578674), (1350, 0.98071617), (1351, 0.5953838), (1352, 0.99895674), (1353, 0.9747747), (1354, 0.98136246), (1355, 0.9779156), (1356, 0.6326435), (1357, 0.7269107), (1358, 0.98283756), (1359, 0.9655081), (1360, 0.9969993), (1361, 0.9738394), (1362, 0.9594031), (1363, 0.47142035), (1364, 0.9965303), (1365, 0.99868876), (1366, 0.5142611), (1367, 0.5591561), (1368, 0.9344423), (1369, 0.9996863), (1370, 0.39706674), (1371, 0.9448784), (1372, 0.9792323), (1373, 0.8841853), (1374, 0.8835524), (1375, 0.9824395), (1376, 0.97757983), (1377, 0.90707916), (1378, 0.9993235), (1379, 0.7094625), (1380, 0.9533612), (1381, 0.95695597), (1382, 0.87431437), (1383, 0.99983567), (1384, 0.9937402), (1385, 0.94525707), (1386, 0.94387263), (1387, 0.7937909), (1388, 0.52567637), (1389, 0.4102366), (1390, 0.978955), (1391, 0.4733587), (1392, 0.98954195), (1393, 0.52835107), (1394, 0.8814892), (1395, 0.80505794), (1396, 0.9988448), (1397, 0.99792564), (1398, 0.9201001), (1399, 0.997641), (1400, 0.97943115), (1401, 0.99762315), (1402, 0.9286765), (1403, 0.67363805), (1404, 0.27914953), (1405, 0.9862843), (1406, 0.88227695), (1407, 0.75869596), (1408, 0.9859997), (1409, 0.9889313), (1410, 0.69140965), (1411, 0.9178399), (1412, 0.65348417), (1413, 0.50755334), (1414, 0.9733365), (1415, 0.6172164), (1416, 0.97118217), (1417, 0.9736662), (1418, 0.90499735), (1419, 0.4394009), (1420, 0.91653043), (1421, 0.99839616), (1422, 0.38080764), (1423, 0.9726057), (1424, 0.9771614), (1425, 0.8217666), (1426, 0.95995575), (1427, 0.99837613), (1428, 0.8916167), (1429, 0.8691125), (1430, 0.9727334), (1431, 0.9974393), (1432, 0.9988557), (1433, 0.9961329), (1434, 0.9999112), (1435, 0.60799295), (1436, 0.9922358), (1437, 0.9685871), (1438, 0.95719045), (1439, 0.53466785), (1440, 0.98080707), (1441, 0.98736006), (1442, 0.52348006), (1443, 0.71254873), (1444, 0.8085783), (1445, 0.9824932), (1446, 0.97693104), (1447, 0.48808455), (1448, 0.42630225), (1449, 0.99989504), (1450, 0.9681162), (1451, 0.9888176), (1452, 0.9324801), (1453, 0.9406124), (1454, 0.47026485), (1455, 0.99387234), (1456, 0.9748116), (1457, 0.99463457), (1458, 0.93267405), (1459, 0.82437766), (1460, 0.93843514), (1461, 0.5073043), (1462, 0.8749422), (1463, 0.9782108), (1464, 0.989954), (1465, 0.99990803), (1466, 0.97899467), (1467, 0.9997493), (1468, 0.99637574), (1469, 0.54267275), (1470, 0.9671452), (1471, 0.74451524), (1472, 0.68753856), (1473, 0.8837234), (1474, 0.971497), (1475, 0.8725036), (1476, 0.9860141), (1477, 0.9675436), (1478, 0.98875576), (1479, 0.99944204), (1480, 0.40341705), (1481, 0.5570413), (1482, 0.9696701), (1483, 0.95809877), (1484, 0.9634708), (1485, 0.9786811), (1486, 0.9108386), (1487, 0.45803723), (1488, 0.98097396), (1489, 0.97306097), (1490, 0.8988891), (1491, 0.3017963), (1492, 0.9333906), (1493, 0.9334184), (1494, 0.9788022), (1495, 0.4123104), (1496, 0.9846947), (1497, 0.774059), (1498, 0.91880137), (1499, 0.986747), (1500, 0.8839287), (1501, 0.89776105), (1502, 0.9834653), (1503, 0.7688911), (1504, 0.9865433), (1505, 0.9852232), (1506, 0.7322808), (1507, 0.36655143), (1508, 0.9533673), (1509, 0.99977136), (1510, 0.93905574), (1511, 0.6066403), (1512, 0.8860966), (1513, 0.97788), (1514, 0.98226184), (1515, 0.9997639), (1516, 0.7955868), (1517, 0.45281643), (1518, 0.93874276), (1519, 0.994427), (1520, 0.92974013), (1521, 0.3921108), (1522, 0.90398663), (1523, 0.3270039), (1524, 0.5380835), (1525, 0.8992402), (1526, 0.92286515), (1527, 0.99365187), (1528, 0.92603946), (1529, 0.9974481), (1530, 0.47597364), (1531, 0.9943626), (1532, 0.6780068), (1533, 0.99949926), (1534, 0.94366395), (1535, 0.99971145), (1536, 0.35120976), (1537, 0.43048388), (1538, 0.6507644), (1539, 0.9849818), (1540, 0.99944144), (1541, 0.7830657), (1542, 0.99863386), (1543, 0.9677119), (1544, 0.99839747), (1545, 0.9833956), (1546, 0.75236815), (1547, 0.99699897), (1548, 0.9654149), (1549, 0.95297116), (1550, 0.9716987), (1551, 0.9980112), (1552, 0.9506576), (1553, 0.4729194), (1554, 0.96946895), (1555, 0.67945737), (1556, 0.99940956), (1557, 0.93288326), (1558, 0.94319135), (1559, 0.94502467), (1560, 0.9223366), (1561, 0.80057466), (1562, 0.9825607), (1563, 0.9027197), (1564, 0.6659263), (1565, 0.94640774), (1566, 0.94600433), (1567, 0.65431744), (1568, 0.7598823), (1569, 0.989023), (1570, 0.9912358), (1571, 0.7779072), (1572, 0.9156275), (1573, 0.983674), (1574, 0.9157727), (1575, 0.9747345), (1576, 0.99056274), (1577, 0.44848198), (1578, 0.9974636), (1579, 0.90420854), (1580, 0.71240693), (1581, 0.97257817), (1582, 0.99680185), (1583, 0.45749938), (1584, 0.9927788), (1585, 0.9187511), (1586, 0.619452), (1587, 0.5799096), (1588, 0.9877951), (1589, 0.9603345), (1590, 0.99271613), (1591, 0.99177015), (1592, 0.7010747), (1593, 0.98483336), (1594, 0.91560733), (1595, 0.9999659), (1596, 0.99993503), (1597, 0.81983304), (1598, 0.70505905), (1599, 0.97829527), (1600, 0.99953747), (1601, 0.99874395), (1602, 0.93602586), (1603, 0.99984586), (1604, 0.6071472), (1605, 0.96665746), (1606, 0.9916331), (1607, 0.941787), (1608, 0.85929215), (1609, 0.4262988), (1610, 0.9785148), (1611, 0.899779), (1612, 0.9990507), (1613, 0.7552277), (1614, 0.48567316), (1615, 0.8914784), (1616, 0.9990987), (1617, 0.4354666), (1618, 0.5609442), (1619, 0.95617795), (1620, 0.93879116), (1621, 0.4694252), (1622, 0.92077684), (1623, 0.48795247), (1624, 0.96484), (1625, 0.70026743), (1626, 0.99345446), (1627, 0.9877338), (1628, 0.93212545), (1629, 0.9868543), (1630, 0.9905551), (1631, 0.95280594), (1632, 0.99703735), (1633, 0.95166963), (1634, 0.99844635), (1635, 0.5970142), (1636, 0.9769976), (1637, 0.9279482), (1638, 0.94958687), (1639, 0.95224124), (1640, 0.97102296), (1641, 0.6326522), (1642, 0.4900782), (1643, 0.93483186), (1644, 0.95343256), (1645, 0.9806316), (1646, 0.84945804), (1647, 0.8682714), (1648, 0.9058474), (1649, 0.8108276), (1650, 0.9430299), (1651, 0.9724026), (1652, 0.59450823), (1653, 0.42126024), (1654, 0.93533665), (1655, 0.48442233), (1656, 0.99205923), (1657, 0.39514807), (1658, 0.3993278), (1659, 0.9007258), (1660, 0.9968971), (1661, 0.8738536), (1662, 0.9634457), (1663, 0.58786255), (1664, 0.90300065), (1665, 0.8226272), (1666, 0.99944496), (1667, 0.9679146), (1668, 0.88365203), (1669, 0.66907823), (1670, 0.95809317), (1671, 0.9351262), (1672, 0.96296626), (1673, 0.8862684), (1674, 0.5787186), (1675, 0.8813239), (1676, 0.70687485), (1677, 0.9419057), (1678, 0.9818571), (1679, 0.54684293), (1680, 0.9853838), (1681, 0.33538193), (1682, 0.9949782), (1683, 0.9874373), (1684, 0.9848589), (1685, 0.99404794), (1686, 0.9753941), (1687, 0.49552393), (1688, 0.9474299), (1689, 0.9999544), (1690, 0.88873637), (1691, 0.9925214), (1692, 0.961191), (1693, 0.6016806), (1694, 0.9835501), (1695, 0.8837616), (1696, 0.9855765), (1697, 0.99986845), (1698, 0.985978), (1699, 0.98754305), (1700, 0.9664947), (1701, 0.93458354), (1702, 0.901066), (1703, 0.9995327), (1704, 0.94483954), (1705, 0.9982871), (1706, 0.766141), (1707, 0.99007887), (1708, 0.9840186), (1709, 0.9996875), (1710, 0.9271631), (1711, 0.9808729), (1712, 0.51619613), (1713, 0.95980084), (1714, 0.99536026), (1715, 0.9906235), (1716, 0.58250725), (1717, 0.9770913), (1718, 0.9952121), (1719, 0.83472836), (1720, 0.9923708), (1721, 0.92716247), (1722, 0.94750655), (1723, 0.93792796), (1724, 0.9964838), (1725, 0.89282584), (1726, 0.9224791), (1727, 0.944351), (1728, 0.95701486), (1729, 0.91943955), (1730, 0.9160703), (1731, 0.9962587), (1732, 0.60530394), (1733, 0.9501763), (1734, 0.93999004), (1735, 0.6147457), (1736, 0.93164235), (1737, 0.8939892), (1738, 0.965524), (1739, 0.9311448), (1740, 0.97130316), (1741, 0.9905717), (1742, 0.40808433), (1743, 0.9520015), (1744, 0.9458969), (1745, 0.97514945), (1746, 0.9204134), (1747, 0.67363805), (1748, 0.9456036), (1749, 0.953601), (1750, 0.7230579), (1751, 0.99955326), (1752, 0.99987525), (1753, 0.5836193), (1754, 0.9619192), (1755, 0.7275646), (1756, 0.9838615), (1757, 0.97905797), (1758, 0.43200928), (1759, 0.87807965), (1760, 0.9975284), (1761, 0.9511545), (1762, 0.96763664), (1763, 0.9759528), (1764, 0.97172517), (1765, 0.9210403), (1766, 0.44897437), (1767, 0.9800181), (1768, 0.88597035), (1769, 0.9373084), (1770, 0.9254376), (1771, 0.9822647), (1772, 0.9159839), (1773, 0.9816815), (1774, 0.9074562), (1775, 0.3790367), (1776, 0.5184855), (1777, 0.9409464), (1778, 0.7978875), (1779, 0.9817381), (1780, 0.93051016), (1781, 0.96847194), (1782, 0.9492707), (1783, 0.5246391), (1784, 0.6450674), (1785, 0.97599554), (1786, 0.9575667), (1787, 0.9717744), (1788, 0.7860614), (1789, 0.9890835), (1790, 0.59767956), (1791, 0.9874799), (1792, 0.994081), (1793, 0.88114357), (1794, 0.9810507), (1795, 0.5106128), (1796, 0.95034426), (1797, 0.98178566), (1798, 0.9789309), (1799, 0.94812393), (1800, 0.9819172), (1801, 0.9956258), (1802, 0.99979085), (1803, 0.91563106), (1804, 0.9965519), (1805, 0.9657217), (1806, 0.7942969), (1807, 0.9899034), (1808, 0.988557), (1809, 0.97835064), (1810, 0.9985094), (1811, 0.94984215), (1812, 0.555274), (1813, 0.91811895), (1814, 0.43183133), (1815, 0.35977948), (1816, 0.32414746), (1817, 0.97265273), (1818, 0.78533757), (1819, 0.9193292), (1820, 0.8621136), (1821, 0.7114517), (1822, 0.9074183), (1823, 0.9999954), (1824, 0.28967467), (1825, 0.97842956), (1826, 0.9857446), (1827, 0.52926916), (1828, 0.96642715), (1829, 0.5181443), (1830, 0.5195453), (1831, 0.98933625), (1832, 0.9872715), (1833, 0.96992743), (1834, 0.88548493), (1835, 0.9967196), (1836, 0.92714185), (1837, 0.9015986), (1838, 0.9912778), (1839, 0.55968827), (1840, 0.90887284), (1841, 0.999541), (1842, 0.7918509), (1843, 0.99612325), (1844, 0.90093905), (1845, 0.4226061), (1846, 0.9999101), (1847, 0.42400253), (1848, 0.9588336), (1849, 0.960982), (1850, 0.9488767), (1851, 0.83251375), (1852, 0.86485296), (1853, 0.97468853), (1854, 0.98789686), (1855, 0.3827278), (1856, 0.8178235), (1857, 0.93492675), (1858, 0.60857075), (1859, 0.9560953), (1860, 0.9351336), (1861, 0.9190056), (1862, 0.99680203), (1863, 0.9899862), (1864, 0.65822434), (1865, 0.99294496), (1866, 0.9959433), (1867, 0.92435265), (1868, 0.97163767), (1869, 0.99917096), (1870, 0.92239326), (1871, 0.56670856), (1872, 0.77186376), (1873, 0.99929535), (1874, 0.9825753), (1875, 0.6080479), (1876, 0.7609883), (1877, 0.9778087), (1878, 0.9919174), (1879, 0.99989647), (1880, 0.53310144), (1881, 0.99977416), (1882, 0.9960235), (1883, 0.9276391), (1884, 0.46281183), (1885, 0.93790245), (1886, 0.97553265), (1887, 0.9701268), (1888, 0.9997414), (1889, 0.9926003), (1890, 0.74265146), (1891, 0.9228314), (1892, 0.99097043), (1893, 0.9672535), (1894, 0.8680213), (1895, 0.93787324), (1896, 0.99720556), (1897, 0.9297338), (1898, 0.95280594), (1899, 0.39007103), (1900, 0.8722487), (1901, 0.8657084), (1902, 0.9999941), (1903, 0.96540195), (1904, 0.7473765), (1905, 0.9776296), (1906, 0.9984865), (1907, 0.9460367), (1908, 0.9658482), (1909, 0.95710653), (1910, 0.9692594), (1911, 0.9822681), (1912, 0.9526358), (1913, 0.75985), (1914, 0.92712724), (1915, 0.37507856), (1916, 0.4187051), (1917, 0.94224954), (1918, 0.93247354), (1919, 0.9998207), (1920, 0.89579064), (1921, 0.94333404), (1922, 0.9961604), (1923, 0.99806184), (1924, 0.9710475), (1925, 0.9988688), (1926, 0.9958389), (1927, 0.9991458), (1928, 0.90904415), (1929, 0.99037755), (1930, 0.85427266), (1931, 0.8585128), (1932, 0.9794038), (1933, 0.608703), (1934, 0.6481005), (1935, 0.35824287), (1936, 0.75743073), (1937, 0.97051495), (1938, 0.9658903), (1939, 0.9999722), (1940, 0.99851954), (1941, 0.86336243), (1942, 0.70527315), (1943, 0.9786514), (1944, 0.6520627), (1945, 0.50745624), (1946, 0.9019548), (1947, 0.9668754), (1948, 0.86768436), (1949, 0.9999308), (1950, 0.9140211), (1951, 0.7407626), (1952, 0.921816), (1953, 0.97696006), (1954, 0.7779072), (1955, 0.99706364), (1956, 0.586714), (1957, 0.957271), (1958, 0.96270883), (1959, 0.9307614), (1960, 0.9263599), (1961, 0.34138846), (1962, 0.9891328), (1963, 0.9414442), (1964, 0.9603345), (1965, 0.9383773), (1966, 0.97939676), (1967, 0.9660345), (1968, 0.99373525), (1969, 0.6824341), (1970, 0.59231424), (1971, 0.45174703), (1972, 0.9890166), (1973, 0.8895316), (1974, 0.44792628), (1975, 0.9992141), (1976, 0.46888506), (1977, 0.6256509), (1978, 0.5394254), (1979, 0.9999601), (1980, 0.9866002), (1981, 0.5242825), (1982, 0.67656875), (1983, 0.97679263), (1984, 0.92525816), (1985, 0.99854684), (1986, 0.96260875), (1987, 0.9803936), (1988, 0.51619613), (1989, 0.45238853), (1990, 0.8815782), (1991, 0.99136496), (1992, 0.9589175), (1993, 0.87569416), (1994, 0.570987), (1995, 0.8695134), (1996, 0.91537094), (1997, 0.9343098), (1998, 0.94833076), (1999, 0.8976617), (2000, 0.9880082), (2001, 0.43030155), (2002, 0.63740283), (2003, 0.99292165), (2004, 0.9187318), (2005, 0.97665757), (2006, 0.57480484), (2007, 0.44555664), (2008, 0.6716209), (2009, 0.90011287), (2010, 0.9177352), (2011, 0.91111135), (2012, 0.9928698), (2013, 0.97777593), (2014, 0.99902815), (2015, 0.999946), (2016, 0.98387814), (2017, 0.98551744), (2018, 0.73720396), (2019, 0.9990534), (2020, 0.53343976), (2021, 0.65480196), (2022, 0.97729236), (2023, 0.7662693), (2024, 0.9997698), (2025, 0.952551), (2026, 0.44189325), (2027, 0.94807667), (2028, 0.92917085), (2029, 0.5551472), (2030, 0.77953887), (2031, 0.90778714), (2032, 0.48194912), (2033, 0.935214), (2034, 0.9955297), (2035, 0.9082408), (2036, 0.6752536), (2037, 0.9711152), (2038, 0.9990925), (2039, 0.99098927), (2040, 0.9485043), (2041, 0.98889214), (2042, 0.6943994), (2043, 0.992861), (2044, 0.62953633), (2045, 0.4183061), (2046, 0.4513472), (2047, 0.957144), (2048, 0.99991226), (2049, 0.9146712), (2050, 0.9859155), (2051, 0.9064682), (2052, 0.97087675), (2053, 0.9578155), (2054, 0.8810717), (2055, 0.9682362), (2056, 0.73093176), (2057, 0.7053443), (2058, 0.93977344), (2059, 0.9862269), (2060, 0.9082408), (2061, 0.9723214), (2062, 0.9952973), (2063, 0.7191781), (2064, 0.38955253), (2065, 0.9979034), (2066, 0.7512432), (2067, 0.982711), (2068, 0.9945086), (2069, 0.38503844), (2070, 0.96853393), (2071, 0.88355124), (2072, 0.87268436), (2073, 0.9410028), (2074, 0.9103556), (2075, 0.8856466), (2076, 0.9668129), (2077, 0.96318746), (2078, 0.79079473), (2079, 0.87263346), (2080, 0.46235353), (2081, 0.988428), (2082, 0.9496867), (2083, 0.43016946), (2084, 0.97462523), (2085, 0.9305135), (2086, 0.7102058), (2087, 0.9997606), (2088, 0.46857882), (2089, 0.9787979), (2090, 0.94732267), (2091, 0.9875344), (2092, 0.35993886), (2093, 0.947993), (2094, 0.9764208), (2095, 0.59856015), (2096, 0.52395034), (2097, 0.51233363), (2098, 0.91971236), (2099, 0.98975694), (2100, 0.9560953), (2101, 0.9664132), (2102, 0.99617875), (2103, 0.9594211), (2104, 0.9168118), (2105, 0.18762638), (2106, 0.37814954), (2107, 0.41274098), (2108, 0.7684579), (2109, 0.9999977), (2110, 0.98571205), (2111, 0.99777746), (2112, 0.9426779), (2113, 0.99987686), (2114, 0.9828228), (2115, 0.30266345), (2116, 0.97050375), (2117, 0.50319135), (2118, 0.9568896), (2119, 0.99635065), (2120, 0.99330306), (2121, 0.9994607), (2122, 0.9017415), (2123, 0.3811381), (2124, 0.99302953), (2125, 0.86052865), (2126, 0.4426996), (2127, 0.9850734), (2128, 0.7897088), (2129, 0.99658406), (2130, 0.9632), (2131, 0.88906854), (2132, 0.9985431), (2133, 0.7752183), (2134, 0.99874943), (2135, 0.6241486), (2136, 0.7996943), (2137, 0.9997666), (2138, 0.9586523), (2139, 0.9985427), (2140, 0.97977585), (2141, 0.7053443), (2142, 0.9666257), (2143, 0.9588336), (2144, 0.9998574), (2145, 0.8188308), (2146, 0.94104487), (2147, 0.33462375), (2148, 0.7688594), (2149, 0.5606107), (2150, 0.9683231), (2151, 0.97448015), (2152, 0.98491657), (2153, 0.98489755), (2154, 0.99073815), (2155, 0.99647236), (2156, 0.9748774), (2157, 0.9736159), (2158, 0.944762), (2159, 0.9980675), (2160, 0.7726588), (2161, 0.9447081), (2162, 0.4444945), (2163, 0.47099763), (2164, 0.979678), (2165, 0.9950673), (2166, 0.89045066), (2167, 0.5256644), (2168, 0.9986509), (2169, 0.99913085), (2170, 0.95814323), (2171, 0.97006404), (2172, 0.96911263), (2173, 0.8810717), (2174, 0.9695787), (2175, 0.9528172), (2176, 0.9351351), (2177, 0.999166), (2178, 0.95517033), (2179, 0.90981525), (2180, 0.99002635), (2181, 0.46518162), (2182, 0.8444787), (2183, 0.9394259), (2184, 0.99884737), (2185, 0.9885163), (2186, 0.54768056), (2187, 0.92516744), (2188, 0.8102635), (2189, 0.6606474), (2190, 0.9999941), (2191, 0.92345333), (2192, 0.31076995), (2193, 0.94337195), (2194, 0.9966387), (2195, 0.92150605), (2196, 0.72398454), (2197, 0.4544903), (2198, 0.8476659), (2199, 0.9162492), (2200, 0.9299982), (2201, 0.8940194), (2202, 0.45585507), (2203, 0.91397226), (2204, 0.9999883), (2205, 0.87412614), (2206, 0.88738936), (2207, 0.39028788), (2208, 0.9970398), (2209, 0.9664387), (2210, 0.92377967), (2211, 0.8777245), (2212, 0.9866002), (2213, 0.40503776), (2214, 0.95152795), (2215, 0.7413747), (2216, 0.98703694), (2217, 0.9372235), (2218, 0.9460565), (2219, 0.4853781), (2220, 0.80676526), (2221, 0.95040506), (2222, 0.93617934), (2223, 0.82571036), (2224, 0.9997516), (2225, 0.64289045), (2226, 0.5158181), (2227, 0.43983734), (2228, 0.87216854), (2229, 0.9293802), (2230, 0.9612319), (2231, 0.99579287), (2232, 0.9864946), (2233, 0.9996903), (2234, 0.98300487), (2235, 0.8854322), (2236, 0.90162504), (2237, 0.9467292), (2238, 0.9132112), (2239, 0.9826518), (2240, 0.9999089), (2241, 0.9999993), (2242, 0.9417096), (2243, 0.9873252), (2244, 0.62985337), (2245, 0.97784567), (2246, 0.9994808), (2247, 0.9939003), (2248, 0.99627095), (2249, 0.389115), (2250, 0.9954704), (2251, 0.99873984), (2252, 0.96496594), (2253, 0.8864383), (2254, 0.92920077), (2255, 0.9825992), (2256, 0.9964468), (2257, 0.4753613), (2258, 0.9757692), (2259, 0.8778584), (2260, 0.9756266), (2261, 0.9589453), (2262, 0.9999532), (2263, 0.56158894), (2264, 0.91448927), (2265, 0.9813946), (2266, 0.97056454), (2267, 0.93430454), (2268, 0.97109294), (2269, 0.99014693), (2270, 0.9569301), (2271, 0.9861241), (2272, 0.6131411), (2273, 0.49855214), (2274, 0.9986395), (2275, 0.9317422), (2276, 0.8607888), (2277, 0.92755085), (2278, 0.99983025), (2279, 0.63351446), (2280, 0.49694324), (2281, 0.9719692), (2282, 0.39408016), (2283, 0.98483086), (2284, 0.9999261), (2285, 0.63960457), (2286, 0.99985623), (2287, 0.9954762), (2288, 0.24033375), (2289, 0.9987896), (2290, 0.88775164), (2291, 0.87324387), (2292, 0.9249547), (2293, 0.75648856), (2294, 0.9799352), (2295, 0.93040526), (2296, 0.99844563), (2297, 0.41023135), (2298, 0.9568038), (2299, 0.97280407), (2300, 0.9016068), (2301, 0.9634178), (2302, 0.92935), (2303, 0.9925157), (2304, 0.47960263), (2305, 0.9214447), (2306, 0.9951701), (2307, 0.9284946), (2308, 0.8771448), (2309, 0.56158894), (2310, 0.97744745), (2311, 0.96164507), (2312, 0.4991219), (2313, 0.91677743), (2314, 0.95838314), (2315, 0.94444716), (2316, 0.6676041), (2317, 0.7686295), (2318, 0.3293361), (2319, 0.37435734), (2320, 0.8904343), (2321, 0.5420253), (2322, 0.4606123), (2323, 0.47698656), (2324, 0.8487198), (2325, 0.96880394), (2326, 0.99299824), (2327, 0.9278809), (2328, 0.58433497), (2329, 0.8918092), (2330, 0.8581168), (2331, 0.53703594), (2332, 0.33835596), (2333, 0.9580292), (2334, 0.93785477), (2335, 0.9809713), (2336, 0.99612325), (2337, 0.94592726), (2338, 0.9521537), (2339, 0.98647267), (2340, 0.89863735), (2341, 0.32414746), (2342, 0.9259954), (2343, 0.99953085), (2344, 0.53046453), (2345, 0.9533311), (2346, 0.41680956), (2347, 0.94488686), (2348, 0.9564321), (2349, 0.91724163), (2350, 0.9746415), (2351, 0.93174374), (2352, 0.5101667), (2353, 0.99692297), (2354, 0.9787788), (2355, 0.864774), (2356, 0.99838954), (2357, 0.87996817), (2358, 0.4038005), (2359, 0.9234689), (2360, 0.87764555), (2361, 0.73654324), (2362, 0.95584846), (2363, 0.9980197), (2364, 0.99568594), (2365, 0.96676433), (2366, 0.9880397), (2367, 0.9999661), (2368, 0.9169381), (2369, 0.88114357), (2370, 0.877748), (2371, 0.86852455), (2372, 0.4418849), (2373, 0.99945766), (2374, 0.37939385), (2375, 0.96492255), (2376, 0.9947894), (2377, 0.9149817), (2378, 0.9730639), (2379, 0.99503106), (2380, 0.94148654), (2381, 0.50240904), (2382, 0.9976584), (2383, 0.9640097), (2384, 0.9761541), (2385, 0.93246764), (2386, 0.8643741), (2387, 0.9444856), (2388, 0.9998309), (2389, 0.93657684), (2390, 0.93087035), (2391, 0.39792845), (2392, 0.98249835), (2393, 0.30615506), (2394, 0.99524057), (2395, 0.9468178), (2396, 0.96456265), (2397, 0.73425174), (2398, 0.625211), (2399, 0.95849246), (2400, 0.86750823), (2401, 0.99951303), (2402, 0.93489605), (2403, 0.93542224), (2404, 0.970355), (2405, 0.9974891), (2406, 0.6115485), (2407, 0.98392123), (2408, 0.9225248), (2409, 0.97810644), (2410, 0.95698166), (2411, 0.96431553), (2412, 0.96634305), (2413, 0.9724136), (2414, 0.9625637), (2415, 0.8498725), (2416, 0.94410026), (2417, 0.86768436), (2418, 0.76353323), (2419, 0.9832054), (2420, 0.61209965), (2421, 0.45342755), (2422, 0.9958201), (2423, 0.9498045), (2424, 0.9659858), (2425, 0.39665535), (2426, 0.3772419), (2427, 0.5207739), (2428, 0.9990925), (2429, 0.9919823), (2430, 0.9197805), (2431, 0.98605883), (2432, 0.9927268), (2433, 0.9803964), (2434, 0.7547713), (2435, 0.3590589), (2436, 0.5016602), (2437, 0.8062527), (2438, 0.30390146), (2439, 0.27744132), (2440, 0.98921096), (2441, 0.9308006), (2442, 0.6506486), (2443, 0.92333376), (2444, 0.9692636), (2445, 0.6758189), (2446, 0.9870484), (2447, 0.9993809), (2448, 0.99694276), (2449, 0.99205923), (2450, 0.73578477), (2451, 0.94039387), (2452, 0.9028331), (2453, 0.9611535), (2454, 0.9968655), (2455, 0.9452113), (2456, 0.8811056), (2457, 0.94658494), (2458, 0.9903994), (2459, 0.51317245), (2460, 0.95671123), (2461, 0.9926956), (2462, 0.9613815), (2463, 0.40650967), (2464, 0.9241967), (2465, 0.9998154), (2466, 0.38267574), (2467, 0.9986579), (2468, 0.9992235), (2469, 0.39154115), (2470, 0.9819503), (2471, 0.40552568), (2472, 0.94332373), (2473, 0.894977), (2474, 0.49694324), (2475, 0.844924), (2476, 0.9452352), (2477, 0.98578674), (2478, 0.90374756), (2479, 0.70162195), (2480, 0.8940246), (2481, 0.88110596), (2482, 0.98960036), (2483, 0.8834233), (2484, 0.555274), (2485, 0.9075714), (2486, 0.5510336), (2487, 0.99999684), (2488, 0.99017876), (2489, 0.67223155), (2490, 0.96490496), (2491, 0.962585), (2492, 0.9400768), (2493, 0.9628971), (2494, 0.3570229), (2495, 0.997268), (2496, 0.9857051), (2497, 0.9112397), (2498, 0.9768716), (2499, 0.99438787), (2500, 0.98726594), (2501, 0.97863084), (2502, 0.96375495), (2503, 0.9999707), (2504, 0.99611205), (2505, 0.9909076), (2506, 0.981948), (2507, 0.9566589), (2508, 0.8646276), (2509, 0.9651289), (2510, 0.9192678), (2511, 0.9384029), (2512, 0.48495936), (2513, 0.97120196), (2514, 0.8303176), (2515, 0.71479136), (2516, 0.93006337), (2517, 0.9767091), (2518, 0.9863205), (2519, 0.9887569), (2520, 0.89137894), (2521, 0.99918276), (2522, 0.997152), (2523, 0.9764972), (2524, 0.98861444), (2525, 0.983207), (2526, 0.98311174), (2527, 0.7020763), (2528, 0.9760251), (2529, 0.9416803), (2530, 0.9996495), (2531, 0.9844503), (2532, 0.9064167), (2533, 0.9729742), (2534, 0.9985819), (2535, 0.9433956), (2536, 0.9403172), (2537, 0.9337822), (2538, 0.94431025), (2539, 0.96299607), (2540, 0.9452886), (2541, 0.9562878), (2542, 0.7060488), (2543, 0.9578725), (2544, 0.9553411), (2545, 0.98102146), (2546, 0.4764259), (2547, 0.9734651), (2548, 0.999997), (2549, 0.49408), (2550, 0.91585195), (2551, 0.97181016), (2552, 0.92251515), (2553, 0.71672124), (2554, 0.38706398), (2555, 0.8238981), (2556, 0.93254596), (2557, 0.9996918), (2558, 0.9546666), (2559, 0.6520627), (2560, 0.9515036), (2561, 0.46190226), (2562, 0.93940645), (2563, 0.8818988), (2564, 0.7688911), (2565, 0.9999116), (2566, 0.50067806), (2567, 0.9657928), (2568, 0.972812), (2569, 0.616153), (2570, 0.84358674), (2571, 0.44606072), (2572, 0.9401553), (2573, 0.42713493), (2574, 0.98017734), (2575, 0.3788715), (2576, 0.97821736), (2577, 0.9379125), (2578, 0.5429852), (2579, 0.56154335), (2580, 0.986805), (2581, 0.9776729), (2582, 0.5092909), (2583, 0.7903361), (2584, 0.975132), (2585, 0.91674054), (2586, 0.9543484), (2587, 0.58214813), (2588, 0.98375803), (2589, 0.99994224), (2590, 0.44217962), (2591, 0.92436415), (2592, 0.99048674), (2593, 0.49503154), (2594, 0.90795386), (2595, 0.98592), (2596, 0.94957924), (2597, 0.98394036), (2598, 0.4466567), (2599, 0.91735876), (2600, 0.9617982), (2601, 0.91908073), (2602, 0.9459879), (2603, 0.9991801), (2604, 0.82382345), (2605, 0.7857968), (2606, 0.36630732), (2607, 0.95696604), (2608, 0.9423977), (2609, 0.80961615), (2610, 0.99805456), (2611, 0.37330374), (2612, 0.78177094), (2613, 0.99744225), (2614, 0.4721125), (2615, 0.94443184), (2616, 0.8784925), (2617, 0.91953075), (2618, 0.9119154), (2619, 0.9851316), (2620, 0.9755663), (2621, 0.9929602), (2622, 0.96567255), (2623, 0.9571248), (2624, 0.99698704), (2625, 0.80934155), (2626, 0.6133038), (2627, 0.9898724), (2628, 0.96972317), (2629, 0.997118), (2630, 0.96961486), (2631, 0.9645967), (2632, 0.82899237), (2633, 0.26431358), (2634, 0.91455895), (2635, 0.8169828), (2636, 0.9949231), (2637, 0.37579328), (2638, 0.93586564), (2639, 0.9702364), (2640, 0.38729244), (2641, 0.9773464), (2642, 0.44834384), (2643, 0.9858897), (2644, 0.907177), (2645, 0.9307745), (2646, 0.97244227), (2647, 0.39352846), (2648, 0.9032457), (2649, 0.9893904), (2650, 0.9131831), (2651, 0.92146206), (2652, 0.9977703), (2653, 0.98080236), (2654, 0.886485), (2655, 0.8718314), (2656, 0.9214045), (2657, 0.9603792), (2658, 0.99941236), (2659, 0.879004), (2660, 0.9822412), (2661, 0.45804608), (2662, 0.97855467), (2663, 0.81844914), (2664, 0.86433226), (2665, 0.2828797), (2666, 0.99804133), (2667, 0.9873015), (2668, 0.6428004), (2669, 0.9398147), (2670, 0.9349884), (2671, 0.30013114), (2672, 0.9813237), (2673, 0.99412066), (2674, 0.5951602), (2675, 0.9571668), (2676, 0.9994061), (2677, 0.9665545), (2678, 0.9582529), (2679, 0.9601789), (2680, 0.99968284), (2681, 0.9775835), (2682, 0.9346745), (2683, 0.3821765), (2684, 0.9650283), (2685, 0.9672535), (2686, 0.9179015), (2687, 0.9940036), (2688, 0.9743445), (2689, 0.6833668), (2690, 0.9696739), (2691, 0.50790024), (2692, 0.9256556), (2693, 0.99741524), (2694, 0.76286703), (2695, 0.95100355), (2696, 0.9997516), (2697, 0.9374356), (2698, 0.9533673), (2699, 0.52764225), (2700, 0.9999413), (2701, 0.9976035), (2702, 0.6681667), (2703, 0.98031354), (2704, 0.9423583), (2705, 0.73256826), (2706, 0.9446235), (2707, 0.45489675), (2708, 0.98328865), (2709, 0.9621755), (2710, 0.991136), (2711, 0.86997503), (2712, 0.8059643), (2713, 0.40785575), (2714, 0.9632649), (2715, 0.941831), (2716, 0.9982074), (2717, 0.9795376), (2718, 0.94782126), (2719, 0.988428), (2720, 0.32482177), (2721, 0.99094003), (2722, 0.9740926), (2723, 0.9999976), (2724, 0.8938038), (2725, 0.937517), (2726, 0.764156), (2727, 0.9781076), (2728, 0.99991167), (2729, 0.98473513), (2730, 0.92795765), (2731, 0.9996367), (2732, 0.99631786), (2733, 0.51932055), (2734, 0.9957781), (2735, 0.97483844), (2736, 0.95825034), (2737, 0.37939385), (2738, 0.43580282), (2739, 0.97734344), (2740, 0.99613595), (2741, 0.9718527), (2742, 0.41197062), (2743, 0.89826566), (2744, 0.9815011), (2745, 0.7109498), (2746, 0.42682558), (2747, 0.9950359), (2748, 0.9421244), (2749, 0.9841659), (2750, 0.65474427), (2751, 0.97392625), (2752, 0.99945575), (2753, 0.99400955), (2754, 0.60857075), (2755, 0.89808434), (2756, 0.5000659), (2757, 0.8688092), (2758, 0.9953933), (2759, 0.9822031), (2760, 0.34659737), (2761, 0.91492325), (2762, 0.99423397), (2763, 0.94204634), (2764, 0.96966314), (2765, 0.89993453), (2766, 0.9731652), (2767, 0.9110799), (2768, 0.35277793), (2769, 0.520043), (2770, 0.28689054), (2771, 0.90628505), (2772, 0.911705), (2773, 0.89390254), (2774, 0.9371873), (2775, 0.99002635), (2776, 0.88997287), (2777, 0.50452435), (2778, 0.45658758), (2779, 0.9881848), (2780, 0.64913034), (2781, 0.732095), (2782, 0.9317295), (2783, 0.9935742), (2784, 0.99409896), (2785, 0.65750486), (2786, 0.975704), (2787, 0.42491162), (2788, 0.9922602), (2789, 0.46567488), (2790, 0.48958677), (2791, 0.97383934), (2792, 0.9966044), (2793, 0.8884968), (2794, 0.435619), (2795, 0.9261067), (2796, 0.9755715), (2797, 0.9819857), (2798, 0.9958687), (2799, 0.9949276), (2800, 0.9270897), (2801, 0.97418535), (2802, 0.97368336), (2803, 0.981419), (2804, 0.9948084), (2805, 0.68893623), (2806, 0.46894133), (2807, 0.87785804), (2808, 0.9807414), (2809, 0.44696054), (2810, 0.9434353), (2811, 0.99267125), (2812, 0.96000355), (2813, 0.94884473), (2814, 0.86208534), (2815, 0.95362425), (2816, 0.6142399), (2817, 0.966474), (2818, 0.94249374), (2819, 0.5404393), (2820, 0.35925817), (2821, 0.99993294), (2822, 0.9986589), (2823, 0.5964621), (2824, 0.99523216), (2825, 0.9874835), (2826, 0.88380283), (2827, 0.9982776), (2828, 0.9646347), (2829, 0.74708253), (2830, 0.93244684), (2831, 0.98609996), (2832, 0.9991454), (2833, 0.9909505), (2834, 0.94502467), (2835, 0.9975608), (2836, 0.95022094), (2837, 0.60420424), (2838, 0.9646835), (2839, 0.99987376), (2840, 0.9520627), (2841, 0.98351526), (2842, 0.937094), (2843, 0.9974244), (2844, 0.60847515), (2845, 0.518809), (2846, 0.9170159), (2847, 0.9792374), (2848, 0.99022263), (2849, 0.9862379), (2850, 0.6799129), (2851, 0.9865732), (2852, 0.38794634), (2853, 0.9031805), (2854, 0.51383376), (2855, 0.99790406), (2856, 0.94605476), (2857, 0.98418623), (2858, 0.9989688), (2859, 0.99666506), (2860, 0.9942064), (2861, 0.8303981), (2862, 0.99289393), (2863, 0.9981211), (2864, 0.49597377), (2865, 0.99387574), (2866, 0.9914313), (2867, 0.67337775), (2868, 0.9841998), (2869, 0.9369872), (2870, 0.90285087), (2871, 0.986989), (2872, 0.94035965), (2873, 0.45651484), (2874, 0.9600837), (2875, 0.65223044), (2876, 0.5690451), (2877, 0.42305866), (2878, 0.9342855), (2879, 0.5708596), (2880, 0.9192444), (2881, 0.9928698), (2882, 0.9992749), (2883, 0.3270039), (2884, 0.35553205), (2885, 0.4432134), (2886, 0.9872257), (2887, 0.8462179), (2888, 0.45979327), (2889, 0.99747264), (2890, 0.97459394), (2891, 0.4731831), (2892, 0.9810644), (2893, 0.9982871), (2894, 0.7860089), (2895, 0.9758218), (2896, 0.9237592), (2897, 0.9728068), (2898, 0.9722924), (2899, 0.9770119), (2900, 0.95305717), (2901, 0.41389045), (2902, 0.97282124), (2903, 0.9978793), (2904, 0.9732408), (2905, 0.95270586), (2906, 0.5144249), (2907, 0.95075244), (2908, 0.9764705), (2909, 0.9925926), (2910, 0.5861697), (2911, 0.91429204), (2912, 1.0), (2913, 0.99387497), (2914, 0.990567), (2915, 0.99514806), (2916, 0.57173693), (2917, 0.9839003), (2918, 0.755455), (2919, 0.981936), (2920, 0.97515553), (2921, 0.9207309), (2922, 0.9232409), (2923, 0.9679751), (2924, 0.72756547), (2925, 0.9775982), (2926, 0.9304974), (2927, 0.93835765), (2928, 0.8492937), (2929, 0.95183456), (2930, 0.89043534), (2931, 0.996915), (2932, 0.7943486), (2933, 0.9068006), (2934, 0.95651746), (2935, 0.2809564), (2936, 0.88163686), (2937, 0.4349006), (2938, 0.9795316), (2939, 0.99997854), (2940, 0.9219533), (2941, 0.59446377), (2942, 0.46936792), (2943, 0.88627666), (2944, 0.9813713), (2945, 0.48910952), (2946, 0.5578341), (2947, 0.99564934), (2948, 0.9404114), (2949, 0.4594648), (2950, 0.95798653), (2951, 0.9856396), (2952, 0.92899215), (2953, 0.99996835), (2954, 0.89799863), (2955, 0.30793038), (2956, 0.49906212), (2957, 0.93470454), (2958, 0.45815122), (2959, 0.74885267), (2960, 0.9129166), (2961, 0.992152), (2962, 0.706051), (2963, 0.29998294), (2964, 0.99488467), (2965, 0.98128307), (2966, 0.99094003), (2967, 0.9054829), (2968, 0.9859259), (2969, 0.49218875), (2970, 0.54035527), (2971, 0.4484351), (2972, 0.9714504), (2973, 0.4935456), (2974, 0.98645514), (2975, 0.97882783), (2976, 0.9850828), (2977, 0.9997192), (2978, 0.98654985), (2979, 0.42400253), (2980, 0.9969679), (2981, 0.88190275), (2982, 0.98826134), (2983, 0.97599804), (2984, 0.44166815), (2985, 0.9259364), (2986, 0.99342906), (2987, 0.93636113), (2988, 0.45220798), (2989, 0.5208185), (2990, 0.9886387), (2991, 0.92895615), (2992, 0.9672353), (2993, 0.97569317), (2994, 0.9249186), (2995, 0.9738329), (2996, 0.99667543), (2997, 0.4750152), (2998, 0.9531197), (2999, 0.9923876), (3000, 0.4673218), (3001, 0.97751373), (3002, 0.91365516), (3003, 0.94707245), (3004, 0.9003456), (3005, 0.99589956), (3006, 0.47092277), (3007, 0.95362437), (3008, 0.9824528), (3009, 0.9402829), (3010, 0.9804268), (3011, 0.98552775), (3012, 0.9874976), (3013, 0.9640018), (3014, 0.44012976), (3015, 0.68918616), (3016, 0.94161546), (3017, 0.9676063), (3018, 0.9638187), (3019, 0.9527676), (3020, 0.998245), (3021, 0.4153939), (3022, 0.90350425), (3023, 0.96051085), (3024, 0.41079912), (3025, 0.42935252), (3026, 0.64817), (3027, 0.8957542), (3028, 0.49327826), (3029, 0.99450815), (3030, 0.97384393), (3031, 0.9693198), (3032, 0.88648546), (3033, 0.99763364), (3034, 0.98226774), (3035, 0.9668108), (3036, 0.9687721), (3037, 0.99793005), (3038, 0.99996793), (3039, 0.8414584), (3040, 0.49936938), (3041, 0.5139893), (3042, 0.70978373), (3043, 0.49869865), (3044, 0.7599189), (3045, 0.94169027), (3046, 0.986969), (3047, 0.96769744), (3048, 0.9971013), (3049, 0.33122084), (3050, 0.9675436), (3051, 0.6627317), (3052, 0.57173693), (3053, 0.6566019), (3054, 0.47212535), (3055, 0.96652055), (3056, 0.9278448), (3057, 0.9277143), (3058, 0.6267014), (3059, 0.98207873), (3060, 0.9764208), (3061, 0.91184866), (3062, 0.99999976), (3063, 0.96400034), (3064, 0.7418237), (3065, 0.9996668), (3066, 0.9754815), (3067, 0.99975127), (3068, 0.957213), (3069, 0.79737365), (3070, 0.9847663), (3071, 0.99969935), (3072, 0.7837113), (3073, 0.9486485), (3074, 0.48151696), (3075, 0.9317972), (3076, 0.9510943), (3077, 0.99462515), (3078, 0.99989706), (3079, 0.9711436), (3080, 0.9984955), (3081, 0.99081194), (3082, 0.9915902), (3083, 0.6168611), (3084, 0.9307684), (3085, 0.9191208), (3086, 0.5836653), (3087, 0.40144295), (3088, 0.8739979), (3089, 0.97494924), (3090, 0.99689084), (3091, 0.9930334), (3092, 0.9739825), (3093, 0.96124935), (3094, 0.8710773), (3095, 0.97060907), (3096, 0.94152576), (3097, 0.99575067), (3098, 0.963262), (3099, 0.9969538), (3100, 0.4731319), (3101, 0.98523456), (3102, 0.9794853), (3103, 0.9658436), (3104, 0.9945242), (3105, 0.9896374), (3106, 0.31346214), (3107, 0.97146857), (3108, 0.9993583), (3109, 0.9612478), (3110, 0.34682828), (3111, 0.63101345), (3112, 0.95685333), (3113, 0.916444), (3114, 0.7222971), (3115, 0.9022361), (3116, 0.99301505), (3117, 0.9316828), (3118, 0.9100534), (3119, 0.7032856), (3120, 0.50972956), (3121, 0.44723785), (3122, 0.9974395), (3123, 0.99994993), (3124, 0.9770799), (3125, 0.9993633), (3126, 0.99688494), (3127, 0.97045124), (3128, 0.99906427), (3129, 0.99211526), (3130, 0.9935312), (3131, 0.9936809), (3132, 0.9559653), (3133, 0.9679891), (3134, 0.56512165), (3135, 0.99178517), (3136, 0.99632275), (3137, 0.3312508), (3138, 0.48427412), (3139, 0.66199124), (3140, 0.9858821), (3141, 0.60416603), (3142, 0.9969692), (3143, 0.99046034), (3144, 0.9066347), (3145, 0.96147823), (3146, 0.8850187), (3147, 0.9883255), (3148, 0.9999974), (3149, 0.8783326), (3150, 0.33148804), (3151, 0.58652407), (3152, 0.32399595), (3153, 0.5200616), (3154, 0.9505709), (3155, 0.9809537), (3156, 0.9106657), (3157, 0.9740563), (3158, 0.4489472), (3159, 0.97062415), (3160, 0.4974601), (3161, 0.9963525), (3162, 0.75905323), (3163, 0.98814553), (3164, 0.93578213), (3165, 0.98909485), (3166, 0.93969333), (3167, 0.92560476), (3168, 0.9509561), (3169, 0.9934403), (3170, 0.96204764), (3171, 0.9252631), (3172, 0.8846673), (3173, 0.9764546), (3174, 0.57500654), (3175, 0.9298005), (3176, 0.9924114), (3177, 0.8748325), (3178, 0.28803384), (3179, 0.9912821), (3180, 0.8766569), (3181, 0.6088029), (3182, 0.9977471), (3183, 0.9954709), (3184, 0.93912655), (3185, 0.9873987), (3186, 0.9098893), (3187, 0.9821576), (3188, 0.27927408), (3189, 0.89652276), (3190, 0.9953393), (3191, 0.93884426), (3192, 0.9441581), (3193, 0.9991028), (3194, 0.996196), (3195, 0.9992308), (3196, 0.5183283), (3197, 0.9061215), (3198, 0.99672586), (3199, 0.9980926), (3200, 0.76672065), (3201, 0.94742656), (3202, 0.9382253), (3203, 0.8346386), (3204, 0.44171548), (3205, 0.9696739), (3206, 0.26307702), (3207, 0.82237214), (3208, 0.99942094), (3209, 0.90212035), (3210, 0.9724602), (3211, 0.9362288), (3212, 0.97493196), (3213, 0.28961036), (3214, 0.9257725), (3215, 0.87369883), (3216, 0.5152276), (3217, 0.53805983), (3218, 0.8378913), (3219, 0.38644692), (3220, 0.96628183), (3221, 0.5124554), (3222, 0.46182692), (3223, 0.97404474), (3224, 0.44012976), (3225, 0.3343082), (3226, 0.99798316), (3227, 0.93186235), (3228, 0.6381835), (3229, 0.9957578), (3230, 0.99999976), (3231, 0.9249186), (3232, 0.9973438), (3233, 0.99568105), (3234, 0.5565861), (3235, 0.99832046), (3236, 0.9326488), (3237, 0.977849), (3238, 0.82838356), (3239, 0.9106504), (3240, 0.4305275), (3241, 0.9880913), (3242, 0.6301852), (3243, 0.977554), (3244, 0.30479643), (3245, 0.9490478), (3246, 0.70619845), (3247, 0.9560667), (3248, 0.99915695), (3249, 0.96255744), (3250, 0.9710908), (3251, 0.29605952), (3252, 0.48492926), (3253, 0.96233094), (3254, 0.4030391), (3255, 0.9550533), (3256, 0.51607156), (3257, 0.99816746), (3258, 0.99900293), (3259, 0.97929925), (3260, 0.9971411), (3261, 0.99236006), (3262, 0.9883326), (3263, 0.9730375), (3264, 0.51886505), (3265, 0.45048368), (3266, 0.9992343), (3267, 0.9842024), (3268, 0.9997456), (3269, 0.86368066), (3270, 0.89831364), (3271, 0.95210147), (3272, 0.6558336), (3273, 0.9999632), (3274, 0.9759411), (3275, 0.9474299), (3276, 0.9908258), (3277, 0.9779129), (3278, 0.9766885), (3279, 0.8671446), (3280, 0.97582453), (3281, 0.76595545), (3282, 0.8561914), (3283, 0.9948963), (3284, 0.9989621), (3285, 0.96016705), (3286, 0.48742163), (3287, 0.7814822), (3288, 0.9997473), (3289, 0.552509), (3290, 0.5079653), (3291, 0.99533683), (3292, 0.47723085), (3293, 0.98882514), (3294, 0.6364228), (3295, 0.9251179), (3296, 0.99075425), (3297, 0.9993039), (3298, 0.9832345), (3299, 0.9055387), (3300, 0.653069), (3301, 0.9218653), (3302, 0.9662043), (3303, 0.9894993), (3304, 0.5624324), (3305, 0.99697465), (3306, 0.95790565), (3307, 0.9189719), (3308, 0.96404314), (3309, 0.961191), (3310, 0.9553666), (3311, 0.99803275), (3312, 0.99980646), (3313, 0.94300663), (3314, 0.95434624), (3315, 0.8737364), (3316, 0.46145603), (3317, 0.93731064), (3318, 0.9726032), (3319, 0.31944394), (3320, 0.98950624), (3321, 0.46504512), (3322, 0.90782845), (3323, 0.9728299), (3324, 0.7471799), (3325, 0.9860464), (3326, 0.91179544), (3327, 0.71677583), (3328, 0.5271922), (3329, 0.99741626), (3330, 0.90890807), (3331, 0.7156904), (3332, 0.99997985), (3333, 0.7056213), (3334, 0.64056104), (3335, 0.9450414), (3336, 0.97599113), (3337, 0.7177808), (3338, 0.9711789), (3339, 0.9614914), (3340, 0.9940689), (3341, 0.81694067), (3342, 0.80631906), (3343, 0.90095323), (3344, 0.9866341), (3345, 0.9786395), (3346, 0.99330634), (3347, 0.98746747), (3348, 0.9367543), (3349, 0.88740766), (3350, 0.90766317), (3351, 0.932723), (3352, 0.98095495), (3353, 0.99899346), (3354, 0.96474093), (3355, 0.68832463), (3356, 0.97262615), (3357, 0.96969295), (3358, 0.9825337), (3359, 0.995022), (3360, 0.54984045), (3361, 0.8727709), (3362, 0.7955928), (3363, 0.99101174), (3364, 0.7643008), (3365, 0.9044353), (3366, 0.9307128), (3367, 0.616005), (3368, 0.9984335), (3369, 0.99491715), (3370, 0.97862774), (3371, 0.35606626), (3372, 0.50130075), (3373, 0.973543), (3374, 0.93644285), (3375, 0.9555764), (3376, 0.9910121), (3377, 0.97072977), (3378, 0.97597814), (3379, 0.9518444), (3380, 0.8683243), (3381, 0.9975436), (3382, 0.94471854), (3383, 0.9115324), (3384, 0.99688286), (3385, 0.96602356), (3386, 0.4912455), (3387, 0.9997776), (3388, 0.9800334), (3389, 0.7775613), (3390, 0.9933684), (3391, 0.9993786), (3392, 0.9058197), (3393, 0.9120521), (3394, 0.6237003), (3395, 0.9237927), (3396, 0.63799155), (3397, 0.98443246), (3398, 0.533543), (3399, 0.9938364), (3400, 0.93131524), (3401, 0.41401827), (3402, 0.39282435), (3403, 0.53880084), (3404, 0.92050225), (3405, 0.5366485), (3406, 0.28663152), (3407, 0.44741285), (3408, 0.9694611), (3409, 0.9845798), (3410, 0.9854083), (3411, 0.43378785), (3412, 0.97767407), (3413, 0.95972633), (3414, 0.9936673), (3415, 0.9943731), (3416, 0.9226891), (3417, 0.9778146), (3418, 0.4518503), (3419, 0.9478486), (3420, 0.9951536), (3421, 0.31459057), (3422, 0.7535134), (3423, 0.9503783), (3424, 0.9991454), (3425, 0.43495417), (3426, 0.97306204), (3427, 0.9989628), (3428, 0.84424776), (3429, 0.88615566), (3430, 0.9896084), (3431, 0.99251527), (3432, 0.8993491), (3433, 0.9748998), (3434, 0.957502), (3435, 0.9964651), (3436, 0.64227754), (3437, 0.99501264), (3438, 0.95449567), (3439, 0.7500833), (3440, 0.99999624), (3441, 0.8016553), (3442, 0.9542775), (3443, 0.9600465), (3444, 0.9638907), (3445, 0.9999549), (3446, 0.9121785), (3447, 0.9984373), (3448, 0.6496746), (3449, 0.9989569), (3450, 0.4570197), (3451, 0.97520363), (3452, 0.9927), (3453, 0.53664476), (3454, 0.38685036), (3455, 0.99094486), (3456, 0.9229332), (3457, 0.99969494), (3458, 0.9998582), (3459, 0.8916373), (3460, 0.9443675), (3461, 0.98925906), (3462, 0.9405912), (3463, 0.57669544), (3464, 0.96187323), (3465, 0.4439206), (3466, 0.9977849), (3467, 0.91938245), (3468, 0.9518125), (3469, 0.9488197), (3470, 0.4847486), (3471, 0.97331655), (3472, 0.9999267), (3473, 0.974685), (3474, 0.7928729), (3475, 0.9733365), (3476, 0.9693676), (3477, 1.0), (3478, 0.4778804), (3479, 0.81324124), (3480, 0.95718867), (3481, 0.92819303), (3482, 0.97024715), (3483, 0.97008145), (3484, 0.95360214), (3485, 0.903439), (3486, 0.94233906), (3487, 0.98178136), (3488, 0.99965155), (3489, 0.9601482), (3490, 0.96470666), (3491, 0.9954688), (3492, 0.9853177), (3493, 0.93213224), (3494, 0.34841803), (3495, 0.90294063), (3496, 0.91892505), (3497, 0.9632267), (3498, 0.9847975), (3499, 0.99037755), (3500, 0.9841018), (3501, 0.9878219), (3502, 0.9849672), (3503, 0.5958482), (3504, 0.95463467), (3505, 0.961592), (3506, 0.96524084), (3507, 0.9500236), (3508, 0.98394763), (3509, 0.9373839), (3510, 0.9534669), (3511, 0.9236696), (3512, 0.99508804), (3513, 0.9714025), (3514, 0.43030155), (3515, 0.9822915), (3516, 0.98969835), (3517, 0.71772987), (3518, 0.98155755), (3519, 0.9854657), (3520, 0.9280691), (3521, 0.99102604), (3522, 0.9976852), (3523, 0.96884394), (3524, 0.69140965), (3525, 0.5838873), (3526, 0.45370668), (3527, 0.6598901), (3528, 0.92587876), (3529, 0.9913582), (3530, 0.9728059), (3531, 0.8001093), (3532, 0.9770542), (3533, 0.97540927), (3534, 0.99158746), (3535, 0.86549455), (3536, 0.924149), (3537, 0.7361437), (3538, 0.52881783), (3539, 0.9505322), (3540, 0.85869014), (3541, 0.99803), (3542, 0.4946713), (3543, 0.9999389), (3544, 0.9799896), (3545, 0.9808236), (3546, 0.50717485), (3547, 0.76288944), (3548, 0.99301577), (3549, 0.78958017), (3550, 0.9458893), (3551, 0.9970726), (3552, 0.968886), (3553, 0.999354), (3554, 0.4444945), (3555, 0.40161467), (3556, 0.9976785), (3557, 0.89854693), (3558, 0.9957698), (3559, 0.9733955), (3560, 0.6006173), (3561, 0.59767956), (3562, 0.96589285), (3563, 0.4693743), (3564, 0.9780758), (3565, 0.6804077), (3566, 0.9956534), (3567, 0.99980074), (3568, 0.6524292), (3569, 0.9958848), (3570, 0.950651), (3571, 0.945878), (3572, 0.9627901), (3573, 0.99463034), (3574, 0.98224354), (3575, 0.98179555), (3576, 0.4228028), (3577, 0.6128999), (3578, 0.9999772), (3579, 0.93940383), (3580, 0.9726938), (3581, 0.6557092), (3582, 0.9998939), (3583, 0.38625675), (3584, 0.9612478), (3585, 0.57304394), (3586, 0.4741975), (3587, 0.9253866), (3588, 0.9609284), (3589, 0.8151854), (3590, 0.999285), (3591, 0.88227695), (3592, 0.8183242), (3593, 0.92416054), (3594, 0.8572179), (3595, 0.96502095), (3596, 0.9769743), (3597, 0.95670223), (3598, 0.9973465), (3599, 0.5168836), (3600, 0.9844209), (3601, 0.89562875), (3602, 0.8927786), (3603, 0.90784603), (3604, 0.96859324), (3605, 0.93354917), (3606, 0.9961419), (3607, 0.99992114), (3608, 0.98716915), (3609, 0.99945605), (3610, 0.940682), (3611, 0.58567446), (3612, 0.990885), (3613, 0.9643189), (3614, 0.9998476), (3615, 0.92824256), (3616, 0.9343053), (3617, 0.6449695), (3618, 0.8292973), (3619, 0.9818289), (3620, 0.9195088), (3621, 0.9391254), (3622, 0.5629521), (3623, 0.7068826), (3624, 0.87952983), (3625, 0.98714334), (3626, 0.9999802), (3627, 0.9606052), (3628, 0.9925661), (3629, 0.2621305), (3630, 0.99610645), (3631, 0.92851317), (3632, 0.8367088), (3633, 0.9976441), (3634, 0.9943917), (3635, 0.9189113), (3636, 0.91684985), (3637, 0.9920471), (3638, 0.9783716), (3639, 0.4826036), (3640, 0.9729249), (3641, 0.9924023), (3642, 0.994353), (3643, 0.9713727), (3644, 0.9374509), (3645, 0.9818789), (3646, 0.94016635), (3647, 0.6284044), (3648, 0.9042766), (3649, 0.9780434), (3650, 0.76288944), (3651, 0.86174864), (3652, 0.91111135), (3653, 0.9983291), (3654, 0.9963041), (3655, 0.97810173), (3656, 0.97836584), (3657, 0.99989516), (3658, 0.9995337), (3659, 0.9944067), (3660, 0.9989119), (3661, 0.87832093), (3662, 0.4211064), (3663, 0.43252516), (3664, 0.9835365), (3665, 0.42178142), (3666, 0.477278), (3667, 0.9970875), (3668, 0.9810553), (3669, 0.65528834), (3670, 0.9226225), (3671, 0.7135203), (3672, 0.4946713), (3673, 0.9964652), (3674, 0.99008584), (3675, 0.91864526), (3676, 0.6357831), (3677, 0.999297), (3678, 0.9706881), (3679, 0.96876955), (3680, 0.96666646), (3681, 0.9065969), (3682, 0.97271687), (3683, 0.9824502), (3684, 0.9940435), (3685, 0.93636113), (3686, 0.8996484), (3687, 0.96905446), (3688, 0.95936936), (3689, 0.7947846), (3690, 0.9952747), (3691, 0.99208415), (3692, 0.97782195), (3693, 0.3440772), (3694, 0.4538246), (3695, 0.55857015), (3696, 0.9593918), (3697, 0.9874998), (3698, 0.98654914), (3699, 0.99989533), (3700, 0.9537), (3701, 0.9396221), (3702, 0.99444014), (3703, 0.9401987), (3704, 0.9190082), (3705, 0.99363166), (3706, 0.36626607), (3707, 0.9967315), (3708, 0.41864565), (3709, 0.99615264), (3710, 0.37676242), (3711, 0.9618797), (3712, 0.8606099), (3713, 0.92270416), (3714, 0.9871384), (3715, 0.9961663), (3716, 0.7749508), (3717, 0.9999767), (3718, 0.60838354), (3719, 0.9084144), (3720, 0.9956255), (3721, 0.9978124), (3722, 0.9575077), (3723, 0.78602076), (3724, 0.981568), (3725, 0.99871004), (3726, 0.999989), (3727, 0.9263067), (3728, 0.99992716), (3729, 0.9991467), (3730, 0.928978), (3731, 0.94962317), (3732, 0.9713727), (3733, 0.613765), (3734, 0.94878674), (3735, 0.9569108), (3736, 0.8272708), (3737, 0.996309), (3738, 0.9256709), (3739, 0.8800401), (3740, 0.9885937), (3741, 0.9134541), (3742, 0.92426455), (3743, 0.3544206), (3744, 0.97247475), (3745, 0.4311187), (3746, 0.99186784), (3747, 0.7676894), (3748, 0.3399973), (3749, 0.9457123), (3750, 0.96324766), (3751, 0.4968534), (3752, 0.97552997), (3753, 0.95830727), (3754, 0.8884231), (3755, 0.7675787), (3756, 0.49129367), (3757, 0.9887482), (3758, 0.9223366), (3759, 0.99665266), (3760, 0.61010724), (3761, 0.89765), (3762, 0.97323054), (3763, 0.89814603), (3764, 0.9670075), (3765, 0.9739994), (3766, 0.8908337), (3767, 0.9009473), (3768, 0.99983644), (3769, 0.7316909), (3770, 0.9960177), (3771, 0.52265686), (3772, 0.9490649), (3773, 0.51678145), (3774, 0.9744357), (3775, 0.98384), (3776, 0.9590557), (3777, 0.8224391), (3778, 0.41256618), (3779, 0.9158824), (3780, 0.9448663), (3781, 0.9990141), (3782, 0.9615287), (3783, 0.7575298), (3784, 0.9627069), (3785, 0.96991897), (3786, 0.8001348), (3787, 0.49769104), (3788, 0.8613659), (3789, 0.9699676), (3790, 0.9990434), (3791, 0.95175225), (3792, 0.8947863), (3793, 0.94664574), (3794, 0.98718315), (3795, 0.9969835), (3796, 0.992106), (3797, 0.9825699), (3798, 0.7737552), (3799, 0.9590744), (3800, 0.9529245), (3801, 0.4543627), (3802, 0.97638565), (3803, 0.98298764), (3804, 0.6529253), (3805, 0.9453709), (3806, 0.9984319), (3807, 0.9687382), (3808, 0.46840483), (3809, 0.56901616), (3810, 0.9666487), (3811, 0.97246325), (3812, 0.9974623), (3813, 0.92979074), (3814, 0.94045913), (3815, 0.96100307), (3816, 0.4409412), (3817, 0.9809263), (3818, 0.99734443), (3819, 0.970531), (3820, 0.93114007), (3821, 0.8375741), (3822, 0.91529256), (3823, 0.41671002), (3824, 0.9155551), (3825, 0.87538886), (3826, 0.9996626), (3827, 0.9462777), (3828, 0.60791075), (3829, 0.97864026), (3830, 0.9991414), (3831, 0.78558636), (3832, 0.9189545), (3833, 0.98035336), (3834, 0.39542556), (3835, 0.99166036), (3836, 0.98944473), (3837, 0.9370128), (3838, 0.69448745), (3839, 0.9919803), (3840, 0.46763784), (3841, 0.38414723), (3842, 0.96626693), (3843, 0.97579014), (3844, 0.9500825), (3845, 0.9937205), (3846, 0.9892904), (3847, 0.9829641), (3848, 0.98658377), (3849, 0.92516744), (3850, 0.68034), (3851, 0.84669363), (3852, 0.95137393), (3853, 0.38219953), (3854, 0.9593063), (3855, 0.92656136), (3856, 0.9997393), (3857, 0.97358555), (3858, 0.8594842), (3859, 0.9997456), (3860, 0.44262174), (3861, 0.625704), (3862, 0.94586223), (3863, 0.933399), (3864, 0.9978401), (3865, 0.43027645), (3866, 0.9641856), (3867, 0.45386055), (3868, 0.93985087), (3869, 0.94703794), (3870, 0.9982174), (3871, 0.91737247), (3872, 0.96499205), (3873, 0.96438307), (3874, 0.9846292), (3875, 0.8759879), (3876, 0.95673454), (3877, 0.96106213), (3878, 0.95931506), (3879, 0.97641844), (3880, 0.99820125), (3881, 0.9992726), (3882, 0.96408564), (3883, 0.9947969), (3884, 0.42113894), (3885, 0.706051), (3886, 0.5211107), (3887, 0.8714348), (3888, 0.9523815), (3889, 0.9858897), (3890, 0.95893925), (3891, 0.93193316), (3892, 0.95664996), (3893, 0.9529284), (3894, 0.75129914), (3895, 0.9495999), (3896, 0.9556935), (3897, 0.9849396), (3898, 0.97197324), (3899, 0.9446469), (3900, 0.9697214), (3901, 0.9681426), (3902, 0.48582122), (3903, 0.9878511), (3904, 0.99950254), (3905, 0.91116136), (3906, 0.53985167), (3907, 0.97972435), (3908, 0.36280432), (3909, 0.99342567), (3910, 0.64978653), (3911, 0.93047875), (3912, 0.99741286), (3913, 0.7091604), (3914, 0.9874036), (3915, 0.99767864), (3916, 0.92266566), (3917, 0.9866803), (3918, 0.9939115), (3919, 0.49703383), (3920, 0.97313356), (3921, 0.97424704), (3922, 0.9777491), (3923, 0.9998846), (3924, 0.9998888), (3925, 0.74037564), (3926, 0.93212545), (3927, 0.89458644), (3928, 0.94824946), (3929, 0.7256202), (3930, 0.6016259), (3931, 0.55911225), (3932, 0.51596), (3933, 0.9016573), (3934, 0.47357696), (3935, 0.99886197), (3936, 0.47399184), (3937, 0.43992662), (3938, 0.98141825), (3939, 0.7551859), (3940, 0.9786503), (3941, 0.9920694), (3942, 0.30013114), (3943, 0.9877666), (3944, 0.9148879), (3945, 0.5394254), (3946, 0.92045885), (3947, 0.9555063), (3948, 0.9552704), (3949, 0.3637513), (3950, 0.99182206), (3951, 0.76664025), (3952, 0.38612086), (3953, 0.99240506), (3954, 0.92159325), (3955, 0.5467408), (3956, 0.9634223), (3957, 0.90774614), (3958, 0.9915379), (3959, 0.9021132), (3960, 0.94024336), (3961, 0.9979788), (3962, 0.97303355), (3963, 0.97956514), (3964, 0.9012466), (3965, 0.4323591), (3966, 0.99946994), (3967, 0.8883678), (3968, 0.99227846), (3969, 0.7647086), (3970, 0.99676245), (3971, 0.9135975), (3972, 0.97465533), (3973, 0.9709401), (3974, 0.8661028), (3975, 0.99795926), (3976, 0.99857527), (3977, 0.93357706), (3978, 0.99805343), (3979, 0.99998033), (3980, 0.9266991), (3981, 0.9355521), (3982, 0.9441103), (3983, 0.3203236), (3984, 0.90967375), (3985, 0.9665866), (3986, 0.76737666), (3987, 0.9929602), (3988, 0.47638774), (3989, 0.97410524), (3990, 0.9578725), (3991, 0.9880082), (3992, 0.9724732), (3993, 0.9565973), (3994, 0.45944732), (3995, 0.5988836), (3996, 0.9933745), (3997, 0.41291142), (3998, 0.9998844), (3999, 0.9822618), (4000, 0.73985976), (4001, 0.7544569), (4002, 0.9015345), (4003, 0.42315143), (4004, 0.7534623), (4005, 0.48406458), (4006, 0.98749435), (4007, 0.9086636), (4008, 0.9818571), (4009, 0.47077653), (4010, 0.91683376), (4011, 0.9386711), (4012, 0.915538), (4013, 0.99608), (4014, 0.94713587), (4015, 0.5315118), (4016, 0.94571865), (4017, 0.97794896), (4018, 0.88129103), (4019, 0.9895578), (4020, 0.92385143), (4021, 0.964921), (4022, 0.9496113), (4023, 0.9984317), (4024, 0.9831014), (4025, 0.9773688), (4026, 0.36324847), (4027, 0.4942972), (4028, 0.9829974), (4029, 0.9191208), (4030, 0.56328), (4031, 0.4262991), (4032, 0.99985796), (4033, 0.91446835), (4034, 0.5803746), (4035, 0.5530512), (4036, 0.46235353), (4037, 0.9889619), (4038, 0.8868491), (4039, 0.83120745), (4040, 0.99263823), (4041, 0.98345304), (4042, 0.94953924), (4043, 0.9999988), (4044, 0.5805473), (4045, 0.4512193), (4046, 0.87210685), (4047, 0.97335446), (4048, 0.95506567), (4049, 0.9826191), (4050, 0.981646), (4051, 0.36351815), (4052, 0.51709145), (4053, 0.5985231), (4054, 0.82899237), (4055, 0.9283532), (4056, 0.83825326), (4057, 0.93470454), (4058, 0.98032016), (4059, 0.89234823), (4060, 0.75236815), (4061, 0.9833529), (4062, 0.9814499), (4063, 0.8949623), (4064, 0.92006403), (4065, 0.99374884), (4066, 0.8760242), (4067, 0.42160067), (4068, 0.9750445), (4069, 0.52648777), (4070, 0.95646936), (4071, 0.40746206), (4072, 0.9952994), (4073, 0.8154358), (4074, 0.5404393), (4075, 0.8509567), (4076, 0.35459983), (4077, 0.9837396), (4078, 0.9204391), (4079, 0.9866126), (4080, 0.92355764), (4081, 0.96251965), (4082, 0.9895243), (4083, 0.48541713), (4084, 0.72398454), (4085, 0.9346976), (4086, 0.90503037), (4087, 0.84518236), (4088, 0.9692747), (4089, 0.9957574), (4090, 0.99535197), (4091, 0.9367358), (4092, 0.6786184), (4093, 0.4790326), (4094, 0.9785751), (4095, 0.8350339), (4096, 0.6993524), (4097, 0.94018996), (4098, 0.43378785), (4099, 0.9936346), (4100, 0.44148967), (4101, 0.99758404), (4102, 0.86232936), (4103, 0.99970824), (4104, 0.3334195), (4105, 0.9835731), (4106, 0.96079266), (4107, 0.9963084), (4108, 0.9827733), (4109, 0.98474044), (4110, 0.98572004), (4111, 0.978463), (4112, 0.97576654), (4113, 0.9706881), (4114, 0.9997588), (4115, 0.982542), (4116, 0.9868268), (4117, 0.9831112), (4118, 0.962095), (4119, 0.99679166), (4120, 0.99244535), (4121, 0.97429633), (4122, 0.9455278), (4123, 0.96402025), (4124, 0.99912226), (4125, 0.8189859), (4126, 0.8714348), (4127, 0.88527465), (4128, 0.93913436), (4129, 0.92584425), (4130, 0.31570113), (4131, 0.56622857), (4132, 0.52188486), (4133, 0.6824341), (4134, 0.9256709), (4135, 0.91401047), (4136, 0.920197), (4137, 0.79400265), (4138, 0.9562404), (4139, 0.9883326), (4140, 0.9506025), (4141, 0.57971555), (4142, 0.9774742), (4143, 0.9329181), (4144, 0.98361945), (4145, 0.9950301), (4146, 0.9656347), (4147, 0.8534175), (4148, 0.9951232), (4149, 0.2352889), (4150, 0.999858), (4151, 0.9953766), (4152, 0.95496833), (4153, 0.9317899), (4154, 0.99874663), (4155, 0.9246624), (4156, 0.992227), (4157, 0.62584376), (4158, 0.33153117), (4159, 0.4998026), (4160, 0.46393186), (4161, 0.54835606), (4162, 0.9282871), (4163, 0.94190633), (4164, 0.51860356), (4165, 0.86242145), (4166, 0.9457165), (4167, 0.9611928), (4168, 0.91509396), (4169, 0.9310436), (4170, 0.96408534), (4171, 0.9981353), (4172, 0.9975437), (4173, 0.8334584), (4174, 0.5211542), (4175, 0.99993503), (4176, 0.76211053), (4177, 0.98709154), (4178, 0.89177626), (4179, 0.9419755), (4180, 0.81953967), (4181, 0.987366), (4182, 0.6503094), (4183, 0.9999395), (4184, 0.6355208), (4185, 0.9861039), (4186, 0.5930939), (4187, 0.9703728), (4188, 0.9902527), (4189, 0.94531757), (4190, 0.29862934), (4191, 0.9768773), (4192, 0.4889909), (4193, 0.9619466), (4194, 0.7676894), (4195, 0.5794391), (4196, 0.9661961), (4197, 0.9607406), (4198, 0.87393004), (4199, 0.9693097), (4200, 0.90439713), (4201, 0.98496246), (4202, 0.85417557), (4203, 0.9999893), (4204, 0.9966037), (4205, 0.98395956), (4206, 0.9999734), (4207, 0.9955746), (4208, 0.9640337), (4209, 0.46623492), (4210, 0.9566793), (4211, 0.43421268), (4212, 0.9532946), (4213, 0.9978093), (4214, 0.9895676), (4215, 0.9999072), (4216, 0.91933256), (4217, 0.9764972), (4218, 0.5011107), (4219, 0.7691246), (4220, 0.35042697), (4221, 0.89921474), (4222, 0.96165997), (4223, 0.9944898), (4224, 0.9755869), (4225, 0.9204169), (4226, 0.9913203), (4227, 0.72018933), (4228, 0.9999009), (4229, 0.5803701), (4230, 0.8647084), (4231, 0.4254812), (4232, 0.39501405), (4233, 0.98971957), (4234, 0.8667626), (4235, 0.47667822), (4236, 0.98215), (4237, 0.9202791), (4238, 0.5139514), (4239, 0.7741794), (4240, 0.996384), (4241, 0.9355627), (4242, 0.98111606), (4243, 0.57491136), (4244, 0.9550316), (4245, 0.96723044), (4246, 0.504906), (4247, 0.9101324), (4248, 0.7734844), (4249, 0.97758436), (4250, 0.9996797), (4251, 0.9070894), (4252, 0.34092936), (4253, 0.49552393), (4254, 0.41448963), (4255, 0.9546795), (4256, 0.9993714), (4257, 0.9743445), (4258, 0.4511568), (4259, 0.998283), (4260, 0.98587924), (4261, 0.8982339), (4262, 0.9608154), (4263, 0.63530016), (4264, 0.8593834), (4265, 0.96404314), (4266, 0.99921715), (4267, 0.9211981), (4268, 0.7226794), (4269, 0.40008646), (4270, 0.9823295), (4271, 0.9670213), (4272, 0.97757983), (4273, 0.99540573), (4274, 0.6432847), (4275, 0.3492591), (4276, 0.9998468), (4277, 0.935852), (4278, 0.9894058), (4279, 0.95282584), (4280, 0.6726258), (4281, 0.930701), (4282, 0.41651118), (4283, 0.78574365), (4284, 0.5081614), (4285, 0.89490056), (4286, 0.4750908), (4287, 0.989436), (4288, 0.7396548), (4289, 0.9684901), (4290, 0.4409412), (4291, 0.9689532), (4292, 0.3924142), (4293, 0.81940866), (4294, 0.8375607), (4295, 0.99177516), (4296, 0.94418436), (4297, 0.98385257), (4298, 0.98854405), (4299, 0.9572266), (4300, 0.9842552), (4301, 0.9449782), (4302, 0.9998154), (4303, 0.9975482), (4304, 0.9987068), (4305, 0.4394085), (4306, 0.9637257), (4307, 0.98635167), (4308, 0.4452753), (4309, 0.9856242), (4310, 0.8198753), (4311, 0.91401803), (4312, 0.983303), (4313, 0.9471236), (4314, 0.9696639), (4315, 0.9551486), (4316, 0.84361255), (4317, 0.37318772), (4318, 0.9935192), (4319, 0.9811575), (4320, 0.9936847), (4321, 0.9644504), (4322, 0.9890306), (4323, 0.99818295), (4324, 0.48239067), (4325, 0.2907923), (4326, 0.68244153), (4327, 0.6524292), (4328, 0.95803946), (4329, 0.9942965), (4330, 0.95107293), (4331, 0.9432105), (4332, 0.8472314), (4333, 0.9556183), (4334, 0.93834394), (4335, 0.9027197), (4336, 0.8809045), (4337, 0.397698), (4338, 0.9996014), (4339, 0.47549218), (4340, 0.8724897), (4341, 0.97942764), (4342, 0.97433203), (4343, 0.32096586), (4344, 0.9993875), (4345, 0.42325824), (4346, 0.9878642), (4347, 0.50833553), (4348, 0.96792823), (4349, 0.97955436), (4350, 0.95210874), (4351, 0.97204965), (4352, 0.9564576), (4353, 0.9676715), (4354, 0.8989901), (4355, 0.9980112), (4356, 0.96705824), (4357, 0.3377275), (4358, 0.5749111), (4359, 0.9709756), (4360, 0.98021054), (4361, 0.8188253), (4362, 0.98889494), (4363, 0.69647753), (4364, 0.96642715), (4365, 0.9100475), (4366, 0.992093), (4367, 0.97978425), (4368, 0.94775045), (4369, 0.9292549), (4370, 0.5978376), (4371, 0.42356843), (4372, 0.9786732), (4373, 0.99342793), (4374, 0.85042506), (4375, 0.9851723), (4376, 0.993588), (4377, 0.81451344), (4378, 0.9610737), (4379, 0.8058936), (4380, 0.58543134), (4381, 0.9950749), (4382, 0.9766973), (4383, 0.9508683), (4384, 0.9753805), (4385, 0.9851723), (4386, 0.9315301), (4387, 0.99081576), (4388, 0.7348367), (4389, 0.943285), (4390, 0.9723414), (4391, 0.9566808), (4392, 0.85956144), (4393, 0.9328108), (4394, 0.94089013), (4395, 0.7168227), (4396, 0.9612984), (4397, 0.9923206), (4398, 0.9520049), (4399, 0.5965246), (4400, 0.5750247), (4401, 0.89182234), (4402, 0.99385226), (4403, 0.8248558), (4404, 0.912369), (4405, 0.9577186), (4406, 0.97471875), (4407, 0.9189113), (4408, 0.9926628), (4409, 0.9763505), (4410, 0.7770457), (4411, 0.8639624), (4412, 0.9946837), (4413, 0.9261224), (4414, 0.96935815), (4415, 0.9875847), (4416, 0.9987035), (4417, 0.9242155), (4418, 0.9341055), (4419, 0.9789211), (4420, 0.56445503), (4421, 0.9468616), (4422, 0.99945766), (4423, 0.5692432), (4424, 0.87208617), (4425, 0.8980833), (4426, 0.8899725), (4427, 0.9993348), (4428, 0.70601594), (4429, 0.53729796), (4430, 0.97395563), (4431, 0.86221594), (4432, 0.9242269), (4433, 0.6655591), (4434, 0.8522823), (4435, 0.9207743), (4436, 0.9922202), (4437, 0.96842045), (4438, 0.9490105), (4439, 0.77608025), (4440, 0.9990577), (4441, 0.9568691), (4442, 0.3784716), (4443, 0.95855016), (4444, 0.9401803), (4445, 0.983125), (4446, 1.0), (4447, 0.9859202), (4448, 0.99998754), (4449, 0.47248083), (4450, 0.40139633), (4451, 1.0), (4452, 0.9949034), (4453, 0.8757013), (4454, 0.9562404), (4455, 0.9914655), (4456, 0.91294163), (4457, 0.477278), (4458, 0.870206), (4459, 0.4934126), (4460, 0.9784544), (4461, 0.9948436), (4462, 0.9963191), (4463, 0.48113334), (4464, 0.9774186), (4465, 0.9969784), (4466, 0.72018933), (4467, 0.9275599), (4468, 0.9959762), (4469, 0.99996847), (4470, 0.79262865), (4471, 0.98888594), (4472, 0.5293689), (4473, 0.70296246), (4474, 0.71794), (4475, 0.9983386), (4476, 0.9540061), (4477, 0.3565123), (4478, 0.9818804), (4479, 0.99820244), (4480, 0.95744526), (4481, 0.87212616), (4482, 0.9850852), (4483, 0.9707629), (4484, 0.99944913), (4485, 0.43100753), (4486, 0.95101535), (4487, 0.41301954), (4488, 0.9499757), (4489, 0.9566103), (4490, 0.9011382), (4491, 0.55495566), (4492, 0.94216436), (4493, 0.93403894), (4494, 0.89962995), (4495, 0.9948503), (4496, 0.69530606), (4497, 0.9942301), (4498, 0.96599054), (4499, 0.9351262), (4500, 0.9991381), (4501, 0.90577453), (4502, 0.3952634), (4503, 0.5537268), (4504, 0.9606599), (4505, 0.9630362), (4506, 0.8657457), (4507, 0.98474044), (4508, 0.97264516), (4509, 0.98560286), (4510, 0.9097932), (4511, 0.7360176), (4512, 0.43252516), (4513, 0.9410187), (4514, 0.8880825), (4515, 0.61221474), (4516, 0.8537393), (4517, 0.8961741), (4518, 0.9987874), (4519, 0.9998466), (4520, 0.8936422), (4521, 0.9327197), (4522, 0.9450486), (4523, 0.982711), (4524, 0.96883005), (4525, 0.5747483), (4526, 0.9889098), (4527, 0.9710312), (4528, 0.9996655), (4529, 0.96964425), (4530, 0.9896399), (4531, 0.7915159), (4532, 0.99757683), (4533, 0.9726778), (4534, 0.43290427), (4535, 0.9950936), (4536, 0.95710593), (4537, 0.9972632), (4538, 0.9463669), (4539, 0.9994298), (4540, 0.6423308), (4541, 0.999619), (4542, 0.9687302), (4543, 0.7866312), (4544, 0.3941008), (4545, 0.99152803), (4546, 0.92480814), (4547, 0.94116485), (4548, 0.7696857), (4549, 0.9145668), (4550, 0.9814656), (4551, 0.99986637), (4552, 0.9887482), (4553, 0.3433685), (4554, 0.95468926), (4555, 0.9982276), (4556, 0.5671969), (4557, 0.8011793), (4558, 0.9993474), (4559, 0.6411007), (4560, 0.9607219), (4561, 0.76182634), (4562, 0.9199024), (4563, 0.97951126), (4564, 0.98569363), (4565, 0.98029965), (4566, 0.9216547), (4567, 0.35338336), (4568, 0.4321713), (4569, 0.9606719), (4570, 0.99739194), (4571, 0.99012154), (4572, 0.995529), (4573, 0.4765948), (4574, 0.9929468), (4575, 0.97597176), (4576, 0.97435117), (4577, 0.97268486), (4578, 0.92083704), (4579, 0.42935252), (4580, 0.9911824), (4581, 0.9886072), (4582, 0.61281836), (4583, 0.8810099), (4584, 0.9308358), (4585, 0.86176455), (4586, 0.9233237), (4587, 0.99890167), (4588, 0.99488527), (4589, 0.6237509), (4590, 0.9986983), (4591, 0.50917935), (4592, 0.5858298), (4593, 0.9093772), (4594, 0.9773208), (4595, 0.5804756), (4596, 0.9598761), (4597, 0.9645455), (4598, 0.9379561), (4599, 0.9661836), (4600, 0.87689185), (4601, 0.47836363), (4602, 0.92478865), (4603, 0.33067375), (4604, 0.73622125), (4605, 0.74970037), (4606, 0.7093013), (4607, 0.4186385), (4608, 0.9951727), (4609, 0.31076995), (4610, 0.99259025), (4611, 0.9330288), (4612, 0.32260752), (4613, 0.7094625), (4614, 0.9913382), (4615, 0.6172772), (4616, 0.49738622), (4617, 0.9147684), (4618, 0.96450514), (4619, 0.910313), (4620, 0.99979377), (4621, 0.97087675), (4622, 0.99922085), (4623, 0.938603), (4624, 0.92512363), (4625, 0.99876964), (4626, 0.9797882), (4627, 0.99893415), (4628, 0.90181226), (4629, 0.62795496), (4630, 0.589903), (4631, 0.95634913), (4632, 0.80409455), (4633, 0.98302233), (4634, 0.91852796), (4635, 0.9998085), (4636, 0.99923474), (4637, 0.9750998), (4638, 0.95545304), (4639, 0.98087496), (4640, 0.4805235), (4641, 0.44942987), (4642, 0.9995066), (4643, 0.959076), (4644, 0.99198914), (4645, 0.96251535), (4646, 0.34320623), (4647, 0.9580196), (4648, 0.91942173), (4649, 0.999999), (4650, 0.5981936), (4651, 0.9846765), (4652, 0.89779824), (4653, 0.99134946), (4654, 0.9993614), (4655, 0.675581), (4656, 0.98541796), (4657, 0.46009433), (4658, 0.9840571), (4659, 0.5733904), (4660, 0.97777194), (4661, 0.9930161), (4662, 0.5731758), (4663, 0.7884756), (4664, 0.32588267), (4665, 0.98925096), (4666, 0.96614915), (4667, 0.99755013), (4668, 0.55418164), (4669, 0.9140412), (4670, 0.5645567), (4671, 0.96956974), (4672, 0.91125643), (4673, 0.9854592), (4674, 0.38851017), (4675, 0.98340553), (4676, 0.9452988), (4677, 0.9501916), (4678, 0.998346), (4679, 0.84264123), (4680, 0.9355575), (4681, 0.63150847), (4682, 0.30068338), (4683, 0.36293882), (4684, 0.99990827), (4685, 0.5891397), (4686, 0.8444216), (4687, 0.98075914), (4688, 0.44051594), (4689, 0.9910763), (4690, 0.9900135), (4691, 0.9997916), (4692, 0.9681223), (4693, 0.9800704), (4694, 0.46465427), (4695, 0.94366336), (4696, 0.7885215), (4697, 0.9251141), (4698, 0.99831086), (4699, 0.93089056), (4700, 0.93703735), (4701, 0.9880131), (4702, 0.99949557), (4703, 0.98696154), (4704, 0.9867652), (4705, 0.99251425), (4706, 0.91214114), (4707, 0.99793494), (4708, 0.67351085), (4709, 0.47405034), (4710, 0.9526271), (4711, 0.49488342), (4712, 0.99988943), (4713, 0.96910805), (4714, 0.44788873), (4715, 0.8891297), (4716, 0.85536176), (4717, 0.9489894), (4718, 0.9510398), (4719, 0.98198825), (4720, 0.9912846), (4721, 0.9133861), (4722, 0.99995726), (4723, 0.9614442), (4724, 0.9768484), (4725, 0.74880195), (4726, 0.9788551), (4727, 0.9690118), (4728, 0.7107828), (4729, 0.98745084), (4730, 0.9841746), (4731, 0.92106235), (4732, 0.5568663), (4733, 0.9470326), (4734, 0.9912736), (4735, 0.25161594), (4736, 0.9901336), (4737, 0.4184146), (4738, 0.982027), (4739, 0.9985431), (4740, 0.9951981), (4741, 0.49050885), (4742, 0.99867046), (4743, 0.99089307), (4744, 0.95187044), (4745, 0.35084778), (4746, 0.9448172), (4747, 0.9718684), (4748, 0.99752986), (4749, 0.983364), (4750, 0.9083798), (4751, 0.9879884), (4752, 0.57610196), (4753, 0.6595185), (4754, 0.99755216), (4755, 0.5229994), (4756, 0.5017461), (4757, 0.5442648), (4758, 0.9771048), (4759, 0.91448927), (4760, 0.9360375), (4761, 0.72741747), (4762, 0.9985308), (4763, 0.9299176), (4764, 0.41425586), (4765, 0.97767574), (4766, 0.7887369), (4767, 0.4630824), (4768, 0.6469079), (4769, 0.99920654), (4770, 0.4255798), (4771, 0.46191773), (4772, 0.93977547), (4773, 0.4870038), (4774, 0.94235873), (4775, 0.9818262), (4776, 0.9347244), (4777, 0.9926299), (4778, 0.7498832), (4779, 0.9728758), (4780, 0.9727627), (4781, 0.48426375), (4782, 0.9489433), (4783, 0.67086905), (4784, 0.97319645), (4785, 0.6901023), (4786, 0.99842054), (4787, 0.9628787), (4788, 0.99289393), (4789, 0.99948865), (4790, 0.70271635), (4791, 0.9995437), (4792, 0.89563715), (4793, 0.5671889), (4794, 0.49303055), (4795, 0.9999212), (4796, 0.9619829), (4797, 0.86895984), (4798, 0.67893285), (4799, 0.9951243), (4800, 0.3334195), (4801, 0.8965616), (4802, 0.9991083), (4803, 0.92106676), (4804, 0.9784683), (4805, 0.8041762), (4806, 0.9992538), (4807, 0.42600265), (4808, 0.8982342), (4809, 0.9188264), (4810, 0.999958), (4811, 0.78775066), (4812, 0.97707325), (4813, 0.41132677), (4814, 0.95785123), (4815, 0.938557), (4816, 0.96466637), (4817, 0.9017509), (4818, 0.9824513), (4819, 0.99884677), (4820, 0.9025185), (4821, 0.4399448), (4822, 0.9059134), (4823, 0.9962984), (4824, 0.96164787), (4825, 0.93840355), (4826, 0.796738), (4827, 0.37180108), (4828, 0.98275805), (4829, 0.8970952), (4830, 0.24625812), (4831, 0.9849697), (4832, 0.94835955), (4833, 0.9792892), (4834, 0.99963427), (4835, 0.962839), (4836, 0.53868514), (4837, 0.95267916), (4838, 0.9822071), (4839, 0.97142553), (4840, 0.9861391), (4841, 0.94316065), (4842, 0.9997643), (4843, 0.98682386), (4844, 0.97757566), (4845, 0.41143054), (4846, 0.6401089), (4847, 0.85960877), (4848, 0.9914836), (4849, 0.5148297), (4850, 0.9643427), (4851, 0.9691286), (4852, 0.9961362), (4853, 0.7866312), (4854, 0.75107414), (4855, 0.46164918), (4856, 0.3957078), (4857, 0.81324124), (4858, 0.9863187), (4859, 0.9845487), (4860, 0.95462334), (4861, 0.37330374), (4862, 0.92281276), (4863, 0.6056727), (4864, 0.9980183), (4865, 0.99310905), (4866, 0.9890407), (4867, 0.4574261), (4868, 0.91361696), (4869, 0.9624417), (4870, 0.82287294), (4871, 0.97686243), (4872, 0.99549735), (4873, 0.54355806), (4874, 0.91295743), (4875, 0.7508105), (4876, 0.8619145), (4877, 0.8955358), (4878, 0.9999212), (4879, 0.5542953), (4880, 0.93797374), (4881, 0.9235558), (4882, 0.9092716), (4883, 0.3570798), (4884, 0.9364559), (4885, 0.46378294), (4886, 0.48286217), (4887, 0.99855876), (4888, 0.868461), (4889, 0.99810296), (4890, 0.99029183), (4891, 0.90451056), (4892, 0.98758155), (4893, 0.9995024), (4894, 0.99395275), (4895, 0.9778869), (4896, 0.9619282), (4897, 0.99564433), (4898, 0.9057398), (4899, 0.9995137), (4900, 0.9501121), (4901, 0.9806963), (4902, 0.9111378), (4903, 0.99243957), (4904, 0.5360774), (4905, 0.90215653), (4906, 0.9811226), (4907, 0.97830963), (4908, 0.9895368), (4909, 0.86217), (4910, 0.999953), (4911, 0.9620749), (4912, 0.8961296), (4913, 0.5366264), (4914, 0.9450414), (4915, 0.99841756), (4916, 0.9460943), (4917, 0.46738124), (4918, 0.8842582), (4919, 0.5257305), (4920, 0.9142717), (4921, 0.90691495), (4922, 0.9973018), (4923, 0.9923904), (4924, 0.46361223), (4925, 0.9140412), (4926, 0.99229115), (4927, 0.96277297), (4928, 0.9847628), (4929, 0.9757519), (4930, 0.9997468), (4931, 0.8084047), (4932, 0.62602127), (4933, 0.6031757), (4934, 0.91969234), (4935, 0.5358799), (4936, 0.45052218), (4937, 0.99995965), (4938, 0.5468457), (4939, 0.9886116), (4940, 0.995357), (4941, 0.6561455), (4942, 0.82270485), (4943, 0.95930237), (4944, 0.3571634), (4945, 0.95211905), (4946, 0.95733917), (4947, 0.59139866), (4948, 0.98492706), (4949, 0.96232915), (4950, 0.64475393), (4951, 0.9410981), (4952, 0.9960177), (4953, 0.98577744), (4954, 0.96251315), (4955, 0.75739664), (4956, 0.9976606), (4957, 0.9882497), (4958, 0.6289956), (4959, 0.47211367), (4960, 0.92658824), (4961, 0.99767745), (4962, 0.9978953), (4963, 0.9359541), (4964, 0.99992394), (4965, 0.34004545), (4966, 0.99366146), (4967, 0.9976101), (4968, 0.870176), (4969, 0.3634836), (4970, 0.86972106), (4971, 0.48078588), (4972, 0.45926654), (4973, 0.9924607), (4974, 0.9964603), (4975, 0.9275743), (4976, 0.988009), (4977, 0.95382756), (4978, 0.48403066), (4979, 0.9561338), (4980, 0.99990475), (4981, 0.99537593), (4982, 0.88893425), (4983, 0.99829906), (4984, 0.41185707), (4985, 0.9937402), (4986, 0.9965443), (4987, 0.5899284), (4988, 0.9871845), (4989, 0.9570927), (4990, 0.99090743), (4991, 0.70298), (4992, 0.98256814), (4993, 0.97873557), (4994, 0.43361646), (4995, 0.835052), (4996, 0.9997292), (4997, 0.9371517), (4998, 0.8387835), (4999, 0.9245798), (5000, 0.94197387), (5001, 0.91694885), (5002, 0.9936214), (5003, 0.729962), (5004, 0.9953743), (5005, 0.99004894), (5006, 0.90657294), (5007, 0.9519566), (5008, 0.9219782), (5009, 0.9900301), (5010, 0.9825367), (5011, 0.979785), (5012, 0.9475726), (5013, 0.94313794), (5014, 0.6111806), (5015, 0.991593), (5016, 0.79046154), (5017, 0.99094236), (5018, 0.8315388), (5019, 0.99234974), (5020, 0.94090843), (5021, 0.9708401), (5022, 0.45588845), (5023, 0.47716218), (5024, 0.92488146), (5025, 0.9066147), (5026, 0.6172164), (5027, 0.36811027), (5028, 0.9926558), (5029, 0.9999807), (5030, 0.7362443), (5031, 0.9940614), (5032, 0.9821882), (5033, 0.92711365), (5034, 0.972214), (5035, 0.40469396), (5036, 0.8378913), (5037, 0.90293896), (5038, 0.97935486), (5039, 0.96561265), (5040, 0.9277739), (5041, 0.8819494), (5042, 0.854188), (5043, 0.94050467), (5044, 0.99992394), (5045, 0.99194753), (5046, 0.98801684), (5047, 0.9950928), (5048, 0.9839595), (5049, 0.9708461), (5050, 0.7252645), (5051, 0.6101678), (5052, 0.3498531), (5053, 0.43181038), (5054, 0.99535507), (5055, 0.7494466), (5056, 0.57897186), (5057, 0.99171805), (5058, 0.95183456), (5059, 0.8977393), (5060, 0.95325917), (5061, 0.9441425), (5062, 0.63062036), (5063, 0.952224), (5064, 0.49573457), (5065, 0.44166815), (5066, 0.94860494), (5067, 0.754318), (5068, 0.9614039), (5069, 0.6449984), (5070, 0.9818571), (5071, 0.9119966), (5072, 0.9935508), (5073, 0.9801815), (5074, 0.9050522), (5075, 0.96427613), (5076, 0.9348866), (5077, 0.99518883), (5078, 0.98170227), (5079, 0.98590827), (5080, 0.9970059), (5081, 0.9038781), (5082, 0.9071488), (5083, 0.97992367), (5084, 0.27914953), (5085, 0.5914918), (5086, 0.9972055), (5087, 0.9765202), (5088, 0.9983536), (5089, 0.6911053), (5090, 0.9931223), (5091, 0.99380064), (5092, 0.63589275), (5093, 0.98333424), (5094, 0.8808245), (5095, 0.9791407), (5096, 0.95343256), (5097, 0.9499407), (5098, 0.95670843), (5099, 0.98988026), (5100, 0.99322885), (5101, 0.44114506), (5102, 0.997888), (5103, 0.9902532), (5104, 0.97278816), (5105, 0.99161166), (5106, 0.99774975), (5107, 0.93182516), (5108, 0.7918102), (5109, 0.6246898), (5110, 0.9378222), (5111, 0.87689185), (5112, 0.53868514), (5113, 0.99886197), (5114, 0.33934003), (5115, 0.98428655), (5116, 0.99999577), (5117, 0.7813866), (5118, 0.9907704), (5119, 0.5183375), (5120, 0.99954605), (5121, 0.9938189), (5122, 0.91477025), (5123, 0.93055034), (5124, 0.9979572), (5125, 0.616153), (5126, 0.9562806), (5127, 0.866398), (5128, 0.9814082), (5129, 0.95601684), (5130, 0.98731303), (5131, 0.99186146), (5132, 0.98792064), (5133, 0.9718051), (5134, 0.92672455), (5135, 0.9859155), (5136, 0.9684925), (5137, 0.98653316), (5138, 0.9588486), (5139, 0.9016714), (5140, 0.9376578), (5141, 0.96004224), (5142, 0.9791889), (5143, 0.97621053), (5144, 0.9622858), (5145, 0.99747485), (5146, 0.9930819), (5147, 0.9405962), (5148, 0.97262615), (5149, 0.99951005), (5150, 0.9878851), (5151, 0.3743966), (5152, 0.9164366), (5153, 0.98810506), (5154, 0.9793386), (5155, 0.9332382), (5156, 0.95557725), (5157, 0.96855587), (5158, 0.963297), (5159, 0.99993855), (5160, 0.9042418), (5161, 0.6519268), (5162, 0.98796797), (5163, 0.46991742), (5164, 0.463438), (5165, 0.8616593), (5166, 0.9981803), (5167, 0.9857883), (5168, 0.97008705), (5169, 0.94635123), (5170, 0.92688787), (5171, 0.30200565), (5172, 0.46576825), (5173, 0.5372802), (5174, 0.97372335), (5175, 0.43064183), (5176, 0.9932536), (5177, 0.9727851), (5178, 0.28424305), (5179, 0.9162328), (5180, 0.51336235), (5181, 0.99038196), (5182, 0.9987409), (5183, 0.9984817), (5184, 0.99368674), (5185, 0.9957865), (5186, 0.91276306), (5187, 0.7639781), (5188, 0.8379928), (5189, 0.93529624), (5190, 0.28739947), (5191, 0.96321046), (5192, 0.38801894), (5193, 0.97595966), (5194, 0.98146266), (5195, 0.36408776), (5196, 0.99981296), (5197, 0.99656385), (5198, 0.9998505), (5199, 0.91469353), (5200, 0.97949046), (5201, 0.99815345), (5202, 0.7919611), (5203, 0.9788728), (5204, 0.65628237), (5205, 0.9771148), (5206, 0.98137075), (5207, 0.6361093), (5208, 0.9998668), (5209, 0.9939461), (5210, 0.57311016), (5211, 0.8532473), (5212, 0.99911577), (5213, 0.9999614), (5214, 0.9705648), (5215, 0.95011353), (5216, 0.9131421), (5217, 0.92515093), (5218, 0.9564321), (5219, 0.4095976), (5220, 0.33292603), (5221, 0.9867317), (5222, 0.90560913), (5223, 0.79582936), (5224, 0.53446114), (5225, 0.9861218), (5226, 0.9891234), (5227, 0.8572817), (5228, 0.44956303), (5229, 0.970965), (5230, 0.9411502), (5231, 0.7880507), (5232, 0.9665552), (5233, 0.6505875), (5234, 0.277381), (5235, 0.61221474), (5236, 0.88843447), (5237, 0.97894764), (5238, 0.95354277), (5239, 0.4988318), (5240, 0.9495769), (5241, 0.4916382), (5242, 0.93195575), (5243, 0.9993716), (5244, 0.9768605), (5245, 0.63561743), (5246, 0.6691274), (5247, 0.4434064), (5248, 0.99755967), (5249, 0.99679863), (5250, 0.92488146), (5251, 0.9359395), (5252, 0.99409896), (5253, 0.9275508), (5254, 0.59128207), (5255, 0.45367715), (5256, 0.43309784), (5257, 0.9468616), (5258, 0.99925697), (5259, 0.99004894), (5260, 0.9999498), (5261, 0.99989057), (5262, 0.9796346), (5263, 0.9427044), (5264, 0.9767263), (5265, 0.9228792), (5266, 0.49127984), (5267, 0.97511744), (5268, 0.94333315), (5269, 0.8312001), (5270, 0.4060384), (5271, 0.9322699), (5272, 0.48502144), (5273, 0.99953747), (5274, 0.57204497), (5275, 0.95453715), (5276, 0.91811895), (5277, 0.4080494), (5278, 0.4220987), (5279, 0.98986727), (5280, 0.9322761), (5281, 0.93566996), (5282, 0.9452174), (5283, 0.91566044), (5284, 0.9479181), (5285, 0.99992573), (5286, 0.99696684), (5287, 0.95169586), (5288, 0.9182358), (5289, 0.99248946), (5290, 0.981419), (5291, 0.99700606), (5292, 0.7891413), (5293, 0.99243516), (5294, 0.96068937), (5295, 0.6915662), (5296, 0.7935499), (5297, 0.9438903), (5298, 0.9469642), (5299, 0.9998353), (5300, 0.99652416), (5301, 0.9965402), (5302, 0.9097449), (5303, 0.98650074), (5304, 0.9058564), (5305, 0.9681981), (5306, 0.7340792), (5307, 0.99992305), (5308, 0.9742532), (5309, 0.9687382), (5310, 0.54092574), (5311, 0.95323074), (5312, 0.51583874), (5313, 0.5297771), (5314, 0.4424368), (5315, 0.5624505), (5316, 0.9999898), (5317, 0.94488484), (5318, 0.97284687), (5319, 0.9958278), (5320, 0.9565973), (5321, 0.9307202), (5322, 0.96402085), (5323, 0.87980396), (5324, 0.9103282), (5325, 0.9999999), (5326, 0.6699483), (5327, 0.9857883), (5328, 0.5309939), (5329, 0.91989076), (5330, 0.9550396), (5331, 0.9997699), (5332, 0.5121306), (5333, 0.9757073), (5334, 0.36678898), (5335, 0.9838594), (5336, 0.9524206), (5337, 0.9198227), (5338, 0.9484791), (5339, 0.9949877), (5340, 0.98931587), (5341, 0.9821797), (5342, 0.9641913), (5343, 0.9935384), (5344, 0.9564924), (5345, 0.93331885), (5346, 0.9510934), (5347, 0.9573958), (5348, 0.9997243), (5349, 0.5828408), (5350, 0.9983536), (5351, 0.90496516), (5352, 0.9251839), (5353, 0.9681046), (5354, 0.90691495), (5355, 0.88026893), (5356, 0.9192444), (5357, 0.54476386), (5358, 0.94655734), (5359, 0.714498), (5360, 0.9997041), (5361, 0.83734196), (5362, 0.9855945), (5363, 0.93578935), (5364, 0.95983404), (5365, 0.91169786), (5366, 0.9761819), (5367, 0.40889454), (5368, 0.9992147), (5369, 0.88179797), (5370, 0.9370683), (5371, 0.5353168), (5372, 0.8773462), (5373, 0.99958384), (5374, 0.8968371), (5375, 0.99530405), (5376, 0.63804865), (5377, 0.99188834), (5378, 0.9913301), (5379, 0.7507826), (5380, 0.9367543), (5381, 0.68287253), (5382, 0.9485925), (5383, 0.9731035), (5384, 0.9881), (5385, 0.9659518), (5386, 0.97920626), (5387, 0.36111003), (5388, 0.99371487), (5389, 0.9881161), (5390, 0.57602644), (5391, 0.933687), (5392, 0.9995203), (5393, 0.8982562), (5394, 0.9916115), (5395, 0.9948527), (5396, 0.98990357), (5397, 0.94487214), (5398, 0.976172), (5399, 0.9979176), (5400, 0.96945226), (5401, 0.6272653), (5402, 0.37812048), (5403, 0.9999986), (5404, 0.6706797), (5405, 0.45809507), (5406, 0.9414052), (5407, 0.5084112), (5408, 0.99608165), (5409, 0.35977948), (5410, 0.41317558), (5411, 0.7521943), (5412, 0.9440929), (5413, 0.99042773), (5414, 0.98913854), (5415, 0.9687302), (5416, 0.4754545), (5417, 0.96184826), (5418, 0.9405531), (5419, 0.99253356), (5420, 0.5031171), (5421, 0.9555917), (5422, 0.6840912), (5423, 0.9070795), (5424, 0.98863035), (5425, 0.5298604), (5426, 0.9822392), (5427, 0.88576674), (5428, 0.93934214), (5429, 0.95306325), (5430, 0.81367713), (5431, 0.94727665), (5432, 0.99100614), (5433, 0.5640288), (5434, 0.41145557), (5435, 0.9711347), (5436, 0.51945114), (5437, 0.997185), (5438, 0.43183133), (5439, 0.935839), (5440, 0.9436837), (5441, 0.9788337), (5442, 0.99563545), (5443, 0.89315146), (5444, 0.8987895), (5445, 0.9986769), (5446, 0.93884426), (5447, 0.9956587), (5448, 0.9580426), (5449, 0.95931935), (5450, 0.39408016), (5451, 0.9647173), (5452, 0.99256766), (5453, 0.99799305), (5454, 0.9966667), (5455, 0.5374962), (5456, 0.9897417), (5457, 0.83502734), (5458, 0.9992141), (5459, 0.9946401), (5460, 0.9592844), (5461, 0.958496), (5462, 0.8828665), (5463, 0.9420863), (5464, 0.8063478), (5465, 0.9457404), (5466, 0.99494404), (5467, 0.9733502), (5468, 0.9668995), (5469, 0.94783455), (5470, 0.9965019), (5471, 0.99267125), (5472, 0.998753), (5473, 0.92415786), (5474, 0.44408858), (5475, 0.763018), (5476, 0.8826365), (5477, 0.9903497), (5478, 0.8669021), (5479, 0.99115366), (5480, 0.76588243), (5481, 0.4367996), (5482, 0.88945496), (5483, 0.9869579), (5484, 0.63192046), (5485, 0.92550623), (5486, 0.85400295), (5487, 0.979642), (5488, 0.9257744), (5489, 0.9827507), (5490, 0.9850692), (5491, 0.55135226), (5492, 0.9839967), (5493, 0.98825336), (5494, 0.9728373), (5495, 0.5888004), (5496, 0.9601319), (5497, 0.9983245), (5498, 0.989085), (5499, 0.9510238), (5500, 0.52099806), (5501, 0.9894956), (5502, 0.9982581), (5503, 0.9672821), (5504, 0.4905721), (5505, 0.56257504), (5506, 0.6031757), (5507, 0.9302254), (5508, 0.9490404), (5509, 0.936006), (5510, 0.8905549), (5511, 0.9839914), (5512, 0.9988974), (5513, 0.37858665), (5514, 0.9869954), (5515, 0.9075323), (5516, 0.9516931), (5517, 0.97224534), (5518, 0.5670599), (5519, 0.92233706), (5520, 0.9968006), (5521, 0.9962243), (5522, 0.9859645), (5523, 0.48426375), (5524, 0.945807), (5525, 0.9581636), (5526, 0.95171094), (5527, 0.40916228), (5528, 0.880131), (5529, 0.4310274), (5530, 0.6567163), (5531, 0.84277695), (5532, 0.98944473), (5533, 0.8212303), (5534, 0.9612421), (5535, 0.9256804), (5536, 0.994777), (5537, 0.98004943), (5538, 0.9999855), (5539, 0.9910304), (5540, 0.980018), (5541, 0.9962799), (5542, 0.71872544), (5543, 0.99985236), (5544, 0.93697774), (5545, 0.9510934), (5546, 0.9990047), (5547, 0.9997986), (5548, 0.9796988), (5549, 0.98432887), (5550, 0.98658484), (5551, 0.9806149), (5552, 0.8137202), (5553, 0.9994061), (5554, 0.27993834), (5555, 0.94674087), (5556, 0.99020994), (5557, 0.9995693), (5558, 0.42664176), (5559, 0.9511759), (5560, 0.37070534), (5561, 0.9161712), (5562, 0.96265215), (5563, 0.5520638), (5564, 0.97128105), (5565, 0.95048213), (5566, 0.96211493), (5567, 0.9251064), (5568, 0.9627708), (5569, 0.9587473), (5570, 0.9699797), (5571, 0.9999982), (5572, 0.5046027), (5573, 0.9762933), (5574, 0.9413288), (5575, 0.47597727), (5576, 0.9942589), (5577, 0.97171116), (5578, 0.44679713), (5579, 0.8685235), (5580, 0.9969767), (5581, 0.32710153), (5582, 0.9694134), (5583, 0.6073911), (5584, 0.9982776), (5585, 0.9452437), (5586, 0.8709835), (5587, 0.93254995), (5588, 0.9767357), (5589, 0.9273193), (5590, 0.9509888), (5591, 0.98558193), (5592, 0.8667685), (5593, 0.94252676), (5594, 0.8894828), (5595, 0.41689968), (5596, 0.9699947), (5597, 0.9784451), (5598, 0.8630358), (5599, 0.99370563), (5600, 0.95516366), (5601, 0.9680229), (5602, 0.4455356), (5603, 0.73666036), (5604, 0.5213858), (5605, 0.3433504), (5606, 0.95339864), (5607, 0.97985816), (5608, 0.98104787), (5609, 0.9469788), (5610, 0.9827234), (5611, 0.9676837), (5612, 0.98078173), (5613, 0.99695426), (5614, 0.49801642), (5615, 0.8972506), (5616, 0.3496205), (5617, 0.81889224), (5618, 0.99572235), (5619, 0.99838656), (5620, 0.89482987), (5621, 0.9696572), (5622, 0.9883787), (5623, 0.63822895), (5624, 0.85349184), (5625, 0.99292165), (5626, 0.83527535), (5627, 0.5472886), (5628, 0.90067446), (5629, 0.67406535), (5630, 0.7615844), (5631, 0.9969242), (5632, 0.9242379), (5633, 0.9987453), (5634, 0.7975794), (5635, 0.8000661), (5636, 0.9966409), (5637, 0.97489417), (5638, 0.7644329), (5639, 0.8139093), (5640, 0.916576), (5641, 0.9920417), (5642, 0.93660885), (5643, 0.9861411), (5644, 0.9692429), (5645, 0.96367085), (5646, 0.99900377), (5647, 0.95467675), (5648, 0.94639295), (5649, 0.9445287), (5650, 0.8683853), (5651, 0.9887481), (5652, 0.9236566), (5653, 0.93933326), (5654, 0.9974222), (5655, 0.99935484), (5656, 0.9994233), (5657, 0.7326345), (5658, 0.99896157), (5659, 0.97858495), (5660, 0.98181254), (5661, 0.8977941), (5662, 0.99113), (5663, 0.95931935), (5664, 0.4529513), (5665, 0.9480198), (5666, 0.8196451), (5667, 0.92294717), (5668, 0.9169124), (5669, 0.99740815), (5670, 0.91531515), (5671, 0.9694134), (5672, 0.7080567), (5673, 0.9889341), (5674, 0.9675117), (5675, 0.985939), (5676, 0.99991786), (5677, 0.96213204), (5678, 0.78590727), (5679, 0.9869319), (5680, 0.97241944), (5681, 0.9437951), (5682, 0.9872671), (5683, 0.9899862), (5684, 0.9595514), (5685, 0.94744563), (5686, 0.9853423), (5687, 0.95044863), (5688, 0.75809366), (5689, 0.9985895), (5690, 0.97140896), (5691, 0.9874976), (5692, 0.8619145), (5693, 0.99982595), (5694, 0.9630546), (5695, 0.98538536), (5696, 0.9775052), (5697, 0.953298), (5698, 0.9685449), (5699, 0.3207508), (5700, 0.9131405), (5701, 0.9741808), (5702, 0.59698707), (5703, 0.9948109), (5704, 0.7556138), (5705, 0.7421763), (5706, 0.949449), (5707, 0.9423583), (5708, 0.8930159), (5709, 0.99998325), (5710, 0.9596294), (5711, 0.9441163), (5712, 0.99762845), (5713, 0.9999682), (5714, 0.98269665), (5715, 0.9994545), (5716, 0.9874004), (5717, 0.97001815), (5718, 0.3788824), (5719, 0.8161969), (5720, 0.85167164), (5721, 0.46786636), (5722, 0.986563), (5723, 0.9335637), (5724, 0.9837973), (5725, 0.9654657), (5726, 0.95756656), (5727, 0.9515515), (5728, 0.90903205), (5729, 0.9725934), (5730, 0.75056016), (5731, 0.99994534), (5732, 0.97179735), (5733, 0.28282022), (5734, 0.9929576), (5735, 0.9378222), (5736, 0.9876657), (5737, 0.8884968), (5738, 0.9434452), (5739, 0.55073166), (5740, 0.99128807), (5741, 0.74878824), (5742, 0.82790285), (5743, 0.8474768), (5744, 0.85834837), (5745, 0.59138924), (5746, 0.91779804), (5747, 0.9361361), (5748, 0.97862566), (5749, 0.504906), (5750, 0.97540057), (5751, 0.9674378), (5752, 0.994061), (5753, 0.91860616), (5754, 0.92063916), (5755, 0.41833818), (5756, 0.99370766), (5757, 0.96396035), (5758, 0.6350606), (5759, 0.9545966), (5760, 0.65579855), (5761, 0.9979038), (5762, 0.9595162), (5763, 0.97413677), (5764, 0.9341055), (5765, 0.6317405), (5766, 0.5580546), (5767, 0.9845974), (5768, 0.9561935), (5769, 0.9718684), (5770, 0.99018025), (5771, 0.9188118), (5772, 0.37435162), (5773, 0.99090314), (5774, 0.9814195), (5775, 0.98018503), (5776, 0.9162492), (5777, 0.4574976), (5778, 0.4217819), (5779, 0.852937), (5780, 0.99355173), (5781, 0.8724897), (5782, 0.97418207), (5783, 0.45013148), (5784, 0.99916536), (5785, 0.54892343), (5786, 0.99858356), (5787, 0.99699026), (5788, 0.747895), (5789, 0.9087649), (5790, 0.9995163), (5791, 0.3790559), (5792, 0.997171), (5793, 0.9938666), (5794, 0.83515203), (5795, 0.5736922), (5796, 0.9659851), (5797, 0.41239488), (5798, 0.4327047), (5799, 0.9148879), (5800, 0.9012187), (5801, 0.9622681), (5802, 0.96050406), (5803, 0.81088483), (5804, 0.99036384), (5805, 0.9935441), (5806, 0.94801044), (5807, 0.97814554), (5808, 0.9628986), (5809, 0.9038781), (5810, 0.96595335), (5811, 0.99705154), (5812, 0.491715), (5813, 0.8657771), (5814, 0.90819085), (5815, 0.9399677), (5816, 0.999835), (5817, 0.98549896), (5818, 0.9808332), (5819, 0.9968033), (5820, 0.81949544), (5821, 0.99615264), (5822, 0.979819), (5823, 0.9366779), (5824, 0.9999697), (5825, 0.9256182), (5826, 0.6158624), (5827, 0.8822425), (5828, 0.4855343), (5829, 0.9984124), (5830, 0.760937), (5831, 0.3688047), (5832, 0.99745935), (5833, 0.6335532), (5834, 0.9044368), (5835, 0.96705914), (5836, 0.5542455), (5837, 0.6012104), (5838, 0.99957114), (5839, 0.9522133), (5840, 0.90261936), (5841, 0.96875066), (5842, 0.9759846), (5843, 0.9866246), (5844, 0.95754135), (5845, 0.42600265), (5846, 0.99369586), (5847, 0.9827896), (5848, 0.97144085), (5849, 0.97325045), (5850, 0.96543527), (5851, 0.9101998), (5852, 0.95537436), (5853, 0.38799006), (5854, 0.9850063), (5855, 0.9518186), (5856, 0.6279894), (5857, 0.9892983), (5858, 0.47970644), (5859, 0.7204175), (5860, 0.84994715), (5861, 0.9968386), (5862, 0.99947286), (5863, 0.30390146), (5864, 0.96705407), (5865, 0.5114795), (5866, 0.8809045), (5867, 0.7901133), (5868, 0.36486644), (5869, 0.9704212), (5870, 0.47176278), (5871, 0.53614295), (5872, 0.64137095), (5873, 0.95066327), (5874, 0.9747022), (5875, 0.9967751), (5876, 0.91234446), (5877, 0.9244973), (5878, 0.95186615), (5879, 0.48276606), (5880, 0.996665), (5881, 0.99745554), (5882, 0.97629976), (5883, 0.8989126), (5884, 0.96015626), (5885, 0.5031849), (5886, 0.3872733), (5887, 0.92762834), (5888, 0.9948944), (5889, 0.6417628), (5890, 0.99990654), (5891, 0.97605115), (5892, 0.5048827), (5893, 0.99859655), (5894, 0.96450967), (5895, 0.99905306), (5896, 0.4012008), (5897, 0.9996919), (5898, 0.6293693), (5899, 0.722736), (5900, 0.6453583), (5901, 0.65732855), (5902, 0.948941), (5903, 0.9316731), (5904, 0.4055205), (5905, 0.9971411), (5906, 0.8291263), (5907, 0.88311464), (5908, 0.9303066), (5909, 0.96705914), (5910, 0.9940971), (5911, 0.9869369), (5912, 0.95161116), (5913, 0.50959533), (5914, 0.9635062), (5915, 0.9808271), (5916, 0.999773), (5917, 0.93173087), (5918, 0.9814082), (5919, 0.9593279), (5920, 0.47319192), (5921, 0.27197272), (5922, 0.34990668), (5923, 0.78916234), (5924, 0.75111175), (5925, 0.53880084), (5926, 0.99830717), (5927, 0.99448127), (5928, 0.92109936), (5929, 0.86746496), (5930, 0.9909426), (5931, 0.99684715), (5932, 0.97878045), (5933, 0.7341161), (5934, 0.6279894), (5935, 0.9986576), (5936, 0.9465397), (5937, 0.5823199), (5938, 0.9554094), (5939, 0.92184156), (5940, 0.982126), (5941, 0.9949272), (5942, 0.54234713), (5943, 0.99529535), (5944, 0.89034224), (5945, 0.86732537), (5946, 0.9641619), (5947, 0.41130492), (5948, 0.93852293), (5949, 0.40130645), (5950, 0.9991478), (5951, 0.9955297), (5952, 0.99335694), (5953, 0.47465822), (5954, 0.93254596), (5955, 0.88131857), (5956, 0.920197), (5957, 0.9907492), (5958, 0.94219816), (5959, 0.9999858), (5960, 0.4776454), (5961, 0.90995425), (5962, 0.8960785), (5963, 0.9999878), (5964, 0.7396137), (5965, 0.97717285), (5966, 0.44874877), (5967, 0.9793516), (5968, 0.49047583), (5969, 0.8041762), (5970, 0.94252646), (5971, 0.8787763), (5972, 0.9751663), (5973, 0.9995507), (5974, 0.87751925), (5975, 0.9070795), (5976, 0.9137186), (5977, 0.8967896), (5978, 0.9575091), (5979, 0.41689968), (5980, 0.7023611), (5981, 0.6080421), (5982, 0.971712), (5983, 0.96366537), (5984, 0.957047), (5985, 0.89864016), (5986, 0.9215977), (5987, 0.4988318), (5988, 0.99804133), (5989, 0.98057485), (5990, 0.9275743), (5991, 0.9825607), (5992, 0.8522823), (5993, 0.9991423), (5994, 0.6544199), (5995, 0.9701138), (5996, 0.3628966), (5997, 0.9887339), (5998, 0.94204867), (5999, 0.4565118), (6000, 0.9986639), (6001, 0.6114178), (6002, 0.36590603), (6003, 0.96659213), (6004, 0.40571484), (6005, 0.81175005), (6006, 0.8164361), (6007, 0.37437633), (6008, 0.99066734), (6009, 0.9102789), (6010, 0.998824), (6011, 0.9859124), (6012, 0.33756018), (6013, 0.5132805), (6014, 0.91477025), (6015, 0.34860265), (6016, 0.9328535), (6017, 0.93605494), (6018, 0.99996936), (6019, 0.9913758), (6020, 0.9507834), (6021, 0.8401859), (6022, 0.99998325), (6023, 0.3570798), (6024, 0.97128063), (6025, 0.5169207), (6026, 0.8378566), (6027, 0.6557092), (6028, 0.99958384), (6029, 0.99464023), (6030, 0.9596278), (6031, 0.99828935), (6032, 0.9239405), (6033, 0.99525166), (6034, 0.9756066), (6035, 0.9992617), (6036, 0.98093146), (6037, 0.9516722), (6038, 0.49047583), (6039, 0.9465016), (6040, 0.98706126), (6041, 0.98309314), (6042, 0.67194414), (6043, 0.8971654), (6044, 0.9968523), (6045, 0.97606206), (6046, 0.99700797), (6047, 0.5732633), (6048, 0.9866691), (6049, 0.9219932), (6050, 0.8257114), (6051, 0.9725397), (6052, 0.63341886), (6053, 0.98100394), (6054, 0.4103248), (6055, 0.86923933), (6056, 0.95298254), (6057, 0.97798294), (6058, 0.9118656), (6059, 0.9392884), (6060, 0.98120004), (6061, 0.9928357), (6062, 0.9989756), (6063, 0.96820253), (6064, 0.99117875), (6065, 0.99993414), (6066, 0.99975634), (6067, 0.98726666), (6068, 0.90154517), (6069, 0.56704855), (6070, 0.9757692), (6071, 0.7891514), (6072, 0.9868834), (6073, 0.9984728), (6074, 0.97389424), (6075, 0.52818394), (6076, 0.9140211), (6077, 0.9993085), (6078, 0.92584187), (6079, 0.99997723), (6080, 0.92037094), (6081, 0.70822203), (6082, 0.9743793), (6083, 0.97862566), (6084, 0.9404491), (6085, 0.97433203), (6086, 0.9374253), (6087, 0.6879267), (6088, 0.91490513), (6089, 0.9441762), (6090, 0.94568384), (6091, 0.9999362), (6092, 0.99289465), (6093, 0.942366), (6094, 0.996241), (6095, 0.91529256), (6096, 0.5593301), (6097, 0.9999996), (6098, 0.97172505), (6099, 0.9264938), (6100, 0.9420689), (6101, 0.59300834), (6102, 0.8716561), (6103, 0.99852514), (6104, 0.99801075), (6105, 0.96898985), (6106, 0.99137014), (6107, 0.93804294), (6108, 0.4652971), (6109, 0.94961345), (6110, 0.39694673), (6111, 0.97642785), (6112, 0.7198279), (6113, 0.9982309), (6114, 0.93018174), (6115, 0.9999492), (6116, 0.99590915), (6117, 0.75865316), (6118, 0.9224045), (6119, 0.98817635), (6120, 0.95256597), (6121, 0.45671725), (6122, 0.97992057), (6123, 0.99663556), (6124, 0.9631483), (6125, 0.4540313), (6126, 0.98639137), (6127, 0.97479457), (6128, 0.67326105), (6129, 0.92278194), (6130, 0.9949782), (6131, 0.9886491), (6132, 0.998133), (6133, 0.943682), (6134, 0.4282124), (6135, 0.9392793), (6136, 0.95559454), (6137, 0.9987116), (6138, 0.4889909), (6139, 0.58898884), (6140, 0.47395763), (6141, 0.98544896), (6142, 0.9997504), (6143, 0.8201118), (6144, 0.9276225), (6145, 0.9863952), (6146, 0.99941707), (6147, 0.9246161), (6148, 0.55153286), (6149, 0.8548137), (6150, 0.95820326), (6151, 0.98728555), (6152, 0.9762944), (6153, 0.9472034), (6154, 0.4410666), (6155, 0.885186), (6156, 0.92741704), (6157, 0.37044007), (6158, 0.41049033), (6159, 0.93477005), (6160, 0.49969047), (6161, 0.98329115), (6162, 0.9620912), (6163, 0.8250579), (6164, 0.5593786), (6165, 0.9846654), (6166, 0.39672893), (6167, 0.9951141), (6168, 0.9631377), (6169, 0.74994874), (6170, 0.92877275), (6171, 0.9830473), (6172, 0.6827553), (6173, 0.72636783), (6174, 0.9048609), (6175, 0.97841), (6176, 0.9868226), (6177, 0.9934392), (6178, 0.93354815), (6179, 0.48031932), (6180, 0.9871259), (6181, 0.9941244), (6182, 0.84901416), (6183, 0.9695492), (6184, 0.9866121), (6185, 0.920243), (6186, 0.9739428), (6187, 0.6379393), (6188, 0.95238596), (6189, 0.92302537), (6190, 0.9999863), (6191, 0.99720556), (6192, 0.9865642), (6193, 0.996029), (6194, 0.54024494), (6195, 0.57570934), (6196, 0.82233673), (6197, 0.87219507), (6198, 0.98868334), (6199, 0.97649467), (6200, 0.93981946), (6201, 0.9970687), (6202, 0.9580709), (6203, 0.9768754), (6204, 0.95668775), (6205, 0.78866327), (6206, 0.9902159), (6207, 0.9997493), (6208, 0.3695048), (6209, 0.96562964), (6210, 0.9911518), (6211, 0.9867928), (6212, 0.98980737), (6213, 0.9110825), (6214, 0.9148289), (6215, 0.9788477), (6216, 0.97794926), (6217, 0.96744525), (6218, 0.9939789), (6219, 0.9263466), (6220, 0.9273909), (6221, 0.99758404), (6222, 0.77138823), (6223, 0.9995627), (6224, 0.9987315), (6225, 0.73365265), (6226, 0.99781114), (6227, 0.3749399), (6228, 0.4350777), (6229, 0.9983245), (6230, 0.92478865), (6231, 0.92117757), (6232, 0.9484413), (6233, 0.86997503), (6234, 0.9289702), (6235, 0.9929468), (6236, 0.942142), (6237, 0.9680128), (6238, 0.9622876), (6239, 0.92928696), (6240, 0.9876528), (6241, 0.9382675), (6242, 0.42593402), (6243, 0.98484695), (6244, 0.8791821), (6245, 0.9965387), (6246, 0.29895863), (6247, 0.96721315), (6248, 0.47296172), (6249, 0.9737544), (6250, 0.9199576), (6251, 0.85132945), (6252, 0.9675993), (6253, 0.47073185), (6254, 0.30200565), (6255, 0.74451524), (6256, 0.9998298), (6257, 0.9997736), (6258, 0.44842327), (6259, 0.7401171), (6260, 0.9747544), (6261, 0.9487142), (6262, 0.99825484), (6263, 0.9303275), (6264, 0.9826375), (6265, 0.99899316), (6266, 0.9885163), (6267, 0.992561), (6268, 0.98003715), (6269, 0.99021643), (6270, 0.9400411), (6271, 0.4827721), (6272, 0.9732408), (6273, 0.7585528), (6274, 0.99221194), (6275, 0.9705622), (6276, 0.99595916), (6277, 0.88046384), (6278, 0.9816128), (6279, 0.72930115), (6280, 0.9868861), (6281, 0.9990577), (6282, 0.8722979), (6283, 0.98900723), (6284, 0.9914836), (6285, 0.9666216), (6286, 0.48174888), (6287, 0.999178), (6288, 0.9656881), (6289, 0.9890848), (6290, 0.908492), (6291, 0.9132857), (6292, 0.6969854), (6293, 0.9683188), (6294, 0.9900352), (6295, 0.99971735), (6296, 0.82005376), (6297, 0.99698156), (6298, 0.95866233), (6299, 0.93858624), (6300, 0.9616088), (6301, 0.58063906), (6302, 0.99945945), (6303, 0.9649065), (6304, 0.7797296), (6305, 0.95104253), (6306, 0.97118217), (6307, 0.9771575), (6308, 0.7155531), (6309, 0.86662126), (6310, 0.9999971), (6311, 0.9484982), (6312, 0.89603436), (6313, 0.76959074), (6314, 0.99915504), (6315, 0.973408), (6316, 0.9414586), (6317, 0.9215977), (6318, 0.93940324), (6319, 0.40308148), (6320, 0.9779511), (6321, 0.88886285), (6322, 0.9992036), (6323, 0.9834517), (6324, 0.6508331), (6325, 0.5218227), (6326, 0.9959464), (6327, 0.8328256), (6328, 0.936037), (6329, 0.97080785), (6330, 0.9996811), (6331, 0.9870108), (6332, 0.9742746), (6333, 0.8348388), (6334, 0.6037457), (6335, 0.84935033), (6336, 0.3422981), (6337, 0.96768), (6338, 0.99961674), (6339, 0.42753616), (6340, 0.96671766), (6341, 0.757986), (6342, 0.67971784), (6343, 0.9897581), (6344, 0.9925033), (6345, 0.9640898), (6346, 0.66053754), (6347, 0.98925096), (6348, 0.98594785), (6349, 0.99999833), (6350, 0.9735877), (6351, 0.8115603), (6352, 0.6541243), (6353, 0.9714115), (6354, 0.9050806), (6355, 0.95599985), (6356, 0.46931228), (6357, 0.95165986), (6358, 0.85026157), (6359, 0.99769664), (6360, 0.9942077), (6361, 0.46033916), (6362, 0.39282435), (6363, 0.9342855), (6364, 0.95660436), (6365, 0.41172382), (6366, 0.9962836), (6367, 0.86156005), (6368, 0.9495093), (6369, 0.8511753), (6370, 0.5432879), (6371, 0.9685048), (6372, 0.9999995), (6373, 0.9978047), (6374, 0.8937751), (6375, 0.9999268), (6376, 0.8094475), (6377, 0.99344426), (6378, 0.87304765), (6379, 0.92936474), (6380, 0.95817125), (6381, 0.97149855), (6382, 0.8000276), (6383, 0.9115144), (6384, 0.9824164), (6385, 0.9998374), (6386, 0.9994806), (6387, 0.9755119), (6388, 0.99924916), (6389, 0.41886717), (6390, 0.955148), (6391, 0.8842617), (6392, 0.9998405), (6393, 0.98038447), (6394, 0.69423383), (6395, 0.9745585), (6396, 0.8695319), (6397, 0.97756255), (6398, 0.90311015), (6399, 0.9032874), (6400, 0.9737626), (6401, 0.9964447), (6402, 0.99102604), (6403, 0.99044853), (6404, 0.9521092), (6405, 0.9711402), (6406, 0.8765364), (6407, 0.9351397), (6408, 0.52263147), (6409, 0.99345165), (6410, 0.96261233), (6411, 0.4041674), (6412, 0.9717377), (6413, 0.99378383), (6414, 0.3424335), (6415, 0.9997752), (6416, 0.9999949), (6417, 0.90503037), (6418, 0.4809103), (6419, 0.2907923), (6420, 0.9620918), (6421, 0.9029086), (6422, 0.8928645), (6423, 0.9894604), (6424, 0.96884394), (6425, 0.9994903), (6426, 0.9996528), (6427, 0.9943955), (6428, 0.9303366), (6429, 0.9974238), (6430, 0.94562477), (6431, 0.9777255), (6432, 0.44002628), (6433, 0.9653102), (6434, 0.9999936), (6435, 0.98620135), (6436, 0.8810099), (6437, 0.99356246), (6438, 0.9998167), (6439, 0.86020255), (6440, 0.99930674), (6441, 0.9472199), (6442, 0.31139833), (6443, 0.34004545), (6444, 0.9896013), (6445, 0.3956015), (6446, 0.8024306), (6447, 0.6713986), (6448, 0.97739285), (6449, 0.5328953), (6450, 0.81243473), (6451, 0.9281452), (6452, 0.92662007), (6453, 0.86159706), (6454, 0.9500501), (6455, 0.9780496), (6456, 0.43592626), (6457, 0.9898434), (6458, 0.9873035), (6459, 0.50533164), (6460, 0.9733007), (6461, 0.64280814), (6462, 0.95530444), (6463, 0.99886113), (6464, 0.9832323), (6465, 0.9776799), (6466, 0.98269004), (6467, 0.51956385), (6468, 0.9959442), (6469, 0.9634565), (6470, 0.99060833), (6471, 0.92640954), (6472, 0.9561227), (6473, 0.8832002), (6474, 0.9990195), (6475, 0.8649568), (6476, 0.95236915), (6477, 0.9691475), (6478, 0.49986172), (6479, 0.9764168), (6480, 0.8029482), (6481, 0.6918013), (6482, 0.9954598), (6483, 0.9834316), (6484, 0.9594598), (6485, 0.9874799), (6486, 0.9977695), (6487, 0.86339), (6488, 0.74759763), (6489, 0.42164975), (6490, 0.97237206), (6491, 0.96008176), (6492, 0.9878851), (6493, 0.95039505), (6494, 0.9999876), (6495, 0.96347535), (6496, 0.9078884), (6497, 0.9221318), (6498, 0.95908266), (6499, 0.97035134), (6500, 0.93477005), (6501, 0.99056196), (6502, 0.9410203), (6503, 0.95814776), (6504, 0.9629507), (6505, 0.9230224), (6506, 0.39015263), (6507, 0.99996096), (6508, 0.9548166), (6509, 0.48170793), (6510, 0.39781827), (6511, 0.8454612), (6512, 0.9663921), (6513, 0.93191546), (6514, 0.3800506), (6515, 0.42509758), (6516, 0.6804539), (6517, 0.99944586), (6518, 0.5367502), (6519, 0.99999624), (6520, 0.99679583), (6521, 0.6265093), (6522, 0.54110754), (6523, 0.53260416), (6524, 0.918655), (6525, 0.8542916), (6526, 0.725311), (6527, 0.49533936), (6528, 0.8511753), (6529, 0.6237509), (6530, 0.9698026), (6531, 0.97838134), (6532, 0.987648), (6533, 0.3893076), (6534, 0.9229182), (6535, 0.9602883), (6536, 0.93409777), (6537, 0.9943144), (6538, 0.99558), (6539, 0.999291), (6540, 0.9788983), (6541, 0.97440416), (6542, 0.9376625), (6543, 0.9953846), (6544, 0.7089365), (6545, 0.9607331), (6546, 0.9255061), (6547, 0.995278), (6548, 0.80970085), (6549, 0.9216547), (6550, 0.7080653), (6551, 0.31408906), (6552, 0.4409694), (6553, 0.9631325), (6554, 0.99858606), (6555, 0.9244025), (6556, 0.970422), (6557, 0.8857047), (6558, 0.8899508), (6559, 0.9722853), (6560, 0.9941493), (6561, 0.6237003), (6562, 0.9824962), (6563, 0.9316439), (6564, 0.9877674), (6565, 0.9830945), (6566, 0.9981436), (6567, 0.927072), (6568, 0.94042826), (6569, 0.9435215), (6570, 0.96000355), (6571, 0.9984319), (6572, 0.96366537), (6573, 0.38103575), (6574, 0.7901133), (6575, 0.93868214), (6576, 0.9773752), (6577, 0.9773991), (6578, 0.922711), (6579, 0.9700216), (6580, 0.38115972), (6581, 0.8331246), (6582, 0.8717507), (6583, 0.899482), (6584, 0.9911509), (6585, 0.96075356), (6586, 0.6509712), (6587, 0.67278826), (6588, 0.8758997), (6589, 0.9881591), (6590, 0.91004956), (6591, 0.90293896), (6592, 0.9582972), (6593, 0.99849564), (6594, 0.9485326), (6595, 0.99527264), (6596, 0.9441581), (6597, 0.95804507), (6598, 0.65893143), (6599, 0.9988301), (6600, 0.4195115), (6601, 0.9666487), (6602, 0.5497891), (6603, 0.98309964), (6604, 0.97204965), (6605, 0.9744613), (6606, 0.88766426), (6607, 0.9048348), (6608, 0.9547602), (6609, 0.86737376), (6610, 0.95634913), (6611, 0.8303981), (6612, 0.7770438), (6613, 0.7044538), (6614, 0.96580553), (6615, 0.9221905), (6616, 0.393656), (6617, 0.99455106), (6618, 0.9999818), (6619, 0.9449561), (6620, 0.3473366), (6621, 0.9787645), (6622, 0.34872848), (6623, 0.9935032), (6624, 0.9767774), (6625, 0.9963421), (6626, 0.9999946), (6627, 0.3312508), (6628, 0.9762944), (6629, 0.95068747), (6630, 0.977291), (6631, 0.99888194), (6632, 0.34121814), (6633, 0.9987379), (6634, 0.9409973), (6635, 0.34008986), (6636, 0.9767602), (6637, 0.3477786), (6638, 0.40758252), (6639, 0.7239959), (6640, 0.9990658), (6641, 0.82517636), (6642, 0.5871916), (6643, 0.93971145), (6644, 0.95937747), (6645, 0.8989901), (6646, 0.52395034), (6647, 0.47176278), (6648, 0.90576446), (6649, 0.96205395), (6650, 0.9891951), (6651, 0.84277695), (6652, 0.9956111), (6653, 0.9902222), (6654, 0.96051276), (6655, 0.9657074), (6656, 0.89608675), (6657, 0.90221715), (6658, 0.994957), (6659, 0.93213224), (6660, 0.80962116), (6661, 0.7483955), (6662, 0.95162815), (6663, 0.46281183), (6664, 0.97597176), (6665, 0.99243546), (6666, 0.3404283), (6667, 0.9950274), (6668, 0.999754), (6669, 0.8742385), (6670, 0.96972317), (6671, 0.789213), (6672, 0.9225083), (6673, 0.4359618), (6674, 0.50573486), (6675, 0.9633995), (6676, 0.9312035), (6677, 0.9534101), (6678, 0.9909788), (6679, 0.8039881), (6680, 0.575599), (6681, 0.59772587), (6682, 0.9845393), (6683, 0.5101667), (6684, 0.972214), (6685, 0.9584496), (6686, 0.9845759), (6687, 0.99945575), (6688, 0.37918788), (6689, 0.928642), (6690, 0.40631145), (6691, 0.95265514), (6692, 0.9946106), (6693, 0.9736197), (6694, 0.9999981), (6695, 0.6364447), (6696, 0.98736256), (6697, 0.92733955), (6698, 0.999826), (6699, 0.9471838), (6700, 0.98305064), (6701, 0.99590385), (6702, 0.9966022), (6703, 0.99945384), (6704, 0.9490633), (6705, 0.9689894), (6706, 0.96037304), (6707, 0.99903446), (6708, 0.9106342), (6709, 0.65434265), (6710, 0.96616626), (6711, 0.8656343), (6712, 0.5706956), (6713, 0.9710675), (6714, 0.60137856), (6715, 0.82227343), (6716, 0.99872506), (6717, 0.9685187), (6718, 0.7336343), (6719, 0.9816659), (6720, 0.785288), (6721, 0.9133471), (6722, 0.98592895), (6723, 0.9954588), (6724, 0.4799326), (6725, 0.9876318), (6726, 0.5000659), (6727, 0.92096627), (6728, 0.91375494), (6729, 0.5482918), (6730, 0.956188), (6731, 0.93741786), (6732, 0.9980103), (6733, 0.40674818), (6734, 0.95757055), (6735, 0.94420254), (6736, 0.93706346), (6737, 0.9601319), (6738, 0.95584553), (6739, 0.99915695), (6740, 0.9715238), (6741, 0.7675787), (6742, 0.99981874), (6743, 0.9963689), (6744, 0.90939116), (6745, 0.96697676), (6746, 0.9430765), (6747, 0.8409554), (6748, 0.33215654), (6749, 0.9643427), (6750, 0.9799659), (6751, 0.989616), (6752, 0.8257407), (6753, 0.92543733), (6754, 0.8462179), (6755, 0.95467716), (6756, 0.9999988), (6757, 0.9963031), (6758, 0.9737048), (6759, 0.9912856), (6760, 0.6658318), (6761, 0.9843023), (6762, 0.9385762), (6763, 0.47886318), (6764, 0.9850874), (6765, 0.7418759), (6766, 0.833), (6767, 0.9997345), (6768, 0.9744506), (6769, 0.9997141), (6770, 0.4773569), (6771, 0.48277754), (6772, 0.95794386), (6773, 0.9036027), (6774, 0.9971798), (6775, 0.3559053), (6776, 0.98256177), (6777, 0.9454418), (6778, 0.9944624), (6779, 0.9296932), (6780, 0.41054767), (6781, 0.99161613), (6782, 0.99112684), (6783, 0.85182774), (6784, 0.48836315), (6785, 0.9402251), (6786, 0.9988144), (6787, 0.56890005), (6788, 0.96924865), (6789, 0.97990537), (6790, 0.9184138), (6791, 0.9256955), (6792, 0.95655274), (6793, 0.9873268), (6794, 0.39987466), (6795, 0.35553205), (6796, 0.8817889), (6797, 0.905694), (6798, 0.98597556), (6799, 0.96875876), (6800, 0.9936906), (6801, 0.90445775), (6802, 0.9311327), (6803, 0.4466567), (6804, 0.9329001), (6805, 0.9969158), (6806, 0.6873098), (6807, 0.9431548), (6808, 0.98824847), (6809, 0.95899343), (6810, 0.42305806), (6811, 0.9725312), (6812, 0.61174476), (6813, 0.99839777), (6814, 0.6016232), (6815, 0.96944416), (6816, 0.92748874), (6817, 0.993022), (6818, 0.97368014), (6819, 0.9661322), (6820, 0.41161996), (6821, 0.8685343), (6822, 0.9789404), (6823, 0.99725956), (6824, 0.96735966), (6825, 0.961589), (6826, 0.9462089), (6827, 0.9883599), (6828, 0.88046384), (6829, 0.99878573), (6830, 0.9483073), (6831, 0.9540215), (6832, 0.9675666), (6833, 0.41167903), (6834, 0.7402698), (6835, 0.9427208), (6836, 0.94760424), (6837, 0.95776045), (6838, 0.5705676), (6839, 0.9393742), (6840, 0.9620286), (6841, 0.901861), (6842, 0.9036003), (6843, 0.9968523), (6844, 0.9944825), (6845, 0.9421761), (6846, 0.9240472), (6847, 0.75242186), (6848, 0.9538742), (6849, 0.91304255), (6850, 0.8854661), (6851, 0.99781525), (6852, 0.9780373), (6853, 0.49075168), (6854, 0.5803701), (6855, 0.9745208), (6856, 0.3991663), (6857, 0.9584141), (6858, 0.9705622), (6859, 0.931786), (6860, 0.7676294), (6861, 0.60457814), (6862, 0.5417463), (6863, 0.9926521), (6864, 0.68125355), (6865, 0.7563908), (6866, 0.9851066), (6867, 0.71450216), (6868, 0.9857198), (6869, 0.96363467), (6870, 0.98568356), (6871, 0.3464054), (6872, 0.5985231), (6873, 0.96409875), (6874, 0.95631063), (6875, 0.89791113), (6876, 0.93268484), (6877, 0.9206997), (6878, 0.99985486), (6879, 0.3412662), (6880, 0.9796091), (6881, 0.99654275), (6882, 0.944848), (6883, 0.9976279), (6884, 0.974232), (6885, 0.9371873), (6886, 0.50257933), (6887, 0.881173), (6888, 0.9321148), (6889, 0.9283024), (6890, 0.9119154), (6891, 0.98314625), (6892, 0.8031187), (6893, 0.93841296), (6894, 0.64478624), (6895, 0.9650283), (6896, 0.8144758), (6897, 0.982657), (6898, 0.5286296), (6899, 0.99979377), (6900, 0.9087984), (6901, 0.61204946), (6902, 0.90743303), (6903, 0.9317399), (6904, 0.95979017), (6905, 0.98962724), (6906, 0.35009116), (6907, 0.36360875), (6908, 0.7582999), (6909, 0.96723175), (6910, 0.97049695), (6911, 0.84538084), (6912, 0.99161536), (6913, 0.9999916), (6914, 0.9392559), (6915, 0.40606415), (6916, 0.96138066), (6917, 0.5114795), (6918, 0.9530125), (6919, 0.9998311), (6920, 0.99122745), (6921, 0.9658644), (6922, 0.9683938), (6923, 0.92034096), (6924, 0.9980208), (6925, 0.9977544), (6926, 0.8184777), (6927, 0.97882783), (6928, 0.40653163), (6929, 0.9299974), (6930, 0.9999456), (6931, 0.9401112), (6932, 0.9728187), (6933, 0.98365456), (6934, 0.7638433), (6935, 0.62708205), (6936, 0.99644625), (6937, 0.47882885), (6938, 0.532795), (6939, 0.6529817), (6940, 0.99752635), (6941, 0.995708), (6942, 0.9949658), (6943, 0.9700609), (6944, 0.6391697), (6945, 0.9997747), (6946, 0.98044205), (6947, 0.9806557), (6948, 0.96578), (6949, 0.9963109), (6950, 0.25161594), (6951, 0.32678974), (6952, 0.39015263), (6953, 0.97477585), (6954, 0.9897581), (6955, 0.99448276), (6956, 0.99772114), (6957, 0.36225992), (6958, 0.4168685), (6959, 0.9476069), (6960, 0.68638337), (6961, 0.9895735), (6962, 0.91401047), (6963, 0.9949688), (6964, 0.9927553), (6965, 0.95616984), (6966, 0.6897224), (6967, 0.60460746), (6968, 0.99063617), (6969, 0.96791905), (6970, 0.91346747), (6971, 0.925699), (6972, 0.9711309), (6973, 0.9969126), (6974, 0.42350668), (6975, 0.64896446), (6976, 0.9771978), (6977, 0.956956), (6978, 0.640345), (6979, 0.9144428), (6980, 0.58452034), (6981, 0.9721279), (6982, 0.42357087), (6983, 0.34068298), (6984, 0.8934087), (6985, 0.795102), (6986, 0.99994045), (6987, 0.93430305), (6988, 0.9609483), (6989, 0.97426116), (6990, 0.96309376), (6991, 0.99746346), (6992, 0.94748336), (6993, 0.67489845), (6994, 0.28967467), (6995, 0.9738136), (6996, 0.6814476), (6997, 0.8970812), (6998, 0.9822341), (6999, 0.9932424), (7000, 0.8013752), (7001, 0.9264641), (7002, 0.99275106), (7003, 0.9346574), (7004, 0.38828653), (7005, 0.94030714), (7006, 0.36164504), (7007, 0.98837876), (7008, 0.8098895), (7009, 0.95918185), (7010, 0.84734654), (7011, 0.92880577), (7012, 0.7219986), (7013, 0.93021023), (7014, 0.9935758), (7015, 0.99328035), (7016, 0.9886583), (7017, 0.9470907), (7018, 0.9735571), (7019, 0.9994868), (7020, 0.38376963), (7021, 0.98564607), (7022, 0.9002344), (7023, 0.9969611), (7024, 0.79809386), (7025, 0.39552575), (7026, 0.95072365), (7027, 0.97134036), (7028, 0.9221905), (7029, 0.82477105), (7030, 0.91389143), (7031, 0.8219888), (7032, 0.9506957), (7033, 0.76604116), (7034, 0.967992), (7035, 0.92628527), (7036, 0.52480596), (7037, 0.89934194), (7038, 0.9818917), (7039, 0.9740529), (7040, 0.933969), (7041, 0.91131586), (7042, 0.85047644), (7043, 0.93198466), (7044, 0.99240637), (7045, 0.966719), (7046, 0.9996717), (7047, 0.5829419), (7048, 0.94447), (7049, 0.4999299), (7050, 0.7714235), (7051, 0.99931407), (7052, 0.9242068), (7053, 0.9932833), (7054, 0.99390817), (7055, 0.6643027), (7056, 0.97679055), (7057, 0.9827287), (7058, 0.6421707), (7059, 0.99997205), (7060, 0.98890656), (7061, 0.8537393), (7062, 0.9103556), (7063, 0.85806674), (7064, 0.9951141), (7065, 0.42411044), (7066, 0.5425027), (7067, 0.92410755), (7068, 0.9195692), (7069, 0.84497774), (7070, 0.9534565), (7071, 0.99489504), (7072, 0.93800735), (7073, 0.9597532), (7074, 0.96931016), (7075, 0.93800735), (7076, 0.9327606), (7077, 0.6927341), (7078, 0.5102192), (7079, 0.9971684), (7080, 0.5781534), (7081, 0.90350425), (7082, 0.93436533), (7083, 0.99376136), (7084, 0.8671542), (7085, 0.99874425), (7086, 0.9560931), (7087, 0.8102981), (7088, 0.6744701), (7089, 0.9954945), (7090, 0.94485795), (7091, 0.2809564), (7092, 0.9925239), (7093, 0.8389696), (7094, 0.8068035), (7095, 0.94964737), (7096, 0.96236205), (7097, 0.9083798), (7098, 0.90904087), (7099, 0.97116643), (7100, 0.9844244), (7101, 0.37628424), (7102, 0.598804), (7103, 0.5265474), (7104, 0.9319146), (7105, 0.98033196), (7106, 0.9622742), (7107, 0.8154358), (7108, 0.9906576), (7109, 0.3950703), (7110, 0.9848057), (7111, 0.93489385), (7112, 0.8630358), (7113, 0.8698356), (7114, 0.55214226), (7115, 0.9694627), (7116, 0.95995575), (7117, 0.3424386), (7118, 0.9960613), (7119, 0.98903143), (7120, 0.9890786), (7121, 0.98270303), (7122, 0.91417557), (7123, 0.8209555), (7124, 0.9247867), (7125, 0.9803122), (7126, 0.900995), (7127, 0.94690025), (7128, 0.9696483), (7129, 0.5959402), (7130, 0.9015345), (7131, 0.92433673), (7132, 0.9752253), (7133, 0.5030947), (7134, 0.98940563), (7135, 0.9999277), (7136, 0.789213), (7137, 0.93370944), (7138, 0.99999565), (7139, 0.93006337), (7140, 0.34656098), (7141, 0.99968445), (7142, 0.9552808), (7143, 0.99957234), (7144, 0.9140081), (7145, 0.8816617), (7146, 0.9500528), (7147, 0.9966757), (7148, 0.9497612), (7149, 0.9869026), (7150, 0.9393593), (7151, 0.99004364), (7152, 0.9946611), (7153, 0.9978579), (7154, 0.9392352), (7155, 0.9719464), (7156, 0.9005292), (7157, 0.9884337), (7158, 0.9997506), (7159, 0.98129445), (7160, 0.94046444), (7161, 0.9458633), (7162, 0.9941852), (7163, 0.89951086), (7164, 0.5945222), (7165, 0.98714167), (7166, 0.40423697), (7167, 0.9771685), (7168, 0.6214365), (7169, 0.92005557), (7170, 0.9638009), (7171, 0.9990043), (7172, 0.35940307), (7173, 0.3433685), (7174, 0.65921116), (7175, 0.37155765), (7176, 0.9930696), (7177, 0.99777275), (7178, 0.9890306), (7179, 0.40923643), (7180, 0.7974409), (7181, 0.81949544), (7182, 0.9199733), (7183, 0.9663297), (7184, 0.9857177), (7185, 0.98924714), (7186, 0.9384715), (7187, 0.38996103), (7188, 0.99356973), (7189, 0.9962293), (7190, 0.992227), (7191, 0.9925214), (7192, 0.9615184), (7193, 0.9840576), (7194, 0.9988893), (7195, 0.96941566), (7196, 0.9246161), (7197, 0.47723085), (7198, 0.7114517), (7199, 0.99068654), (7200, 0.9090303), (7201, 0.9993802), (7202, 0.3458531), (7203, 0.9924301), (7204, 0.8151854), (7205, 0.9619685), (7206, 0.96318746), (7207, 0.33014244), (7208, 0.629006), (7209, 0.931576), (7210, 0.4432134), (7211, 0.9924406), (7212, 0.72483194), (7213, 0.5556428), (7214, 0.94982153), (7215, 0.90809494), (7216, 0.9855975), (7217, 0.44556487), (7218, 0.87537235), (7219, 0.5934777), (7220, 0.520043), (7221, 0.73324436), (7222, 0.9828817), (7223, 0.9402634), (7224, 0.966228), (7225, 0.9402267), (7226, 0.999635), (7227, 0.53138816), (7228, 0.9989367), (7229, 0.9923705), (7230, 0.6889784), (7231, 0.9463199), (7232, 0.34742993), (7233, 0.94327736), (7234, 0.99943423), (7235, 0.938982), (7236, 0.56138253), (7237, 0.41620484), (7238, 0.95161116), (7239, 0.42228508), (7240, 0.5167889), (7241, 0.97560525), (7242, 0.9031805), (7243, 0.9890825), (7244, 0.3457833), (7245, 0.9334573), (7246, 0.88804156), (7247, 0.6429481), (7248, 0.9748519), (7249, 0.9951961), (7250, 0.9685655), (7251, 0.9996323), (7252, 0.7544569), (7253, 0.9952691), (7254, 0.936965), (7255, 0.95859796), (7256, 0.59856015), (7257, 0.9940475), (7258, 0.9608804), (7259, 0.93078786), (7260, 0.99999654), (7261, 0.9644865), (7262, 0.933969), (7263, 0.35728163), (7264, 0.52503985), (7265, 0.9593279), (7266, 0.7588173), (7267, 0.67645806), (7268, 0.9641482), (7269, 0.9323275), (7270, 0.7668095), (7271, 0.48238534), (7272, 0.97857493), (7273, 0.34923282), (7274, 0.31176576), (7275, 0.9298906), (7276, 0.9994082), (7277, 0.77533656), (7278, 0.9589696), (7279, 0.9576024), (7280, 0.67620456), (7281, 0.77608025), (7282, 0.8815762), (7283, 0.98869276), (7284, 0.87505937), (7285, 0.764144), (7286, 0.9768943), (7287, 0.9438075), (7288, 0.88923705), (7289, 0.9247882), (7290, 0.8149046), (7291, 0.9017246), (7292, 0.9823696), (7293, 0.99330306), (7294, 0.98191744), (7295, 0.40157092), (7296, 0.97933435), (7297, 0.90206337), (7298, 0.95583844), (7299, 0.5281768), (7300, 0.4722679), (7301, 0.99936694), (7302, 0.98377913), (7303, 0.9639249), (7304, 0.9876739), (7305, 0.95022863), (7306, 0.9993888), (7307, 0.9999513), (7308, 0.46697974), (7309, 0.9678992), (7310, 0.9970467), (7311, 0.98383254), (7312, 0.66869265), (7313, 0.99667543), (7314, 0.8220855), (7315, 0.99996245), (7316, 0.9585925), (7317, 0.9567795), (7318, 0.8730475), (7319, 0.9987257), (7320, 0.5817504), (7321, 0.42228508), (7322, 0.43181038), (7323, 0.99047446), (7324, 0.8387561), (7325, 0.53247243), (7326, 0.42275047), (7327, 0.57172394), (7328, 0.8626281), (7329, 0.964008), (7330, 0.95742416), (7331, 0.8011793), (7332, 0.2621305), (7333, 0.3434564), (7334, 0.99071574), (7335, 0.9324352), (7336, 0.8864095), (7337, 0.9245798), (7338, 0.996384), (7339, 0.98301935), (7340, 0.63957036), (7341, 0.9881777), (7342, 0.93180954), (7343, 0.7628372), (7344, 0.5045958), (7345, 0.9995413), (7346, 0.9229086), (7347, 0.5918205), (7348, 0.9207429), (7349, 0.9994562), (7350, 0.9690308), (7351, 0.24625812), (7352, 0.5829419), (7353, 0.9982117), (7354, 0.9909058), (7355, 0.97757566), (7356, 0.8898325), (7357, 0.96885884), (7358, 0.69283), (7359, 0.9970196), (7360, 0.96257377), (7361, 0.8583233), (7362, 0.82237214), (7363, 0.40130645), (7364, 0.9844756), (7365, 0.9101217), (7366, 0.92756265), (7367, 0.41660723), (7368, 0.76539475), (7369, 0.99333835), (7370, 0.99812293), (7371, 0.9217036), (7372, 0.996498), (7373, 0.5053265), (7374, 0.9985361), (7375, 0.9931755), (7376, 0.7727192), (7377, 0.9411562), (7378, 0.9962984), (7379, 0.99740106), (7380, 0.98766834), (7381, 0.98687726), (7382, 0.909007), (7383, 0.9637422), (7384, 0.99897873), (7385, 0.4757805), (7386, 0.9370498), (7387, 0.96365815), (7388, 0.60799295), (7389, 0.7164365), (7390, 0.26794365), (7391, 0.9919554), (7392, 0.9987731), (7393, 0.9723038), (7394, 0.47006643), (7395, 0.9874959), (7396, 0.95608675), (7397, 0.41143054), (7398, 0.9977102), (7399, 0.2948147), (7400, 0.9771148), (7401, 0.9834876), (7402, 0.6587739), (7403, 0.95998544), (7404, 0.4937467), (7405, 0.9841879), (7406, 0.9877949), (7407, 0.9905), (7408, 0.9839801), (7409, 0.28411746), (7410, 0.9335377), (7411, 0.97913367), (7412, 0.99988943), (7413, 0.97229785), (7414, 0.9591143), (7415, 0.99412525), (7416, 0.9215139), (7417, 0.97777784), (7418, 0.9958411), (7419, 0.95624995), (7420, 0.99174976), (7421, 0.38692966), (7422, 0.97212136), (7423, 0.9999442), (7424, 0.90686625), (7425, 0.9992798), (7426, 0.9675164), (7427, 0.95987135), (7428, 0.8784359), (7429, 0.7935429), (7430, 0.9511287), (7431, 0.99246556), (7432, 0.95883834), (7433, 0.98457754), (7434, 0.7642087), (7435, 0.9776026), (7436, 0.8786243), (7437, 0.8878033), (7438, 0.9544049), (7439, 0.9677448), (7440, 0.9939336), (7441, 0.9940036), (7442, 0.8210831), (7443, 0.9002943), (7444, 0.9525755), (7445, 0.9595514), (7446, 0.70372254), (7447, 0.9973788), (7448, 0.9309538), (7449, 0.99710435), (7450, 0.99867946), (7451, 0.5206433), (7452, 0.9998944), (7453, 0.9751626), (7454, 0.91480327), (7455, 0.47975528), (7456, 0.43879244), (7457, 0.35616153), (7458, 0.99966025), (7459, 0.98625815), (7460, 0.9454385), (7461, 0.67223155), (7462, 0.99280834), (7463, 0.95484924), (7464, 0.56654596), (7465, 0.97573125), (7466, 0.98586637), (7467, 0.9318297), (7468, 0.99006367), (7469, 0.4398945), (7470, 0.9939336), (7471, 0.5153336), (7472, 0.9983225), (7473, 0.9544416), (7474, 0.7528147), (7475, 0.99604356), (7476, 0.4629653), (7477, 0.7449109), (7478, 0.9202689), (7479, 0.99972105), (7480, 0.99207747), (7481, 0.93392396), (7482, 0.9800533), (7483, 0.8773058), (7484, 0.9983552), (7485, 0.8256201), (7486, 0.530331), (7487, 0.98111266), (7488, 0.99688935), (7489, 0.47073185), (7490, 0.9834517), (7491, 0.66559714), (7492, 0.93777245), (7493, 0.9525834), (7494, 0.9842073), (7495, 0.87886083), (7496, 0.93642944), (7497, 0.8736096), (7498, 0.99345446), (7499, 0.99986243), (7500, 0.9967324), (7501, 0.99201113), (7502, 0.9697027), (7503, 0.99910384), (7504, 0.5780936), (7505, 0.903245), (7506, 0.869276), (7507, 0.97693104), (7508, 0.9877865), (7509, 0.9847562), (7510, 0.9404791), (7511, 0.9569982), (7512, 0.99373865), (7513, 0.98392123), (7514, 0.9837898), (7515, 0.97522503), (7516, 0.99961674), (7517, 0.58071005), (7518, 0.94665295), (7519, 0.9414593), (7520, 0.8827062), (7521, 0.9764669), (7522, 0.90343785), (7523, 0.96303326), (7524, 0.50783443), (7525, 0.99488896), (7526, 0.48436505), (7527, 0.58715886), (7528, 0.37155765), (7529, 0.4802739), (7530, 0.3941008), (7531, 0.9806557), (7532, 0.9798122), (7533, 0.9939063), (7534, 0.97864103), (7535, 0.9608551), (7536, 0.3571634), (7537, 0.56513923), (7538, 0.94000256), (7539, 0.9990966), (7540, 0.98954195), (7541, 0.99469036), (7542, 0.9822181), (7543, 0.94821715), (7544, 0.90814704), (7545, 0.9479404), (7546, 0.91932815), (7547, 0.94168234), (7548, 0.41448963), (7549, 0.97595745), (7550, 0.4069978), (7551, 0.5859437), (7552, 0.9988229), (7553, 0.78331923), (7554, 0.4613424), (7555, 0.8817351), (7556, 0.99991757), (7557, 0.33418137), (7558, 0.99733865), (7559, 0.48582122), (7560, 0.92389435), (7561, 0.9947304), (7562, 0.81039464), (7563, 0.9993072), (7564, 0.9302832), (7565, 0.654893), (7566, 0.9782944), (7567, 0.99661845), (7568, 0.9338296), (7569, 0.9185241), (7570, 0.42356277), (7571, 0.74332076), (7572, 0.9978744), (7573, 0.91922414), (7574, 0.90248734), (7575, 0.9978739), (7576, 0.8712946), (7577, 0.99448276), (7578, 0.91898406), (7579, 0.9955031), (7580, 0.99905246), (7581, 0.9712219), (7582, 0.95710593), (7583, 0.95041865), (7584, 0.99641305), (7585, 0.9505239), (7586, 0.9108386), (7587, 0.95736194), (7588, 0.7048355), (7589, 0.98370814), (7590, 0.96524966), (7591, 0.99994504), (7592, 0.7484392), (7593, 0.6087356), (7594, 0.9389502), (7595, 0.9988366), (7596, 0.9213859), (7597, 0.9814827), (7598, 0.98386693), (7599, 0.73391414), (7600, 0.9992183), (7601, 0.9895109), (7602, 0.998056), (7603, 0.31940806), (7604, 0.97127515), (7605, 0.98199654), (7606, 0.4222499), (7607, 0.9885262), (7608, 0.96918666), (7609, 0.36602682), (7610, 0.9845798), (7611, 0.92996925), (7612, 0.9247882), (7613, 0.9906446), (7614, 0.9576152), (7615, 0.9774949), (7616, 0.67391336), (7617, 0.9488708), (7618, 0.9440668), (7619, 0.9855945), (7620, 0.9560928), (7621, 0.96875876), (7622, 0.94990176), (7623, 0.59110755), (7624, 0.9483277), (7625, 0.9996784), (7626, 0.86765367), (7627, 0.9356483), (7628, 0.5793277), (7629, 0.8811136), (7630, 0.9673957), (7631, 0.88303417), (7632, 0.68442225), (7633, 0.96474814), (7634, 0.9565564), (7635, 0.99328566), (7636, 0.97810644), (7637, 0.9352998), (7638, 0.9723832), (7639, 0.29968983), (7640, 0.4606123), (7641, 0.960267), (7642, 0.9188782), (7643, 0.4928819), (7644, 0.992242), (7645, 0.92756534), (7646, 0.9746699), (7647, 0.9496113), (7648, 0.99950486), (7649, 0.9390118), (7650, 0.97172654), (7651, 0.9834532), (7652, 0.54147816), (7653, 0.98956126), (7654, 0.42509758), (7655, 0.5942798), (7656, 0.56693643), (7657, 0.99343026), (7658, 0.4800713), (7659, 0.89252937), (7660, 0.9808489), (7661, 0.9190973), (7662, 0.8937297), (7663, 0.98603034), (7664, 0.93350655), (7665, 0.9828761), (7666, 0.3799794), (7667, 0.72018665), (7668, 0.33619756), (7669, 0.93372446), (7670, 0.99669677), (7671, 0.95937747), (7672, 0.84295917), (7673, 0.97582376), (7674, 0.9791772), (7675, 0.8865361), (7676, 0.99896073), (7677, 0.28939795), (7678, 0.90470934), (7679, 0.84709764), (7680, 0.9321242), (7681, 0.5379667), (7682, 0.940206), (7683, 0.8747006), (7684, 0.9949103), (7685, 0.92733955), (7686, 0.95893925), (7687, 0.72849977), (7688, 0.93636113), (7689, 0.9987212), (7690, 0.97200954), (7691, 0.99333656), (7692, 0.5034206), (7693, 0.93019414), (7694, 0.678877), (7695, 0.9910101), (7696, 0.99990535), (7697, 0.90037775), (7698, 0.419944), (7699, 0.9989393), (7700, 0.53603375), (7701, 0.9577918), (7702, 0.42304862), (7703, 0.98476213), (7704, 0.57252383), (7705, 0.9914047), (7706, 0.93434864), (7707, 0.9620945), (7708, 0.9238311), (7709, 0.92916125), (7710, 0.90433), (7711, 0.9689562), (7712, 0.92915314), (7713, 0.7148878), (7714, 0.99332696), (7715, 0.35925817), (7716, 0.94540906), (7717, 0.9826089), (7718, 0.79601127), (7719, 0.9986381), (7720, 0.96117437), (7721, 0.52480596), (7722, 0.42136928), (7723, 0.97808945), (7724, 0.9143997), (7725, 0.99505305), (7726, 0.95812243), (7727, 0.99653774), (7728, 0.886485), (7729, 0.38977575), (7730, 0.9773464), (7731, 0.9074727), (7732, 0.996192), (7733, 0.9995371), (7734, 0.8769107), (7735, 0.87912565), (7736, 0.8602197), (7737, 0.82544136), (7738, 0.9283078), (7739, 0.5398415), (7740, 0.9934106), (7741, 0.982114), (7742, 0.98625815), (7743, 0.93315965), (7744, 0.9913368), (7745, 0.98605615), (7746, 0.67512083), (7747, 0.96095407), (7748, 0.99687093), (7749, 0.6314369), (7750, 0.9454741), (7751, 0.86052865), (7752, 0.986681), (7753, 0.97545373), (7754, 0.460281), (7755, 0.9134192), (7756, 0.9625785), (7757, 0.9516772), (7758, 0.95195544), (7759, 0.9320008), (7760, 0.9502561), (7761, 0.99929273), (7762, 0.96324766), (7763, 0.9947441), (7764, 0.7285155), (7765, 0.9642817), (7766, 0.9392793), (7767, 0.9978269), (7768, 0.7615259), (7769, 0.9313016), (7770, 0.94880134), (7771, 0.99302685), (7772, 0.9923096), (7773, 0.99155), (7774, 0.9009735), (7775, 0.94590956), (7776, 0.67597914), (7777, 0.9757427), (7778, 0.9261602), (7779, 0.82816994), (7780, 0.9481396), (7781, 0.9949941), (7782, 0.9982401), (7783, 0.83355266), (7784, 0.9687815), (7785, 0.99987406), (7786, 0.99541074), (7787, 0.9838284), (7788, 0.464316), (7789, 0.9964009), (7790, 0.97489995), (7791, 0.99039686), (7792, 0.51234233), (7793, 0.9998337), (7794, 0.98294264), (7795, 0.96857274), (7796, 0.94665504), (7797, 0.98489356), (7798, 0.73598427), (7799, 0.95493716), (7800, 0.35371011), (7801, 0.98814553), (7802, 0.99428046), (7803, 0.9752079), (7804, 0.9995635), (7805, 0.9964655), (7806, 0.9825433), (7807, 0.97057635), (7808, 0.9555974), (7809, 0.667326), (7810, 0.99030143), (7811, 0.52001166), (7812, 0.53230304), (7813, 0.95669365), (7814, 0.9767444), (7815, 0.98542315), (7816, 0.9270897), (7817, 0.9933401), (7818, 0.91255593), (7819, 0.9199695), (7820, 0.96719205), (7821, 0.9964886), (7822, 0.9194673), (7823, 0.9922358), (7824, 0.977329), (7825, 0.96807784), (7826, 0.40891868), (7827, 0.9550587), (7828, 0.9832501), (7829, 0.5075477), (7830, 0.9887671), (7831, 0.99284), (7832, 0.97491705), (7833, 0.88588727), (7834, 0.98585576), (7835, 0.94735956), (7836, 0.6826042), (7837, 0.5533788), (7838, 0.9747543), (7839, 0.9225086), (7840, 0.99876547), (7841, 0.39823332), (7842, 0.99564934), (7843, 0.9797708), (7844, 0.95075244), (7845, 0.9860746), (7846, 0.48496917), (7847, 0.99805456), (7848, 0.9530551), (7849, 0.9496708), (7850, 0.8983141), (7851, 0.9542039), (7852, 0.9939206), (7853, 0.9997422), (7854, 0.6037457), (7855, 0.99980015), (7856, 0.3815956), (7857, 0.954234), (7858, 0.82168084), (7859, 0.9781363), (7860, 0.62685335), (7861, 0.97049695), (7862, 0.9793923), (7863, 0.50889754), (7864, 0.4520133), (7865, 0.4254941), (7866, 0.958866), (7867, 0.9896796), (7868, 0.76986253), (7869, 0.9712), (7870, 0.89171875), (7871, 0.7748364), (7872, 0.31176576), (7873, 0.98570883), (7874, 0.9380891), (7875, 0.8883595), (7876, 0.99757683), (7877, 0.9627506), (7878, 0.35300583), (7879, 0.9801725), (7880, 0.93056446), (7881, 0.9896555), (7882, 0.99968207), (7883, 0.56273174), (7884, 0.5416665), (7885, 0.5899284), (7886, 0.9670869), (7887, 0.9188736), (7888, 0.977372), (7889, 0.99914217), (7890, 0.7009075), (7891, 0.46137697), (7892, 0.57562405), (7893, 0.8610284), (7894, 0.99020916), (7895, 0.9371873), (7896, 0.97041255), (7897, 0.9259954), (7898, 0.9206016), (7899, 0.9533451), (7900, 0.9787459), (7901, 0.5988517), (7902, 0.9160711), (7903, 0.9050806), (7904, 0.46738124), (7905, 0.95467716), (7906, 0.33014244), (7907, 0.96413124), (7908, 0.9323877), (7909, 0.9974086), (7910, 0.99281436), (7911, 0.95957094), (7912, 0.43738765), (7913, 0.96322316), (7914, 0.9238552), (7915, 0.955244), (7916, 0.99044853), (7917, 0.9674364), (7918, 0.99019855), (7919, 0.6802144), (7920, 0.47882885), (7921, 0.9793516), (7922, 0.5158199), (7923, 0.9792572), (7924, 0.9935754), (7925, 0.9383803), (7926, 0.9407776), (7927, 0.665158), (7928, 0.9725397), (7929, 0.99999833), (7930, 0.49986607), (7931, 0.945363), (7932, 0.82571036), (7933, 0.97306097), (7934, 0.9318349), (7935, 0.88644737), (7936, 0.9971978), (7937, 0.99174136), (7938, 0.9963132), (7939, 0.9997107), (7940, 0.997247), (7941, 0.50074995), (7942, 0.964013), (7943, 0.95565593), (7944, 0.98010445), (7945, 0.94804263), (7946, 0.4287737), (7947, 0.84855807), (7948, 0.5854676), (7949, 0.7914461), (7950, 0.6539836), (7951, 0.95794386), (7952, 0.9895393), (7953, 0.63127214), (7954, 0.9999892), (7955, 0.9710622), (7956, 0.9872429), (7957, 0.5484387), (7958, 0.99907124), (7959, 0.937741), (7960, 0.89572936), (7961, 0.9884874), (7962, 0.98580945), (7963, 0.9577516), (7964, 0.9839575), (7965, 0.88459635), (7966, 0.9410856), (7967, 0.94584733), (7968, 0.9886083), (7969, 0.5752777), (7970, 0.99078405), (7971, 0.9978963), (7972, 0.9949047), (7973, 0.9266319), (7974, 0.95646715), (7975, 0.90675175), (7976, 0.9993711), (7977, 0.98485875), (7978, 0.48487774), (7979, 0.38763058), (7980, 0.9321969), (7981, 0.8684727), (7982, 0.8983141), (7983, 0.88451153), (7984, 0.90853405), (7985, 0.97832984), (7986, 0.95095134), (7987, 0.9793262), (7988, 0.9837703), (7989, 0.99366134), (7990, 0.47831446), (7991, 0.7223658), (7992, 0.9648068), (7993, 0.99089307), (7994, 0.9796888), (7995, 0.9047058), (7996, 0.98353195), (7997, 0.9854822), (7998, 0.9815311), (7999, 0.949449), (8000, 0.9717377), (8001, 0.93693995), (8002, 0.9993119), (8003, 0.9959655), (8004, 0.83194375), (8005, 0.942439), (8006, 0.2671162), (8007, 0.42585322), (8008, 0.5079153), (8009, 0.9525993), (8010, 0.9545511), (8011, 0.999619), (8012, 0.9991603), (8013, 0.3974235), (8014, 0.42757398), (8015, 0.90866506), (8016, 0.25550723), (8017, 0.9446392), (8018, 0.9878554), (8019, 0.95635605), (8020, 0.9210992), (8021, 0.7327671), (8022, 0.75968754), (8023, 0.9635246), (8024, 0.9511759), (8025, 0.4557702), (8026, 0.99990225), (8027, 0.9808463), (8028, 0.93073004), (8029, 0.9996747), (8030, 0.9992415), (8031, 0.954796), (8032, 0.9766773), (8033, 0.94368786), (8034, 0.6140249), (8035, 0.27927408), (8036, 0.764715), (8037, 0.47941512), (8038, 0.9600837), (8039, 0.68324864), (8040, 0.49749112), (8041, 0.78775066), (8042, 0.98294944), (8043, 0.8543553), (8044, 0.43513942), (8045, 0.6069562), (8046, 0.93000054), (8047, 0.97264665), (8048, 0.9864201), (8049, 0.96738005), (8050, 0.86174864), (8051, 0.99312925), (8052, 0.9627988), (8053, 0.48303124), (8054, 0.997801), (8055, 0.9004746), (8056, 0.87575006), (8057, 0.87360877), (8058, 0.99990153), (8059, 0.96497977), (8060, 0.9942229), (8061, 0.3790367), (8062, 0.99948335), (8063, 0.97028273), (8064, 0.9714631), (8065, 0.5940428), (8066, 0.99636155), (8067, 0.5539129), (8068, 0.96284485), (8069, 0.5799096), (8070, 0.99655014), (8071, 0.9736275), (8072, 0.9986663), (8073, 0.9877069), (8074, 0.9705081), (8075, 0.9806591), (8076, 0.9413662), (8077, 0.58650184), (8078, 0.9699639), (8079, 0.4188245), (8080, 0.99986684), (8081, 0.9690607), (8082, 0.96885884), (8083, 0.9911148), (8084, 0.98668736), (8085, 0.9991929), (8086, 0.411667), (8087, 0.96798205), (8088, 0.999953), (8089, 0.98972803), (8090, 0.99503636), (8091, 0.98506355), (8092, 0.9978579), (8093, 0.9748745), (8094, 0.9541962), (8095, 0.85527086), (8096, 0.99988467), (8097, 0.9989314), (8098, 0.9939705), (8099, 0.95636034), (8100, 0.7367667), (8101, 0.93074447), (8102, 0.9429788), (8103, 0.89296263), (8104, 0.46047783), (8105, 0.8239512), (8106, 0.9902373), (8107, 0.39219725), (8108, 0.9736589), (8109, 0.9750925), (8110, 0.9429229), (8111, 0.9692137), (8112, 0.95820946), (8113, 0.69568187), (8114, 0.98165166), (8115, 0.7741969), (8116, 0.6033926), (8117, 0.999992), (8118, 0.9962286), (8119, 0.94696146), (8120, 0.99988043), (8121, 0.9744489), (8122, 0.9650813), (8123, 0.38625675), (8124, 0.6538325), (8125, 0.5372089), (8126, 0.85148394), (8127, 0.96054727), (8128, 0.9442028), (8129, 0.99726605), (8130, 0.89713854), (8131, 0.9992952), (8132, 0.4613186), (8133, 0.805787), (8134, 0.94571865), (8135, 0.5400863), (8136, 0.94313794), (8137, 0.97106), (8138, 0.9243542), (8139, 0.92269886), (8140, 0.95845616), (8141, 0.3661304), (8142, 0.8767104), (8143, 0.99842095), (8144, 0.98045504), (8145, 0.37534028), (8146, 0.8984466), (8147, 0.9682595), (8148, 0.81175005), (8149, 0.9956361), (8150, 0.9993588), (8151, 0.99611455), (8152, 0.9828228), (8153, 0.98616016), (8154, 0.9934301), (8155, 0.61329955), (8156, 0.977372), (8157, 0.8602091), (8158, 0.87731314), (8159, 0.9480198), (8160, 0.95323867), (8161, 0.35138232), (8162, 0.9869719), (8163, 0.6580042), (8164, 0.36445922), (8165, 0.99287856), (8166, 0.6744701), (8167, 0.54594636), (8168, 0.9953364), (8169, 0.38652697), (8170, 0.45299828), (8171, 0.4801638), (8172, 0.95829076), (8173, 0.45073935), (8174, 0.4998522), (8175, 0.99998194), (8176, 0.85070467), (8177, 0.8695134), (8178, 0.8702022), (8179, 0.9410869), (8180, 0.99119), (8181, 0.8946244), (8182, 0.89635503), (8183, 0.9036857), (8184, 0.93514526), (8185, 0.87804365), (8186, 0.37612215), (8187, 0.723714), (8188, 0.6658748), (8189, 0.37626994), (8190, 0.72548205), (8191, 0.95660794), (8192, 0.86873907), (8193, 0.98024106), (8194, 0.61809963), (8195, 0.3771469), (8196, 0.9789874), (8197, 0.39276195), (8198, 0.9896374), (8199, 0.99998105), (8200, 0.9733365), (8201, 0.9893036), (8202, 0.92092997), (8203, 0.9861597), (8204, 0.9998559), (8205, 0.95021373), (8206, 0.832724), (8207, 0.99995023), (8208, 0.9978324), (8209, 0.47396022), (8210, 0.9487229), (8211, 0.93430454), (8212, 0.726527), (8213, 0.5915376), (8214, 0.89050895), (8215, 0.6567882), (8216, 0.7418759), (8217, 0.7125085), (8218, 0.99809813), (8219, 0.71015674), (8220, 0.8773058), (8221, 0.9741771), (8222, 0.99389017), (8223, 0.43230757), (8224, 0.89474046), (8225, 0.9931844), (8226, 0.9711503), (8227, 0.99454063), (8228, 0.4498563), (8229, 0.9006396), (8230, 0.9971374), (8231, 0.86134636), (8232, 0.53586376), (8233, 0.99990696), (8234, 0.99956226), (8235, 0.90013885), (8236, 0.9629507), (8237, 0.9757793), (8238, 0.999518), (8239, 0.30964482), (8240, 0.54539955), (8241, 0.9960962), (8242, 0.9131562), (8243, 0.9747474), (8244, 0.99369556), (8245, 0.40008646), (8246, 0.95956224), (8247, 0.9001774), (8248, 0.80707186), (8249, 0.902014), (8250, 0.8248558), (8251, 0.5117742), (8252, 0.6536827), (8253, 0.99980634), (8254, 0.388394), (8255, 0.93462354), (8256, 0.38583255), (8257, 0.5168767), (8258, 0.99880695), (8259, 0.9715986), (8260, 0.9938666), (8261, 0.9888261), (8262, 0.99270904), (8263, 0.9994044), (8264, 0.92871684), (8265, 0.982211), (8266, 0.481166), (8267, 0.8583836), (8268, 0.50642985), (8269, 0.59562695), (8270, 0.18762638), (8271, 0.89561737), (8272, 0.93951756), (8273, 0.58066773), (8274, 0.63505304), (8275, 0.9929749), (8276, 0.99837077), (8277, 0.9486207), (8278, 0.28689054), (8279, 0.99683446), (8280, 0.9376625), (8281, 0.90451056), (8282, 0.9838504), (8283, 0.99341965), (8284, 0.96072114), (8285, 0.93228525), (8286, 0.9113785), (8287, 0.9302069), (8288, 0.3379866), (8289, 0.89345366), (8290, 0.65162253), (8291, 0.97140735), (8292, 0.99525046), (8293, 0.93735355), (8294, 0.99981743), (8295, 0.505297), (8296, 0.9584287), (8297, 0.9646233), (8298, 0.9614257), (8299, 0.9548451), (8300, 0.9989499), (8301, 0.9404564), (8302, 0.9998892), (8303, 0.3083722), (8304, 0.9994643), (8305, 0.9537327), (8306, 0.9998298), (8307, 0.9830793), (8308, 0.9900721), (8309, 0.65225744), (8310, 0.39276683), (8311, 0.40173155), (8312, 0.9311179), (8313, 0.98364335), (8314, 0.9886628), (8315, 0.6737903), (8316, 0.9496066), (8317, 0.49918303), (8318, 0.58568573), (8319, 0.5627534), (8320, 0.9977416), (8321, 0.3974482), (8322, 0.936983), (8323, 0.7627405), (8324, 0.96039456), (8325, 0.9078772), (8326, 0.47652203), (8327, 0.90887284), (8328, 0.9940715), (8329, 0.9483304), (8330, 0.9771762), (8331, 0.6369134), (8332, 0.9536008), (8333, 0.8855808), (8334, 0.8279863), (8335, 0.9671269), (8336, 0.99567187), (8337, 0.9449867), (8338, 0.8986513), (8339, 0.9170057), (8340, 0.88554126), (8341, 0.41085526), (8342, 0.6634112), (8343, 0.28282022), (8344, 0.9016068), (8345, 0.9514041), (8346, 0.9610329), (8347, 0.7607136), (8348, 0.47084498), (8349, 0.5129993), (8350, 0.999918), (8351, 0.9606836), (8352, 0.435867), (8353, 0.99676275), (8354, 0.9408059), (8355, 0.8191806), (8356, 0.9789506), (8357, 0.9912282), (8358, 0.95296985), (8359, 0.9235642), (8360, 0.96580553), (8361, 0.9548797), (8362, 0.6863425), (8363, 0.99814636), (8364, 0.9999785), (8365, 0.91367334), (8366, 0.9921129), (8367, 0.91843003), (8368, 0.9830319), (8369, 0.9969167), (8370, 0.98766834), (8371, 0.97925067), (8372, 0.30367064), (8373, 0.97047293), (8374, 0.50601035), (8375, 0.5140939), (8376, 0.9048323), (8377, 0.549352), (8378, 0.9913067), (8379, 0.9157102), (8380, 0.4704118), (8381, 0.6352527), (8382, 0.6373635), (8383, 0.33477572), (8384, 0.9460518), (8385, 0.56087196), (8386, 0.9383405), (8387, 0.9718163), (8388, 0.38244933), (8389, 0.9999255), (8390, 0.99459505), (8391, 0.9981141), (8392, 0.56101894), (8393, 0.6062551), (8394, 0.4282124), (8395, 0.98526156), (8396, 0.91615987), (8397, 0.9652021), (8398, 0.94619733), (8399, 0.9996066), (8400, 0.93175465), (8401, 0.9755869), (8402, 0.9986663), (8403, 0.9625111), (8404, 0.9423697), (8405, 0.4747999), (8406, 0.95640326), (8407, 0.6505057), (8408, 0.930338), (8409, 0.89758915), (8410, 0.50730205), (8411, 0.94436705), (8412, 0.32625937), (8413, 0.8562504), (8414, 0.9954457), (8415, 0.98530924), (8416, 0.9480383), (8417, 0.84052634), (8418, 0.65495783), (8419, 0.930197), (8420, 0.9427044), (8421, 0.99818075), (8422, 0.9864096), (8423, 0.44539148), (8424, 0.9724426), (8425, 0.99808687), (8426, 0.94669974), (8427, 0.9532946), (8428, 0.9913879), (8429, 0.95161444), (8430, 0.43978888), (8431, 0.9928538), (8432, 0.9992076), (8433, 0.46715444), (8434, 0.95079833), (8435, 0.8794191), (8436, 0.9963031), (8437, 0.97771627), (8438, 0.9936673), (8439, 0.93398196), (8440, 0.8621136), (8441, 0.98925096), (8442, 0.9655245), (8443, 0.8874312), (8444, 0.99553293), (8445, 0.92202055), (8446, 0.9970161), (8447, 0.99531305), (8448, 0.99724615), (8449, 0.5016903), (8450, 0.9999723), (8451, 0.9999979), (8452, 0.9959464), (8453, 0.99365187), (8454, 0.9999472), (8455, 0.99873555), (8456, 0.96269685), (8457, 0.5459234), (8458, 0.9986919), (8459, 0.9955032), (8460, 0.9640178), (8461, 0.6272735), (8462, 0.9832692), (8463, 0.91970456), (8464, 0.94581085), (8465, 0.37256795), (8466, 0.96182156), (8467, 0.99918973), (8468, 0.9500612), (8469, 0.9999986), (8470, 0.4131027), (8471, 0.9684636), (8472, 0.9969923), (8473, 0.43848825), (8474, 0.45169562), (8475, 0.9887955), (8476, 0.9429255), (8477, 0.8899232), (8478, 0.45073935), (8479, 0.9965604), (8480, 0.9531334), (8481, 0.9154872), (8482, 0.9883242), (8483, 0.5331312), (8484, 0.9697027), (8485, 0.9302588), (8486, 0.99559885), (8487, 0.98952556), (8488, 0.97986937), (8489, 0.9973985), (8490, 0.47491962), (8491, 0.8969071), (8492, 0.90080726), (8493, 0.9968674), (8494, 0.8862608), (8495, 0.4839816), (8496, 0.6857405), (8497, 0.7415091), (8498, 0.36715734), (8499, 0.9419197), (8500, 0.9526358), (8501, 0.87263346), (8502, 0.8864461), (8503, 0.93480325), (8504, 0.93644136), (8505, 0.36882365), (8506, 0.97728306), (8507, 0.86840004), (8508, 0.5820295), (8509, 0.556407), (8510, 0.9324063), (8511, 0.9976774), (8512, 0.9280479), (8513, 0.3726402), (8514, 0.8791821), (8515, 0.9829828), (8516, 0.37021604), (8517, 0.54815435), (8518, 0.93151927), (8519, 0.9485424), (8520, 0.75129914), (8521, 0.95164), (8522, 0.94830585), (8523, 0.99999654), (8524, 0.9999771), (8525, 0.9179015), (8526, 0.51052606), (8527, 0.433907), (8528, 0.9565564), (8529, 0.86502993), (8530, 0.9492357), (8531, 0.9997895), (8532, 0.9540472), (8533, 0.9254831), (8534, 0.9477338), (8535, 0.87804365), (8536, 0.90821606), (8537, 0.47843683), (8538, 0.97450393), (8539, 0.41001147), (8540, 0.7814253), (8541, 0.9995694), (8542, 0.40543455), (8543, 0.98141223), (8544, 0.91905606), (8545, 0.99586153), (8546, 0.94403356), (8547, 0.7770438), (8548, 0.86778724), (8549, 0.99789697), (8550, 0.96018517), (8551, 0.92769855), (8552, 0.95431954), (8553, 0.90596455), (8554, 0.9958507), (8555, 0.96717894), (8556, 0.98144615), (8557, 0.3800951), (8558, 0.99618036), (8559, 0.95305514), (8560, 0.99733156), (8561, 0.9997622), (8562, 0.81352437), (8563, 0.94613016), (8564, 0.9213556), (8565, 0.95806366), (8566, 0.97234064), (8567, 0.75648856), (8568, 0.9998324), (8569, 0.97931623), (8570, 0.83177847), (8571, 0.8498725), (8572, 0.6915662), (8573, 0.46643436), (8574, 0.96324635), (8575, 0.9998463), (8576, 0.960354), (8577, 0.92367715), (8578, 0.9469579), (8579, 0.89092183), (8580, 0.9769759), (8581, 0.9753951), (8582, 0.39219725), (8583, 0.93341935), (8584, 0.72745144), (8585, 0.97531825), (8586, 0.9972582), (8587, 0.97321004), (8588, 0.9169858), (8589, 0.96352047), (8590, 0.85054296), (8591, 0.9570234), (8592, 0.9980476), (8593, 0.37255085), (8594, 0.9999942), (8595, 0.97931623), (8596, 0.9591398), (8597, 0.9578068), (8598, 0.93631816), (8599, 0.9457147), (8600, 0.86817783), (8601, 0.9582858), (8602, 0.92480814), (8603, 0.8964503), (8604, 0.9143184), (8605, 0.9457571), (8606, 0.8112277), (8607, 0.999257), (8608, 0.9935015), (8609, 0.99916136), (8610, 0.97994906), (8611, 0.44726014), (8612, 0.9911402), (8613, 0.9826924), (8614, 0.42924967), (8615, 0.9984721), (8616, 0.99265045), (8617, 0.9914582), (8618, 0.73523253), (8619, 0.9998424), (8620, 0.6351078), (8621, 0.98351395), (8622, 0.98961335), (8623, 0.95112735), (8624, 0.94272375), (8625, 0.998832), (8626, 0.28327823), (8627, 0.9878795), (8628, 0.9579649), (8629, 0.98628145), (8630, 0.9929749), (8631, 0.6889784), (8632, 0.99441487), (8633, 0.9926022), (8634, 0.993029), (8635, 0.8592666), (8636, 0.9976785), (8637, 0.98835576), (8638, 0.9762262), (8639, 0.9340005), (8640, 0.94636387), (8641, 0.32058352), (8642, 0.9919832), (8643, 0.99994683), (8644, 0.94985807), (8645, 0.99345213), (8646, 0.9498918), (8647, 0.6417192), (8648, 0.96858937), (8649, 0.957798), (8650, 0.9349836), (8651, 0.928642), (8652, 0.9990626), (8653, 0.38278008), (8654, 0.9467761), (8655, 0.98528975), (8656, 0.6741663), (8657, 0.96782565), (8658, 0.96717596), (8659, 0.9961912), (8660, 0.9887481), (8661, 0.9180875), (8662, 0.9806118), (8663, 0.9999859), (8664, 0.9911134), (8665, 0.9992399), (8666, 0.9463199), (8667, 0.41562876), (8668, 0.9592844), (8669, 0.9943731), (8670, 0.62788534), (8671, 0.98972803), (8672, 0.39080036), (8673, 0.9964363), (8674, 0.96961516), (8675, 0.932695), (8676, 0.42360425), (8677, 0.9593636), (8678, 0.99983996), (8679, 0.9831621), (8680, 0.9972262), (8681, 0.45835483), (8682, 0.9894072), (8683, 0.99939924), (8684, 0.97522503), (8685, 0.97072965), (8686, 0.8863352), (8687, 0.9690689), (8688, 0.9711193), (8689, 0.98919797), (8690, 0.9789914), (8691, 0.98303044), (8692, 0.36680824), (8693, 0.581264), (8694, 0.99156624), (8695, 0.8882563), (8696, 0.96000975), (8697, 0.9812338), (8698, 0.9637619), (8699, 0.87545973), (8700, 0.99449855), (8701, 0.9452324), (8702, 0.99944574), (8703, 0.93243945), (8704, 0.9759006), (8705, 0.8930828), (8706, 0.6212266), (8707, 0.9339267), (8708, 0.9656638), (8709, 0.66921324), (8710, 0.96561193), (8711, 0.9984955), (8712, 0.99449295), (8713, 0.95629376), (8714, 0.964892), (8715, 0.6865272), (8716, 0.98763794), (8717, 0.79219604), (8718, 0.998683), (8719, 0.98830694), (8720, 0.48006684), (8721, 0.9835341), (8722, 0.9769038), (8723, 0.5798563), (8724, 0.94195044), (8725, 0.9207684), (8726, 0.9465651), (8727, 0.3844145), (8728, 0.91010654), (8729, 0.9996864), (8730, 0.50308806), (8731, 0.45082265), (8732, 0.54085326), (8733, 0.9820953), (8734, 0.6011596), (8735, 0.9040866), (8736, 0.52698946), (8737, 0.981406), (8738, 0.9907485), (8739, 0.9952919), (8740, 0.5839137), (8741, 0.914797), (8742, 0.62282944), (8743, 0.85026157), (8744, 0.9993085), (8745, 0.9786278), (8746, 0.96282977), (8747, 0.7532646), (8748, 0.98720574), (8749, 0.33357844), (8750, 0.940797), (8751, 0.4647615), (8752, 0.9993588), (8753, 0.9069942), (8754, 0.9731441), (8755, 0.97935355), (8756, 0.32678974), (8757, 0.7734108), (8758, 0.9123257), (8759, 0.99829084), (8760, 0.9999977), (8761, 0.9259021), (8762, 0.9969052), (8763, 0.995588), (8764, 0.3617754), (8765, 0.5001315), (8766, 0.992435), (8767, 0.95464116), (8768, 0.93577635), (8769, 0.99998), (8770, 0.9999983), (8771, 0.9952902), (8772, 0.8064952), (8773, 0.9498045), (8774, 0.48138452), (8775, 0.98423266), (8776, 0.927313), (8777, 0.9477338), (8778, 0.42315143), (8779, 0.9705346), (8780, 0.90731436), (8781, 0.99173373), (8782, 0.9333176), (8783, 0.9996633), (8784, 0.99690706), (8785, 0.9596418), (8786, 0.79150736), (8787, 0.883351), (8788, 0.5936601), (8789, 0.9801743), (8790, 0.9586074), (8791, 0.90188265), (8792, 0.8727017), (8793, 0.99972886), (8794, 0.8492937), (8795, 0.32654184), (8796, 0.871179), (8797, 0.9931793), (8798, 0.98261255), (8799, 0.937366), (8800, 0.9906256), (8801, 0.52461934), (8802, 0.9417839), (8803, 0.9676615), (8804, 0.9665977), (8805, 0.9821797), (8806, 0.9904765), (8807, 0.44557554), (8808, 0.6209108), (8809, 0.8216835), (8810, 0.40718955), (8811, 0.9684766), (8812, 0.9993347), (8813, 0.9916163), (8814, 0.9937441), (8815, 0.47792917), (8816, 0.98658353), (8817, 0.9465164), (8818, 0.96946895), (8819, 0.48396045), (8820, 0.38362724), (8821, 0.9825846), (8822, 0.9815611), (8823, 0.95542085), (8824, 0.9957214), (8825, 0.5699002), (8826, 0.9982731), (8827, 0.3836779), (8828, 0.9988811), (8829, 0.7495767), (8830, 0.9499038), (8831, 0.5053265), (8832, 0.8863894), (8833, 0.9995572), (8834, 0.9183697), (8835, 0.74762326), (8836, 0.99908996), (8837, 0.59192145), (8838, 0.9074364), (8839, 0.95174843), (8840, 0.9410043), (8841, 0.92906195), (8842, 0.99916345), (8843, 0.96390927), (8844, 0.93336904), (8845, 0.66887516), (8846, 0.9861391), (8847, 0.924233), (8848, 0.5052135), (8849, 0.99718606), (8850, 0.9892125), (8851, 0.8971993), (8852, 0.43580335), (8853, 0.990627), (8854, 0.9999709), (8855, 0.59614563), (8856, 0.53834593), (8857, 0.9996784), (8858, 0.9559728), (8859, 0.99999243), (8860, 0.72794765), (8861, 0.7018306), (8862, 0.8343122), (8863, 0.82467985), (8864, 0.99898434), (8865, 0.52639616), (8866, 0.9525755), (8867, 0.9939995), (8868, 0.92688787), (8869, 0.994189), (8870, 0.9310266), (8871, 0.70638764), (8872, 0.94268155), (8873, 0.99989706), (8874, 0.89177626), (8875, 0.91671085), (8876, 0.5585515), (8877, 0.9125315), (8878, 0.9663944), (8879, 0.90979636), (8880, 0.76309437), (8881, 0.7703962), (8882, 0.8828244), (8883, 0.94264877), (8884, 0.99862033), (8885, 0.3854619), (8886, 0.81467), (8887, 0.94890344), (8888, 0.88311464), (8889, 0.3415475), (8890, 0.99510163), (8891, 0.99382854), (8892, 0.5377123), (8893, 0.9993915), (8894, 0.9991509), (8895, 0.8972973), (8896, 0.90184224), (8897, 0.98484427), (8898, 0.99364364), (8899, 0.5775787), (8900, 0.9675436), (8901, 0.9896436), (8902, 0.99523675), (8903, 0.97435117), (8904, 0.9442069), (8905, 0.99976516), (8906, 0.9336085), (8907, 0.93150896), (8908, 0.94318974), (8909, 0.9999579), (8910, 0.895892), (8911, 0.9726672), (8912, 0.98594445), (8913, 0.9413662), (8914, 0.920746), (8915, 0.97028273), (8916, 0.9481473), (8917, 0.7473765), (8918, 0.95110065), (8919, 0.9145717), (8920, 0.38278008), (8921, 0.8607888), (8922, 0.88710374), (8923, 0.6703733), (8924, 0.6918745), (8925, 0.9997104), (8926, 0.27544367), (8927, 0.9874369), (8928, 0.42468902), (8929, 0.9906762), (8930, 0.973604), (8931, 0.9044353), (8932, 0.9011128), (8933, 0.5937825), (8934, 0.9967924), (8935, 0.9846944), (8936, 0.3507076), (8937, 0.8715229), (8938, 0.968344), (8939, 0.99989533), (8940, 0.9226225), (8941, 0.9645123), (8942, 0.8970696), (8943, 0.99905944), (8944, 0.8608168), (8945, 0.95554185), (8946, 0.9589696), (8947, 0.9944356), (8948, 0.9344423), (8949, 0.95685655), (8950, 0.96793956), (8951, 0.9976141), (8952, 0.67473614), (8953, 0.9555757), (8954, 0.9874226), (8955, 0.95550805), (8956, 0.9691123), (8957, 0.9968488), (8958, 0.95432097), (8959, 0.9532958), (8960, 0.956617), (8961, 0.5684392), (8962, 0.9687426), (8963, 0.80935043), (8964, 0.9546615), (8965, 0.8895868), (8966, 0.9965872), (8967, 0.9934443), (8968, 0.9491856), (8969, 0.94486475), (8970, 0.45797393), (8971, 0.7278911), (8972, 0.9946227), (8973, 0.83277607), (8974, 0.9996876), (8975, 0.96603614), (8976, 0.5261897), (8977, 0.9921701), (8978, 0.99991167), (8979, 0.98761183), (8980, 0.97576934), (8981, 0.911737), (8982, 0.94000363), (8983, 0.9591589), (8984, 0.961), (8985, 0.9950191), (8986, 0.998336), (8987, 0.93000054), (8988, 0.7040287), (8989, 0.9908085), (8990, 0.7437564), (8991, 0.9504757), (8992, 0.9931495), (8993, 0.97616243), (8994, 0.9857637), (8995, 0.4927832), (8996, 0.51622534), (8997, 0.7442586), (8998, 0.9640457), (8999, 0.64418656), (9000, 0.85477364), (9001, 0.9894604), (9002, 0.9405801), (9003, 0.99997956), (9004, 0.9691878), (9005, 0.92590576), (9006, 0.99547434), (9007, 0.8978632), (9008, 0.85690135), (9009, 0.88794595), (9010, 0.94459385), (9011, 0.9806051), (9012, 0.8207002), (9013, 0.9996928), (9014, 0.9683188), (9015, 0.9067055), (9016, 0.88380367), (9017, 0.93314546), (9018, 0.44067127), (9019, 0.90286547), (9020, 0.34659737), (9021, 0.61329955), (9022, 0.54476386), (9023, 0.98977065), (9024, 0.9896555), (9025, 0.98822165), (9026, 0.9570299), (9027, 0.82227343), (9028, 0.94906235), (9029, 0.9954868), (9030, 0.53382623), (9031, 0.9692575), (9032, 0.98595524), (9033, 0.998518), (9034, 0.94459176), (9035, 0.99879265), (9036, 0.9469402), (9037, 0.99129474), (9038, 0.9311997), (9039, 0.9920224), (9040, 0.37961173), (9041, 0.99571276), (9042, 0.9131783), (9043, 0.86214405), (9044, 0.9620708), (9045, 0.94313073), (9046, 0.9902852), (9047, 0.93979204), (9048, 0.98546934), (9049, 0.97574824), (9050, 0.97232544), (9051, 0.950526), (9052, 0.4802547), (9053, 0.5719799), (9054, 0.8936027), (9055, 0.8062527), (9056, 0.48596817), (9057, 0.97942674), (9058, 0.8132457), (9059, 0.2671162), (9060, 0.98051393), (9061, 0.74708253), (9062, 0.39848232), (9063, 0.6705275), (9064, 0.47357696), (9065, 0.9134754), (9066, 0.9954868), (9067, 0.9911509), (9068, 0.93087035), (9069, 0.81508076), (9070, 0.5964351), (9071, 0.44203812), (9072, 0.6007815), (9073, 0.52264416), (9074, 0.96049), (9075, 0.57912356), (9076, 0.8754691), (9077, 0.95820946), (9078, 0.95647115), (9079, 0.95330703), (9080, 0.77831703), (9081, 0.9941993), (9082, 0.998835), (9083, 0.99943775), (9084, 0.9138496), (9085, 0.9224508), (9086, 0.996061), (9087, 0.57892805), (9088, 0.9168948), (9089, 0.95433754), (9090, 0.70294845), (9091, 0.9567779), (9092, 0.99260557), (9093, 0.9998266), (9094, 0.99087554), (9095, 0.8958959), (9096, 0.977731), (9097, 0.91165704), (9098, 0.98256445), (9099, 0.9214284), (9100, 0.9779206), (9101, 0.5889838), (9102, 0.74578655), (9103, 0.9976584), (9104, 0.98087007), (9105, 0.9980847), (9106, 0.98317885), (9107, 0.8238981), (9108, 0.9464291), (9109, 0.9584743), (9110, 0.43269044), (9111, 0.93220156), (9112, 0.9335535), (9113, 0.765136), (9114, 0.96226823), (9115, 0.68638337), (9116, 0.9862822), (9117, 0.8301384), (9118, 0.46800745), (9119, 0.9327933), (9120, 0.99997425), (9121, 0.9375419), (9122, 0.6090575), (9123, 0.45518097), (9124, 0.92155254), (9125, 0.99651694), (9126, 0.88043064), (9127, 0.94450784), (9128, 0.39924073), (9129, 0.9889379), (9130, 0.8878976), (9131, 0.92617154), (9132, 0.89200807), (9133, 0.98201185), (9134, 0.99404794), (9135, 0.40669143), (9136, 0.92033625), (9137, 0.9498695), (9138, 0.67391336), (9139, 0.7135203), (9140, 0.86618835), (9141, 0.9940971), (9142, 0.9994298), (9143, 0.9168197), (9144, 0.848907), (9145, 0.990444), (9146, 0.9991914), (9147, 0.9963503), (9148, 0.6922705), (9149, 0.98124534), (9150, 0.9699442), (9151, 0.97505647), (9152, 0.9557215), (9153, 0.9973535), (9154, 0.9566824), (9155, 0.91391784), (9156, 0.9875475), (9157, 0.8943537), (9158, 0.9337155), (9159, 0.56795865), (9160, 0.89845604), (9161, 0.9999613), (9162, 0.58242047), (9163, 0.9999477), (9164, 0.9803608), (9165, 0.34112805), (9166, 0.8684864), (9167, 0.78464854), (9168, 0.9999241), (9169, 0.9854657), (9170, 0.95791245), (9171, 0.56011844), (9172, 0.581296), (9173, 0.72408277), (9174, 0.64312017), (9175, 0.39760235), (9176, 0.93874454), (9177, 0.99730176), (9178, 0.9761352), (9179, 0.9921565), (9180, 0.6246638), (9181, 0.9839717), (9182, 0.9829671), (9183, 0.9775287), (9184, 0.6159482), (9185, 0.9999473), (9186, 0.9985648), (9187, 0.92403704), (9188, 0.9883242), (9189, 0.35728163), (9190, 0.997574), (9191, 0.9360542), (9192, 0.9825701), (9193, 0.9665294), (9194, 0.9977159), (9195, 0.98783803), (9196, 0.7085525), (9197, 0.55004793), (9198, 0.987125), (9199, 0.95845616), (9200, 0.99988264), (9201, 0.9744613), (9202, 0.9762944), (9203, 0.97606623), (9204, 0.98962873), (9205, 0.73735297), (9206, 0.9999863), (9207, 0.9893904), (9208, 0.9922537), (9209, 0.49521428), (9210, 0.9994044), (9211, 0.9986769), (9212, 0.9768728), (9213, 0.99648726), (9214, 0.9706149), (9215, 0.95514905), (9216, 0.43507525), (9217, 0.988591), (9218, 0.9995507), (9219, 0.97730494), (9220, 0.99907553), (9221, 0.5758695), (9222, 0.69958663), (9223, 0.80961615), (9224, 0.877132), (9225, 0.8826226), (9226, 0.9160207), (9227, 0.9999797), (9228, 0.97151697), (9229, 0.94546324), (9230, 0.9997077), (9231, 0.9736197), (9232, 0.37892178), (9233, 0.9879079), (9234, 0.9968617), (9235, 0.98260075), (9236, 0.48752975), (9237, 0.6496746), (9238, 0.59255373), (9239, 0.86199576), (9240, 0.97854304), (9241, 0.93940383), (9242, 0.9984721), (9243, 0.92748874), (9244, 0.9859468), (9245, 0.9998229), (9246, 0.9843932), (9247, 0.9898434), (9248, 0.8694552), (9249, 0.766411), (9250, 0.94460756), (9251, 0.98845005), (9252, 0.41622478), (9253, 0.99464023), (9254, 0.9828084), (9255, 0.937952), (9256, 0.9059281), (9257, 0.45142746), (9258, 0.92250574), (9259, 0.9653102), (9260, 0.71036416), (9261, 0.9132481), (9262, 0.648967), (9263, 0.9841948), (9264, 0.9807243), (9265, 0.99832207), (9266, 0.46711665), (9267, 0.98826784), (9268, 0.8483914), (9269, 0.62253696), (9270, 0.9204556), (9271, 0.8835572), (9272, 0.9847237), (9273, 0.9986576), (9274, 0.9997422), (9275, 0.62326354), (9276, 0.40144295), (9277, 0.9778798), (9278, 0.88026893), (9279, 0.57718205), (9280, 0.5537856), (9281, 0.9671116), (9282, 0.6413771), (9283, 0.65944296), (9284, 0.9699171), (9285, 0.90212035), (9286, 0.9143803), (9287, 0.89831364), (9288, 0.9784589), (9289, 0.9439906), (9290, 0.9752784), (9291, 0.9592143), (9292, 0.9701215), (9293, 0.93008673), (9294, 0.974545), (9295, 0.99797827), (9296, 0.98660886), (9297, 0.8940246), (9298, 0.98640674), (9299, 0.93812454), (9300, 0.9371474), (9301, 0.9983594), (9302, 0.7939472), (9303, 0.91191167), (9304, 0.81058854), (9305, 0.7227777), (9306, 0.9969714), (9307, 0.9027082), (9308, 0.99021655), (9309, 0.9463419), (9310, 0.3486941), (9311, 0.99565554), (9312, 0.38414723), (9313, 0.9506025), (9314, 0.7412584), (9315, 0.99377835), (9316, 0.95651096), (9317, 0.87749606), (9318, 0.5426488), (9319, 0.7919611), (9320, 0.98579484), (9321, 0.97457725), (9322, 0.4653306), (9323, 0.6381835), (9324, 0.60565484), (9325, 0.97895485), (9326, 0.5588653), (9327, 0.9853507), (9328, 0.9765466), (9329, 0.9924303), (9330, 0.6196271), (9331, 0.96080506), (9332, 0.9831652), (9333, 0.9984966), (9334, 0.98002094), (9335, 0.46020627), (9336, 0.9877101), (9337, 0.98872495), (9338, 0.8279272), (9339, 0.7156904), (9340, 0.9188118), (9341, 0.9998405), (9342, 0.9988735), (9343, 0.9560928), (9344, 0.9871123), (9345, 0.9924987), (9346, 0.3496205), (9347, 0.9942366), (9348, 0.9999267), (9349, 0.92432016), (9350, 0.9847663), (9351, 0.95839226), (9352, 0.9350424), (9353, 0.92121875), (9354, 0.4507236), (9355, 0.968271), (9356, 0.8952415), (9357, 0.96474093), (9358, 0.9917185), (9359, 0.9991761), (9360, 0.95160514), (9361, 0.94183105), (9362, 0.9806324), (9363, 0.99227476), (9364, 0.8790181), (9365, 0.95307684), (9366, 0.795102), (9367, 0.9947468), (9368, 0.97327286), (9369, 0.96558243), (9370, 0.92945945), (9371, 0.4288544), (9372, 0.9924062), (9373, 0.99492824), (9374, 0.39729738), (9375, 0.8852474), (9376, 0.7752183), (9377, 0.35519385), (9378, 0.88580966), (9379, 0.9431594), (9380, 0.8834233), (9381, 0.899482), (9382, 0.9699832), (9383, 0.920817), (9384, 0.99856865), (9385, 0.97597814), (9386, 0.5668042), (9387, 0.98883533), (9388, 0.46157366), (9389, 0.9843839), (9390, 0.9669133), (9391, 0.99503356), (9392, 0.93003047), (9393, 0.28939795), (9394, 0.35009116), (9395, 0.7554683), (9396, 0.9834134), (9397, 0.96696556), (9398, 0.37071618), (9399, 0.97677875), (9400, 0.9838305), (9401, 0.934201), (9402, 0.99467486), (9403, 0.9893756), (9404, 0.8639624), (9405, 0.913208), (9406, 0.9937013), (9407, 0.7646602), (9408, 0.96740526), (9409, 0.9878113), (9410, 0.9968044), (9411, 0.7658062), (9412, 0.9582858), (9413, 0.9578269), (9414, 0.65431744), (9415, 0.88821316), (9416, 0.99197745), (9417, 0.99040985), (9418, 0.36983246), (9419, 0.9709908), (9420, 0.95102197), (9421, 0.9443157), (9422, 0.8984014), (9423, 0.9999169), (9424, 0.9653908), (9425, 0.9998343), (9426, 0.87360877), (9427, 0.99969286), (9428, 0.3519168), (9429, 0.9999573), (9430, 0.9967661), (9431, 0.9598545), (9432, 0.99091375), (9433, 0.55370474), (9434, 0.89960074), (9435, 0.99506074), (9436, 0.71139807), (9437, 0.9676493), (9438, 0.9013948), (9439, 0.57304394), (9440, 0.95359606), (9441, 0.7707948), (9442, 0.9866304), (9443, 0.9350501), (9444, 0.97499436), (9445, 0.44897437), (9446, 0.9315301), (9447, 0.9965519), (9448, 0.4327881), (9449, 0.98658353), (9450, 0.96898574), (9451, 0.4662013), (9452, 0.69484997), (9453, 0.94334364), (9454, 0.67424107), (9455, 0.9536066), (9456, 0.5060632), (9457, 0.99416643), (9458, 0.5187518), (9459, 0.9835263), (9460, 0.6573061), (9461, 0.90011287), (9462, 0.9230224), (9463, 0.40782362), (9464, 0.50717485), (9465, 0.7932744), (9466, 0.9963109), (9467, 0.99767095), (9468, 0.9929071), (9469, 0.98992676), (9470, 0.9993235), (9471, 0.94733995), (9472, 0.62144095), (9473, 0.96559316), (9474, 0.96236205), (9475, 0.9935312), (9476, 0.6564357), (9477, 0.90343785), (9478, 0.9867137), (9479, 0.56476927), (9480, 0.9734839), (9481, 0.87128234), (9482, 0.93387604), (9483, 0.98663384), (9484, 0.8969071), (9485, 0.94893825), (9486, 0.8363485), (9487, 0.91352594), (9488, 0.9165042), (9489, 0.74353504), (9490, 0.9803617), (9491, 0.5523989), (9492, 0.90908366), (9493, 0.9894349), (9494, 0.9662042), (9495, 0.5906155), (9496, 0.9129555), (9497, 0.95733917), (9498, 0.9965754), (9499, 0.3565123), (9500, 0.9909933), (9501, 0.60548764), (9502, 0.40073633), (9503, 0.9963571), (9504, 0.96773493), (9505, 0.82517636), (9506, 0.98585576), (9507, 0.99942195), (9508, 0.5606707), (9509, 0.7932744), (9510, 0.9313234), (9511, 0.9759443), (9512, 0.9744096), (9513, 0.42784202), (9514, 0.9444999), (9515, 0.99991554), (9516, 0.57286584), (9517, 0.96603614), (9518, 0.9238547), (9519, 0.9837701), (9520, 0.92755437), (9521, 0.9522994), (9522, 0.8133619), (9523, 0.93248934), (9524, 0.9885313), (9525, 0.63186795), (9526, 0.40311277), (9527, 0.97592926), (9528, 0.9502245), (9529, 0.99696714), (9530, 0.89356685), (9531, 0.9649719), (9532, 0.90010965), (9533, 0.919171), (9534, 0.83995116), (9535, 0.9022585), (9536, 0.96281415), (9537, 0.9266628), (9538, 0.9974603), (9539, 0.9085725), (9540, 0.40543455), (9541, 0.98838836), (9542, 0.9911402), (9543, 0.99894625), (9544, 0.9108641), (9545, 0.96878785), (9546, 0.9894979), (9547, 0.83609396), (9548, 0.9257707), (9549, 0.77520466), (9550, 0.93995625), (9551, 0.9299176), (9552, 0.9988248), (9553, 0.98688406), (9554, 0.95200574), (9555, 0.971949), (9556, 0.3896159), (9557, 0.9039811), (9558, 0.74197775), (9559, 0.9924987), (9560, 0.9855387), (9561, 0.99828136), (9562, 0.9968044), (9563, 0.94064903), (9564, 0.9000566), (9565, 0.78375673), (9566, 0.8790181), (9567, 0.8019899), (9568, 0.988981), (9569, 0.9416543), (9570, 0.99944943), (9571, 0.9313447), (9572, 0.91653603), (9573, 0.99123216), (9574, 0.90938765), (9575, 0.41620559), (9576, 0.99234223), (9577, 0.9089512), (9578, 0.9952478), (9579, 0.9221517), (9580, 0.57122767), (9581, 0.89808434), (9582, 0.4482653), (9583, 0.97006273), (9584, 0.9572643), (9585, 0.69152904), (9586, 0.90605533), (9587, 0.9631324), (9588, 0.50917935), (9589, 0.7359333), (9590, 0.9889098), (9591, 0.5438323), (9592, 0.7734541), (9593, 0.9305767), (9594, 0.92738885), (9595, 0.9957398), (9596, 0.9934559), (9597, 0.96095407), (9598, 0.9999969), (9599, 0.9966022), (9600, 0.95551205), (9601, 0.66203684), (9602, 0.91786486), (9603, 0.95003676), (9604, 0.60636276), (9605, 0.9410462), (9606, 0.93331885), (9607, 0.7440165), (9608, 0.9985664), (9609, 0.922465), (9610, 0.84708273), (9611, 0.7019636), (9612, 0.46672282), (9613, 0.5128002), (9614, 0.9960309), (9615, 0.9909788), (9616, 0.961137), (9617, 0.9928468), (9618, 0.713595), (9619, 0.9882026), (9620, 0.9618888), (9621, 0.97880155), (9622, 0.9906829), (9623, 0.54101956), (9624, 0.98416907), (9625, 0.98044205), (9626, 0.72967315), (9627, 0.9632012), (9628, 0.9882067), (9629, 0.694813), (9630, 0.8500754), (9631, 0.9958111), (9632, 0.5349813), (9633, 0.90938765), (9634, 0.9763907), (9635, 0.6941271), (9636, 0.9627877), (9637, 0.88186616), (9638, 0.3570446), (9639, 0.63852155), (9640, 0.9979109), (9641, 0.9952334), (9642, 0.8662276), (9643, 0.7212795), (9644, 0.94249797), (9645, 0.59443367), (9646, 0.6123726), (9647, 0.9709809), (9648, 0.96284485), (9649, 0.27744132), (9650, 0.99413), (9651, 0.8905212), (9652, 0.5097938), (9653, 0.8602091), (9654, 0.93446213), (9655, 0.94480044), (9656, 0.8807205), (9657, 0.9980183), (9658, 0.9727851), (9659, 0.8968479), (9660, 0.5271945), (9661, 0.9608262), (9662, 0.9972557), (9663, 0.44002628), (9664, 0.98259497), (9665, 0.9954605), (9666, 0.99799025), (9667, 0.95197934), (9668, 0.46214837), (9669, 0.64143986), (9670, 0.9242155), (9671, 0.9503324), (9672, 0.99327314), (9673, 0.9480904), (9674, 0.8907012), (9675, 0.54032654), (9676, 0.89345366), (9677, 0.5617032), (9678, 0.4904225), (9679, 0.9251952), (9680, 0.7920413), (9681, 0.9964447), (9682, 0.8994999), (9683, 0.9627069), (9684, 0.8521726), (9685, 0.9965394), (9686, 0.9411515), (9687, 0.47698942), (9688, 0.9159618), (9689, 0.76811004), (9690, 0.95195544), (9691, 0.996562), (9692, 0.90421075), (9693, 0.9251077), (9694, 0.99163795), (9695, 0.9912308), (9696, 0.9907123), (9697, 0.9194878), (9698, 0.57289547), (9699, 0.96591526), (9700, 0.5080649), (9701, 0.9790422), (9702, 0.90367436), (9703, 0.8452447), (9704, 0.8040471), (9705, 0.91037536), (9706, 0.95371795), (9707, 0.99152803), (9708, 0.8772439), (9709, 0.68893623), (9710, 0.97555286), (9711, 0.97820354), (9712, 0.9735045), (9713, 0.9695499), (9714, 0.46784133), (9715, 0.99634), (9716, 0.9851286), (9717, 0.7002922), (9718, 0.9589492), (9719, 0.9405042), (9720, 0.99041903), (9721, 0.50219166), (9722, 0.9269741), (9723, 0.8454442), (9724, 0.87154806), (9725, 0.99951303), (9726, 0.99630046), (9727, 0.9983594), (9728, 0.9969333), (9729, 0.77581024), (9730, 0.99988556), (9731, 0.94230986), (9732, 0.9953891), (9733, 0.9940435), (9734, 0.9928066), (9735, 0.9275255), (9736, 0.7622282), (9737, 0.8979852), (9738, 0.8797109), (9739, 0.9985742), (9740, 0.29968983), (9741, 0.9611759), (9742, 0.9959452), (9743, 0.99816173), (9744, 0.9729679), (9745, 0.996997), (9746, 0.93505204), (9747, 0.5258148), (9748, 0.9703495), (9749, 0.9159839), (9750, 0.5074253), (9751, 0.92129165), (9752, 0.95187795), (9753, 0.9857603), (9754, 0.9784645), (9755, 0.7372003), (9756, 0.99161613), (9757, 0.9582071), (9758, 0.9970237), (9759, 0.9919997), (9760, 0.85724086), (9761, 0.5117144), (9762, 0.97782004), (9763, 0.93517315), (9764, 0.41432655), (9765, 0.99190253), (9766, 0.9709148), (9767, 0.976612), (9768, 0.99377835), (9769, 0.9773516), (9770, 0.99952257), (9771, 0.9739466), (9772, 0.7141237), (9773, 0.99752915), (9774, 0.9598722), (9775, 0.40785575), (9776, 0.97926843), (9777, 0.42306095), (9778, 0.9616888), (9779, 0.9470875), (9780, 0.9782977), (9781, 0.94367146), (9782, 0.94480044), (9783, 0.99822986), (9784, 0.82450384), (9785, 0.45332065), (9786, 0.9924025), (9787, 0.9568896), (9788, 0.98369175), (9789, 0.9961913), (9790, 0.96099484), (9791, 0.9949622), (9792, 0.9999052), (9793, 0.95594174), (9794, 0.9752622), (9795, 0.47056204), (9796, 0.9981914), (9797, 0.96076703), (9798, 0.97623634), (9799, 0.92943347), (9800, 0.93198466), (9801, 0.9999803), (9802, 0.9413763), (9803, 0.59556705), (9804, 0.9414191), (9805, 0.31386453), (9806, 0.9924774), (9807, 0.9621069), (9808, 0.97017425), (9809, 0.998963), (9810, 0.9134192), (9811, 0.9842458), (9812, 0.99390614), (9813, 0.90019476), (9814, 0.9736991), (9815, 0.4545915), (9816, 0.9341576), (9817, 0.99883056), (9818, 0.97106427), (9819, 0.71007985), (9820, 0.65336853), (9821, 0.8383084), (9822, 0.9236566), (9823, 0.9824528), (9824, 0.99641824), (9825, 0.48502144), (9826, 0.51967883), (9827, 0.86746496), (9828, 0.9925616), (9829, 0.45491996), (9830, 0.98539335), (9831, 0.9907341), (9832, 0.9784379), (9833, 0.9486507), (9834, 0.9328455), (9835, 0.9685454), (9836, 0.66043), (9837, 0.9800474), (9838, 0.8741758), (9839, 0.99948514), (9840, 0.992935), (9841, 0.99997675), (9842, 0.897303), (9843, 0.766411), (9844, 0.62928534), (9845, 0.9883606), (9846, 0.9884504), (9847, 0.98560196), (9848, 0.41401827), (9849, 0.92176455), (9850, 0.9257798), (9851, 0.5432609), (9852, 0.5075477), (9853, 0.3811381), (9854, 0.32399595), (9855, 0.75743073), (9856, 0.868461), (9857, 0.9877257), (9858, 0.98906285), (9859, 0.92795837), (9860, 0.99179417), (9861, 0.9635033), (9862, 0.99620396), (9863, 0.9556791), (9864, 0.92398167), (9865, 0.94863737), (9866, 0.9996373), (9867, 0.98376596), (9868, 0.7931545), (9869, 0.9997695), (9870, 0.9970155), (9871, 0.9123965), (9872, 0.9127938), (9873, 0.99798596), (9874, 0.9922006), (9875, 0.9273699), (9876, 0.81467), (9877, 0.9104988), (9878, 0.9504291), (9879, 0.9054725), (9880, 0.99597526), (9881, 0.9997916), (9882, 0.90561885), (9883, 0.98784494), (9884, 0.40437874), (9885, 0.9299326), (9886, 0.9700578), (9887, 0.90652), (9888, 0.53545636), (9889, 0.9994494), (9890, 0.99817157), (9891, 0.9978247), (9892, 0.9967918), (9893, 0.93036205), (9894, 0.64744294), (9895, 0.7849499), (9896, 0.9832079), (9897, 0.8518291), (9898, 0.99932384), (9899, 0.87902653), (9900, 0.95390636), (9901, 0.98286676), (9902, 0.44910902), (9903, 0.96799755), (9904, 0.9779823), (9905, 0.9953542), (9906, 0.98280436), (9907, 0.9971737), (9908, 0.7608837), (9909, 0.88500786), (9910, 0.47319955), (9911, 0.97436625), (9912, 0.9704672), (9913, 0.71155864), (9914, 0.91277397), (9915, 0.8934929), (9916, 0.99288), (9917, 0.9925801), (9918, 0.94104296), (9919, 0.9537203), (9920, 0.87370104), (9921, 0.9326834), (9922, 0.9917976), (9923, 0.9466765), (9924, 0.9789184), (9925, 0.8657084), (9926, 0.94300663), (9927, 0.9714702), (9928, 0.9775334), (9929, 0.81562597), (9930, 0.99390876), (9931, 0.54975396), (9932, 0.99427766), (9933, 0.9947468), (9934, 0.8800895), (9935, 0.9822181), (9936, 0.9999999), (9937, 0.9988415), (9938, 0.96716994), (9939, 0.8152682), (9940, 0.50137925), (9941, 0.99997264), (9942, 0.91865546), (9943, 0.5504178), (9944, 0.9707456), (9945, 0.91752064), (9946, 0.6799445), (9947, 0.9707274), (9948, 0.9827032), (9949, 0.96481055), (9950, 0.99510574), (9951, 0.9994269), (9952, 0.9438756), (9953, 0.35770136), (9954, 0.40876633), (9955, 0.992583), (9956, 0.94140387), (9957, 0.93254995), (9958, 0.4989771), (9959, 0.95522135), (9960, 0.83377194), (9961, 0.9925932), (9962, 0.95824254), (9963, 0.9905798), (9964, 0.9988996), (9965, 0.9829606), (9966, 0.994523), (9967, 0.9190793), (9968, 0.96544653), (9969, 0.9540215), (9970, 0.9384637), (9971, 0.9786132), (9972, 0.96616626), (9973, 0.99474794), (9974, 0.9600936), (9975, 0.81508076), (9976, 0.9870689), (9977, 0.91219157), (9978, 0.333216), (9979, 0.57211447), (9980, 0.9985895), (9981, 0.95619357), (9982, 0.6453027), (9983, 0.9874099), (9984, 0.993863), (9985, 0.9608979), (9986, 0.983388), (9987, 0.99156624), (9988, 0.9988767), (9989, 0.95744526), (9990, 0.96690845), (9991, 0.801901), (9992, 0.9959678), (9993, 0.988917), (9994, 0.99986583), (9995, 0.99557143), (9996, 0.66822946), (9997, 0.97376823), (9998, 0.73996997), (9999, 0.928325), (10000, 0.9159979), (10001, 0.5317018), (10002, 0.99100614), (10003, 0.8711053), (10004, 0.93501955), (10005, 0.34268278), (10006, 0.9886323), (10007, 0.4202185), (10008, 0.9816582), (10009, 0.42227882), (10010, 0.9471204), (10011, 0.9942237), (10012, 0.9998178), (10013, 0.7362516), (10014, 0.9955572), (10015, 0.99882174), (10016, 0.45582962), (10017, 0.9760293), (10018, 0.98819005), (10019, 0.98331124), (10020, 0.5718658), (10021, 0.9201933), (10022, 0.98772734), (10023, 0.9457123), (10024, 0.9922782), (10025, 0.99463457), (10026, 0.86502993), (10027, 0.7903361), (10028, 0.99413115), (10029, 0.62685335), (10030, 0.9943566), (10031, 0.56197107), (10032, 0.46855164), (10033, 0.9421761), (10034, 0.9546724), (10035, 0.9792323), (10036, 0.9975367), (10037, 0.9999264), (10038, 0.99584067), (10039, 0.9934233), (10040, 0.67658925), (10041, 0.9917575), (10042, 0.37653705), (10043, 0.89474136), (10044, 0.4242288), (10045, 0.99948484), (10046, 0.58415), (10047, 0.9759385), (10048, 0.9504037), (10049, 0.60895646), (10050, 0.28424305), (10051, 0.4998026), (10052, 0.9957062), (10053, 0.5044422), (10054, 0.9997759), (10055, 0.55195826), (10056, 0.84316534), (10057, 0.9956132), (10058, 0.67396015), (10059, 0.8550087), (10060, 0.9250954), (10061, 0.91616726), (10062, 0.9866137), (10063, 0.9985382), (10064, 0.8863152), (10065, 0.9968033), (10066, 0.93171155), (10067, 0.92265266), (10068, 0.79134923), (10069, 0.5168836), (10070, 0.58680236), (10071, 0.9971932), (10072, 0.43255913), (10073, 0.998903), (10074, 0.54626226), (10075, 0.9995446), (10076, 0.9593024), (10077, 0.8986597), (10078, 0.9793008), (10079, 0.6991526), (10080, 0.99411225), (10081, 0.43643504), (10082, 0.98067856), (10083, 0.9783461), (10084, 0.9989509), (10085, 0.9055393), (10086, 0.9766885), (10087, 0.9392808), (10088, 0.35511166), (10089, 0.34641314), (10090, 0.9238364), (10091, 0.99450815), (10092, 0.9575461), (10093, 0.49357206), (10094, 0.6815273), (10095, 0.9565727), (10096, 0.99715364), (10097, 0.927555), (10098, 0.93498605), (10099, 0.99873555), (10100, 0.9953933), (10101, 0.8265722), (10102, 0.9972615), (10103, 0.94208324), (10104, 0.8511753), (10105, 0.36815363), (10106, 0.98896617), (10107, 0.9618197), (10108, 0.96649134), (10109, 0.99338055), (10110, 0.95540917), (10111, 0.45314863), (10112, 0.49569714), (10113, 0.73072374), (10114, 0.9071488), (10115, 0.5720247), (10116, 0.7407626), (10117, 0.93804294), (10118, 0.9618856), (10119, 0.55335283), (10120, 0.99423975), (10121, 0.9406124), (10122, 0.8899508), (10123, 0.9736673), (10124, 0.4942972), (10125, 0.9343687), (10126, 0.95690197), (10127, 0.99457747), (10128, 0.99766153), (10129, 0.99298435), (10130, 0.8918307), (10131, 0.9841482), (10132, 0.9639971), (10133, 0.5877192), (10134, 0.9812357), (10135, 0.99187005), (10136, 0.7974949), (10137, 0.984239), (10138, 0.9997094), (10139, 0.58020276), (10140, 0.9942965), (10141, 0.9916903), (10142, 0.24033375), (10143, 0.9942196), (10144, 0.99921125), (10145, 0.9323357), (10146, 0.99928933), (10147, 0.9998666), (10148, 0.9937168), (10149, 0.99556625), (10150, 0.9996226), (10151, 0.58384323), (10152, 0.8420855), (10153, 1.0), (10154, 0.9360497), (10155, 0.5131016), (10156, 0.9584771), (10157, 0.460419), (10158, 0.8754691), (10159, 0.4511568), (10160, 0.91516036), (10161, 0.46620518), (10162, 0.9999997), (10163, 0.95069593), (10164, 0.951788), (10165, 0.74584055), (10166, 0.9995318), (10167, 0.9481839), (10168, 0.9979327), (10169, 0.66101617), (10170, 0.9686881), (10171, 0.41651), (10172, 0.87590003), (10173, 0.5947999), (10174, 0.9999501), (10175, 0.51447767), (10176, 0.9864319), (10177, 0.98942137), (10178, 0.9729734), (10179, 0.92717206), (10180, 0.99948746), (10181, 0.9440648), (10182, 0.99343026), (10183, 0.9769643), (10184, 0.9853517), (10185, 0.96781516), (10186, 0.48477864), (10187, 0.55495566), (10188, 0.97934794), (10189, 0.9975302), (10190, 0.9145717), (10191, 0.99541295), (10192, 0.7291011), (10193, 0.5256644), (10194, 0.97327536), (10195, 0.989337), (10196, 0.99719167), (10197, 0.98146546), (10198, 0.9176152), (10199, 0.644389), (10200, 0.99641764), (10201, 0.36875445), (10202, 0.89200455), (10203, 0.99996454), (10204, 0.9209316), (10205, 0.5692476), (10206, 0.9971872), (10207, 0.99473786), (10208, 0.9961569), (10209, 0.95380193), (10210, 0.8956299), (10211, 0.9984006), (10212, 0.9093141), (10213, 0.5989806), (10214, 0.9419184), (10215, 0.99450266), (10216, 0.99174094), (10217, 0.9997845), (10218, 0.9664019), (10219, 0.9967418), (10220, 0.81006145), (10221, 0.9814939), (10222, 0.99249953), (10223, 0.99547696), (10224, 0.9608462), (10225, 0.9486565), (10226, 0.9762604), (10227, 0.9917777), (10228, 0.9177536), (10229, 0.9979371), (10230, 0.9999865), (10231, 0.9426779), (10232, 0.7335415), (10233, 0.99585015), (10234, 0.88562673), (10235, 0.52881783), (10236, 0.3515221), (10237, 0.44429284), (10238, 0.9166525), (10239, 0.99728185), (10240, 0.6493775), (10241, 0.99979407), (10242, 0.8889265), (10243, 0.95522195), (10244, 0.9998056), (10245, 0.61266387), (10246, 0.95098084), (10247, 0.9767814), (10248, 0.7953937), (10249, 0.99597067), (10250, 0.9899888), (10251, 0.9997446), (10252, 0.990108), (10253, 0.95367724), (10254, 0.988171), (10255, 0.98007786), (10256, 0.96467674), (10257, 0.79962623), (10258, 0.9593491), (10259, 0.9985369), (10260, 0.95625544), (10261, 0.99022084), (10262, 0.5819831), (10263, 0.6802144), (10264, 0.98832124), (10265, 0.9546203), (10266, 0.69138074), (10267, 0.8617723), (10268, 0.36341602), (10269, 0.9828036), (10270, 0.99638164), (10271, 0.44410968), (10272, 0.27544367), (10273, 0.6249914), (10274, 0.6345816), (10275, 0.9599471), (10276, 0.9449079), (10277, 0.82882285), (10278, 0.56198627), (10279, 0.95576394), (10280, 0.80679905), (10281, 0.93577635), (10282, 0.8895403), (10283, 0.9999505), (10284, 0.9169253), (10285, 0.7243181), (10286, 0.9659125), (10287, 0.9568724), (10288, 0.61499625), (10289, 0.9581298), (10290, 0.9049916), (10291, 0.9623797), (10292, 0.99160224), (10293, 0.3701685), (10294, 0.9778063), (10295, 0.8617442), (10296, 0.9999999), (10297, 0.6972575), (10298, 0.9961091), (10299, 0.5185167), (10300, 0.9852561), (10301, 0.4544903), (10302, 0.97364616), (10303, 0.9875763), (10304, 0.574055), (10305, 0.32081696), (10306, 0.9804304), (10307, 0.46682876), (10308, 0.36839935), (10309, 0.9987731), (10310, 0.9310919), (10311, 0.9723022), (10312, 0.9907341), (10313, 0.94835204), (10314, 0.5911872), (10315, 0.94090724), (10316, 0.9680218), (10317, 0.96402913), (10318, 0.9793898), (10319, 0.8982466), (10320, 0.6753104), (10321, 0.9567984), (10322, 0.86873895), (10323, 0.93207264), (10324, 0.97064805), (10325, 0.8405817), (10326, 0.9763907), (10327, 0.9905717), (10328, 0.8090003), (10329, 0.9286304), (10330, 0.82450384), (10331, 0.90888435), (10332, 0.99285036), (10333, 0.486123), (10334, 0.9751844), (10335, 0.53652734), (10336, 0.5513582), (10337, 0.99900347), (10338, 0.85884094), (10339, 0.5610273), (10340, 0.94920456), (10341, 0.9521879), (10342, 0.9727774), (10343, 0.98028034), (10344, 0.99495006), (10345, 0.3649181), (10346, 0.91469747), (10347, 0.96710026), (10348, 0.99179137), (10349, 0.71794), (10350, 0.9924062), (10351, 0.9383358), (10352, 0.9032712), (10353, 0.6597976), (10354, 0.9759203), (10355, 0.9593636), (10356, 0.99477446), (10357, 0.92084426), (10358, 0.64900684), (10359, 0.8589157), (10360, 0.9835327), (10361, 0.9441762), (10362, 0.5840501), (10363, 0.7509687), (10364, 0.9705346), (10365, 0.9785288), (10366, 0.4619968), (10367, 0.59556705), (10368, 0.9575682), (10369, 0.9449561), (10370, 0.868238), (10371, 0.67906845), (10372, 0.9972996), (10373, 0.38153684), (10374, 0.9943101), (10375, 0.8813448), (10376, 0.9999976), (10377, 0.99998754), (10378, 0.995725), (10379, 0.8727583), (10380, 0.9275264), (10381, 0.99503636), (10382, 0.38291162), (10383, 0.33564347), (10384, 0.97306275), (10385, 0.9808531), (10386, 0.99986243), (10387, 0.9271811), (10388, 0.9919573), (10389, 0.5542953), (10390, 0.9929933), (10391, 0.9999974), (10392, 0.958892), (10393, 0.9792243), (10394, 0.8029482), (10395, 0.9474131), (10396, 0.99692297), (10397, 0.9938151), (10398, 0.9914174), (10399, 0.9860558), (10400, 0.9740247), (10401, 0.98509705), (10402, 0.9527315), (10403, 0.9438903), (10404, 0.97212285), (10405, 0.9142158), (10406, 0.9992749), (10407, 0.9887864), (10408, 0.95461464), (10409, 0.36360875), (10410, 0.92185813), (10411, 0.82170475), (10412, 0.87248766), (10413, 0.95583844), (10414, 0.9992372), (10415, 0.6230786), (10416, 0.92355293), (10417, 0.99999744), (10418, 0.5016602), (10419, 0.92617404), (10420, 0.940431), (10421, 0.9903244), (10422, 0.5720873), (10423, 0.89171875), (10424, 0.97399485), (10425, 0.60929745), (10426, 0.6473403), (10427, 0.9969359), (10428, 0.48450488), (10429, 0.9993644), (10430, 0.4801343), (10431, 0.9346641), (10432, 0.46020627), (10433, 0.39552575), (10434, 0.78839934), (10435, 0.97649646), (10436, 0.8404354), (10437, 0.9606572), (10438, 0.99336326), (10439, 0.95577914), (10440, 0.9801632), (10441, 0.9735929), (10442, 0.9625205), (10443, 0.6735626), (10444, 0.93080175), (10445, 0.6065786), (10446, 0.9548767), (10447, 0.94618887), (10448, 0.7517515), (10449, 0.9995461), (10450, 0.9814866), (10451, 0.9684976), (10452, 0.92289305), (10453, 0.9874176), (10454, 0.92305875), (10455, 0.9971532), (10456, 0.9710349), (10457, 0.99567187), (10458, 0.9744506), (10459, 0.5943422), (10460, 0.97105646), (10461, 0.99900395), (10462, 0.50730205), (10463, 0.277381), (10464, 0.9854243), (10465, 0.9573694), (10466, 0.75978166), (10467, 0.3925013), (10468, 0.9575885), (10469, 0.7410494), (10470, 0.89351445), (10471, 0.98025566), (10472, 0.97345364), (10473, 0.9921666), (10474, 0.9843333), (10475, 0.973027), (10476, 0.9199724), (10477, 0.96738714), (10478, 0.56340003), (10479, 0.9999319), (10480, 0.8375056), (10481, 0.63569933), (10482, 0.3424335), (10483, 0.7671019), (10484, 0.93224347), (10485, 0.3517546), (10486, 0.98140657), (10487, 0.7935429), (10488, 0.70601594), (10489, 0.6285286), (10490, 0.9908303), (10491, 0.81823176), (10492, 0.8024862), (10493, 0.978438), (10494, 0.9999941), (10495, 0.9952265), (10496, 0.9600457), (10497, 0.44686654), (10498, 0.99691916), (10499, 0.9977742), (10500, 0.9924554), (10501, 0.42658287), (10502, 0.99477327), (10503, 0.90574926), (10504, 0.9708997), (10505, 0.5704084), (10506, 0.958466), (10507, 0.9971411), (10508, 0.99769664), (10509, 0.9977351), (10510, 0.99601114), (10511, 0.9641641), (10512, 0.4852087), (10513, 0.9121684), (10514, 0.9733253), (10515, 0.9410462), (10516, 0.93430305), (10517, 0.9452691), (10518, 0.42732733), (10519, 0.68918616), (10520, 0.65287113), (10521, 0.9877674), (10522, 0.92517155), (10523, 0.9888769), (10524, 0.9846488), (10525, 0.8816477), (10526, 0.98398775), (10527, 0.90861267), (10528, 0.4134693), (10529, 0.9995413), (10530, 0.9611928), (10531, 0.9932536), (10532, 0.8592688), (10533, 0.9902504), (10534, 0.9162979), (10535, 0.99518925), (10536, 0.41429192), (10537, 0.99531734), (10538, 0.9504797), (10539, 0.9946797), (10540, 0.92580813), (10541, 0.9874519), (10542, 0.9359096), (10543, 0.9914313), (10544, 0.9190056), (10545, 0.8998095), (10546, 0.43371832), (10547, 0.8216835), (10548, 0.99932915), (10549, 0.4611295), (10550, 0.97532135), (10551, 0.68067455), (10552, 0.9372516), (10553, 0.95220745), (10554, 0.8671542), (10555, 0.6069933), (10556, 0.97012687), (10557, 0.9433549), (10558, 0.9493402), (10559, 0.9714474), (10560, 0.9274145), (10561, 0.9924157), (10562, 0.99917704), (10563, 0.6019906), (10564, 0.9881628), (10565, 0.4790326), (10566, 0.47841752), (10567, 0.39065427), (10568, 0.963305), (10569, 0.89527833), (10570, 0.9169956), (10571, 0.9481839), (10572, 0.8749422), (10573, 0.50462514), (10574, 0.9305406), (10575, 0.9997087), (10576, 0.92684567), (10577, 0.9145273), (10578, 0.9978519), (10579, 0.86232936), (10580, 0.9622569), (10581, 0.9533727), (10582, 0.9998668), (10583, 0.9894703), (10584, 0.999746), (10585, 0.9489579), (10586, 0.9880661), (10587, 0.99962735), (10588, 0.9827425), (10589, 0.99522996), (10590, 0.98499), (10591, 0.8317979), (10592, 0.5372355), (10593, 0.9501714), (10594, 0.996222), (10595, 0.39924073), (10596, 0.990847), (10597, 0.97734934), (10598, 0.71785426), (10599, 0.9352527), (10600, 0.998056), (10601, 0.9796136), (10602, 0.9998353), (10603, 0.95552695), (10604, 0.6716209), (10605, 0.9918242), (10606, 0.9994197), (10607, 0.60961473)]\n"
     ]
    }
   ],
   "source": [
    "sims = index[tfidf[vec_lsi]]\n",
    "print(list(enumerate(sims)))"
   ]
  },
  {
   "cell_type": "code",
   "execution_count": 115,
   "metadata": {},
   "outputs": [],
   "source": [
    "from gensim.test.utils import common_texts\n",
    "from gensim.models import Word2Vec\n",
    "from gensim.similarities import WmdSimilarity\n",
    "\n",
    "model = Word2Vec(texts, size=20, min_count=1)  # train word-vectors\n",
    "\n",
    "index = WmdSimilarity(texts, model)\n",
    " # Make query.\n",
    "query = ['broccoli']\n",
    "sims = index[query]"
   ]
  },
  {
   "cell_type": "code",
   "execution_count": 148,
   "metadata": {},
   "outputs": [],
   "source": [
    "word_vectors = model.wv.vectors"
   ]
  },
  {
   "cell_type": "code",
   "execution_count": 177,
   "metadata": {},
   "outputs": [
    {
     "data": {
      "text/plain": [
       "0.6087932770761569"
      ]
     },
     "execution_count": 177,
     "metadata": {},
     "output_type": "execute_result"
    }
   ],
   "source": [
    "sims.max()"
   ]
  },
  {
   "cell_type": "code",
   "execution_count": 39,
   "metadata": {},
   "outputs": [],
   "source": [
    "\n",
    "from sklearn.cluster import KMeans"
   ]
  },
  {
   "cell_type": "code",
   "execution_count": 149,
   "metadata": {},
   "outputs": [],
   "source": [
    "idx =k_means.fit_predict( word_vectors)"
   ]
  },
  {
   "cell_type": "code",
   "execution_count": 169,
   "metadata": {},
   "outputs": [
    {
     "data": {
      "text/plain": [
       "(8084,)"
      ]
     },
     "execution_count": 169,
     "metadata": {},
     "output_type": "execute_result"
    }
   ],
   "source": [
    "idx.shape"
   ]
  },
  {
   "cell_type": "code",
   "execution_count": 152,
   "metadata": {},
   "outputs": [],
   "source": [
    "word_centroid_map = dict(zip( model.wv.index2word, idx ))"
   ]
  },
  {
   "cell_type": "code",
   "execution_count": 170,
   "metadata": {},
   "outputs": [
    {
     "ename": "AttributeError",
     "evalue": "'dict' object has no attribute 'shape'",
     "output_type": "error",
     "traceback": [
      "\u001b[0;31m---------------------------------------------------------------------------\u001b[0m",
      "\u001b[0;31mAttributeError\u001b[0m                            Traceback (most recent call last)",
      "\u001b[0;32m<ipython-input-170-397091c3f62e>\u001b[0m in \u001b[0;36m<module>\u001b[0;34m\u001b[0m\n\u001b[0;32m----> 1\u001b[0;31m \u001b[0mword_centroid_map\u001b[0m\u001b[0;34m.\u001b[0m\u001b[0mshape\u001b[0m\u001b[0;34m\u001b[0m\u001b[0;34m\u001b[0m\u001b[0m\n\u001b[0m",
      "\u001b[0;31mAttributeError\u001b[0m: 'dict' object has no attribute 'shape'"
     ]
    }
   ],
   "source": []
  },
  {
   "cell_type": "code",
   "execution_count": null,
   "metadata": {},
   "outputs": [],
   "source": [
    "words = list(model.vocab)\n",
    "for i, word in enumerate(words):  \n",
    "    print (word + \":\" + str(assigned_clusters[i]))"
   ]
  },
  {
   "cell_type": "code",
   "execution_count": 157,
   "metadata": {},
   "outputs": [
    {
     "ename": "TypeError",
     "evalue": "'dict_values' object does not support indexing",
     "output_type": "error",
     "traceback": [
      "\u001b[0;31m---------------------------------------------------------------------------\u001b[0m",
      "\u001b[0;31mTypeError\u001b[0m                                 Traceback (most recent call last)",
      "\u001b[0;32m<ipython-input-157-85f884fec331>\u001b[0m in \u001b[0;36m<module>\u001b[0;34m\u001b[0m\n\u001b[1;32m     11\u001b[0m \u001b[0;32mfor\u001b[0m \u001b[0mi\u001b[0m \u001b[0;32min\u001b[0m \u001b[0mrange\u001b[0m\u001b[0;34m(\u001b[0m\u001b[0;36m0\u001b[0m\u001b[0;34m,\u001b[0m\u001b[0mlen\u001b[0m\u001b[0;34m(\u001b[0m\u001b[0mword_centroid_map\u001b[0m\u001b[0;34m.\u001b[0m\u001b[0mvalues\u001b[0m\u001b[0;34m(\u001b[0m\u001b[0;34m)\u001b[0m\u001b[0;34m)\u001b[0m\u001b[0;34m)\u001b[0m\u001b[0;34m:\u001b[0m\u001b[0;34m\u001b[0m\u001b[0;34m\u001b[0m\u001b[0m\n\u001b[1;32m     12\u001b[0m \u001b[0;34m\u001b[0m\u001b[0m\n\u001b[0;32m---> 13\u001b[0;31m     \u001b[0;32mif\u001b[0m\u001b[0;34m(\u001b[0m \u001b[0mword_centroid_map\u001b[0m\u001b[0;34m.\u001b[0m\u001b[0mvalues\u001b[0m\u001b[0;34m(\u001b[0m\u001b[0;34m)\u001b[0m\u001b[0;34m[\u001b[0m\u001b[0mi\u001b[0m\u001b[0;34m]\u001b[0m \u001b[0;34m==\u001b[0m \u001b[0mcluster\u001b[0m \u001b[0;34m)\u001b[0m\u001b[0;34m:\u001b[0m\u001b[0;34m\u001b[0m\u001b[0;34m\u001b[0m\u001b[0m\n\u001b[0m\u001b[1;32m     14\u001b[0m \u001b[0;34m\u001b[0m\u001b[0m\n\u001b[1;32m     15\u001b[0m         \u001b[0mwords\u001b[0m\u001b[0;34m.\u001b[0m\u001b[0mappend\u001b[0m\u001b[0;34m(\u001b[0m\u001b[0mword_centroid_map\u001b[0m\u001b[0;34m.\u001b[0m\u001b[0mkeys\u001b[0m\u001b[0;34m(\u001b[0m\u001b[0;34m)\u001b[0m\u001b[0;34m[\u001b[0m\u001b[0mi\u001b[0m\u001b[0;34m]\u001b[0m\u001b[0;34m)\u001b[0m\u001b[0;34m\u001b[0m\u001b[0;34m\u001b[0m\u001b[0m\n",
      "\u001b[0;31mTypeError\u001b[0m: 'dict_values' object does not support indexing"
     ]
    }
   ],
   "source": [
    "#for cluster in xrange(0,10):\n",
    "\n",
    "# Print the cluster number\n",
    "\n",
    "#…………….print \"\\nCluster %d\" % cluster\n",
    "\n",
    "# Find all of the words for that cluster number, and print them out\n",
    "\n",
    "words = []\n",
    "\n",
    "for i in range(0,len(word_centroid_map.values())):\n",
    "\n",
    "    if( word_centroid_map.values()[i] == cluster ):\n",
    "\n",
    "        words.append(word_centroid_map.keys()[i])\n",
    "print(words)"
   ]
  },
  {
   "cell_type": "code",
   "execution_count": null,
   "metadata": {},
   "outputs": [],
   "source": []
  },
  {
   "cell_type": "code",
   "execution_count": 151,
   "metadata": {},
   "outputs": [
    {
     "ename": "IndexError",
     "evalue": "too many indices for array",
     "output_type": "error",
     "traceback": [
      "\u001b[0;31m---------------------------------------------------------------------------\u001b[0m",
      "\u001b[0;31mIndexError\u001b[0m                                Traceback (most recent call last)",
      "\u001b[0;32m<ipython-input-151-f6d3ee6f72cd>\u001b[0m in \u001b[0;36m<module>\u001b[0;34m\u001b[0m\n\u001b[0;32m----> 1\u001b[0;31m \u001b[0mplt\u001b[0m\u001b[0;34m.\u001b[0m\u001b[0mscatter\u001b[0m\u001b[0;34m(\u001b[0m\u001b[0midx\u001b[0m\u001b[0;34m[\u001b[0m\u001b[0;34m:\u001b[0m\u001b[0;34m,\u001b[0m\u001b[0;36m0\u001b[0m\u001b[0;34m]\u001b[0m\u001b[0;34m,\u001b[0m\u001b[0midx\u001b[0m\u001b[0;34m[\u001b[0m\u001b[0;34m:\u001b[0m\u001b[0;36m1\u001b[0m\u001b[0;34m]\u001b[0m\u001b[0;34m,\u001b[0m \u001b[0mc\u001b[0m\u001b[0;34m=\u001b[0m\u001b[0;36m8\u001b[0m\u001b[0;34m,\u001b[0m \u001b[0ms\u001b[0m\u001b[0;34m=\u001b[0m\u001b[0;36m10\u001b[0m\u001b[0;34m)\u001b[0m\u001b[0;34m\u001b[0m\u001b[0;34m\u001b[0m\u001b[0m\n\u001b[0m\u001b[1;32m      2\u001b[0m \u001b[0mcenters\u001b[0m \u001b[0;34m=\u001b[0m \u001b[0mk_means\u001b[0m\u001b[0;34m.\u001b[0m\u001b[0mcluster_centers_\u001b[0m\u001b[0;34m\u001b[0m\u001b[0;34m\u001b[0m\u001b[0m\n\u001b[1;32m      3\u001b[0m \u001b[0mplt\u001b[0m\u001b[0;34m.\u001b[0m\u001b[0mscatter\u001b[0m\u001b[0;34m(\u001b[0m\u001b[0mcenters\u001b[0m\u001b[0;34m[\u001b[0m\u001b[0;34m:\u001b[0m\u001b[0;34m,\u001b[0m \u001b[0;36m0\u001b[0m\u001b[0;34m]\u001b[0m\u001b[0;34m,\u001b[0m \u001b[0mcenters\u001b[0m\u001b[0;34m[\u001b[0m\u001b[0;34m:\u001b[0m\u001b[0;34m,\u001b[0m \u001b[0;36m1\u001b[0m\u001b[0;34m]\u001b[0m\u001b[0;34m,\u001b[0m \u001b[0mc\u001b[0m\u001b[0;34m=\u001b[0m\u001b[0;34m'black'\u001b[0m\u001b[0;34m,\u001b[0m \u001b[0ms\u001b[0m\u001b[0;34m=\u001b[0m\u001b[0;36m70\u001b[0m\u001b[0;34m)\u001b[0m\u001b[0;34m\u001b[0m\u001b[0;34m\u001b[0m\u001b[0m\n",
      "\u001b[0;31mIndexError\u001b[0m: too many indices for array"
     ]
    }
   ],
   "source": [
    "plt.scatter(idx[:,0],idx[:1], c=8, s=10)\n",
    "centers = k_means.cluster_centers_\n",
    "plt.scatter(centers[:, 0], centers[:, 1], c='black', s=70)"
   ]
  },
  {
   "cell_type": "code",
   "execution_count": 36,
   "metadata": {},
   "outputs": [],
   "source": [
    "from sklearn.ensemble import RandomForestClassifier\n",
    "from sklearn.naive_bayes import MultinomialNB"
   ]
  },
  {
   "cell_type": "code",
   "execution_count": 38,
   "metadata": {},
   "outputs": [
    {
     "ename": "NameError",
     "evalue": "name 'target' is not defined",
     "output_type": "error",
     "traceback": [
      "\u001b[0;31m---------------------------------------------------------------------------\u001b[0m",
      "\u001b[0;31mNameError\u001b[0m                                 Traceback (most recent call last)",
      "\u001b[0;32m<ipython-input-38-448b4f2436a2>\u001b[0m in \u001b[0;36m<module>\u001b[0;34m\u001b[0m\n\u001b[0;32m----> 1\u001b[0;31m \u001b[0mnb_classifier\u001b[0m\u001b[0;34m.\u001b[0m\u001b[0mfit\u001b[0m\u001b[0;34m(\u001b[0m\u001b[0mtf_idf_data_train\u001b[0m\u001b[0;34m,\u001b[0m \u001b[0mtarget\u001b[0m\u001b[0;34m)\u001b[0m\u001b[0;34m\u001b[0m\u001b[0;34m\u001b[0m\u001b[0m\n\u001b[0m\u001b[1;32m      2\u001b[0m \u001b[0mnb_train_preds\u001b[0m \u001b[0;34m=\u001b[0m \u001b[0mnb_classifier\u001b[0m\u001b[0;34m.\u001b[0m\u001b[0mpredict\u001b[0m\u001b[0;34m(\u001b[0m\u001b[0mtf_idf_data_train\u001b[0m\u001b[0;34m)\u001b[0m\u001b[0;34m\u001b[0m\u001b[0;34m\u001b[0m\u001b[0m\n\u001b[1;32m      3\u001b[0m \u001b[0mnb_test_preds\u001b[0m \u001b[0;34m=\u001b[0m \u001b[0mnb_classifier\u001b[0m\u001b[0;34m.\u001b[0m\u001b[0mpredict\u001b[0m\u001b[0;34m(\u001b[0m\u001b[0mtf_idf_data_test\u001b[0m\u001b[0;34m)\u001b[0m\u001b[0;34m\u001b[0m\u001b[0;34m\u001b[0m\u001b[0m\n",
      "\u001b[0;31mNameError\u001b[0m: name 'target' is not defined"
     ]
    }
   ],
   "source": [
    "nb_classifier.fit(tf_idf_data_train, target)\n",
    "nb_train_preds = nb_classifier.predict(tf_idf_data_train)\n",
    "nb_test_preds = nb_classifier.predict(tf_idf_data_test)"
   ]
  },
  {
   "cell_type": "code",
   "execution_count": 37,
   "metadata": {},
   "outputs": [],
   "source": [
    "nb_classifier = MultinomialNB()\n",
    "rf_classifier = RandomForestClassifier(n_estimators=100)"
   ]
  },
  {
   "cell_type": "code",
   "execution_count": 44,
   "metadata": {},
   "outputs": [
    {
     "ename": "NameError",
     "evalue": "name 'index' is not defined",
     "output_type": "error",
     "traceback": [
      "\u001b[0;31m---------------------------------------------------------------------------\u001b[0m",
      "\u001b[0;31mNameError\u001b[0m                                 Traceback (most recent call last)",
      "\u001b[0;32m<ipython-input-44-bb27eba0de28>\u001b[0m in \u001b[0;36m<module>\u001b[0;34m\u001b[0m\n\u001b[1;32m      1\u001b[0m \u001b[0;32mfrom\u001b[0m \u001b[0msklearn\u001b[0m\u001b[0;34m.\u001b[0m\u001b[0mdecomposition\u001b[0m\u001b[0;34m.\u001b[0m\u001b[0mtruncated_svd\u001b[0m \u001b[0;32mimport\u001b[0m \u001b[0mTruncatedSVD\u001b[0m\u001b[0;34m\u001b[0m\u001b[0;34m\u001b[0m\u001b[0m\n\u001b[1;32m      2\u001b[0m \u001b[0mpca\u001b[0m \u001b[0;34m=\u001b[0m \u001b[0mTruncatedSVD\u001b[0m\u001b[0;34m(\u001b[0m\u001b[0mn_components\u001b[0m\u001b[0;34m=\u001b[0m\u001b[0;36m2\u001b[0m\u001b[0;34m)\u001b[0m\u001b[0;34m\u001b[0m\u001b[0;34m\u001b[0m\u001b[0m\n\u001b[0;32m----> 3\u001b[0;31m \u001b[0mX_reduced_train\u001b[0m \u001b[0;34m=\u001b[0m \u001b[0mpca\u001b[0m\u001b[0;34m.\u001b[0m\u001b[0mfit_transform\u001b[0m\u001b[0;34m(\u001b[0m\u001b[0mindex\u001b[0m\u001b[0;34m)\u001b[0m\u001b[0;34m\u001b[0m\u001b[0;34m\u001b[0m\u001b[0m\n\u001b[0m",
      "\u001b[0;31mNameError\u001b[0m: name 'index' is not defined"
     ]
    }
   ],
   "source": [
    "from sklearn.decomposition.truncated_svd import TruncatedSVD        \n",
    "pca = TruncatedSVD(n_components=2)                                \n",
    "X_reduced_train = pca.fit_transform(index) "
   ]
  }
 ],
 "metadata": {
  "kernelspec": {
   "display_name": "Python 3",
   "language": "python",
   "name": "python3"
  },
  "language_info": {
   "codemirror_mode": {
    "name": "ipython",
    "version": 3
   },
   "file_extension": ".py",
   "mimetype": "text/x-python",
   "name": "python",
   "nbconvert_exporter": "python",
   "pygments_lexer": "ipython3",
   "version": "3.7.1"
  }
 },
 "nbformat": 4,
 "nbformat_minor": 2
}
