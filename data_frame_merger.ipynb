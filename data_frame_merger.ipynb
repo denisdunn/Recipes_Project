{
 "cells": [
  {
   "cell_type": "code",
   "execution_count": 1,
   "metadata": {},
   "outputs": [],
   "source": [
    "import pandas as pd"
   ]
  },
  {
   "cell_type": "code",
   "execution_count": 2,
   "metadata": {},
   "outputs": [],
   "source": [
    "epic=pd.read_csv('/Users/denisdunn/flatiron/Recipes_Project/denis_epicurious')"
   ]
  },
  {
   "cell_type": "code",
   "execution_count": 3,
   "metadata": {},
   "outputs": [],
   "source": [
    "fn=pd.read_csv('/Users/denisdunn/flatiron/Recipes_Project/food_network_denis')"
   ]
  },
  {
   "cell_type": "code",
   "execution_count": 6,
   "metadata": {},
   "outputs": [],
   "source": [
    "ar=pd.read_csv('/Users/denisdunn/flatiron/Recipes_Project/all_recipes_denis')"
   ]
  },
  {
   "cell_type": "code",
   "execution_count": 48,
   "metadata": {},
   "outputs": [],
   "source": [
    "us=pd.read_csv('/Users/denisdunn/flatiron/Recipes_Project/usda_denis')"
   ]
  },
  {
   "cell_type": "code",
   "execution_count": 8,
   "metadata": {},
   "outputs": [],
   "source": [
    "f=['name', 'recipeIngredient', 'recipeInstructions','processed_directions'\n",
    "       'processed_ingredients', 'processed_names', 'recipe_combo_ar']"
   ]
  },
  {
   "cell_type": "code",
   "execution_count": 10,
   "metadata": {},
   "outputs": [],
   "source": [
    "a= ['name', 'recipeIngredient', 'recipeInstructions','processed_directions','processed_ingredients', 'processed_names', 'recipe_combo_ar']"
   ]
  },
  {
   "cell_type": "code",
   "execution_count": 11,
   "metadata": {},
   "outputs": [],
   "source": [
    "dd=pd.merge(fn,ar,how='outer')"
   ]
  },
  {
   "cell_type": "code",
   "execution_count": 44,
   "metadata": {},
   "outputs": [],
   "source": [
    "da=pd.read_csv('/Users/denisdunn/usda_project')"
   ]
  },
  {
   "cell_type": "code",
   "execution_count": 46,
   "metadata": {},
   "outputs": [
    {
     "name": "stdout",
     "output_type": "stream",
     "text": [
      "<class 'pandas.core.frame.DataFrame'>\n",
      "RangeIndex: 1951 entries, 0 to 1950\n",
      "Data columns (total 6 columns):\n",
      "Unnamed: 0     1951 non-null int64\n",
      "Directions     1951 non-null object\n",
      "Recipes        1951 non-null object\n",
      "Ingredients    1951 non-null object\n",
      "Ratings        1259 non-null object\n",
      "Titles         1951 non-null object\n",
      "dtypes: int64(1), object(5)\n",
      "memory usage: 91.5+ KB\n"
     ]
    }
   ],
   "source": [
    "da.info()"
   ]
  },
  {
   "cell_type": "code",
   "execution_count": null,
   "metadata": {},
   "outputs": [],
   "source": [
    "len(fn)"
   ]
  },
  {
   "cell_type": "code",
   "execution_count": 33,
   "metadata": {},
   "outputs": [],
   "source": [
    "dd.columns=['Unnamed: 0', 'title','ingredients', 'directions',\n",
    "       'processed_ingredients', 'processed_directions',\n",
    "       'processed_titles','recipe_combo']"
   ]
  },
  {
   "cell_type": "code",
   "execution_count": 37,
   "metadata": {},
   "outputs": [],
   "source": [
    "epic=epic[['Unnamed: 0', 'title','ingredients', 'directions',\n",
    "       'processed_ingredients', 'processed_directions',\n",
    "       'processed_titles','recipe_combo']]"
   ]
  },
  {
   "cell_type": "code",
   "execution_count": 17,
   "metadata": {},
   "outputs": [
    {
     "data": {
      "text/plain": [
       "Index(['Unnamed: 0', 'categories', 'directions', 'ingredients', 'title',\n",
       "       'processed_titles', 'title_join', 'processed_ingredients',\n",
       "       'ingredients_join', 'processed_directions', 'directions_join',\n",
       "       'recipe_combo'],\n",
       "      dtype='object')"
      ]
     },
     "execution_count": 17,
     "metadata": {},
     "output_type": "execute_result"
    }
   ],
   "source": [
    "epic.columns"
   ]
  },
  {
   "cell_type": "code",
   "execution_count": 30,
   "metadata": {},
   "outputs": [
    {
     "ename": "TypeError",
     "evalue": "concat() got an unexpected keyword argument 'left_on'",
     "output_type": "error",
     "traceback": [
      "\u001b[0;31m---------------------------------------------------------------------------\u001b[0m",
      "\u001b[0;31mTypeError\u001b[0m                                 Traceback (most recent call last)",
      "\u001b[0;32m<ipython-input-30-1278895872f2>\u001b[0m in \u001b[0;36m<module>\u001b[0;34m\u001b[0m\n\u001b[1;32m      1\u001b[0m pd.concat(epic,dd,left_on=['title', 'ingredients','directions',\n\u001b[1;32m      2\u001b[0m        \u001b[0;34m'processed_titles'\u001b[0m\u001b[0;34m,\u001b[0m \u001b[0;34m'processed_ingredients'\u001b[0m\u001b[0;34m,\u001b[0m\u001b[0;34m\u001b[0m\u001b[0;34m\u001b[0m\u001b[0m\n\u001b[0;32m----> 3\u001b[0;31m         'processed_directions','recipe_combo'],right_on=['name', 'recipeIngredient', 'recipeInstructions','processed_names','processed_ingredients', 'processed_directions','recipe_combo_ar'])\n\u001b[0m\u001b[1;32m      4\u001b[0m \u001b[0;34m\u001b[0m\u001b[0m\n\u001b[1;32m      5\u001b[0m \u001b[0;34m\u001b[0m\u001b[0m\n",
      "\u001b[0;31mTypeError\u001b[0m: concat() got an unexpected keyword argument 'left_on'"
     ]
    }
   ],
   "source": [
    "pd.concat(epic,dd,left_on=['title', 'ingredients','directions',\n",
    "       'processed_titles', 'processed_ingredients',\n",
    "        'processed_directions','recipe_combo'],right_on=['name', 'recipeIngredient', 'recipeInstructions','processed_names','processed_ingredients', 'processed_directions','recipe_combo_ar'])\n",
    "\n",
    "\n"
   ]
  },
  {
   "cell_type": "code",
   "execution_count": 49,
   "metadata": {
    "scrolled": true
   },
   "outputs": [
    {
     "data": {
      "text/plain": [
       "Index(['Unnamed: 0', 'Titles', 'Directions', 'Recipes', 'Ingredients',\n",
       "       'processed_directions', 'processed_titles', 'processed_recipes',\n",
       "       'processed_ingredients', 'recipe_combo'],\n",
       "      dtype='object')"
      ]
     },
     "execution_count": 49,
     "metadata": {},
     "output_type": "execute_result"
    }
   ],
   "source": [
    "us.columns"
   ]
  },
  {
   "cell_type": "code",
   "execution_count": 51,
   "metadata": {},
   "outputs": [],
   "source": [
    "us=us[['Titles', 'Directions', 'Ingredients',\n",
    "       'processed_directions', 'processed_titles', 'processed_recipes',\n",
    "       'processed_ingredients', 'recipe_combo']]"
   ]
  },
  {
   "cell_type": "code",
   "execution_count": 53,
   "metadata": {},
   "outputs": [],
   "source": [
    "us.columns=['title', 'directions', 'ingredients',\n",
    "       'processed_directions', 'processed_titles', 'processed_recipes',\n",
    "       'processed_ingredients', 'recipe_combo']"
   ]
  },
  {
   "cell_type": "code",
   "execution_count": 56,
   "metadata": {},
   "outputs": [],
   "source": [
    "us=us[['title', 'directions', 'ingredients',\n",
    "       'processed_directions', 'processed_titles',\n",
    "       'processed_ingredients', 'recipe_combo']]"
   ]
  },
  {
   "cell_type": "code",
   "execution_count": 39,
   "metadata": {},
   "outputs": [],
   "source": [
    "df=pd.concat([dd,epic],ignore_index=True)"
   ]
  },
  {
   "cell_type": "code",
   "execution_count": 57,
   "metadata": {
    "scrolled": true
   },
   "outputs": [
    {
     "name": "stderr",
     "output_type": "stream",
     "text": [
      "/anaconda3/lib/python3.7/site-packages/ipykernel_launcher.py:1: FutureWarning: Sorting because non-concatenation axis is not aligned. A future version\n",
      "of pandas will change to not sort by default.\n",
      "\n",
      "To accept the future behavior, pass 'sort=False'.\n",
      "\n",
      "To retain the current behavior and silence the warning, pass 'sort=True'.\n",
      "\n",
      "  \"\"\"Entry point for launching an IPython kernel.\n"
     ]
    }
   ],
   "source": [
    "fin=pd.concat([df,us],ignore_index=True)"
   ]
  },
  {
   "cell_type": "code",
   "execution_count": 65,
   "metadata": {
    "scrolled": true
   },
   "outputs": [],
   "source": [
    "fin=fin.drop(['Unnamed: 0'],axis=1)"
   ]
  },
  {
   "cell_type": "code",
   "execution_count": 66,
   "metadata": {},
   "outputs": [
    {
     "data": {
      "text/plain": [
       "33658"
      ]
     },
     "execution_count": 66,
     "metadata": {},
     "output_type": "execute_result"
    }
   ],
   "source": [
    "len(fin)"
   ]
  },
  {
   "cell_type": "code",
   "execution_count": 67,
   "metadata": {},
   "outputs": [],
   "source": [
    "fin.to_csv('denis_cook_book_1')"
   ]
  },
  {
   "cell_type": "code",
   "execution_count": 69,
   "metadata": {},
   "outputs": [
    {
     "data": {
      "text/plain": [
       "33658"
      ]
     },
     "execution_count": 69,
     "metadata": {},
     "output_type": "execute_result"
    }
   ],
   "source": [
    "len(fin)"
   ]
  },
  {
   "cell_type": "code",
   "execution_count": null,
   "metadata": {},
   "outputs": [],
   "source": []
  }
 ],
 "metadata": {
  "kernelspec": {
   "display_name": "Python 3",
   "language": "python",
   "name": "python3"
  },
  "language_info": {
   "codemirror_mode": {
    "name": "ipython",
    "version": 3
   },
   "file_extension": ".py",
   "mimetype": "text/x-python",
   "name": "python",
   "nbconvert_exporter": "python",
   "pygments_lexer": "ipython3",
   "version": "3.7.1"
  }
 },
 "nbformat": 4,
 "nbformat_minor": 2
}
