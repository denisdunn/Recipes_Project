{
 "cells": [
  {
   "cell_type": "code",
   "execution_count": null,
   "metadata": {},
   "outputs": [],
   "source": [
    "from selenium import webdriver\n",
    "import time\n",
    "import pandas as pd"
   ]
  },
  {
   "cell_type": "code",
   "execution_count": null,
   "metadata": {},
   "outputs": [],
   "source": [
    "chromedriver='/Users/denisdunn/Downloads/chromedriver'\n",
    "driver=webdriver.Chrome(chromedriver)\n",
    "driver.get('https://whatscooking.fns.usda.gov/search/recipes')"
   ]
  },
  {
   "cell_type": "code",
   "execution_count": null,
   "metadata": {},
   "outputs": [],
   "source": [
    "recipe_list=[]\n",
    "title_list=[]\n",
    "rating_list=[]\n",
    "ingredient_list=[]\n",
    "directions_list=[]\n",
    "page=1"
   ]
  },
  {
   "cell_type": "code",
   "execution_count": null,
   "metadata": {},
   "outputs": [],
   "source": [
    "page=3"
   ]
  },
  {
   "cell_type": "code",
   "execution_count": null,
   "metadata": {
    "scrolled": true
   },
   "outputs": [],
   "source": [
    "driver.find_element_by_xpath('//*[@id=\"edit-mefibs-form-household-filter-block-items-per-page\"]').click()"
   ]
  },
  {
   "cell_type": "code",
   "execution_count": null,
   "metadata": {},
   "outputs": [],
   "source": [
    "driver.find_element_by_xpath('//*[@id=\"edit-mefibs-form-household-filter-block-items-per-page\"]/option[3]').click()"
   ]
  },
  {
   "cell_type": "code",
   "execution_count": null,
   "metadata": {},
   "outputs": [],
   "source": [
    "key=1\n",
    "page=13"
   ]
  },
  {
   "cell_type": "code",
   "execution_count": null,
   "metadata": {
    "scrolled": false
   },
   "outputs": [],
   "source": [
    "key=2\n",
    "#build a webscraper to take recipes for project\n",
    "for num in range(1,100):    \n",
    "    food=('//*[@id=\"mainContentWrap\"]/div[4]/div/div/div[3]/div['+'{}'+']/div/div[1]/h3/a').format(key)\n",
    "\n",
    "    driver.find_element_by_xpath(food).click()\n",
    "\n",
    "    recipe=driver.find_element_by_xpath('//*[@id=\"mainContentWrap\"]/div[4]/div/article/div/div[2]')\n",
    "\n",
    "    recipe_list.append(recipe.text)\n",
    "\n",
    "    title=driver.find_element_by_xpath('//*[@id=\"mainPageTitle\"]')\n",
    "\n",
    "    title_list.append(title.text)\n",
    "\n",
    "    rating=driver.find_element_by_xpath('//*[@id=\"recipeRating\"]/div')\n",
    "\n",
    "    rating_list.append(rating.text)\n",
    "\n",
    "    ingredients=driver.find_element_by_xpath('//*[@id=\"mainContentWrap\"]/div[4]/div/article/div/div[2]/div[2]/div')\n",
    "\n",
    "    ingredient_list.append(ingredients.text)\n",
    "\n",
    "    directions=driver.find_element_by_xpath('//*[@id=\"mainContentWrap\"]/div[4]/div/article/div/div[2]/div[3]')\n",
    "\n",
    "    directions_list.append(directions.text)\n",
    "\n",
    "    driver.back()\n",
    "\n",
    "    key+=1\n",
    "    if key>=100:\n",
    "        time.sleep(5)\n",
    "        page+=1\n",
    "        pages=('//*[@id=\"mainContentWrap\"]/div[4]/div/div/div[5]/div[2]/div['+'{}'+']').format(page)\n",
    "        driver.find_element_by_xpath(pages).click()\n",
    "        \n",
    "        key=2\n",
    "        print(len(set(title_list)))\n",
    "        time.sleep(25)"
   ]
  },
  {
   "cell_type": "code",
   "execution_count": null,
   "metadata": {},
   "outputs": [],
   "source": [
    "key"
   ]
  },
  {
   "cell_type": "code",
   "execution_count": null,
   "metadata": {},
   "outputs": [],
   "source": [
    "page"
   ]
  },
  {
   "cell_type": "code",
   "execution_count": null,
   "metadata": {},
   "outputs": [],
   "source": [
    "//*[@id=\"mainContentWrap\"]/div[4]/div/div/div[5]/div[2]/div[4]"
   ]
  },
  {
   "cell_type": "code",
   "execution_count": null,
   "metadata": {},
   "outputs": [],
   "source": [
    "pages"
   ]
  },
  {
   "cell_type": "code",
   "execution_count": null,
   "metadata": {
    "scrolled": false
   },
   "outputs": [],
   "source": [
    "len(set(title_list))"
   ]
  },
  {
   "cell_type": "code",
   "execution_count": null,
   "metadata": {},
   "outputs": [],
   "source": [
    "title_list[850]"
   ]
  },
  {
   "cell_type": "code",
   "execution_count": null,
   "metadata": {
    "scrolled": false
   },
   "outputs": [],
   "source": [
    "//*[@id=\"mainContentWrap\"]/div[4]/div/div/div[5]/div[2]/div[1]/a"
   ]
  },
  {
   "cell_type": "code",
   "execution_count": null,
   "metadata": {
    "scrolled": false
   },
   "outputs": [],
   "source": [
    "pages"
   ]
  },
  {
   "cell_type": "code",
   "execution_count": null,
   "metadata": {},
   "outputs": [],
   "source": [
    "//*[@id=\"mainContentWrap\"]/div[4]/div/div/div[5]/div[3]/div[1]/a"
   ]
  },
  {
   "cell_type": "code",
   "execution_count": null,
   "metadata": {},
   "outputs": [],
   "source": [
    "//*[@id=\"mainContentWrap\"]/div[4]/div/div/div[5]/div[2]/div[4]/a"
   ]
  },
  {
   "cell_type": "code",
   "execution_count": null,
   "metadata": {},
   "outputs": [],
   "source": [
    "merge_list=[direct,recip,ingred,title,rate]"
   ]
  },
  {
   "cell_type": "code",
   "execution_count": null,
   "metadata": {},
   "outputs": [],
   "source": []
  },
  {
   "cell_type": "code",
   "execution_count": null,
   "metadata": {},
   "outputs": [],
   "source": [
    "direct=pd.DataFrame(directions_list)"
   ]
  },
  {
   "cell_type": "code",
   "execution_count": null,
   "metadata": {},
   "outputs": [],
   "source": [
    "recip=pd.DataFrame(recipe_list)"
   ]
  },
  {
   "cell_type": "code",
   "execution_count": null,
   "metadata": {},
   "outputs": [],
   "source": [
    "ingred=pd.DataFrame(ingredient_list)"
   ]
  },
  {
   "cell_type": "code",
   "execution_count": null,
   "metadata": {},
   "outputs": [],
   "source": [
    "rate=pd.DataFrame(rating_list)"
   ]
  },
  {
   "cell_type": "code",
   "execution_count": null,
   "metadata": {},
   "outputs": [],
   "source": [
    "title=pd.DataFrame(title_list)"
   ]
  },
  {
   "cell_type": "code",
   "execution_count": null,
   "metadata": {},
   "outputs": [],
   "source": [
    "first=pd.merge(direct,recip, left_index=True, right_index=True)"
   ]
  },
  {
   "cell_type": "code",
   "execution_count": null,
   "metadata": {},
   "outputs": [],
   "source": [
    "sec=pd.merge(first,ingred,left_index=True, right_index=True)"
   ]
  },
  {
   "cell_type": "code",
   "execution_count": null,
   "metadata": {},
   "outputs": [],
   "source": [
    "third=pd.merge(sec,rate,left_index=True, right_index=True)"
   ]
  },
  {
   "cell_type": "code",
   "execution_count": null,
   "metadata": {},
   "outputs": [],
   "source": [
    "df=pd.merge(third,title,left_index=True, right_index=True)"
   ]
  },
  {
   "cell_type": "code",
   "execution_count": null,
   "metadata": {},
   "outputs": [],
   "source": [
    "df.columns=['Directions','Recipes','Ingredients','Ratings','Titles']"
   ]
  },
  {
   "cell_type": "code",
   "execution_count": null,
   "metadata": {},
   "outputs": [],
   "source": []
  },
  {
   "cell_type": "code",
   "execution_count": null,
   "metadata": {},
   "outputs": [],
   "source": [
    "df.to_csv('usda_project')"
   ]
  },
  {
   "cell_type": "code",
   "execution_count": null,
   "metadata": {},
   "outputs": [],
   "source": [
    "pwd\n"
   ]
  },
  {
   "cell_type": "code",
   "execution_count": null,
   "metadata": {},
   "outputs": [],
   "source": [
    "#df=pd.concat(merge_list,axis=1)"
   ]
  },
  {
   "cell_type": "code",
   "execution_count": null,
   "metadata": {},
   "outputs": [],
   "source": [
    "#df.iloc[1]"
   ]
  }
 ],
 "metadata": {
  "kernelspec": {
   "display_name": "Python 3",
   "language": "python",
   "name": "python3"
  },
  "language_info": {
   "codemirror_mode": {
    "name": "ipython",
    "version": 3
   },
   "file_extension": ".py",
   "mimetype": "text/x-python",
   "name": "python",
   "nbconvert_exporter": "python",
   "pygments_lexer": "ipython3",
   "version": "3.7.1"
  }
 },
 "nbformat": 4,
 "nbformat_minor": 2
}
